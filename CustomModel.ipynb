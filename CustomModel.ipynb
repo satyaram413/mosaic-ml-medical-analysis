{
 "cells": [
  {
   "cell_type": "code",
   "execution_count": null,
   "metadata": {
    "colab": {
     "base_uri": "https://localhost:8080/"
    },
    "id": "jprv3FqEFvyY",
    "outputId": "5bafb2c1-4176-4ef9-8dfe-e2347875938d",
    "tags": []
   },
   "outputs": [],
   "source": [
    "%pip install mosaicml\n"
   ]
  },
  {
   "cell_type": "code",
   "execution_count": 1,
   "metadata": {
    "tags": []
   },
   "outputs": [
    {
     "name": "stdout",
     "output_type": "stream",
     "text": [
      "Looking in indexes: https://pypi.org/simple, https://pip.repos.neuron.amazonaws.com\n",
      "Collecting imbalanced-learn\n",
      "  Using cached imbalanced_learn-0.11.0-py3-none-any.whl (235 kB)\n",
      "Requirement already satisfied: numpy>=1.17.3 in /home/ec2-user/anaconda3/envs/tensorflow2_p310/lib/python3.10/site-packages (from imbalanced-learn) (1.24.3)\n",
      "Requirement already satisfied: scipy>=1.5.0 in /home/ec2-user/anaconda3/envs/tensorflow2_p310/lib/python3.10/site-packages (from imbalanced-learn) (1.10.1)\n",
      "Requirement already satisfied: scikit-learn>=1.0.2 in /home/ec2-user/anaconda3/envs/tensorflow2_p310/lib/python3.10/site-packages (from imbalanced-learn) (1.2.2)\n",
      "Requirement already satisfied: joblib>=1.1.1 in /home/ec2-user/anaconda3/envs/tensorflow2_p310/lib/python3.10/site-packages (from imbalanced-learn) (1.2.0)\n",
      "Requirement already satisfied: threadpoolctl>=2.0.0 in /home/ec2-user/anaconda3/envs/tensorflow2_p310/lib/python3.10/site-packages (from imbalanced-learn) (3.1.0)\n",
      "Installing collected packages: imbalanced-learn\n",
      "Successfully installed imbalanced-learn-0.11.0\n",
      "Note: you may need to restart the kernel to use updated packages.\n"
     ]
    }
   ],
   "source": [
    "%pip install imbalanced-learn"
   ]
  },
  {
   "cell_type": "code",
   "execution_count": null,
   "metadata": {
    "colab": {
     "base_uri": "https://localhost:8080/"
    },
    "id": "TPFTCgoF9saI",
    "outputId": "cbdecba4-4ec6-4569-b4ce-213ce9960c1b",
    "tags": []
   },
   "outputs": [],
   "source": [
    "# from google.colab import drive\n",
    "# drive.mount('/content/drive')"
   ]
  },
  {
   "cell_type": "code",
   "execution_count": 4,
   "metadata": {
    "id": "4H7nE9dQx9-o",
    "tags": []
   },
   "outputs": [],
   "source": [
    "import pandas as pd\n",
    "import numpy as np\n",
    "\n",
    "import torch.optim as optim\n",
    "from composer import Trainer\n",
    "import composer\n",
    "from composer.algorithms import BlurPool\n",
    "from composer.loggers import InMemoryLogger\n",
    "\n",
    "from composer.models import ComposerModel\n",
    "import time\n",
    "\n",
    "\n",
    "from tqdm import tqdm\n",
    "from glob import glob\n",
    "import seaborn as sns\n",
    "import pprint as pp\n",
    "\n",
    "from sklearn.model_selection import train_test_split\n",
    "from sklearn.metrics import confusion_matrix\n",
    "from sklearn.utils import resample\n",
    "\n",
    "import tensorflow as tf\n",
    "from tensorflow import keras\n",
    "from tensorflow.keras import layers\n",
    "from keras.utils import np_utils\n",
    "\n",
    "import itertools\n",
    "\n",
    "import cv2\n",
    "from PIL import Image\n"
   ]
  },
  {
   "cell_type": "code",
   "execution_count": 5,
   "metadata": {
    "id": "Jp--AgK9wngb",
    "tags": []
   },
   "outputs": [],
   "source": [
    "from pathlib  import Path\n",
    "import pathlib\n",
    "dataset_path='./data/ham10000'\n",
    "meta_df=pd.read_csv(dataset_path+'/HAM10000_metadata')"
   ]
  },
  {
   "cell_type": "code",
   "execution_count": 6,
   "metadata": {
    "colab": {
     "base_uri": "https://localhost:8080/",
     "height": 424
    },
    "id": "LXkKXsf6x2g_",
    "outputId": "e7a27074-c20e-41f4-c285-25513dd32297",
    "tags": []
   },
   "outputs": [
    {
     "data": {
      "text/html": [
       "<div>\n",
       "<style scoped>\n",
       "    .dataframe tbody tr th:only-of-type {\n",
       "        vertical-align: middle;\n",
       "    }\n",
       "\n",
       "    .dataframe tbody tr th {\n",
       "        vertical-align: top;\n",
       "    }\n",
       "\n",
       "    .dataframe thead th {\n",
       "        text-align: right;\n",
       "    }\n",
       "</style>\n",
       "<table border=\"1\" class=\"dataframe\">\n",
       "  <thead>\n",
       "    <tr style=\"text-align: right;\">\n",
       "      <th></th>\n",
       "      <th>lesion_id</th>\n",
       "      <th>image_id</th>\n",
       "      <th>dx</th>\n",
       "      <th>dx_type</th>\n",
       "      <th>age</th>\n",
       "      <th>sex</th>\n",
       "      <th>localization</th>\n",
       "      <th>dataset</th>\n",
       "    </tr>\n",
       "  </thead>\n",
       "  <tbody>\n",
       "    <tr>\n",
       "      <th>0</th>\n",
       "      <td>HAM_0000118</td>\n",
       "      <td>ISIC_0027419</td>\n",
       "      <td>bkl</td>\n",
       "      <td>histo</td>\n",
       "      <td>80.0</td>\n",
       "      <td>male</td>\n",
       "      <td>scalp</td>\n",
       "      <td>vidir_modern</td>\n",
       "    </tr>\n",
       "    <tr>\n",
       "      <th>1</th>\n",
       "      <td>HAM_0000118</td>\n",
       "      <td>ISIC_0025030</td>\n",
       "      <td>bkl</td>\n",
       "      <td>histo</td>\n",
       "      <td>80.0</td>\n",
       "      <td>male</td>\n",
       "      <td>scalp</td>\n",
       "      <td>vidir_modern</td>\n",
       "    </tr>\n",
       "    <tr>\n",
       "      <th>2</th>\n",
       "      <td>HAM_0002730</td>\n",
       "      <td>ISIC_0026769</td>\n",
       "      <td>bkl</td>\n",
       "      <td>histo</td>\n",
       "      <td>80.0</td>\n",
       "      <td>male</td>\n",
       "      <td>scalp</td>\n",
       "      <td>vidir_modern</td>\n",
       "    </tr>\n",
       "    <tr>\n",
       "      <th>3</th>\n",
       "      <td>HAM_0002730</td>\n",
       "      <td>ISIC_0025661</td>\n",
       "      <td>bkl</td>\n",
       "      <td>histo</td>\n",
       "      <td>80.0</td>\n",
       "      <td>male</td>\n",
       "      <td>scalp</td>\n",
       "      <td>vidir_modern</td>\n",
       "    </tr>\n",
       "    <tr>\n",
       "      <th>4</th>\n",
       "      <td>HAM_0001466</td>\n",
       "      <td>ISIC_0031633</td>\n",
       "      <td>bkl</td>\n",
       "      <td>histo</td>\n",
       "      <td>75.0</td>\n",
       "      <td>male</td>\n",
       "      <td>ear</td>\n",
       "      <td>vidir_modern</td>\n",
       "    </tr>\n",
       "    <tr>\n",
       "      <th>...</th>\n",
       "      <td>...</td>\n",
       "      <td>...</td>\n",
       "      <td>...</td>\n",
       "      <td>...</td>\n",
       "      <td>...</td>\n",
       "      <td>...</td>\n",
       "      <td>...</td>\n",
       "      <td>...</td>\n",
       "    </tr>\n",
       "    <tr>\n",
       "      <th>10010</th>\n",
       "      <td>HAM_0002867</td>\n",
       "      <td>ISIC_0033084</td>\n",
       "      <td>akiec</td>\n",
       "      <td>histo</td>\n",
       "      <td>40.0</td>\n",
       "      <td>male</td>\n",
       "      <td>abdomen</td>\n",
       "      <td>vidir_modern</td>\n",
       "    </tr>\n",
       "    <tr>\n",
       "      <th>10011</th>\n",
       "      <td>HAM_0002867</td>\n",
       "      <td>ISIC_0033550</td>\n",
       "      <td>akiec</td>\n",
       "      <td>histo</td>\n",
       "      <td>40.0</td>\n",
       "      <td>male</td>\n",
       "      <td>abdomen</td>\n",
       "      <td>vidir_modern</td>\n",
       "    </tr>\n",
       "    <tr>\n",
       "      <th>10012</th>\n",
       "      <td>HAM_0002867</td>\n",
       "      <td>ISIC_0033536</td>\n",
       "      <td>akiec</td>\n",
       "      <td>histo</td>\n",
       "      <td>40.0</td>\n",
       "      <td>male</td>\n",
       "      <td>abdomen</td>\n",
       "      <td>vidir_modern</td>\n",
       "    </tr>\n",
       "    <tr>\n",
       "      <th>10013</th>\n",
       "      <td>HAM_0000239</td>\n",
       "      <td>ISIC_0032854</td>\n",
       "      <td>akiec</td>\n",
       "      <td>histo</td>\n",
       "      <td>80.0</td>\n",
       "      <td>male</td>\n",
       "      <td>face</td>\n",
       "      <td>vidir_modern</td>\n",
       "    </tr>\n",
       "    <tr>\n",
       "      <th>10014</th>\n",
       "      <td>HAM_0003521</td>\n",
       "      <td>ISIC_0032258</td>\n",
       "      <td>mel</td>\n",
       "      <td>histo</td>\n",
       "      <td>70.0</td>\n",
       "      <td>female</td>\n",
       "      <td>back</td>\n",
       "      <td>vidir_modern</td>\n",
       "    </tr>\n",
       "  </tbody>\n",
       "</table>\n",
       "<p>10015 rows × 8 columns</p>\n",
       "</div>"
      ],
      "text/plain": [
       "         lesion_id      image_id     dx dx_type   age     sex localization  \\\n",
       "0      HAM_0000118  ISIC_0027419    bkl   histo  80.0    male        scalp   \n",
       "1      HAM_0000118  ISIC_0025030    bkl   histo  80.0    male        scalp   \n",
       "2      HAM_0002730  ISIC_0026769    bkl   histo  80.0    male        scalp   \n",
       "3      HAM_0002730  ISIC_0025661    bkl   histo  80.0    male        scalp   \n",
       "4      HAM_0001466  ISIC_0031633    bkl   histo  75.0    male          ear   \n",
       "...            ...           ...    ...     ...   ...     ...          ...   \n",
       "10010  HAM_0002867  ISIC_0033084  akiec   histo  40.0    male      abdomen   \n",
       "10011  HAM_0002867  ISIC_0033550  akiec   histo  40.0    male      abdomen   \n",
       "10012  HAM_0002867  ISIC_0033536  akiec   histo  40.0    male      abdomen   \n",
       "10013  HAM_0000239  ISIC_0032854  akiec   histo  80.0    male         face   \n",
       "10014  HAM_0003521  ISIC_0032258    mel   histo  70.0  female         back   \n",
       "\n",
       "            dataset  \n",
       "0      vidir_modern  \n",
       "1      vidir_modern  \n",
       "2      vidir_modern  \n",
       "3      vidir_modern  \n",
       "4      vidir_modern  \n",
       "...             ...  \n",
       "10010  vidir_modern  \n",
       "10011  vidir_modern  \n",
       "10012  vidir_modern  \n",
       "10013  vidir_modern  \n",
       "10014  vidir_modern  \n",
       "\n",
       "[10015 rows x 8 columns]"
      ]
     },
     "execution_count": 6,
     "metadata": {},
     "output_type": "execute_result"
    }
   ],
   "source": [
    "meta_df"
   ]
  },
  {
   "cell_type": "code",
   "execution_count": 7,
   "metadata": {
    "id": "ozWxmDagy0oF",
    "tags": []
   },
   "outputs": [],
   "source": [
    "data = pd.read_csv(dataset_path+\"/hmnist_28_28_RGB.csv\")"
   ]
  },
  {
   "cell_type": "code",
   "execution_count": 8,
   "metadata": {
    "colab": {
     "base_uri": "https://localhost:8080/"
    },
    "id": "YjOqhibJzeJ7",
    "outputId": "9517af80-65de-43e0-8ed4-61aa4163843a",
    "tags": []
   },
   "outputs": [
    {
     "data": {
      "text/plain": [
       "Index(['pixel0000', 'pixel0001', 'pixel0002', 'pixel0003', 'pixel0004',\n",
       "       'pixel0005', 'pixel0006', 'pixel0007', 'pixel0008', 'pixel0009',\n",
       "       ...\n",
       "       'pixel2343', 'pixel2344', 'pixel2345', 'pixel2346', 'pixel2347',\n",
       "       'pixel2348', 'pixel2349', 'pixel2350', 'pixel2351', 'label'],\n",
       "      dtype='object', length=2353)"
      ]
     },
     "execution_count": 8,
     "metadata": {},
     "output_type": "execute_result"
    }
   ],
   "source": [
    "data.columns"
   ]
  },
  {
   "cell_type": "code",
   "execution_count": 9,
   "metadata": {
    "id": "1zebH_0xzgNo",
    "tags": []
   },
   "outputs": [],
   "source": [
    "yData = data['label']\n",
    "XData = data.drop(columns = ['label'])"
   ]
  },
  {
   "cell_type": "code",
   "execution_count": 10,
   "metadata": {
    "colab": {
     "base_uri": "https://localhost:8080/"
    },
    "id": "xkfjGmsOzr2F",
    "outputId": "766bd663-6ecf-4a9a-8500-6943941586d6",
    "tags": []
   },
   "outputs": [
    {
     "data": {
      "text/plain": [
       "nv       6705\n",
       "mel      1113\n",
       "bkl      1099\n",
       "bcc       514\n",
       "akiec     327\n",
       "vasc      142\n",
       "df        115\n",
       "Name: dx, dtype: int64"
      ]
     },
     "execution_count": 10,
     "metadata": {},
     "output_type": "execute_result"
    }
   ],
   "source": [
    "distribution = meta_df['dx'].value_counts()\n",
    "distribution"
   ]
  },
  {
   "cell_type": "code",
   "execution_count": 11,
   "metadata": {
    "colab": {
     "base_uri": "https://localhost:8080/"
    },
    "id": "-B8oq4jHzvk9",
    "outputId": "63fc5835-fcd7-4528-bc02-0585343d0530",
    "tags": []
   },
   "outputs": [
    {
     "data": {
      "text/plain": [
       "4    6705\n",
       "6    1113\n",
       "2    1099\n",
       "1     514\n",
       "0     327\n",
       "5     142\n",
       "3     115\n",
       "Name: label, dtype: int64"
      ]
     },
     "execution_count": 11,
     "metadata": {},
     "output_type": "execute_result"
    }
   ],
   "source": [
    "dist = data['label'].value_counts()\n",
    "dist"
   ]
  },
  {
   "cell_type": "code",
   "execution_count": 12,
   "metadata": {
    "colab": {
     "base_uri": "https://localhost:8080/",
     "height": 452
    },
    "id": "nfvavdDEzxwN",
    "outputId": "6d18ab11-8134-48d3-f012-a8177f73acd0",
    "tags": []
   },
   "outputs": [
    {
     "data": {
      "text/plain": [
       "<Axes: >"
      ]
     },
     "execution_count": 12,
     "metadata": {},
     "output_type": "execute_result"
    },
    {
     "data": {
      "image/png": "[encoded data removed]",
      "text/plain": [
       "<Figure size 640x480 with 1 Axes>"
      ]
     },
     "metadata": {},
     "output_type": "display_data"
    }
   ],
   "source": [
    "distribution.plot()"
   ]
  },
  {
   "cell_type": "code",
   "execution_count": 13,
   "metadata": {
    "id": "ivxduchQzzpV",
    "tags": []
   },
   "outputs": [],
   "source": [
    "from imblearn.over_sampling import RandomOverSampler"
   ]
  },
  {
   "cell_type": "code",
   "execution_count": 14,
   "metadata": {
    "id": "ijDiOeKkz1mb",
    "tags": []
   },
   "outputs": [],
   "source": [
    "sampler = RandomOverSampler()\n",
    "XData,yData  = sampler.fit_resample(XData,yData)"
   ]
  },
  {
   "cell_type": "code",
   "execution_count": 15,
   "metadata": {
    "colab": {
     "base_uri": "https://localhost:8080/"
    },
    "id": "-2rH0J6dz3S-",
    "outputId": "d0a5b8fb-fecd-4fd3-f838-7d5f941cb2c9",
    "tags": []
   },
   "outputs": [
    {
     "data": {
      "text/plain": [
       "((46935, 2352), (46935,))"
      ]
     },
     "execution_count": 15,
     "metadata": {},
     "output_type": "execute_result"
    }
   ],
   "source": [
    "XData.shape, yData.shape"
   ]
  },
  {
   "cell_type": "code",
   "execution_count": 16,
   "metadata": {
    "colab": {
     "base_uri": "https://localhost:8080/"
    },
    "id": "k3xP-bhrz5Ws",
    "outputId": "ceabb139-de6c-4217-d97a-a88c7ee4fa2f",
    "tags": []
   },
   "outputs": [
    {
     "data": {
      "text/plain": [
       "(46935, 28, 28, 3)"
      ]
     },
     "execution_count": 16,
     "metadata": {},
     "output_type": "execute_result"
    }
   ],
   "source": [
    "XData = np.array(XData).reshape((-1, 28, 28, 3))\n",
    "XData = XData / 255\n",
    "XData.shape"
   ]
  },
  {
   "cell_type": "code",
   "execution_count": 17,
   "metadata": {
    "id": "jc_dae4Vz7J4",
    "tags": []
   },
   "outputs": [],
   "source": [
    "from sklearn.model_selection import train_test_split"
   ]
  },
  {
   "cell_type": "code",
   "execution_count": 18,
   "metadata": {
    "id": "ywnq0Krbz882",
    "tags": []
   },
   "outputs": [],
   "source": [
    "Xtrain, Xtest, Ytrain, Ytest = train_test_split(XData,yData, test_size=0.2)\n"
   ]
  },
  {
   "cell_type": "code",
   "execution_count": 19,
   "metadata": {
    "colab": {
     "base_uri": "https://localhost:8080/"
    },
    "id": "1OFipdR6z-vj",
    "outputId": "74012c4d-1bbc-46a7-ccf9-fe225d3b8f83",
    "tags": []
   },
   "outputs": [
    {
     "data": {
      "text/plain": [
       "((37548, 28, 28, 3), (9387, 28, 28, 3))"
      ]
     },
     "execution_count": 19,
     "metadata": {},
     "output_type": "execute_result"
    }
   ],
   "source": [
    "Xtrain.shape, Xtest.shape\n"
   ]
  },
  {
   "cell_type": "code",
   "execution_count": 20,
   "metadata": {
    "id": "oiXRdbWN0BNX",
    "tags": []
   },
   "outputs": [],
   "source": [
    "from keras.models import Sequential\n",
    "from keras.layers import Conv2D, MaxPooling2D\n",
    "from keras.layers import Activation, Dropout, Flatten, Dense\n",
    "import tensorflow as tf\n",
    "\n",
    "img_width, img_height = 28,28\n"
   ]
  },
  {
   "cell_type": "code",
   "execution_count": 21,
   "metadata": {
    "id": "CBNLmVI_0C-7",
    "tags": []
   },
   "outputs": [],
   "source": [
    "input_shape = (img_width, img_height, 3)"
   ]
  },
  {
   "cell_type": "code",
   "execution_count": 22,
   "metadata": {
    "id": "_qQDws4c0LE_",
    "tags": []
   },
   "outputs": [],
   "source": [
    "model = Sequential()\n",
    "model.add(Conv2D(32, (2, 2), padding='same', input_shape=input_shape))\n",
    "model.add(Activation('swish'))\n",
    "model.add(MaxPooling2D(pool_size=(2, 1)))\n",
    "\n",
    "\n",
    "model.add(Conv2D(32, (2, 2), padding='same'))\n",
    "model.add(Activation('swish'))\n",
    "model.add(MaxPooling2D(pool_size=(2, 1)))\n",
    "\n",
    "\n",
    "model.add(Conv2D(64, (2, 2), padding='same'))\n",
    "model.add(Activation('swish'))\n",
    "model.add(MaxPooling2D(pool_size=(2, 1)))\n",
    "\n",
    "\n",
    "model.add(Flatten())\n",
    "model.add(Dense(64))\n",
    "model.add(Activation('swish'))\n",
    "model.add(Dropout(0.5))\n",
    "model.add(Dense(7))\n",
    "model.add(Activation('softmax'))"
   ]
  },
  {
   "cell_type": "code",
   "execution_count": 23,
   "metadata": {
    "id": "Wwas6DeV0Nra",
    "tags": []
   },
   "outputs": [],
   "source": [
    "model.compile(loss='sparse_categorical_crossentropy',\n",
    "optimizer='nadam',\n",
    "metrics=['accuracy'])"
   ]
  },
  {
   "cell_type": "code",
   "execution_count": 24,
   "metadata": {
    "id": "frl-QSJC0P71",
    "tags": []
   },
   "outputs": [],
   "source": [
    "callback = tf.keras.callbacks.ModelCheckpoint(filepath='best_model.h5',\n",
    "                                                  monitor='val_acc', mode='max',\n",
    "                                                 verbose=1)\n",
    "\n",
    "early_stopping = tf.keras.callbacks.EarlyStopping(patience=10, restore_best_weights=True)"
   ]
  },
  {
   "cell_type": "code",
   "execution_count": 25,
   "metadata": {
    "colab": {
     "base_uri": "https://localhost:8080/"
    },
    "id": "Hf57C6_G0SCb",
    "outputId": "d04e5ee5-05c2-49f1-a2ca-809655398486",
    "tags": []
   },
   "outputs": [
    {
     "name": "stdout",
     "output_type": "stream",
     "text": [
      "Epoch 1/100\n",
      "1174/1174 [==============================] - ETA: 0s - loss: 1.3593 - accuracy: 0.4674\n",
      "Epoch 1: saving model to best_model.h5\n",
      "1174/1174 [==============================] - 10s 4ms/step - loss: 1.3593 - accuracy: 0.4674 - val_loss: 1.0460 - val_accuracy: 0.5980\n",
      "Epoch 2/100\n",
      "1174/1174 [==============================] - ETA: 0s - loss: 1.0279 - accuracy: 0.6096\n",
      "Epoch 2: saving model to best_model.h5\n",
      "1174/1174 [==============================] - 5s 4ms/step - loss: 1.0279 - accuracy: 0.6096 - val_loss: 0.8551 - val_accuracy: 0.6808\n",
      "Epoch 3/100\n",
      "1170/1174 [============================>.] - ETA: 0s - loss: 0.8402 - accuracy: 0.6859\n",
      "Epoch 3: saving model to best_model.h5\n",
      "1174/1174 [==============================] - 5s 4ms/step - loss: 0.8401 - accuracy: 0.6859 - val_loss: 0.7132 - val_accuracy: 0.7271\n",
      "Epoch 4/100\n",
      "1165/1174 [============================>.] - ETA: 0s - loss: 0.7017 - accuracy: 0.7395\n",
      "Epoch 4: saving model to best_model.h5\n",
      "1174/1174 [==============================] - 5s 4ms/step - loss: 0.7020 - accuracy: 0.7395 - val_loss: 0.5818 - val_accuracy: 0.7792\n",
      "Epoch 5/100\n",
      "1164/1174 [============================>.] - ETA: 0s - loss: 0.6003 - accuracy: 0.7733\n",
      "Epoch 5: saving model to best_model.h5\n",
      "1174/1174 [==============================] - 5s 4ms/step - loss: 0.5999 - accuracy: 0.7734 - val_loss: 0.4731 - val_accuracy: 0.8238\n",
      "Epoch 6/100\n",
      "1174/1174 [==============================] - ETA: 0s - loss: 0.5308 - accuracy: 0.7985\n",
      "Epoch 6: saving model to best_model.h5\n",
      "1174/1174 [==============================] - 5s 4ms/step - loss: 0.5308 - accuracy: 0.7985 - val_loss: 0.4090 - val_accuracy: 0.8505\n",
      "Epoch 7/100\n",
      "1170/1174 [============================>.] - ETA: 0s - loss: 0.4677 - accuracy: 0.8214\n",
      "Epoch 7: saving model to best_model.h5\n",
      "1174/1174 [==============================] - 5s 4ms/step - loss: 0.4675 - accuracy: 0.8216 - val_loss: 0.3930 - val_accuracy: 0.8560\n",
      "Epoch 8/100\n",
      "1171/1174 [============================>.] - ETA: 0s - loss: 0.4224 - accuracy: 0.8370\n",
      "Epoch 8: saving model to best_model.h5\n",
      "1174/1174 [==============================] - 5s 4ms/step - loss: 0.4224 - accuracy: 0.8371 - val_loss: 0.3176 - val_accuracy: 0.8862\n",
      "Epoch 9/100\n",
      "1162/1174 [============================>.] - ETA: 0s - loss: 0.3923 - accuracy: 0.8496\n",
      "Epoch 9: saving model to best_model.h5\n",
      "1174/1174 [==============================] - 5s 4ms/step - loss: 0.3919 - accuracy: 0.8497 - val_loss: 0.3754 - val_accuracy: 0.8655\n",
      "Epoch 10/100\n",
      "1171/1174 [============================>.] - ETA: 0s - loss: 0.3653 - accuracy: 0.8599\n",
      "Epoch 10: saving model to best_model.h5\n",
      "1174/1174 [==============================] - 5s 4ms/step - loss: 0.3652 - accuracy: 0.8600 - val_loss: 0.2719 - val_accuracy: 0.8983\n",
      "Epoch 11/100\n",
      "1160/1174 [============================>.] - ETA: 0s - loss: 0.3361 - accuracy: 0.8704\n",
      "Epoch 11: saving model to best_model.h5\n",
      "1174/1174 [==============================] - 5s 4ms/step - loss: 0.3367 - accuracy: 0.8702 - val_loss: 0.2555 - val_accuracy: 0.9057\n",
      "Epoch 12/100\n",
      "1173/1174 [============================>.] - ETA: 0s - loss: 0.3166 - accuracy: 0.8773\n",
      "Epoch 12: saving model to best_model.h5\n",
      "1174/1174 [==============================] - 5s 4ms/step - loss: 0.3165 - accuracy: 0.8773 - val_loss: 0.2371 - val_accuracy: 0.9113\n",
      "Epoch 13/100\n",
      "1160/1174 [============================>.] - ETA: 0s - loss: 0.3018 - accuracy: 0.8851\n",
      "Epoch 13: saving model to best_model.h5\n",
      "1174/1174 [==============================] - 5s 4ms/step - loss: 0.3016 - accuracy: 0.8851 - val_loss: 0.2371 - val_accuracy: 0.9119\n",
      "Epoch 14/100\n",
      "1169/1174 [============================>.] - ETA: 0s - loss: 0.2903 - accuracy: 0.8876\n",
      "Epoch 14: saving model to best_model.h5\n",
      "1174/1174 [==============================] - 5s 4ms/step - loss: 0.2903 - accuracy: 0.8876 - val_loss: 0.2262 - val_accuracy: 0.9178\n",
      "Epoch 15/100\n",
      "1171/1174 [============================>.] - ETA: 0s - loss: 0.2722 - accuracy: 0.8964\n",
      "Epoch 15: saving model to best_model.h5\n",
      "1174/1174 [==============================] - 5s 4ms/step - loss: 0.2724 - accuracy: 0.8964 - val_loss: 0.2096 - val_accuracy: 0.9215\n",
      "Epoch 16/100\n",
      "1160/1174 [============================>.] - ETA: 0s - loss: 0.2617 - accuracy: 0.8998\n",
      "Epoch 16: saving model to best_model.h5\n",
      "1174/1174 [==============================] - 5s 4ms/step - loss: 0.2611 - accuracy: 0.9000 - val_loss: 0.1838 - val_accuracy: 0.9338\n",
      "Epoch 17/100\n",
      "1167/1174 [============================>.] - ETA: 0s - loss: 0.2498 - accuracy: 0.9046\n",
      "Epoch 17: saving model to best_model.h5\n",
      "1174/1174 [==============================] - 5s 4ms/step - loss: 0.2501 - accuracy: 0.9044 - val_loss: 0.1796 - val_accuracy: 0.9353\n",
      "Epoch 18/100\n",
      "1161/1174 [============================>.] - ETA: 0s - loss: 0.2403 - accuracy: 0.9069\n",
      "Epoch 18: saving model to best_model.h5\n",
      "1174/1174 [==============================] - 5s 4ms/step - loss: 0.2405 - accuracy: 0.9068 - val_loss: 0.2082 - val_accuracy: 0.9268\n",
      "Epoch 19/100\n",
      "1163/1174 [============================>.] - ETA: 0s - loss: 0.2302 - accuracy: 0.9120\n",
      "Epoch 19: saving model to best_model.h5\n",
      "1174/1174 [==============================] - 5s 4ms/step - loss: 0.2300 - accuracy: 0.9121 - val_loss: 0.1826 - val_accuracy: 0.9352\n",
      "Epoch 20/100\n",
      "1169/1174 [============================>.] - ETA: 0s - loss: 0.2259 - accuracy: 0.9128\n",
      "Epoch 20: saving model to best_model.h5\n",
      "1174/1174 [==============================] - 5s 4ms/step - loss: 0.2258 - accuracy: 0.9127 - val_loss: 0.1757 - val_accuracy: 0.9365\n",
      "Epoch 21/100\n",
      "1161/1174 [============================>.] - ETA: 0s - loss: 0.2092 - accuracy: 0.9193\n",
      "Epoch 21: saving model to best_model.h5\n",
      "1174/1174 [==============================] - 5s 4ms/step - loss: 0.2093 - accuracy: 0.9190 - val_loss: 0.1776 - val_accuracy: 0.9379\n",
      "Epoch 22/100\n",
      "1162/1174 [============================>.] - ETA: 0s - loss: 0.2061 - accuracy: 0.9208\n",
      "Epoch 22: saving model to best_model.h5\n",
      "1174/1174 [==============================] - 5s 4ms/step - loss: 0.2060 - accuracy: 0.9208 - val_loss: 0.1625 - val_accuracy: 0.9451\n",
      "Epoch 23/100\n",
      "1161/1174 [============================>.] - ETA: 0s - loss: 0.2032 - accuracy: 0.9218\n",
      "Epoch 23: saving model to best_model.h5\n",
      "1174/1174 [==============================] - 5s 4ms/step - loss: 0.2039 - accuracy: 0.9214 - val_loss: 0.1696 - val_accuracy: 0.9377\n",
      "Epoch 24/100\n",
      "1168/1174 [============================>.] - ETA: 0s - loss: 0.1964 - accuracy: 0.9251\n",
      "Epoch 24: saving model to best_model.h5\n",
      "1174/1174 [==============================] - 5s 4ms/step - loss: 0.1961 - accuracy: 0.9252 - val_loss: 0.1525 - val_accuracy: 0.9462\n",
      "Epoch 25/100\n",
      "1162/1174 [============================>.] - ETA: 0s - loss: 0.1835 - accuracy: 0.9302\n",
      "Epoch 25: saving model to best_model.h5\n",
      "1174/1174 [==============================] - 5s 4ms/step - loss: 0.1830 - accuracy: 0.9305 - val_loss: 0.1403 - val_accuracy: 0.9510\n",
      "Epoch 26/100\n",
      "1170/1174 [============================>.] - ETA: 0s - loss: 0.1818 - accuracy: 0.9303\n",
      "Epoch 26: saving model to best_model.h5\n",
      "1174/1174 [==============================] - 5s 4ms/step - loss: 0.1817 - accuracy: 0.9303 - val_loss: 0.1322 - val_accuracy: 0.9531\n",
      "Epoch 27/100\n",
      "1173/1174 [============================>.] - ETA: 0s - loss: 0.1779 - accuracy: 0.9336\n",
      "Epoch 27: saving model to best_model.h5\n",
      "1174/1174 [==============================] - 5s 4ms/step - loss: 0.1779 - accuracy: 0.9336 - val_loss: 0.1384 - val_accuracy: 0.9508\n",
      "Epoch 28/100\n",
      "1172/1174 [============================>.] - ETA: 0s - loss: 0.1691 - accuracy: 0.9366\n",
      "Epoch 28: saving model to best_model.h5\n",
      "1174/1174 [==============================] - 5s 4ms/step - loss: 0.1690 - accuracy: 0.9366 - val_loss: 0.1338 - val_accuracy: 0.9537\n",
      "Epoch 29/100\n",
      "1174/1174 [==============================] - ETA: 0s - loss: 0.1721 - accuracy: 0.9351\n",
      "Epoch 29: saving model to best_model.h5\n",
      "1174/1174 [==============================] - 5s 4ms/step - loss: 0.1721 - accuracy: 0.9351 - val_loss: 0.1301 - val_accuracy: 0.9545\n",
      "Epoch 30/100\n",
      "1172/1174 [============================>.] - ETA: 0s - loss: 0.1683 - accuracy: 0.9366\n",
      "Epoch 30: saving model to best_model.h5\n",
      "1174/1174 [==============================] - 5s 4ms/step - loss: 0.1682 - accuracy: 0.9367 - val_loss: 0.1233 - val_accuracy: 0.9543\n",
      "Epoch 31/100\n",
      "1169/1174 [============================>.] - ETA: 0s - loss: 0.1628 - accuracy: 0.9381\n",
      "Epoch 31: saving model to best_model.h5\n",
      "1174/1174 [==============================] - 5s 4ms/step - loss: 0.1629 - accuracy: 0.9381 - val_loss: 0.1282 - val_accuracy: 0.9571\n",
      "Epoch 32/100\n",
      "1160/1174 [============================>.] - ETA: 0s - loss: 0.1584 - accuracy: 0.9396\n",
      "Epoch 32: saving model to best_model.h5\n",
      "1174/1174 [==============================] - 5s 4ms/step - loss: 0.1581 - accuracy: 0.9398 - val_loss: 0.1083 - val_accuracy: 0.9644\n",
      "Epoch 33/100\n",
      "1160/1174 [============================>.] - ETA: 0s - loss: 0.1581 - accuracy: 0.9414\n",
      "Epoch 33: saving model to best_model.h5\n",
      "1174/1174 [==============================] - 5s 4ms/step - loss: 0.1580 - accuracy: 0.9413 - val_loss: 0.1340 - val_accuracy: 0.9550\n",
      "Epoch 34/100\n",
      "1174/1174 [==============================] - ETA: 0s - loss: 0.1470 - accuracy: 0.9442\n",
      "Epoch 34: saving model to best_model.h5\n",
      "1174/1174 [==============================] - 5s 4ms/step - loss: 0.1470 - accuracy: 0.9442 - val_loss: 0.1100 - val_accuracy: 0.9615\n",
      "Epoch 35/100\n",
      "1173/1174 [============================>.] - ETA: 0s - loss: 0.1499 - accuracy: 0.9431\n",
      "Epoch 35: saving model to best_model.h5\n",
      "1174/1174 [==============================] - 5s 4ms/step - loss: 0.1499 - accuracy: 0.9431 - val_loss: 0.1221 - val_accuracy: 0.9574\n",
      "Epoch 36/100\n",
      "1173/1174 [============================>.] - ETA: 0s - loss: 0.1472 - accuracy: 0.9451\n",
      "Epoch 36: saving model to best_model.h5\n",
      "1174/1174 [==============================] - 5s 4ms/step - loss: 0.1472 - accuracy: 0.9451 - val_loss: 0.1298 - val_accuracy: 0.9531\n",
      "Epoch 37/100\n",
      "1174/1174 [==============================] - ETA: 0s - loss: 0.1411 - accuracy: 0.9456\n",
      "Epoch 37: saving model to best_model.h5\n",
      "1174/1174 [==============================] - 5s 4ms/step - loss: 0.1411 - accuracy: 0.9456 - val_loss: 0.1056 - val_accuracy: 0.9657\n",
      "Epoch 38/100\n",
      "1162/1174 [============================>.] - ETA: 0s - loss: 0.1412 - accuracy: 0.9462\n",
      "Epoch 38: saving model to best_model.h5\n",
      "1174/1174 [==============================] - 5s 4ms/step - loss: 0.1410 - accuracy: 0.9463 - val_loss: 0.0972 - val_accuracy: 0.9689\n",
      "Epoch 39/100\n",
      "1161/1174 [============================>.] - ETA: 0s - loss: 0.1383 - accuracy: 0.9471\n",
      "Epoch 39: saving model to best_model.h5\n",
      "1174/1174 [==============================] - 5s 4ms/step - loss: 0.1389 - accuracy: 0.9469 - val_loss: 0.1161 - val_accuracy: 0.9635\n",
      "Epoch 40/100\n",
      "1174/1174 [==============================] - ETA: 0s - loss: 0.1399 - accuracy: 0.9487\n",
      "Epoch 40: saving model to best_model.h5\n",
      "1174/1174 [==============================] - 5s 4ms/step - loss: 0.1399 - accuracy: 0.9487 - val_loss: 0.1126 - val_accuracy: 0.9637\n",
      "Epoch 41/100\n",
      "1161/1174 [============================>.] - ETA: 0s - loss: 0.1301 - accuracy: 0.9510\n",
      "Epoch 41: saving model to best_model.h5\n",
      "1174/1174 [==============================] - 5s 4ms/step - loss: 0.1305 - accuracy: 0.9510 - val_loss: 0.0985 - val_accuracy: 0.9696\n",
      "Epoch 42/100\n",
      "1174/1174 [==============================] - ETA: 0s - loss: 0.1282 - accuracy: 0.9519\n",
      "Epoch 42: saving model to best_model.h5\n",
      "1174/1174 [==============================] - 5s 4ms/step - loss: 0.1282 - accuracy: 0.9519 - val_loss: 0.1068 - val_accuracy: 0.9660\n",
      "Epoch 43/100\n",
      "1171/1174 [============================>.] - ETA: 0s - loss: 0.1326 - accuracy: 0.9502\n",
      "Epoch 43: saving model to best_model.h5\n",
      "1174/1174 [==============================] - 5s 4ms/step - loss: 0.1327 - accuracy: 0.9502 - val_loss: 0.1019 - val_accuracy: 0.9692\n",
      "Epoch 44/100\n",
      "1163/1174 [============================>.] - ETA: 0s - loss: 0.1281 - accuracy: 0.9523\n",
      "Epoch 44: saving model to best_model.h5\n",
      "1174/1174 [==============================] - 5s 4ms/step - loss: 0.1280 - accuracy: 0.9524 - val_loss: 0.1219 - val_accuracy: 0.9609\n",
      "Epoch 45/100\n",
      "1174/1174 [==============================] - ETA: 0s - loss: 0.1233 - accuracy: 0.9540\n",
      "Epoch 45: saving model to best_model.h5\n",
      "1174/1174 [==============================] - 5s 4ms/step - loss: 0.1233 - accuracy: 0.9540 - val_loss: 0.1055 - val_accuracy: 0.9660\n",
      "Epoch 46/100\n",
      "1169/1174 [============================>.] - ETA: 0s - loss: 0.1251 - accuracy: 0.9530\n",
      "Epoch 46: saving model to best_model.h5\n",
      "1174/1174 [==============================] - 5s 5ms/step - loss: 0.1251 - accuracy: 0.9531 - val_loss: 0.1105 - val_accuracy: 0.9646\n",
      "Epoch 47/100\n",
      "1167/1174 [============================>.] - ETA: 0s - loss: 0.1224 - accuracy: 0.9549\n",
      "Epoch 47: saving model to best_model.h5\n",
      "1174/1174 [==============================] - 5s 4ms/step - loss: 0.1226 - accuracy: 0.9547 - val_loss: 0.0955 - val_accuracy: 0.9708\n",
      "Epoch 48/100\n",
      "1161/1174 [============================>.] - ETA: 0s - loss: 0.1217 - accuracy: 0.9542\n",
      "Epoch 48: saving model to best_model.h5\n",
      "1174/1174 [==============================] - 5s 4ms/step - loss: 0.1216 - accuracy: 0.9542 - val_loss: 0.1005 - val_accuracy: 0.9687\n",
      "Epoch 49/100\n",
      "1172/1174 [============================>.] - ETA: 0s - loss: 0.1174 - accuracy: 0.9553\n",
      "Epoch 49: saving model to best_model.h5\n",
      "1174/1174 [==============================] - 5s 4ms/step - loss: 0.1174 - accuracy: 0.9553 - val_loss: 0.1074 - val_accuracy: 0.9647\n",
      "Epoch 50/100\n",
      "1172/1174 [============================>.] - ETA: 0s - loss: 0.1180 - accuracy: 0.9551\n",
      "Epoch 50: saving model to best_model.h5\n",
      "1174/1174 [==============================] - 5s 4ms/step - loss: 0.1180 - accuracy: 0.9551 - val_loss: 0.1037 - val_accuracy: 0.9687\n",
      "Epoch 51/100\n",
      "1161/1174 [============================>.] - ETA: 0s - loss: 0.1184 - accuracy: 0.9556\n",
      "Epoch 51: saving model to best_model.h5\n",
      "1174/1174 [==============================] - 5s 4ms/step - loss: 0.1181 - accuracy: 0.9558 - val_loss: 0.1015 - val_accuracy: 0.9704\n",
      "Epoch 52/100\n",
      "1162/1174 [============================>.] - ETA: 0s - loss: 0.1111 - accuracy: 0.9582\n",
      "Epoch 52: saving model to best_model.h5\n",
      "1174/1174 [==============================] - 5s 4ms/step - loss: 0.1118 - accuracy: 0.9579 - val_loss: 0.0946 - val_accuracy: 0.9723\n",
      "Epoch 53/100\n",
      "1164/1174 [============================>.] - ETA: 0s - loss: 0.1171 - accuracy: 0.9563\n",
      "Epoch 53: saving model to best_model.h5\n",
      "1174/1174 [==============================] - 5s 4ms/step - loss: 0.1171 - accuracy: 0.9562 - val_loss: 0.1022 - val_accuracy: 0.9719\n",
      "Epoch 54/100\n",
      "1164/1174 [============================>.] - ETA: 0s - loss: 0.1124 - accuracy: 0.9584\n",
      "Epoch 54: saving model to best_model.h5\n",
      "1174/1174 [==============================] - 5s 4ms/step - loss: 0.1123 - accuracy: 0.9584 - val_loss: 0.0982 - val_accuracy: 0.9713\n",
      "Epoch 55/100\n",
      "1160/1174 [============================>.] - ETA: 0s - loss: 0.1133 - accuracy: 0.9574\n",
      "Epoch 55: saving model to best_model.h5\n",
      "1174/1174 [==============================] - 5s 4ms/step - loss: 0.1133 - accuracy: 0.9574 - val_loss: 0.0949 - val_accuracy: 0.9737\n",
      "Epoch 56/100\n",
      "1167/1174 [============================>.] - ETA: 0s - loss: 0.1164 - accuracy: 0.9571\n",
      "Epoch 56: saving model to best_model.h5\n",
      "1174/1174 [==============================] - 5s 4ms/step - loss: 0.1167 - accuracy: 0.9570 - val_loss: 0.0978 - val_accuracy: 0.9718\n",
      "Epoch 57/100\n",
      "1162/1174 [============================>.] - ETA: 0s - loss: 0.1089 - accuracy: 0.9597\n",
      "Epoch 57: saving model to best_model.h5\n",
      "1174/1174 [==============================] - 5s 4ms/step - loss: 0.1089 - accuracy: 0.9598 - val_loss: 0.1013 - val_accuracy: 0.9719\n",
      "Epoch 58/100\n",
      "1173/1174 [============================>.] - ETA: 0s - loss: 0.1043 - accuracy: 0.9622\n",
      "Epoch 58: saving model to best_model.h5\n",
      "1174/1174 [==============================] - 5s 4ms/step - loss: 0.1043 - accuracy: 0.9622 - val_loss: 0.0892 - val_accuracy: 0.9759\n",
      "Epoch 59/100\n",
      "1168/1174 [============================>.] - ETA: 0s - loss: 0.1024 - accuracy: 0.9617\n",
      "Epoch 59: saving model to best_model.h5\n",
      "1174/1174 [==============================] - 5s 4ms/step - loss: 0.1024 - accuracy: 0.9617 - val_loss: 0.1144 - val_accuracy: 0.9676\n",
      "Epoch 60/100\n",
      "1160/1174 [============================>.] - ETA: 0s - loss: 0.0966 - accuracy: 0.9637\n",
      "Epoch 60: saving model to best_model.h5\n",
      "1174/1174 [==============================] - 5s 4ms/step - loss: 0.0969 - accuracy: 0.9635 - val_loss: 0.1063 - val_accuracy: 0.9665\n",
      "Epoch 61/100\n",
      "1170/1174 [============================>.] - ETA: 0s - loss: 0.1116 - accuracy: 0.9593\n",
      "Epoch 61: saving model to best_model.h5\n",
      "1174/1174 [==============================] - 5s 4ms/step - loss: 0.1117 - accuracy: 0.9593 - val_loss: 0.0952 - val_accuracy: 0.9717\n",
      "Epoch 62/100\n",
      "1174/1174 [==============================] - ETA: 0s - loss: 0.1032 - accuracy: 0.9614\n",
      "Epoch 62: saving model to best_model.h5\n",
      "1174/1174 [==============================] - 5s 4ms/step - loss: 0.1032 - accuracy: 0.9614 - val_loss: 0.0956 - val_accuracy: 0.9736\n",
      "Epoch 63/100\n",
      "1174/1174 [==============================] - ETA: 0s - loss: 0.1022 - accuracy: 0.9625\n",
      "Epoch 63: saving model to best_model.h5\n",
      "1174/1174 [==============================] - 5s 4ms/step - loss: 0.1022 - accuracy: 0.9625 - val_loss: 0.0999 - val_accuracy: 0.9689\n",
      "Epoch 64/100\n",
      "1172/1174 [============================>.] - ETA: 0s - loss: 0.0983 - accuracy: 0.9631\n",
      "Epoch 64: saving model to best_model.h5\n",
      "1174/1174 [==============================] - 5s 4ms/step - loss: 0.0983 - accuracy: 0.9631 - val_loss: 0.0924 - val_accuracy: 0.9741\n",
      "Epoch 65/100\n",
      "1161/1174 [============================>.] - ETA: 0s - loss: 0.1005 - accuracy: 0.9637\n",
      "Epoch 65: saving model to best_model.h5\n",
      "1174/1174 [==============================] - 5s 4ms/step - loss: 0.1003 - accuracy: 0.9638 - val_loss: 0.0945 - val_accuracy: 0.9734\n",
      "Epoch 66/100\n",
      "1161/1174 [============================>.] - ETA: 0s - loss: 0.0986 - accuracy: 0.9648\n",
      "Epoch 66: saving model to best_model.h5\n",
      "1174/1174 [==============================] - 5s 4ms/step - loss: 0.0991 - accuracy: 0.9647 - val_loss: 0.1158 - val_accuracy: 0.9658\n",
      "Epoch 67/100\n",
      "1174/1174 [==============================] - ETA: 0s - loss: 0.0928 - accuracy: 0.9658\n",
      "Epoch 67: saving model to best_model.h5\n",
      "1174/1174 [==============================] - 5s 4ms/step - loss: 0.0928 - accuracy: 0.9658 - val_loss: 0.0937 - val_accuracy: 0.9753\n",
      "Epoch 68/100\n",
      "1174/1174 [==============================] - ETA: 0s - loss: 0.0992 - accuracy: 0.9634\n",
      "Epoch 68: saving model to best_model.h5\n",
      "1174/1174 [==============================] - 5s 4ms/step - loss: 0.0992 - accuracy: 0.9634 - val_loss: 0.0941 - val_accuracy: 0.9744\n"
     ]
    }
   ],
   "source": [
    "history = model.fit(Xtrain,\n",
    "                    Ytrain,\n",
    "                    epochs = 100,\n",
    "                    validation_data = (Xtest, Ytest),\n",
    "                    callbacks=[callback, early_stopping])"
   ]
  },
  {
   "cell_type": "code",
   "execution_count": 28,
   "metadata": {
    "tags": []
   },
   "outputs": [],
   "source": [
    "import torch\n",
    "from torch.utils.data import DataLoader, TensorDataset\n",
    "\n",
    "# Convert numpy arrays or pandas DataFrames to PyTorch tensors\n",
    "Xtrain_tensor = torch.tensor(Xtrain, dtype=torch.float32)\n",
    "Xtest_tensor = torch.tensor(Xtest, dtype=torch.float32)\n",
    "\n",
    "# If Ytrain or Ytest are pandas Series, convert them to numpy arrays first\n",
    "Ytrain_array = Ytrain.values if isinstance(Ytrain, pd.Series) else Ytrain\n",
    "Ytest_array = Ytest.values if isinstance(Ytest, pd.Series) else Ytest\n",
    "\n",
    "# Convert numpy arrays to PyTorch tensors\n",
    "Ytrain_tensor = torch.tensor(Ytrain_array, dtype=torch.long)\n",
    "Ytest_tensor = torch.tensor(Ytest_array, dtype=torch.long)\n",
    "\n",
    "# Create TensorDatasets\n",
    "train_dataset_pytorch = TensorDataset(Xtrain_tensor, Ytrain_tensor)\n",
    "test_dataset_pytorch = TensorDataset(Xtest_tensor, Ytest_tensor)\n",
    "\n",
    "# Create DataLoaders\n",
    "BATCH_SIZE = 32\n",
    "train_loader = DataLoader(train_dataset_pytorch, batch_size=BATCH_SIZE, shuffle=True)\n",
    "test_loader = DataLoader(test_dataset_pytorch, batch_size=BATCH_SIZE, shuffle=False)\n"
   ]
  },
  {
   "cell_type": "code",
   "execution_count": 29,
   "metadata": {
    "id": "hY339fg9E3mk",
    "tags": []
   },
   "outputs": [],
   "source": [
    "def requirementsForModelTraining(model):\n",
    "    blurpool = BlurPool(\n",
    "    replace_convs=True, # Blur before convs\n",
    "    replace_maxpools=True, # Blur before max-pools\n",
    "    blur_first=True # Blur before conv/max-pool)\n",
    "    )\n",
    "    optimizer = optim.Adam(model.parameters(), lr=0.0001)\n",
    "    algorithms=[blurpool]\n",
    "    return algorithms, optimizer"
   ]
  },
  {
   "cell_type": "code",
   "execution_count": 31,
   "metadata": {
    "id": "FcuMMdnsGr6V",
    "tags": []
   },
   "outputs": [
    {
     "data": {
      "text/plain": [
       "CustomModelComposer(\n",
       "  (conv1): Conv2d(3, 32, kernel_size=(2, 2), stride=(1, 1), padding=(1, 1))\n",
       "  (conv2): Conv2d(32, 32, kernel_size=(2, 2), stride=(1, 1), padding=(1, 1))\n",
       "  (conv3): Conv2d(32, 64, kernel_size=(2, 2), stride=(1, 1), padding=(1, 1))\n",
       "  (fc1): Linear(in_features=1024, out_features=64, bias=True)\n",
       "  (fc2): Linear(in_features=64, out_features=7, bias=True)\n",
       "  (dropout): Dropout(p=0.5, inplace=False)\n",
       "  (criterion): CrossEntropyLoss()\n",
       ")"
      ]
     },
     "execution_count": 31,
     "metadata": {},
     "output_type": "execute_result"
    }
   ],
   "source": [
    "import torch\n",
    "import torch.nn as nn\n",
    "import torch.nn.functional as F\n",
    "\n",
    "\n",
    "class CustomModelComposer(ComposerModel):\n",
    "    def __init__(self):\n",
    "        super(CustomModelComposer, self).__init__()\n",
    "        \n",
    "        # Convolutional layers\n",
    "        self.conv1 = nn.Conv2d(3, 32, kernel_size=2, padding=1)\n",
    "        self.conv2 = nn.Conv2d(32, 32, kernel_size=2, padding=1)\n",
    "        self.conv3 = nn.Conv2d(32, 64, kernel_size=2, padding=1)\n",
    "        \n",
    "        # Dense layers\n",
    "        self.fc1 = nn.Linear(64*4*4, 64)  # Adjusted size after three max pooling operations\n",
    "        self.fc2 = nn.Linear(64, 7)\n",
    "        \n",
    "        # Dropout\n",
    "        self.dropout = nn.Dropout(0.5)\n",
    "        \n",
    "        self.criterion = nn.CrossEntropyLoss()\n",
    "        \n",
    "    def forward(self, x):\n",
    "        if isinstance(x, tuple):\n",
    "            x = x[0]\n",
    "        \n",
    "        # Permute the dimensions to match PyTorch's expectations\n",
    "        x = x.permute(0, 3, 1, 2)\n",
    "\n",
    "        # First conv block\n",
    "        x = F.relu(self.conv1(x))\n",
    "        x = F.max_pool2d(x, 2)\n",
    "\n",
    "        # Second conv block\n",
    "        x = F.relu(self.conv2(x))\n",
    "        x = F.max_pool2d(x, 2)\n",
    "\n",
    "        # Third conv block\n",
    "        x = F.relu(self.conv3(x))\n",
    "        x = F.max_pool2d(x, 2)\n",
    "\n",
    "        # Flatten and pass through FC layers\n",
    "        x = x.contiguous().view(x.size(0), -1)\n",
    "        x = F.relu(self.fc1(x))\n",
    "        x = self.dropout(x)\n",
    "        x = self.fc2(x)\n",
    "        \n",
    "        return x\n",
    "    \n",
    "    def get_metrics(self, is_train: bool):\n",
    "        # You can return any metrics you want to monitor. \n",
    "        # If you don't have specific metrics, return an empty dictionary.\n",
    "        return {}\n",
    "    \n",
    "    def loss(self, outputs, targets):\n",
    "        if isinstance(targets, tuple):\n",
    "            targets = targets[0]\n",
    "        if len(targets.shape) == 4:  # [N, H, W, C]\n",
    "            targets = targets.argmax(dim=-1)  # Convert to [N, H, W] with class indices\n",
    "        targets = targets.view(targets.size(0), -1).argmax(dim=-1)  # Convert to [N] with class indices for entire image\n",
    "\n",
    "        # Add these lines for debugging\n",
    "        unique, counts = torch.unique(targets, return_counts=True)\n",
    "        print(\"Unique values in targets:\", unique)\n",
    "        print(\"Counts of unique values:\", counts)\n",
    "\n",
    "        return self.criterion(outputs, targets)\n",
    "\n",
    "\n",
    "# Instantiate the model\n",
    "custom_model_composer = CustomModelComposer()\n",
    "custom_model_composer\n"
   ]
  },
  {
   "cell_type": "code",
   "execution_count": 32,
   "metadata": {
    "id": "tDZm1ds01_w6",
    "tags": []
   },
   "outputs": [
    {
     "name": "stderr",
     "output_type": "stream",
     "text": [
      "/home/ec2-user/anaconda3/envs/tensorflow2_p310/lib/python3.10/site-packages/composer/algorithms/blurpool/blurpool.py:160: NoEffectWarning: Applying BlurPool did not change any layers. No strided Conv2d or Pool2d layers were found.\n",
      "  warnings.warn(\n"
     ]
    }
   ],
   "source": [
    "algorithms, optimizer,  = requirementsForModelTraining(custom_model_composer)\n",
    "\n",
    "\n",
    "logger = InMemoryLogger()\n",
    "trainer = Trainer(\n",
    "    model=custom_model_composer,\n",
    "    optimizers=optimizer,\n",
    "    train_dataloader=train_loader,\n",
    "    eval_dataloader=test_loader,\n",
    "    max_duration='10ep',\n",
    "    algorithms=algorithms,\n",
    "    loggers=logger\n",
    ")"
   ]
  },
  {
   "cell_type": "code",
   "execution_count": 33,
   "metadata": {
    "colab": {
     "base_uri": "https://localhost:8080/",
     "height": 560
    },
    "id": "IdbYZw9AGIdz",
    "outputId": "ed7f4a0f-5db3-4e0e-ec73-ed8f1fd53f4f",
    "tags": []
   },
   "outputs": [
    {
     "name": "stderr",
     "output_type": "stream",
     "text": [
      "******************************\n",
      "Config:\n",
      "blurpool/num_blurconv_layers: 0\n",
      "blurpool/num_blurpool_layers: 0\n",
      "enabled_algorithms/BlurPool: true\n",
      "node_name: unknown because NODENAME environment variable not set\n",
      "num_gpus_per_node: 1\n",
      "num_nodes: 1\n",
      "rank_zero_seed: 3514876640\n",
      "\n",
      "******************************\n"
     ]
    },
    {
     "data": {
      "application/vnd.jupyter.widget-view+json": {
       "model_id": "e255774c16184fb3aee6d01301e8f3e8",
       "version_major": 2,
       "version_minor": 0
      },
      "text/plain": [
       "train          Epoch   0:    0%|| 0/1174 [00:00<?, ?ba/s]         "
      ]
     },
     "metadata": {},
     "output_type": "display_data"
    },
    {
     "name": "stderr",
     "output_type": "stream",
     "text": [
      "../aten/src/ATen/native/cuda/Loss.cu:240: nll_loss_forward_reduce_cuda_kernel_2d: block: [0,0,0], thread: [2,0,0] Assertion `t >= 0 && t < n_classes` failed.\n",
      "../aten/src/ATen/native/cuda/Loss.cu:240: nll_loss_forward_reduce_cuda_kernel_2d: block: [0,0,0], thread: [5,0,0] Assertion `t >= 0 && t < n_classes` failed.\n",
      "../aten/src/ATen/native/cuda/Loss.cu:240: nll_loss_forward_reduce_cuda_kernel_2d: block: [0,0,0], thread: [10,0,0] Assertion `t >= 0 && t < n_classes` failed.\n",
      "../aten/src/ATen/native/cuda/Loss.cu:240: nll_loss_forward_reduce_cuda_kernel_2d: block: [0,0,0], thread: [11,0,0] Assertion `t >= 0 && t < n_classes` failed.\n",
      "../aten/src/ATen/native/cuda/Loss.cu:240: nll_loss_forward_reduce_cuda_kernel_2d: block: [0,0,0], thread: [12,0,0] Assertion `t >= 0 && t < n_classes` failed.\n",
      "../aten/src/ATen/native/cuda/Loss.cu:240: nll_loss_forward_reduce_cuda_kernel_2d: block: [0,0,0], thread: [17,0,0] Assertion `t >= 0 && t < n_classes` failed.\n",
      "../aten/src/ATen/native/cuda/Loss.cu:240: nll_loss_forward_reduce_cuda_kernel_2d: block: [0,0,0], thread: [18,0,0] Assertion `t >= 0 && t < n_classes` failed.\n",
      "../aten/src/ATen/native/cuda/Loss.cu:240: nll_loss_forward_reduce_cuda_kernel_2d: block: [0,0,0], thread: [23,0,0] Assertion `t >= 0 && t < n_classes` failed.\n",
      "../aten/src/ATen/native/cuda/Loss.cu:240: nll_loss_forward_reduce_cuda_kernel_2d: block: [0,0,0], thread: [27,0,0] Assertion `t >= 0 && t < n_classes` failed.\n",
      "../aten/src/ATen/native/cuda/Loss.cu:240: nll_loss_forward_reduce_cuda_kernel_2d: block: [0,0,0], thread: [30,0,0] Assertion `t >= 0 && t < n_classes` failed.\n"
     ]
    },
    {
     "name": "stdout",
     "output_type": "stream",
     "text": [
      "Unique values in targets: tensor([  0,   2,   8,  12,  25,  32, 181, 236, 240, 267, 416],\n",
      "       device='cuda:0')\n",
      "Counts of unique values: tensor([21,  1,  2,  1,  1,  1,  1,  1,  1,  1,  1], device='cuda:0')\n"
     ]
    },
    {
     "ename": "RuntimeError",
     "evalue": "CUDA error: device-side assert triggered\nCUDA kernel errors might be asynchronously reported at some other API call, so the stacktrace below might be incorrect.\nFor debugging consider passing CUDA_LAUNCH_BLOCKING=1.\nCompile with `TORCH_USE_CUDA_DSA` to enable device-side assertions.\n",
     "output_type": "error",
     "traceback": [
      "\u001b[0;31m---------------------------------------------------------------------------\u001b[0m",
      "\u001b[0;31mRuntimeError\u001b[0m                              Traceback (most recent call last)",
      "Cell \u001b[0;32mIn[33], line 2\u001b[0m\n\u001b[1;32m      1\u001b[0m start_time \u001b[38;5;241m=\u001b[39m time\u001b[38;5;241m.\u001b[39mperf_counter()\n\u001b[0;32m----> 2\u001b[0m \u001b[43mtrainer\u001b[49m\u001b[38;5;241;43m.\u001b[39;49m\u001b[43mfit\u001b[49m\u001b[43m(\u001b[49m\u001b[43m)\u001b[49m \u001b[38;5;66;03m# <-- Your training loop in action!\u001b[39;00m\n\u001b[1;32m      3\u001b[0m end_time \u001b[38;5;241m=\u001b[39m time\u001b[38;5;241m.\u001b[39mperf_counter()\n\u001b[1;32m      4\u001b[0m \u001b[38;5;28mprint\u001b[39m(\u001b[38;5;124mf\u001b[39m\u001b[38;5;124m\"\u001b[39m\u001b[38;5;124mIt took \u001b[39m\u001b[38;5;132;01m{\u001b[39;00mend_time\u001b[38;5;250m \u001b[39m\u001b[38;5;241m-\u001b[39m\u001b[38;5;250m \u001b[39mstart_time\u001b[38;5;132;01m:\u001b[39;00m\u001b[38;5;124m0.4f\u001b[39m\u001b[38;5;132;01m}\u001b[39;00m\u001b[38;5;124m seconds to train\u001b[39m\u001b[38;5;124m\"\u001b[39m)\n",
      "File \u001b[0;32m~/anaconda3/envs/tensorflow2_p310/lib/python3.10/site-packages/composer/trainer/trainer.py:1804\u001b[0m, in \u001b[0;36mTrainer.fit\u001b[0;34m(self, train_dataloader, train_dataloader_label, train_subset_num_batches, spin_dataloaders, duration, reset_time, schedulers, scale_schedule_ratio, step_schedulers_every_batch, eval_dataloader, eval_subset_num_batches, eval_interval, device_train_microbatch_size, precision)\u001b[0m\n\u001b[1;32m   1801\u001b[0m     \u001b[38;5;28mself\u001b[39m\u001b[38;5;241m.\u001b[39mstate\u001b[38;5;241m.\u001b[39mscaler \u001b[38;5;241m=\u001b[39m ClosureGradScaler() \u001b[38;5;28;01mif\u001b[39;00m \u001b[38;5;28mself\u001b[39m\u001b[38;5;241m.\u001b[39m_use_closures() \u001b[38;5;28;01melse\u001b[39;00m GradScaler()\n\u001b[1;32m   1803\u001b[0m \u001b[38;5;28mself\u001b[39m\u001b[38;5;241m.\u001b[39mfirst_batch_complete \u001b[38;5;241m=\u001b[39m \u001b[38;5;28;01mFalse\u001b[39;00m\n\u001b[0;32m-> 1804\u001b[0m \u001b[38;5;28;43mself\u001b[39;49m\u001b[38;5;241;43m.\u001b[39;49m\u001b[43m_train_loop\u001b[49m\u001b[43m(\u001b[49m\u001b[43m)\u001b[49m\n",
      "File \u001b[0;32m~/anaconda3/envs/tensorflow2_p310/lib/python3.10/site-packages/composer/trainer/trainer.py:1979\u001b[0m, in \u001b[0;36mTrainer._train_loop\u001b[0;34m(self)\u001b[0m\n\u001b[1;32m   1976\u001b[0m     \u001b[38;5;28mself\u001b[39m\u001b[38;5;241m.\u001b[39mlogger\u001b[38;5;241m.\u001b[39mlog_metrics({\u001b[38;5;124m'\u001b[39m\u001b[38;5;124mtime/token\u001b[39m\u001b[38;5;124m'\u001b[39m: \u001b[38;5;28mself\u001b[39m\u001b[38;5;241m.\u001b[39mstate\u001b[38;5;241m.\u001b[39mtimestamp\u001b[38;5;241m.\u001b[39mtoken\u001b[38;5;241m.\u001b[39mvalue})\n\u001b[1;32m   1977\u001b[0m     \u001b[38;5;28mself\u001b[39m\u001b[38;5;241m.\u001b[39mlogger\u001b[38;5;241m.\u001b[39mlog_metrics({\u001b[38;5;124m'\u001b[39m\u001b[38;5;124mtime/token_in_epoch\u001b[39m\u001b[38;5;124m'\u001b[39m: \u001b[38;5;28mself\u001b[39m\u001b[38;5;241m.\u001b[39mstate\u001b[38;5;241m.\u001b[39mtimestamp\u001b[38;5;241m.\u001b[39mtoken_in_epoch\u001b[38;5;241m.\u001b[39mvalue})\n\u001b[0;32m-> 1979\u001b[0m total_loss_dict \u001b[38;5;241m=\u001b[39m \u001b[38;5;28;43mself\u001b[39;49m\u001b[38;5;241;43m.\u001b[39;49m\u001b[43m_train_batch\u001b[49m\u001b[43m(\u001b[49m\u001b[43muse_grad_scaling\u001b[49m\u001b[43m)\u001b[49m\n\u001b[1;32m   1981\u001b[0m \u001b[38;5;28;01mif\u001b[39;00m use_grad_scaling:\n\u001b[1;32m   1982\u001b[0m     \u001b[38;5;28mself\u001b[39m\u001b[38;5;241m.\u001b[39mstate\u001b[38;5;241m.\u001b[39mscaler\u001b[38;5;241m.\u001b[39mupdate()\n",
      "File \u001b[0;32m~/anaconda3/envs/tensorflow2_p310/lib/python3.10/site-packages/composer/trainer/trainer.py:2166\u001b[0m, in \u001b[0;36mTrainer._train_batch\u001b[0;34m(self, use_grad_scaling)\u001b[0m\n\u001b[1;32m   2163\u001b[0m             optimizer\u001b[38;5;241m.\u001b[39mstep(closure\u001b[38;5;241m=\u001b[39m\u001b[38;5;28;01mlambda\u001b[39;00m loss_dict\u001b[38;5;241m=\u001b[39mtotal_loss_dict, \u001b[38;5;241m*\u001b[39m\u001b[38;5;241m*\u001b[39mkwargs: \u001b[38;5;28mself\u001b[39m\u001b[38;5;241m.\u001b[39m_train_microbatches(\n\u001b[1;32m   2164\u001b[0m                 microbatches, loss_dict, \u001b[38;5;241m*\u001b[39m\u001b[38;5;241m*\u001b[39mkwargs)\u001b[38;5;241m.\u001b[39mitem())\n\u001b[1;32m   2165\u001b[0m \u001b[38;5;28;01melse\u001b[39;00m:\n\u001b[0;32m-> 2166\u001b[0m     \u001b[38;5;28;43mself\u001b[39;49m\u001b[38;5;241;43m.\u001b[39;49m\u001b[43m_train_microbatches\u001b[49m\u001b[43m(\u001b[49m\u001b[43mmicrobatches\u001b[49m\u001b[43m,\u001b[49m\u001b[43m \u001b[49m\u001b[43mtotal_loss_dict\u001b[49m\u001b[43m)\u001b[49m\n\u001b[1;32m   2167\u001b[0m     \u001b[38;5;28;01mif\u001b[39;00m \u001b[38;5;129;01mnot\u001b[39;00m \u001b[38;5;28mself\u001b[39m\u001b[38;5;241m.\u001b[39mstate\u001b[38;5;241m.\u001b[39mdeepspeed_enabled:\n\u001b[1;32m   2168\u001b[0m         \u001b[38;5;28;01mfor\u001b[39;00m optimizer \u001b[38;5;129;01min\u001b[39;00m \u001b[38;5;28mself\u001b[39m\u001b[38;5;241m.\u001b[39mstate\u001b[38;5;241m.\u001b[39moptimizers:\n",
      "File \u001b[0;32m~/anaconda3/envs/tensorflow2_p310/lib/python3.10/site-packages/composer/trainer/trainer.py:2266\u001b[0m, in \u001b[0;36mTrainer._train_microbatches\u001b[0;34m(self, microbatches, total_loss_dict, ddp_sync)\u001b[0m\n\u001b[1;32m   2264\u001b[0m \u001b[38;5;28;01mfor\u001b[39;00m microbatch_idx, \u001b[38;5;28mself\u001b[39m\u001b[38;5;241m.\u001b[39mstate\u001b[38;5;241m.\u001b[39mbatch \u001b[38;5;129;01min\u001b[39;00m \u001b[38;5;28menumerate\u001b[39m(microbatches):\n\u001b[1;32m   2265\u001b[0m     is_final_microbatch \u001b[38;5;241m=\u001b[39m microbatch_idx \u001b[38;5;241m+\u001b[39m \u001b[38;5;241m1\u001b[39m \u001b[38;5;241m==\u001b[39m \u001b[38;5;28mlen\u001b[39m(microbatches)\n\u001b[0;32m-> 2266\u001b[0m     microbatch_loss_dict \u001b[38;5;241m=\u001b[39m \u001b[38;5;28;43mself\u001b[39;49m\u001b[38;5;241;43m.\u001b[39;49m\u001b[43m_train_microbatch\u001b[49m\u001b[43m(\u001b[49m\u001b[43muse_grad_scaling\u001b[49m\u001b[43m,\u001b[49m\u001b[43m \u001b[49m\u001b[43mcurrent_batch_size\u001b[49m\u001b[43m,\u001b[49m\u001b[43m \u001b[49m\u001b[43mis_final_microbatch\u001b[49m\u001b[43m)\u001b[49m\n\u001b[1;32m   2268\u001b[0m     \u001b[38;5;66;03m# Aggregate each loss in microbatch_loss_dict into total_loss_dict\u001b[39;00m\n\u001b[1;32m   2269\u001b[0m     \u001b[38;5;28;01mfor\u001b[39;00m k, microbatch_loss \u001b[38;5;129;01min\u001b[39;00m microbatch_loss_dict\u001b[38;5;241m.\u001b[39mitems():\n",
      "File \u001b[0;32m~/anaconda3/envs/tensorflow2_p310/lib/python3.10/site-packages/composer/trainer/trainer.py:2366\u001b[0m, in \u001b[0;36mTrainer._train_microbatch\u001b[0;34m(self, use_grad_scaling, current_batch_size, is_final_microbatch)\u001b[0m\n\u001b[1;32m   2363\u001b[0m     microbatch_loss_dict \u001b[38;5;241m=\u001b[39m \u001b[38;5;28mself\u001b[39m\u001b[38;5;241m.\u001b[39mstate\u001b[38;5;241m.\u001b[39mloss\u001b[38;5;241m.\u001b[39mcopy()\n\u001b[1;32m   2364\u001b[0m \u001b[38;5;66;03m# If total loss key is not present, sum individual losses\u001b[39;00m\n\u001b[1;32m   2365\u001b[0m \u001b[38;5;28;01melse\u001b[39;00m:\n\u001b[0;32m-> 2366\u001b[0m     microbatch_loss \u001b[38;5;241m=\u001b[39m \u001b[38;5;28;43mself\u001b[39;49m\u001b[38;5;241;43m.\u001b[39;49m\u001b[43mstate\u001b[49m\u001b[38;5;241;43m.\u001b[39;49m\u001b[43mdevice\u001b[49m\u001b[38;5;241;43m.\u001b[39;49m\u001b[43mtensor_to_device\u001b[49m\u001b[43m(\u001b[49m\u001b[43mtorch\u001b[49m\u001b[38;5;241;43m.\u001b[39;49m\u001b[43mzeros\u001b[49m\u001b[43m(\u001b[49m\u001b[43msize\u001b[49m\u001b[38;5;241;43m=\u001b[39;49m\u001b[43m(\u001b[49m\u001b[38;5;241;43m1\u001b[39;49m\u001b[43m,\u001b[49m\u001b[43m)\u001b[49m\u001b[43m)\u001b[49m\u001b[43m)\u001b[49m\n\u001b[1;32m   2367\u001b[0m     \u001b[38;5;28;01mfor\u001b[39;00m loss \u001b[38;5;129;01min\u001b[39;00m ensure_tuple(\u001b[38;5;28mself\u001b[39m\u001b[38;5;241m.\u001b[39mstate\u001b[38;5;241m.\u001b[39mloss):\n\u001b[1;32m   2368\u001b[0m         microbatch_loss\u001b[38;5;241m.\u001b[39madd_(loss\u001b[38;5;241m.\u001b[39mmean())\n",
      "File \u001b[0;32m~/anaconda3/envs/tensorflow2_p310/lib/python3.10/site-packages/composer/devices/device_gpu.py:59\u001b[0m, in \u001b[0;36mDeviceGPU.tensor_to_device\u001b[0;34m(self, tensor)\u001b[0m\n\u001b[1;32m     58\u001b[0m \u001b[38;5;28;01mdef\u001b[39;00m \u001b[38;5;21mtensor_to_device\u001b[39m(\u001b[38;5;28mself\u001b[39m, tensor: torch\u001b[38;5;241m.\u001b[39mTensor) \u001b[38;5;241m-\u001b[39m\u001b[38;5;241m>\u001b[39m torch\u001b[38;5;241m.\u001b[39mTensor:\n\u001b[0;32m---> 59\u001b[0m     \u001b[38;5;28;01mreturn\u001b[39;00m \u001b[43mtensor\u001b[49m\u001b[38;5;241;43m.\u001b[39;49m\u001b[43mto\u001b[49m\u001b[43m(\u001b[49m\u001b[38;5;28;43mself\u001b[39;49m\u001b[38;5;241;43m.\u001b[39;49m\u001b[43m_device\u001b[49m\u001b[43m,\u001b[49m\u001b[43m \u001b[49m\u001b[43mnon_blocking\u001b[49m\u001b[38;5;241;43m=\u001b[39;49m\u001b[38;5;28;43;01mTrue\u001b[39;49;00m\u001b[43m)\u001b[49m\n",
      "\u001b[0;31mRuntimeError\u001b[0m: CUDA error: device-side assert triggered\nCUDA kernel errors might be asynchronously reported at some other API call, so the stacktrace below might be incorrect.\nFor debugging consider passing CUDA_LAUNCH_BLOCKING=1.\nCompile with `TORCH_USE_CUDA_DSA` to enable device-side assertions.\n"
     ]
    }
   ],
   "source": [
    "start_time = time.perf_counter()\n",
    "trainer.fit() # <-- Your training loop in action!\n",
    "end_time = time.perf_counter()\n",
    "print(f\"It took {end_time - start_time:0.4f} seconds to train\")"
   ]
  },
  {
   "cell_type": "code",
   "execution_count": null,
   "metadata": {
    "id": "f0fKMiVyKq9J"
   },
   "outputs": [],
   "source": []
  }
 ],
 "metadata": {
  "accelerator": "GPU",
  "colab": {
   "gpuType": "T4",
   "provenance": []
  },
  "kernelspec": {
   "display_name": "conda_tensorflow2_p310",
   "language": "python",
   "name": "conda_tensorflow2_p310"
  },
  "language_info": {
   "codemirror_mode": {
    "name": "ipython",
    "version": 3
   },
   "file_extension": ".py",
   "mimetype": "text/x-python",
   "name": "python",
   "nbconvert_exporter": "python",
   "pygments_lexer": "ipython3",
   "version": "3.10.10"
  }
 },
 "nbformat": 4,
 "nbformat_minor": 4
}
