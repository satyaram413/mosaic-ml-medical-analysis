{
 "cells": [
  {
   "cell_type": "code",
   "execution_count": 1,
   "id": "1eb59704-7bd6-4934-8d9c-20106af74002",
   "metadata": {
    "tags": []
   },
   "outputs": [
    {
     "name": "stdout",
     "output_type": "stream",
     "text": [
      "Looking in indexes: https://pypi.org/simple, https://pip.repos.neuron.amazonaws.com\n",
      "Collecting mosaicml\n",
      "  Downloading mosaicml-0.15.1-py3-none-any.whl (571 kB)\n",
      "\u001b[2K     \u001b[90m━━━━━━━━━━━━━━━━━━━━━━━━━━━━━━━━━━━━━━\u001b[0m \u001b[32m571.3/571.3 kB\u001b[0m \u001b[31m10.5 MB/s\u001b[0m eta \u001b[36m0:00:00\u001b[0m00:01\u001b[0m\n",
      "\u001b[?25hCollecting pyyaml<7,>=6.0 (from mosaicml)\n",
      "  Downloading PyYAML-6.0.1-cp310-cp310-manylinux_2_17_x86_64.manylinux2014_x86_64.whl (705 kB)\n",
      "\u001b[2K     \u001b[90m━━━━━━━━━━━━━━━━━━━━━━━━━━━━━━━━━━━━━━\u001b[0m \u001b[32m705.5/705.5 kB\u001b[0m \u001b[31m12.5 MB/s\u001b[0m eta \u001b[36m0:00:00\u001b[0m00:01\u001b[0m\n",
      "\u001b[?25hRequirement already satisfied: tqdm<5,>=4.62.3 in /home/ec2-user/anaconda3/envs/pytorch_p310/lib/python3.10/site-packages (from mosaicml) (4.65.0)\n",
      "Collecting torchmetrics<0.12,>=0.10.0 (from mosaicml)\n",
      "  Downloading torchmetrics-0.11.4-py3-none-any.whl (519 kB)\n",
      "\u001b[2K     \u001b[90m━━━━━━━━━━━━━━━━━━━━━━━━━━━━━━━━━━━━━━━\u001b[0m \u001b[32m519.2/519.2 kB\u001b[0m \u001b[31m6.8 MB/s\u001b[0m eta \u001b[36m0:00:00\u001b[0m00:01\u001b[0m\n",
      "\u001b[?25hCollecting torch-optimizer<0.4,>=0.3.0 (from mosaicml)\n",
      "  Downloading torch_optimizer-0.3.0-py3-none-any.whl (61 kB)\n",
      "\u001b[2K     \u001b[90m━━━━━━━━━━━━━━━━━━━━━━━━━━━━━━━━━━━━━━━━\u001b[0m \u001b[32m61.9/61.9 kB\u001b[0m \u001b[31m1.1 MB/s\u001b[0m eta \u001b[36m0:00:00\u001b[0m:00:01\u001b[0m\n",
      "\u001b[?25hRequirement already satisfied: torchvision<0.16,>=0.13.1 in /home/ec2-user/anaconda3/envs/pytorch_p310/lib/python3.10/site-packages (from mosaicml) (0.15.1)\n",
      "Requirement already satisfied: torch<2.1,>=1.13.1 in /home/ec2-user/anaconda3/envs/pytorch_p310/lib/python3.10/site-packages (from mosaicml) (2.0.0)\n",
      "Requirement already satisfied: requests<3,>=2.26.0 in /home/ec2-user/anaconda3/envs/pytorch_p310/lib/python3.10/site-packages (from mosaicml) (2.29.0)\n",
      "Requirement already satisfied: numpy<1.25.0,>=1.21.5 in /home/ec2-user/anaconda3/envs/pytorch_p310/lib/python3.10/site-packages (from mosaicml) (1.24.3)\n",
      "Requirement already satisfied: psutil<6,>=5.8.0 in /home/ec2-user/anaconda3/envs/pytorch_p310/lib/python3.10/site-packages (from mosaicml) (5.9.5)\n",
      "Collecting coolname<3,>=1.1.0 (from mosaicml)\n",
      "  Downloading coolname-2.2.0-py2.py3-none-any.whl (37 kB)\n",
      "Requirement already satisfied: tabulate==0.9.0 in /home/ec2-user/anaconda3/envs/pytorch_p310/lib/python3.10/site-packages (from mosaicml) (0.9.0)\n",
      "Collecting py-cpuinfo<10,>=8.0.0 (from mosaicml)\n",
      "  Downloading py_cpuinfo-9.0.0-py3-none-any.whl (22 kB)\n",
      "Requirement already satisfied: packaging<23,>=21.3.0 in /home/ec2-user/anaconda3/envs/pytorch_p310/lib/python3.10/site-packages (from mosaicml) (21.3)\n",
      "Collecting importlib-metadata<7,>=5.0.0 (from mosaicml)\n",
      "  Downloading importlib_metadata-6.8.0-py3-none-any.whl (22 kB)\n",
      "Collecting mosaicml-cli<0.5,>=0.4.0 (from mosaicml)\n",
      "  Downloading mosaicml_cli-0.4.17-py3-none-any.whl (197 kB)\n",
      "\u001b[2K     \u001b[90m━━━━━━━━━━━━━━━━━━━━━━━━━━━━━━━━━━━━━━━\u001b[0m \u001b[32m197.7/197.7 kB\u001b[0m \u001b[31m4.2 MB/s\u001b[0m eta \u001b[36m0:00:00\u001b[0m00:01\u001b[0m\n",
      "\u001b[?25hRequirement already satisfied: zipp>=0.5 in /home/ec2-user/anaconda3/envs/pytorch_p310/lib/python3.10/site-packages (from importlib-metadata<7,>=5.0.0->mosaicml) (3.15.0)\n",
      "Collecting argcomplete>=2.0.0 (from mosaicml-cli<0.5,>=0.4.0->mosaicml)\n",
      "  Downloading argcomplete-3.1.1-py3-none-any.whl (41 kB)\n",
      "\u001b[2K     \u001b[90m━━━━━━━━━━━━━━━━━━━━━━━━━━━━━━━━━━━━━━━━\u001b[0m \u001b[32m41.5/41.5 kB\u001b[0m \u001b[31m11.0 MB/s\u001b[0m eta \u001b[36m0:00:00\u001b[0m\n",
      "\u001b[?25hRequirement already satisfied: arrow>=1.2.2 in /home/ec2-user/anaconda3/envs/pytorch_p310/lib/python3.10/site-packages (from mosaicml-cli<0.5,>=0.4.0->mosaicml) (1.2.3)\n",
      "Collecting backoff>=2.2.1 (from mosaicml-cli<0.5,>=0.4.0->mosaicml)\n",
      "  Downloading backoff-2.2.1-py3-none-any.whl (15 kB)\n",
      "Requirement already satisfied: docker>=5.0.3 in /home/ec2-user/anaconda3/envs/pytorch_p310/lib/python3.10/site-packages (from mosaicml-cli<0.5,>=0.4.0->mosaicml) (6.1.3)\n",
      "Collecting gql[websockets]>=3.4.0 (from mosaicml-cli<0.5,>=0.4.0->mosaicml)\n",
      "  Downloading gql-3.4.1-py2.py3-none-any.whl (65 kB)\n",
      "\u001b[2K     \u001b[90m━━━━━━━━━━━━━━━━━━━━━━━━━━━━━━━━━━━━━━━━\u001b[0m \u001b[32m65.1/65.1 kB\u001b[0m \u001b[31m17.8 MB/s\u001b[0m eta \u001b[36m0:00:00\u001b[0m\n",
      "\u001b[?25hRequirement already satisfied: prompt-toolkit>=3.0.29 in /home/ec2-user/anaconda3/envs/pytorch_p310/lib/python3.10/site-packages (from mosaicml-cli<0.5,>=0.4.0->mosaicml) (3.0.38)\n",
      "Requirement already satisfied: protobuf>=3.20.0 in /home/ec2-user/anaconda3/envs/pytorch_p310/lib/python3.10/site-packages (from mosaicml-cli<0.5,>=0.4.0->mosaicml) (3.20.3)\n",
      "Collecting questionary>=1.10.0 (from mosaicml-cli<0.5,>=0.4.0->mosaicml)\n",
      "  Downloading questionary-1.10.0-py3-none-any.whl (31 kB)\n",
      "Collecting rich>=12.6.0 (from mosaicml-cli<0.5,>=0.4.0->mosaicml)\n",
      "  Downloading rich-13.4.2-py3-none-any.whl (239 kB)\n",
      "\u001b[2K     \u001b[90m━━━━━━━━━━━━━━━━━━━━━━━━━━━━━━━━━━━━━━━\u001b[0m \u001b[32m239.4/239.4 kB\u001b[0m \u001b[31m7.2 MB/s\u001b[0m eta \u001b[36m0:00:00\u001b[0m\n",
      "\u001b[?25hRequirement already satisfied: ruamel.yaml>=0.17.21 in /home/ec2-user/anaconda3/envs/pytorch_p310/lib/python3.10/site-packages (from mosaicml-cli<0.5,>=0.4.0->mosaicml) (0.17.26)\n",
      "Requirement already satisfied: typing-extensions>=4.0.1 in /home/ec2-user/anaconda3/envs/pytorch_p310/lib/python3.10/site-packages (from mosaicml-cli<0.5,>=0.4.0->mosaicml) (4.5.0)\n",
      "Collecting validators>=0.20.0 (from mosaicml-cli<0.5,>=0.4.0->mosaicml)\n",
      "  Downloading validators-0.20.0.tar.gz (30 kB)\n",
      "  Preparing metadata (setup.py) ... \u001b[?25ldone\n",
      "\u001b[?25hRequirement already satisfied: pyparsing!=3.0.5,>=2.0.2 in /home/ec2-user/anaconda3/envs/pytorch_p310/lib/python3.10/site-packages (from packaging<23,>=21.3.0->mosaicml) (3.0.9)\n",
      "Requirement already satisfied: charset-normalizer<4,>=2 in /home/ec2-user/anaconda3/envs/pytorch_p310/lib/python3.10/site-packages (from requests<3,>=2.26.0->mosaicml) (3.1.0)\n",
      "Requirement already satisfied: idna<4,>=2.5 in /home/ec2-user/anaconda3/envs/pytorch_p310/lib/python3.10/site-packages (from requests<3,>=2.26.0->mosaicml) (3.4)\n",
      "Requirement already satisfied: urllib3<1.27,>=1.21.1 in /home/ec2-user/anaconda3/envs/pytorch_p310/lib/python3.10/site-packages (from requests<3,>=2.26.0->mosaicml) (1.26.14)\n",
      "Requirement already satisfied: certifi>=2017.4.17 in /home/ec2-user/anaconda3/envs/pytorch_p310/lib/python3.10/site-packages (from requests<3,>=2.26.0->mosaicml) (2023.5.7)\n",
      "Requirement already satisfied: filelock in /home/ec2-user/anaconda3/envs/pytorch_p310/lib/python3.10/site-packages (from torch<2.1,>=1.13.1->mosaicml) (3.12.0)\n",
      "Requirement already satisfied: sympy in /home/ec2-user/anaconda3/envs/pytorch_p310/lib/python3.10/site-packages (from torch<2.1,>=1.13.1->mosaicml) (1.11.1)\n",
      "Requirement already satisfied: networkx in /home/ec2-user/anaconda3/envs/pytorch_p310/lib/python3.10/site-packages (from torch<2.1,>=1.13.1->mosaicml) (3.1)\n",
      "Requirement already satisfied: jinja2 in /home/ec2-user/anaconda3/envs/pytorch_p310/lib/python3.10/site-packages (from torch<2.1,>=1.13.1->mosaicml) (3.1.2)\n",
      "Collecting pytorch-ranger>=0.1.1 (from torch-optimizer<0.4,>=0.3.0->mosaicml)\n",
      "  Downloading pytorch_ranger-0.1.1-py3-none-any.whl (14 kB)\n",
      "Requirement already satisfied: pillow!=8.3.*,>=5.3.0 in /home/ec2-user/anaconda3/envs/pytorch_p310/lib/python3.10/site-packages (from torchvision<0.16,>=0.13.1->mosaicml) (9.5.0)\n",
      "Requirement already satisfied: python-dateutil>=2.7.0 in /home/ec2-user/anaconda3/envs/pytorch_p310/lib/python3.10/site-packages (from arrow>=1.2.2->mosaicml-cli<0.5,>=0.4.0->mosaicml) (2.8.2)\n",
      "Requirement already satisfied: websocket-client>=0.32.0 in /home/ec2-user/anaconda3/envs/pytorch_p310/lib/python3.10/site-packages (from docker>=5.0.3->mosaicml-cli<0.5,>=0.4.0->mosaicml) (1.5.1)\n",
      "Collecting graphql-core<3.3,>=3.2 (from gql[websockets]>=3.4.0->mosaicml-cli<0.5,>=0.4.0->mosaicml)\n",
      "  Downloading graphql_core-3.2.3-py3-none-any.whl (202 kB)\n",
      "\u001b[2K     \u001b[90m━━━━━━━━━━━━━━━━━━━━━━━━━━━━━━━━━━━━━━━\u001b[0m \u001b[32m202.9/202.9 kB\u001b[0m \u001b[31m6.4 MB/s\u001b[0m eta \u001b[36m0:00:00\u001b[0m\n",
      "\u001b[?25hCollecting yarl<2.0,>=1.6 (from gql[websockets]>=3.4.0->mosaicml-cli<0.5,>=0.4.0->mosaicml)\n",
      "  Using cached yarl-1.9.2-cp310-cp310-manylinux_2_17_x86_64.manylinux2014_x86_64.whl (268 kB)\n",
      "Collecting websockets<11,>=10 (from gql[websockets]>=3.4.0->mosaicml-cli<0.5,>=0.4.0->mosaicml)\n",
      "  Downloading websockets-10.4-cp310-cp310-manylinux_2_5_x86_64.manylinux1_x86_64.manylinux_2_17_x86_64.manylinux2014_x86_64.whl (106 kB)\n",
      "\u001b[2K     \u001b[90m━━━━━━━━━━━━━━━━━━━━━━━━━━━━━━━━━━━━━━\u001b[0m \u001b[32m106.8/106.8 kB\u001b[0m \u001b[31m26.2 MB/s\u001b[0m eta \u001b[36m0:00:00\u001b[0m\n",
      "\u001b[?25hRequirement already satisfied: wcwidth in /home/ec2-user/anaconda3/envs/pytorch_p310/lib/python3.10/site-packages (from prompt-toolkit>=3.0.29->mosaicml-cli<0.5,>=0.4.0->mosaicml) (0.2.6)\n",
      "Collecting markdown-it-py>=2.2.0 (from rich>=12.6.0->mosaicml-cli<0.5,>=0.4.0->mosaicml)\n",
      "  Downloading markdown_it_py-3.0.0-py3-none-any.whl (87 kB)\n",
      "\u001b[2K     \u001b[90m━━━━━━━━━━━━━━━━━━━━━━━━━━━━━━━━━━━━━━━━\u001b[0m \u001b[32m87.5/87.5 kB\u001b[0m \u001b[31m22.9 MB/s\u001b[0m eta \u001b[36m0:00:00\u001b[0m\n",
      "\u001b[?25hRequirement already satisfied: pygments<3.0.0,>=2.13.0 in /home/ec2-user/anaconda3/envs/pytorch_p310/lib/python3.10/site-packages (from rich>=12.6.0->mosaicml-cli<0.5,>=0.4.0->mosaicml) (2.15.1)\n",
      "Requirement already satisfied: ruamel.yaml.clib>=0.2.7 in /home/ec2-user/anaconda3/envs/pytorch_p310/lib/python3.10/site-packages (from ruamel.yaml>=0.17.21->mosaicml-cli<0.5,>=0.4.0->mosaicml) (0.2.7)\n",
      "Requirement already satisfied: decorator>=3.4.0 in /home/ec2-user/anaconda3/envs/pytorch_p310/lib/python3.10/site-packages (from validators>=0.20.0->mosaicml-cli<0.5,>=0.4.0->mosaicml) (5.1.1)\n",
      "Requirement already satisfied: MarkupSafe>=2.0 in /home/ec2-user/anaconda3/envs/pytorch_p310/lib/python3.10/site-packages (from jinja2->torch<2.1,>=1.13.1->mosaicml) (2.1.2)\n",
      "Requirement already satisfied: mpmath>=0.19 in /home/ec2-user/anaconda3/envs/pytorch_p310/lib/python3.10/site-packages (from sympy->torch<2.1,>=1.13.1->mosaicml) (1.3.0)\n",
      "Collecting mdurl~=0.1 (from markdown-it-py>=2.2.0->rich>=12.6.0->mosaicml-cli<0.5,>=0.4.0->mosaicml)\n",
      "  Downloading mdurl-0.1.2-py3-none-any.whl (10.0 kB)\n",
      "Requirement already satisfied: six>=1.5 in /home/ec2-user/anaconda3/envs/pytorch_p310/lib/python3.10/site-packages (from python-dateutil>=2.7.0->arrow>=1.2.2->mosaicml-cli<0.5,>=0.4.0->mosaicml) (1.16.0)\n",
      "Collecting multidict>=4.0 (from yarl<2.0,>=1.6->gql[websockets]>=3.4.0->mosaicml-cli<0.5,>=0.4.0->mosaicml)\n",
      "  Using cached multidict-6.0.4-cp310-cp310-manylinux_2_17_x86_64.manylinux2014_x86_64.whl (114 kB)\n",
      "Building wheels for collected packages: validators\n",
      "  Building wheel for validators (setup.py) ... \u001b[?25ldone\n",
      "\u001b[?25h  Created wheel for validators: filename=validators-0.20.0-py3-none-any.whl size=19579 sha256=71dbbd993c6da3afbfdbdc9df6b6f764630db7db360febdeda1e1753a2b5c3b3\n",
      "  Stored in directory: /home/ec2-user/.cache/pip/wheels/f2/ed/dd/d3a556ad245ef9dc570c6bcd2f22886d17b0b408dd3bbb9ac3\n",
      "Successfully built validators\n",
      "Installing collected packages: py-cpuinfo, coolname, websockets, validators, pyyaml, multidict, mdurl, importlib-metadata, graphql-core, backoff, argcomplete, yarl, questionary, markdown-it-py, torchmetrics, rich, pytorch-ranger, gql, torch-optimizer, mosaicml-cli, mosaicml\n",
      "  Attempting uninstall: pyyaml\n",
      "    Found existing installation: PyYAML 5.4.1\n",
      "    Uninstalling PyYAML-5.4.1:\n",
      "      Successfully uninstalled PyYAML-5.4.1\n",
      "  Attempting uninstall: importlib-metadata\n",
      "    Found existing installation: importlib-metadata 4.13.0\n",
      "    Uninstalling importlib-metadata-4.13.0:\n",
      "      Successfully uninstalled importlib-metadata-4.13.0\n",
      "\u001b[31mERROR: pip's dependency resolver does not currently take into account all the packages that are installed. This behaviour is the source of the following dependency conflicts.\n",
      "awscli 1.27.157 requires PyYAML<5.5,>=3.10, but you have pyyaml 6.0.1 which is incompatible.\n",
      "sagemaker 2.167.0 requires importlib-metadata<5.0,>=1.4.0, but you have importlib-metadata 6.8.0 which is incompatible.\n",
      "sagemaker 2.167.0 requires PyYAML==6.0, but you have pyyaml 6.0.1 which is incompatible.\u001b[0m\u001b[31m\n",
      "\u001b[0mSuccessfully installed argcomplete-3.1.1 backoff-2.2.1 coolname-2.2.0 gql-3.4.1 graphql-core-3.2.3 importlib-metadata-6.8.0 markdown-it-py-3.0.0 mdurl-0.1.2 mosaicml-0.15.1 mosaicml-cli-0.4.17 multidict-6.0.4 py-cpuinfo-9.0.0 pytorch-ranger-0.1.1 pyyaml-6.0.1 questionary-1.10.0 rich-13.4.2 torch-optimizer-0.3.0 torchmetrics-0.11.4 validators-0.20.0 websockets-10.4 yarl-1.9.2\n",
      "Note: you may need to restart the kernel to use updated packages.\n",
      "Looking in indexes: https://pypi.org/simple, https://pip.repos.neuron.amazonaws.com\n",
      "Collecting tensorflow\n",
      "  Downloading tensorflow-2.13.0-cp310-cp310-manylinux_2_17_x86_64.manylinux2014_x86_64.whl (524.1 MB)\n",
      "\u001b[2K     \u001b[90m━━━━━━━━━━━━━━━━━━━━━━━━━━━━━━━━━━━━━━━\u001b[0m \u001b[32m524.1/524.1 MB\u001b[0m \u001b[31m4.6 MB/s\u001b[0m eta \u001b[36m0:00:00\u001b[0m00:01\u001b[0m00:01\u001b[0m\n",
      "\u001b[?25hCollecting absl-py>=1.0.0 (from tensorflow)\n",
      "  Downloading absl_py-1.4.0-py3-none-any.whl (126 kB)\n",
      "\u001b[2K     \u001b[90m━━━━━━━━━━━━━━━━━━━━━━━━━━━━━━━━━━━━━━━\u001b[0m \u001b[32m126.5/126.5 kB\u001b[0m \u001b[31m3.8 MB/s\u001b[0m eta \u001b[36m0:00:00\u001b[0m\n",
      "\u001b[?25hCollecting astunparse>=1.6.0 (from tensorflow)\n",
      "  Downloading astunparse-1.6.3-py2.py3-none-any.whl (12 kB)\n",
      "Collecting flatbuffers>=23.1.21 (from tensorflow)\n",
      "  Downloading flatbuffers-23.5.26-py2.py3-none-any.whl (26 kB)\n",
      "Collecting gast<=0.4.0,>=0.2.1 (from tensorflow)\n",
      "  Downloading gast-0.4.0-py3-none-any.whl (9.8 kB)\n",
      "Requirement already satisfied: google-pasta>=0.1.1 in /home/ec2-user/anaconda3/envs/pytorch_p310/lib/python3.10/site-packages (from tensorflow) (0.2.0)\n",
      "Collecting grpcio<2.0,>=1.24.3 (from tensorflow)\n",
      "  Downloading grpcio-1.56.2-cp310-cp310-manylinux_2_17_x86_64.manylinux2014_x86_64.whl (5.2 MB)\n",
      "\u001b[2K     \u001b[90m━━━━━━━━━━━━━━━━━━━━━━━━━━━━━━━━━━━━━━━━\u001b[0m \u001b[32m5.2/5.2 MB\u001b[0m \u001b[31m48.6 MB/s\u001b[0m eta \u001b[36m0:00:00\u001b[0m:00:01\u001b[0m\n",
      "\u001b[?25hCollecting h5py>=2.9.0 (from tensorflow)\n",
      "  Downloading h5py-3.9.0-cp310-cp310-manylinux_2_17_x86_64.manylinux2014_x86_64.whl (4.8 MB)\n",
      "\u001b[2K     \u001b[90m━━━━━━━━━━━━━━━━━━━━━━━━━━━━━━━━━━━━━━━━\u001b[0m \u001b[32m4.8/4.8 MB\u001b[0m \u001b[31m72.7 MB/s\u001b[0m eta \u001b[36m0:00:00\u001b[0m:00:01\u001b[0m\n",
      "\u001b[?25hCollecting keras<2.14,>=2.13.1 (from tensorflow)\n",
      "  Downloading keras-2.13.1-py3-none-any.whl (1.7 MB)\n",
      "\u001b[2K     \u001b[90m━━━━━━━━━━━━━━━━━━━━━━━━━━━━━━━━━━━━━━━━\u001b[0m \u001b[32m1.7/1.7 MB\u001b[0m \u001b[31m35.8 MB/s\u001b[0m eta \u001b[36m0:00:00\u001b[0m:00:01\u001b[0m\n",
      "\u001b[?25hCollecting libclang>=13.0.0 (from tensorflow)\n",
      "  Downloading libclang-16.0.6-py2.py3-none-manylinux2010_x86_64.whl (22.9 MB)\n",
      "\u001b[2K     \u001b[90m━━━━━━━━━━━━━━━━━━━━━━━━━━━━━━━━━━━━━━━━\u001b[0m \u001b[32m22.9/22.9 MB\u001b[0m \u001b[31m31.3 MB/s\u001b[0m eta \u001b[36m0:00:00\u001b[0m00:01\u001b[0m00:01\u001b[0m\n",
      "\u001b[?25hRequirement already satisfied: numpy<=1.24.3,>=1.22 in /home/ec2-user/anaconda3/envs/pytorch_p310/lib/python3.10/site-packages (from tensorflow) (1.24.3)\n",
      "Collecting opt-einsum>=2.3.2 (from tensorflow)\n",
      "  Downloading opt_einsum-3.3.0-py3-none-any.whl (65 kB)\n",
      "\u001b[2K     \u001b[90m━━━━━━━━━━━━━━━━━━━━━━━━━━━━━━━━━━━━━━━━\u001b[0m \u001b[32m65.5/65.5 kB\u001b[0m \u001b[31m18.3 MB/s\u001b[0m eta \u001b[36m0:00:00\u001b[0m\n",
      "\u001b[?25hRequirement already satisfied: packaging in /home/ec2-user/anaconda3/envs/pytorch_p310/lib/python3.10/site-packages (from tensorflow) (21.3)\n",
      "Requirement already satisfied: protobuf!=4.21.0,!=4.21.1,!=4.21.2,!=4.21.3,!=4.21.4,!=4.21.5,<5.0.0dev,>=3.20.3 in /home/ec2-user/anaconda3/envs/pytorch_p310/lib/python3.10/site-packages (from tensorflow) (3.20.3)\n",
      "Requirement already satisfied: setuptools in /home/ec2-user/anaconda3/envs/pytorch_p310/lib/python3.10/site-packages (from tensorflow) (67.7.2)\n",
      "Requirement already satisfied: six>=1.12.0 in /home/ec2-user/anaconda3/envs/pytorch_p310/lib/python3.10/site-packages (from tensorflow) (1.16.0)\n",
      "Collecting tensorboard<2.14,>=2.13 (from tensorflow)\n",
      "  Downloading tensorboard-2.13.0-py3-none-any.whl (5.6 MB)\n",
      "\u001b[2K     \u001b[90m━━━━━━━━━━━━━━━━━━━━━━━━━━━━━━━━━━━━━━━━\u001b[0m \u001b[32m5.6/5.6 MB\u001b[0m \u001b[31m22.7 MB/s\u001b[0m eta \u001b[36m0:00:00\u001b[0m:00:01\u001b[0m00:01\u001b[0m\n",
      "\u001b[?25hCollecting tensorflow-estimator<2.14,>=2.13.0 (from tensorflow)\n",
      "  Downloading tensorflow_estimator-2.13.0-py2.py3-none-any.whl (440 kB)\n",
      "\u001b[2K     \u001b[90m━━━━━━━━━━━━━━━━━━━━━━━━━━━━━━━━━━━━━━━\u001b[0m \u001b[32m440.8/440.8 kB\u001b[0m \u001b[31m8.3 MB/s\u001b[0m eta \u001b[36m0:00:00\u001b[0m00:01\u001b[0m\n",
      "\u001b[?25hRequirement already satisfied: termcolor>=1.1.0 in /home/ec2-user/anaconda3/envs/pytorch_p310/lib/python3.10/site-packages (from tensorflow) (2.3.0)\n",
      "Requirement already satisfied: typing-extensions<4.6.0,>=3.6.6 in /home/ec2-user/anaconda3/envs/pytorch_p310/lib/python3.10/site-packages (from tensorflow) (4.5.0)\n",
      "Collecting wrapt>=1.11.0 (from tensorflow)\n",
      "  Using cached wrapt-1.15.0-cp310-cp310-manylinux_2_5_x86_64.manylinux1_x86_64.manylinux_2_17_x86_64.manylinux2014_x86_64.whl (78 kB)\n",
      "Collecting tensorflow-io-gcs-filesystem>=0.23.1 (from tensorflow)\n",
      "  Downloading tensorflow_io_gcs_filesystem-0.32.0-cp310-cp310-manylinux_2_12_x86_64.manylinux2010_x86_64.whl (2.4 MB)\n",
      "\u001b[2K     \u001b[90m━━━━━━━━━━━━━━━━━━━━━━━━━━━━━━━━━━━━━━━━\u001b[0m \u001b[32m2.4/2.4 MB\u001b[0m \u001b[31m104.1 MB/s\u001b[0m eta \u001b[36m0:00:00\u001b[0m\n",
      "\u001b[?25hRequirement already satisfied: wheel<1.0,>=0.23.0 in /home/ec2-user/anaconda3/envs/pytorch_p310/lib/python3.10/site-packages (from astunparse>=1.6.0->tensorflow) (0.40.0)\n",
      "Collecting google-auth<3,>=1.6.3 (from tensorboard<2.14,>=2.13->tensorflow)\n",
      "  Downloading google_auth-2.22.0-py2.py3-none-any.whl (181 kB)\n",
      "\u001b[2K     \u001b[90m━━━━━━━━━━━━━━━━━━━━━━━━━━━━━━━━━━━━━━\u001b[0m \u001b[32m181.8/181.8 kB\u001b[0m \u001b[31m30.4 MB/s\u001b[0m eta \u001b[36m0:00:00\u001b[0m\n",
      "\u001b[?25hCollecting google-auth-oauthlib<1.1,>=0.5 (from tensorboard<2.14,>=2.13->tensorflow)\n",
      "  Downloading google_auth_oauthlib-1.0.0-py2.py3-none-any.whl (18 kB)\n",
      "Collecting markdown>=2.6.8 (from tensorboard<2.14,>=2.13->tensorflow)\n",
      "  Downloading Markdown-3.4.4-py3-none-any.whl (94 kB)\n",
      "\u001b[2K     \u001b[90m━━━━━━━━━━━━━━━━━━━━━━━━━━━━━━━━━━━━━━━━\u001b[0m \u001b[32m94.2/94.2 kB\u001b[0m \u001b[31m14.0 MB/s\u001b[0m eta \u001b[36m0:00:00\u001b[0m\n",
      "\u001b[?25hRequirement already satisfied: requests<3,>=2.21.0 in /home/ec2-user/anaconda3/envs/pytorch_p310/lib/python3.10/site-packages (from tensorboard<2.14,>=2.13->tensorflow) (2.29.0)\n",
      "Collecting tensorboard-data-server<0.8.0,>=0.7.0 (from tensorboard<2.14,>=2.13->tensorflow)\n",
      "  Downloading tensorboard_data_server-0.7.1-py3-none-manylinux2014_x86_64.whl (6.6 MB)\n",
      "\u001b[2K     \u001b[90m━━━━━━━━━━━━━━━━━━━━━━━━━━━━━━━━━━━━━━━━\u001b[0m \u001b[32m6.6/6.6 MB\u001b[0m \u001b[31m33.6 MB/s\u001b[0m eta \u001b[36m0:00:00\u001b[0m:00:01\u001b[0m\n",
      "\u001b[?25hRequirement already satisfied: werkzeug>=1.0.1 in /home/ec2-user/anaconda3/envs/pytorch_p310/lib/python3.10/site-packages (from tensorboard<2.14,>=2.13->tensorflow) (2.3.4)\n",
      "Requirement already satisfied: pyparsing!=3.0.5,>=2.0.2 in /home/ec2-user/anaconda3/envs/pytorch_p310/lib/python3.10/site-packages (from packaging->tensorflow) (3.0.9)\n",
      "Collecting cachetools<6.0,>=2.0.0 (from google-auth<3,>=1.6.3->tensorboard<2.14,>=2.13->tensorflow)\n",
      "  Downloading cachetools-5.3.1-py3-none-any.whl (9.3 kB)\n",
      "Collecting pyasn1-modules>=0.2.1 (from google-auth<3,>=1.6.3->tensorboard<2.14,>=2.13->tensorflow)\n",
      "  Downloading pyasn1_modules-0.3.0-py2.py3-none-any.whl (181 kB)\n",
      "\u001b[2K     \u001b[90m━━━━━━━━━━━━━━━━━━━━━━━━━━━━━━━━━━━━━━━\u001b[0m \u001b[32m181.3/181.3 kB\u001b[0m \u001b[31m5.7 MB/s\u001b[0m eta \u001b[36m0:00:00\u001b[0m\n",
      "\u001b[?25hRequirement already satisfied: rsa<5,>=3.1.4 in /home/ec2-user/anaconda3/envs/pytorch_p310/lib/python3.10/site-packages (from google-auth<3,>=1.6.3->tensorboard<2.14,>=2.13->tensorflow) (4.7.2)\n",
      "Requirement already satisfied: urllib3<2.0 in /home/ec2-user/anaconda3/envs/pytorch_p310/lib/python3.10/site-packages (from google-auth<3,>=1.6.3->tensorboard<2.14,>=2.13->tensorflow) (1.26.14)\n",
      "Collecting requests-oauthlib>=0.7.0 (from google-auth-oauthlib<1.1,>=0.5->tensorboard<2.14,>=2.13->tensorflow)\n",
      "  Downloading requests_oauthlib-1.3.1-py2.py3-none-any.whl (23 kB)\n",
      "Requirement already satisfied: charset-normalizer<4,>=2 in /home/ec2-user/anaconda3/envs/pytorch_p310/lib/python3.10/site-packages (from requests<3,>=2.21.0->tensorboard<2.14,>=2.13->tensorflow) (3.1.0)\n",
      "Requirement already satisfied: idna<4,>=2.5 in /home/ec2-user/anaconda3/envs/pytorch_p310/lib/python3.10/site-packages (from requests<3,>=2.21.0->tensorboard<2.14,>=2.13->tensorflow) (3.4)\n",
      "Requirement already satisfied: certifi>=2017.4.17 in /home/ec2-user/anaconda3/envs/pytorch_p310/lib/python3.10/site-packages (from requests<3,>=2.21.0->tensorboard<2.14,>=2.13->tensorflow) (2023.5.7)\n",
      "Requirement already satisfied: MarkupSafe>=2.1.1 in /home/ec2-user/anaconda3/envs/pytorch_p310/lib/python3.10/site-packages (from werkzeug>=1.0.1->tensorboard<2.14,>=2.13->tensorflow) (2.1.2)\n",
      "Requirement already satisfied: pyasn1<0.6.0,>=0.4.6 in /home/ec2-user/anaconda3/envs/pytorch_p310/lib/python3.10/site-packages (from pyasn1-modules>=0.2.1->google-auth<3,>=1.6.3->tensorboard<2.14,>=2.13->tensorflow) (0.4.8)\n",
      "Collecting oauthlib>=3.0.0 (from requests-oauthlib>=0.7.0->google-auth-oauthlib<1.1,>=0.5->tensorboard<2.14,>=2.13->tensorflow)\n",
      "  Downloading oauthlib-3.2.2-py3-none-any.whl (151 kB)\n",
      "\u001b[2K     \u001b[90m━━━━━━━━━━━━━━━━━━━━━━━━━━━━━━━━━━━━━━\u001b[0m \u001b[32m151.7/151.7 kB\u001b[0m \u001b[31m32.0 MB/s\u001b[0m eta \u001b[36m0:00:00\u001b[0m\n",
      "\u001b[?25hInstalling collected packages: libclang, flatbuffers, wrapt, tensorflow-io-gcs-filesystem, tensorflow-estimator, tensorboard-data-server, pyasn1-modules, opt-einsum, oauthlib, markdown, keras, h5py, grpcio, gast, cachetools, astunparse, absl-py, requests-oauthlib, google-auth, google-auth-oauthlib, tensorboard, tensorflow\n",
      "Successfully installed absl-py-1.4.0 astunparse-1.6.3 cachetools-5.3.1 flatbuffers-23.5.26 gast-0.4.0 google-auth-2.22.0 google-auth-oauthlib-1.0.0 grpcio-1.56.2 h5py-3.9.0 keras-2.13.1 libclang-16.0.6 markdown-3.4.4 oauthlib-3.2.2 opt-einsum-3.3.0 pyasn1-modules-0.3.0 requests-oauthlib-1.3.1 tensorboard-2.13.0 tensorboard-data-server-0.7.1 tensorflow-2.13.0 tensorflow-estimator-2.13.0 tensorflow-io-gcs-filesystem-0.32.0 wrapt-1.15.0\n",
      "Note: you may need to restart the kernel to use updated packages.\n"
     ]
    }
   ],
   "source": [
    "%pip install mosaicml\n",
    "%pip install tensorflow"
   ]
  },
  {
   "cell_type": "code",
   "execution_count": 48,
   "id": "24e5b6e1-4fa3-4677-8012-d15a7abf414a",
   "metadata": {
    "tags": []
   },
   "outputs": [],
   "source": [
    "from numpy.random import seed\n",
    "import os\n",
    "import pandas as pd\n",
    "from sklearn.model_selection import train_test_split\n",
    "import shutil\n",
    "import torch\n",
    "import torchvision\n",
    "import torch.nn.functional as F\n",
    "\n",
    "from composer.models import ComposerModel\n",
    "from torchvision.datasets import ImageFolder\n",
    "from torch.utils.data import DataLoader, random_split\n",
    "import numpy as np\n",
    "from torchvision import transforms, datasets\n",
    "\n",
    "import tensorflow\n",
    "from tensorflow.keras.layers import Dense, Dropout\n",
    "from tensorflow.keras.optimizers import Adam\n",
    "from tensorflow.keras.metrics import categorical_crossentropy\n",
    "from tensorflow.keras.preprocessing.image import ImageDataGenerator\n",
    "from tensorflow.keras.models import Model\n",
    "from tensorflow.keras.callbacks import EarlyStopping, ReduceLROnPlateau, ModelCheckpoint\n",
    "\n",
    "import time\n",
    "import torchmetrics\n",
    "\n",
    "import torch.optim as optim\n",
    "from composer import Trainer\n",
    "import composer\n",
    "from composer.algorithms import BlurPool\n",
    "from composer.loggers import InMemoryLogger\n",
    "\n",
    "import matplotlib.pyplot as plt\n",
    "import numpy as np\n",
    "\n",
    "\n",
    "import seaborn as sns\n",
    "\n"
   ]
  },
  {
   "cell_type": "code",
   "execution_count": 3,
   "id": "41b833d7-8640-46e9-a26d-bbd086bd7bfa",
   "metadata": {
    "tags": []
   },
   "outputs": [],
   "source": [
    "base_dir='./data/ham10000'"
   ]
  },
  {
   "cell_type": "code",
   "execution_count": 4,
   "id": "637947f0-7c7e-4e7f-85d4-6a0663541f78",
   "metadata": {
    "tags": []
   },
   "outputs": [],
   "source": [
    "def create_folder_struct():\n",
    "    train_dir = os.path.join(base_dir, 'Train')\n",
    "    os.mkdir(train_dir)\n",
    "\n",
    "    # val_dir\n",
    "    val_dir = os.path.join(base_dir, 'Test')\n",
    "    os.mkdir(val_dir)\n",
    "\n",
    "\n",
    "    # [CREATE FOLDERS INSIDE THE TRAIN, VALIDATION AND TEST FOLDERS]\n",
    "    # Inside each folder we create seperate folders for each class\n",
    "\n",
    "    # create new folders inside train_dir\n",
    "    nv = os.path.join(train_dir, 'nv')\n",
    "    os.mkdir(nv)\n",
    "    mel = os.path.join(train_dir, 'mel')\n",
    "    os.mkdir(mel)\n",
    "    bkl = os.path.join(train_dir, 'bkl')\n",
    "    os.mkdir(bkl)\n",
    "    bcc = os.path.join(train_dir, 'bcc')\n",
    "    os.mkdir(bcc)\n",
    "    akiec = os.path.join(train_dir, 'akiec')\n",
    "    os.mkdir(akiec)\n",
    "    vasc = os.path.join(train_dir, 'vasc')\n",
    "    os.mkdir(vasc)\n",
    "    df = os.path.join(train_dir, 'df')\n",
    "    os.mkdir(df)\n",
    "\n",
    "\n",
    "\n",
    "    # create new folders inside val_dir\n",
    "    nv = os.path.join(val_dir, 'nv')\n",
    "    os.mkdir(nv)\n",
    "    mel = os.path.join(val_dir, 'mel')\n",
    "    os.mkdir(mel)\n",
    "    bkl = os.path.join(val_dir, 'bkl')\n",
    "    os.mkdir(bkl)\n",
    "    bcc = os.path.join(val_dir, 'bcc')\n",
    "    os.mkdir(bcc)\n",
    "    akiec = os.path.join(val_dir, 'akiec')\n",
    "    os.mkdir(akiec)\n",
    "    vasc = os.path.join(val_dir, 'vasc')\n",
    "    os.mkdir(vasc)\n",
    "    df = os.path.join(val_dir, 'df')\n",
    "    os.mkdir(df)"
   ]
  },
  {
   "cell_type": "code",
   "execution_count": 5,
   "id": "1a67ed49-c5c2-442c-bba1-383d05cb80cd",
   "metadata": {
    "tags": []
   },
   "outputs": [],
   "source": [
    "train_dir = os.path.join(base_dir, 'Train')\n",
    "val_dir = os.path.join(base_dir, 'Test')"
   ]
  },
  {
   "cell_type": "code",
   "execution_count": 6,
   "id": "dc0de287-9cf0-4f9a-a085-90bc8c2bf282",
   "metadata": {
    "tags": []
   },
   "outputs": [],
   "source": [
    "# create_folder_struct()"
   ]
  },
  {
   "cell_type": "code",
   "execution_count": 7,
   "id": "6c58ccf2-c2a9-4606-aa78-18eb94fc9fa6",
   "metadata": {
    "tags": []
   },
   "outputs": [],
   "source": [
    "df_data=pd.read_csv(base_dir+'/HAM10000_metadata')"
   ]
  },
  {
   "cell_type": "code",
   "execution_count": 8,
   "id": "87069c75-d9ba-4cae-875b-b488d6f47b08",
   "metadata": {
    "tags": []
   },
   "outputs": [
    {
     "data": {
      "text/html": [
       "<div>\n",
       "<style scoped>\n",
       "    .dataframe tbody tr th:only-of-type {\n",
       "        vertical-align: middle;\n",
       "    }\n",
       "\n",
       "    .dataframe tbody tr th {\n",
       "        vertical-align: top;\n",
       "    }\n",
       "\n",
       "    .dataframe thead th {\n",
       "        text-align: right;\n",
       "    }\n",
       "</style>\n",
       "<table border=\"1\" class=\"dataframe\">\n",
       "  <thead>\n",
       "    <tr style=\"text-align: right;\">\n",
       "      <th></th>\n",
       "      <th>lesion_id</th>\n",
       "      <th>image_id</th>\n",
       "      <th>dx</th>\n",
       "      <th>dx_type</th>\n",
       "      <th>age</th>\n",
       "      <th>sex</th>\n",
       "      <th>localization</th>\n",
       "      <th>dataset</th>\n",
       "    </tr>\n",
       "  </thead>\n",
       "  <tbody>\n",
       "    <tr>\n",
       "      <th>0</th>\n",
       "      <td>HAM_0000118</td>\n",
       "      <td>ISIC_0027419</td>\n",
       "      <td>bkl</td>\n",
       "      <td>histo</td>\n",
       "      <td>80.0</td>\n",
       "      <td>male</td>\n",
       "      <td>scalp</td>\n",
       "      <td>vidir_modern</td>\n",
       "    </tr>\n",
       "    <tr>\n",
       "      <th>1</th>\n",
       "      <td>HAM_0000118</td>\n",
       "      <td>ISIC_0025030</td>\n",
       "      <td>bkl</td>\n",
       "      <td>histo</td>\n",
       "      <td>80.0</td>\n",
       "      <td>male</td>\n",
       "      <td>scalp</td>\n",
       "      <td>vidir_modern</td>\n",
       "    </tr>\n",
       "    <tr>\n",
       "      <th>2</th>\n",
       "      <td>HAM_0002730</td>\n",
       "      <td>ISIC_0026769</td>\n",
       "      <td>bkl</td>\n",
       "      <td>histo</td>\n",
       "      <td>80.0</td>\n",
       "      <td>male</td>\n",
       "      <td>scalp</td>\n",
       "      <td>vidir_modern</td>\n",
       "    </tr>\n",
       "    <tr>\n",
       "      <th>3</th>\n",
       "      <td>HAM_0002730</td>\n",
       "      <td>ISIC_0025661</td>\n",
       "      <td>bkl</td>\n",
       "      <td>histo</td>\n",
       "      <td>80.0</td>\n",
       "      <td>male</td>\n",
       "      <td>scalp</td>\n",
       "      <td>vidir_modern</td>\n",
       "    </tr>\n",
       "    <tr>\n",
       "      <th>4</th>\n",
       "      <td>HAM_0001466</td>\n",
       "      <td>ISIC_0031633</td>\n",
       "      <td>bkl</td>\n",
       "      <td>histo</td>\n",
       "      <td>75.0</td>\n",
       "      <td>male</td>\n",
       "      <td>ear</td>\n",
       "      <td>vidir_modern</td>\n",
       "    </tr>\n",
       "  </tbody>\n",
       "</table>\n",
       "</div>"
      ],
      "text/plain": [
       "     lesion_id      image_id   dx dx_type   age   sex localization  \\\n",
       "0  HAM_0000118  ISIC_0027419  bkl   histo  80.0  male        scalp   \n",
       "1  HAM_0000118  ISIC_0025030  bkl   histo  80.0  male        scalp   \n",
       "2  HAM_0002730  ISIC_0026769  bkl   histo  80.0  male        scalp   \n",
       "3  HAM_0002730  ISIC_0025661  bkl   histo  80.0  male        scalp   \n",
       "4  HAM_0001466  ISIC_0031633  bkl   histo  75.0  male          ear   \n",
       "\n",
       "        dataset  \n",
       "0  vidir_modern  \n",
       "1  vidir_modern  \n",
       "2  vidir_modern  \n",
       "3  vidir_modern  \n",
       "4  vidir_modern  "
      ]
     },
     "execution_count": 8,
     "metadata": {},
     "output_type": "execute_result"
    }
   ],
   "source": [
    "df_data.head()"
   ]
  },
  {
   "cell_type": "code",
   "execution_count": 9,
   "id": "2aecda5d-2064-4b0d-9e97-9e63183173ef",
   "metadata": {
    "tags": []
   },
   "outputs": [
    {
     "data": {
      "text/html": [
       "<div>\n",
       "<style scoped>\n",
       "    .dataframe tbody tr th:only-of-type {\n",
       "        vertical-align: middle;\n",
       "    }\n",
       "\n",
       "    .dataframe tbody tr th {\n",
       "        vertical-align: top;\n",
       "    }\n",
       "\n",
       "    .dataframe thead th {\n",
       "        text-align: right;\n",
       "    }\n",
       "</style>\n",
       "<table border=\"1\" class=\"dataframe\">\n",
       "  <thead>\n",
       "    <tr style=\"text-align: right;\">\n",
       "      <th></th>\n",
       "      <th>lesion_id</th>\n",
       "      <th>image_id</th>\n",
       "      <th>dx</th>\n",
       "      <th>dx_type</th>\n",
       "      <th>age</th>\n",
       "      <th>sex</th>\n",
       "      <th>localization</th>\n",
       "      <th>dataset</th>\n",
       "    </tr>\n",
       "  </thead>\n",
       "  <tbody>\n",
       "    <tr>\n",
       "      <th>0</th>\n",
       "      <td>HAM_0000001</td>\n",
       "      <td>1</td>\n",
       "      <td>1</td>\n",
       "      <td>1</td>\n",
       "      <td>1</td>\n",
       "      <td>1</td>\n",
       "      <td>1</td>\n",
       "      <td>1</td>\n",
       "    </tr>\n",
       "    <tr>\n",
       "      <th>1</th>\n",
       "      <td>HAM_0000003</td>\n",
       "      <td>1</td>\n",
       "      <td>1</td>\n",
       "      <td>1</td>\n",
       "      <td>1</td>\n",
       "      <td>1</td>\n",
       "      <td>1</td>\n",
       "      <td>1</td>\n",
       "    </tr>\n",
       "    <tr>\n",
       "      <th>2</th>\n",
       "      <td>HAM_0000004</td>\n",
       "      <td>1</td>\n",
       "      <td>1</td>\n",
       "      <td>1</td>\n",
       "      <td>1</td>\n",
       "      <td>1</td>\n",
       "      <td>1</td>\n",
       "      <td>1</td>\n",
       "    </tr>\n",
       "    <tr>\n",
       "      <th>3</th>\n",
       "      <td>HAM_0000007</td>\n",
       "      <td>1</td>\n",
       "      <td>1</td>\n",
       "      <td>1</td>\n",
       "      <td>1</td>\n",
       "      <td>1</td>\n",
       "      <td>1</td>\n",
       "      <td>1</td>\n",
       "    </tr>\n",
       "    <tr>\n",
       "      <th>4</th>\n",
       "      <td>HAM_0000008</td>\n",
       "      <td>1</td>\n",
       "      <td>1</td>\n",
       "      <td>1</td>\n",
       "      <td>1</td>\n",
       "      <td>1</td>\n",
       "      <td>1</td>\n",
       "      <td>1</td>\n",
       "    </tr>\n",
       "    <tr>\n",
       "      <th>...</th>\n",
       "      <td>...</td>\n",
       "      <td>...</td>\n",
       "      <td>...</td>\n",
       "      <td>...</td>\n",
       "      <td>...</td>\n",
       "      <td>...</td>\n",
       "      <td>...</td>\n",
       "      <td>...</td>\n",
       "    </tr>\n",
       "    <tr>\n",
       "      <th>95</th>\n",
       "      <td>HAM_0000132</td>\n",
       "      <td>1</td>\n",
       "      <td>1</td>\n",
       "      <td>1</td>\n",
       "      <td>1</td>\n",
       "      <td>1</td>\n",
       "      <td>1</td>\n",
       "      <td>1</td>\n",
       "    </tr>\n",
       "    <tr>\n",
       "      <th>96</th>\n",
       "      <td>HAM_0000133</td>\n",
       "      <td>1</td>\n",
       "      <td>1</td>\n",
       "      <td>1</td>\n",
       "      <td>1</td>\n",
       "      <td>1</td>\n",
       "      <td>1</td>\n",
       "      <td>1</td>\n",
       "    </tr>\n",
       "    <tr>\n",
       "      <th>97</th>\n",
       "      <td>HAM_0000134</td>\n",
       "      <td>1</td>\n",
       "      <td>1</td>\n",
       "      <td>1</td>\n",
       "      <td>1</td>\n",
       "      <td>1</td>\n",
       "      <td>1</td>\n",
       "      <td>1</td>\n",
       "    </tr>\n",
       "    <tr>\n",
       "      <th>98</th>\n",
       "      <td>HAM_0000137</td>\n",
       "      <td>1</td>\n",
       "      <td>1</td>\n",
       "      <td>1</td>\n",
       "      <td>1</td>\n",
       "      <td>1</td>\n",
       "      <td>1</td>\n",
       "      <td>1</td>\n",
       "    </tr>\n",
       "    <tr>\n",
       "      <th>99</th>\n",
       "      <td>HAM_0000139</td>\n",
       "      <td>1</td>\n",
       "      <td>1</td>\n",
       "      <td>1</td>\n",
       "      <td>1</td>\n",
       "      <td>1</td>\n",
       "      <td>1</td>\n",
       "      <td>1</td>\n",
       "    </tr>\n",
       "  </tbody>\n",
       "</table>\n",
       "<p>100 rows × 8 columns</p>\n",
       "</div>"
      ],
      "text/plain": [
       "      lesion_id  image_id  dx  dx_type  age  sex  localization  dataset\n",
       "0   HAM_0000001         1   1        1    1    1             1        1\n",
       "1   HAM_0000003         1   1        1    1    1             1        1\n",
       "2   HAM_0000004         1   1        1    1    1             1        1\n",
       "3   HAM_0000007         1   1        1    1    1             1        1\n",
       "4   HAM_0000008         1   1        1    1    1             1        1\n",
       "..          ...       ...  ..      ...  ...  ...           ...      ...\n",
       "95  HAM_0000132         1   1        1    1    1             1        1\n",
       "96  HAM_0000133         1   1        1    1    1             1        1\n",
       "97  HAM_0000134         1   1        1    1    1             1        1\n",
       "98  HAM_0000137         1   1        1    1    1             1        1\n",
       "99  HAM_0000139         1   1        1    1    1             1        1\n",
       "\n",
       "[100 rows x 8 columns]"
      ]
     },
     "execution_count": 9,
     "metadata": {},
     "output_type": "execute_result"
    }
   ],
   "source": [
    "df = df_data.groupby('lesion_id').count()\n",
    "\n",
    "# now we filter out lesion_id's that have only one image associated with it\n",
    "df = df[df['image_id'] == 1]\n",
    "\n",
    "df.reset_index(inplace=True)\n",
    "\n",
    "df.head(100)"
   ]
  },
  {
   "cell_type": "code",
   "execution_count": 10,
   "id": "14c7420f-1b25-48dc-adf1-6144c25df54e",
   "metadata": {
    "tags": []
   },
   "outputs": [
    {
     "data": {
      "text/html": [
       "<div>\n",
       "<style scoped>\n",
       "    .dataframe tbody tr th:only-of-type {\n",
       "        vertical-align: middle;\n",
       "    }\n",
       "\n",
       "    .dataframe tbody tr th {\n",
       "        vertical-align: top;\n",
       "    }\n",
       "\n",
       "    .dataframe thead th {\n",
       "        text-align: right;\n",
       "    }\n",
       "</style>\n",
       "<table border=\"1\" class=\"dataframe\">\n",
       "  <thead>\n",
       "    <tr style=\"text-align: right;\">\n",
       "      <th></th>\n",
       "      <th>lesion_id</th>\n",
       "      <th>image_id</th>\n",
       "      <th>dx</th>\n",
       "      <th>dx_type</th>\n",
       "      <th>age</th>\n",
       "      <th>sex</th>\n",
       "      <th>localization</th>\n",
       "      <th>dataset</th>\n",
       "      <th>duplicates</th>\n",
       "    </tr>\n",
       "  </thead>\n",
       "  <tbody>\n",
       "    <tr>\n",
       "      <th>0</th>\n",
       "      <td>HAM_0000118</td>\n",
       "      <td>ISIC_0027419</td>\n",
       "      <td>bkl</td>\n",
       "      <td>histo</td>\n",
       "      <td>80.0</td>\n",
       "      <td>male</td>\n",
       "      <td>scalp</td>\n",
       "      <td>vidir_modern</td>\n",
       "      <td>has_duplicates</td>\n",
       "    </tr>\n",
       "    <tr>\n",
       "      <th>1</th>\n",
       "      <td>HAM_0000118</td>\n",
       "      <td>ISIC_0025030</td>\n",
       "      <td>bkl</td>\n",
       "      <td>histo</td>\n",
       "      <td>80.0</td>\n",
       "      <td>male</td>\n",
       "      <td>scalp</td>\n",
       "      <td>vidir_modern</td>\n",
       "      <td>has_duplicates</td>\n",
       "    </tr>\n",
       "    <tr>\n",
       "      <th>2</th>\n",
       "      <td>HAM_0002730</td>\n",
       "      <td>ISIC_0026769</td>\n",
       "      <td>bkl</td>\n",
       "      <td>histo</td>\n",
       "      <td>80.0</td>\n",
       "      <td>male</td>\n",
       "      <td>scalp</td>\n",
       "      <td>vidir_modern</td>\n",
       "      <td>has_duplicates</td>\n",
       "    </tr>\n",
       "    <tr>\n",
       "      <th>3</th>\n",
       "      <td>HAM_0002730</td>\n",
       "      <td>ISIC_0025661</td>\n",
       "      <td>bkl</td>\n",
       "      <td>histo</td>\n",
       "      <td>80.0</td>\n",
       "      <td>male</td>\n",
       "      <td>scalp</td>\n",
       "      <td>vidir_modern</td>\n",
       "      <td>has_duplicates</td>\n",
       "    </tr>\n",
       "    <tr>\n",
       "      <th>4</th>\n",
       "      <td>HAM_0001466</td>\n",
       "      <td>ISIC_0031633</td>\n",
       "      <td>bkl</td>\n",
       "      <td>histo</td>\n",
       "      <td>75.0</td>\n",
       "      <td>male</td>\n",
       "      <td>ear</td>\n",
       "      <td>vidir_modern</td>\n",
       "      <td>has_duplicates</td>\n",
       "    </tr>\n",
       "  </tbody>\n",
       "</table>\n",
       "</div>"
      ],
      "text/plain": [
       "     lesion_id      image_id   dx dx_type   age   sex localization  \\\n",
       "0  HAM_0000118  ISIC_0027419  bkl   histo  80.0  male        scalp   \n",
       "1  HAM_0000118  ISIC_0025030  bkl   histo  80.0  male        scalp   \n",
       "2  HAM_0002730  ISIC_0026769  bkl   histo  80.0  male        scalp   \n",
       "3  HAM_0002730  ISIC_0025661  bkl   histo  80.0  male        scalp   \n",
       "4  HAM_0001466  ISIC_0031633  bkl   histo  75.0  male          ear   \n",
       "\n",
       "        dataset      duplicates  \n",
       "0  vidir_modern  has_duplicates  \n",
       "1  vidir_modern  has_duplicates  \n",
       "2  vidir_modern  has_duplicates  \n",
       "3  vidir_modern  has_duplicates  \n",
       "4  vidir_modern  has_duplicates  "
      ]
     },
     "execution_count": 10,
     "metadata": {},
     "output_type": "execute_result"
    }
   ],
   "source": [
    "def identify_duplicates(x):\n",
    "    \n",
    "    unique_list = list(df['lesion_id'])\n",
    "    \n",
    "    if x in unique_list:\n",
    "        return 'no_duplicates'\n",
    "    else:\n",
    "        return 'has_duplicates'\n",
    "    \n",
    "# create a new colum that is a copy of the lesion_id column\n",
    "df_data['duplicates'] = df_data['lesion_id']\n",
    "# apply the function to this new column\n",
    "df_data['duplicates'] = df_data['duplicates'].apply(identify_duplicates)\n",
    "\n",
    "df_data.head()"
   ]
  },
  {
   "cell_type": "code",
   "execution_count": 11,
   "id": "e6557c32-5c9a-49ef-929c-cef9ce44d0d7",
   "metadata": {
    "tags": []
   },
   "outputs": [
    {
     "data": {
      "text/html": [
       "<div>\n",
       "<style scoped>\n",
       "    .dataframe tbody tr th:only-of-type {\n",
       "        vertical-align: middle;\n",
       "    }\n",
       "\n",
       "    .dataframe tbody tr th {\n",
       "        vertical-align: top;\n",
       "    }\n",
       "\n",
       "    .dataframe thead th {\n",
       "        text-align: right;\n",
       "    }\n",
       "</style>\n",
       "<table border=\"1\" class=\"dataframe\">\n",
       "  <thead>\n",
       "    <tr style=\"text-align: right;\">\n",
       "      <th></th>\n",
       "      <th>lesion_id</th>\n",
       "      <th>image_id</th>\n",
       "      <th>dx</th>\n",
       "      <th>dx_type</th>\n",
       "      <th>age</th>\n",
       "      <th>sex</th>\n",
       "      <th>localization</th>\n",
       "      <th>dataset</th>\n",
       "      <th>duplicates</th>\n",
       "    </tr>\n",
       "  </thead>\n",
       "  <tbody>\n",
       "    <tr>\n",
       "      <th>0</th>\n",
       "      <td>HAM_0000118</td>\n",
       "      <td>ISIC_0027419</td>\n",
       "      <td>bkl</td>\n",
       "      <td>histo</td>\n",
       "      <td>80.0</td>\n",
       "      <td>male</td>\n",
       "      <td>scalp</td>\n",
       "      <td>vidir_modern</td>\n",
       "      <td>has_duplicates</td>\n",
       "    </tr>\n",
       "    <tr>\n",
       "      <th>1</th>\n",
       "      <td>HAM_0000118</td>\n",
       "      <td>ISIC_0025030</td>\n",
       "      <td>bkl</td>\n",
       "      <td>histo</td>\n",
       "      <td>80.0</td>\n",
       "      <td>male</td>\n",
       "      <td>scalp</td>\n",
       "      <td>vidir_modern</td>\n",
       "      <td>has_duplicates</td>\n",
       "    </tr>\n",
       "    <tr>\n",
       "      <th>2</th>\n",
       "      <td>HAM_0002730</td>\n",
       "      <td>ISIC_0026769</td>\n",
       "      <td>bkl</td>\n",
       "      <td>histo</td>\n",
       "      <td>80.0</td>\n",
       "      <td>male</td>\n",
       "      <td>scalp</td>\n",
       "      <td>vidir_modern</td>\n",
       "      <td>has_duplicates</td>\n",
       "    </tr>\n",
       "    <tr>\n",
       "      <th>3</th>\n",
       "      <td>HAM_0002730</td>\n",
       "      <td>ISIC_0025661</td>\n",
       "      <td>bkl</td>\n",
       "      <td>histo</td>\n",
       "      <td>80.0</td>\n",
       "      <td>male</td>\n",
       "      <td>scalp</td>\n",
       "      <td>vidir_modern</td>\n",
       "      <td>has_duplicates</td>\n",
       "    </tr>\n",
       "    <tr>\n",
       "      <th>4</th>\n",
       "      <td>HAM_0001466</td>\n",
       "      <td>ISIC_0031633</td>\n",
       "      <td>bkl</td>\n",
       "      <td>histo</td>\n",
       "      <td>75.0</td>\n",
       "      <td>male</td>\n",
       "      <td>ear</td>\n",
       "      <td>vidir_modern</td>\n",
       "      <td>has_duplicates</td>\n",
       "    </tr>\n",
       "    <tr>\n",
       "      <th>...</th>\n",
       "      <td>...</td>\n",
       "      <td>...</td>\n",
       "      <td>...</td>\n",
       "      <td>...</td>\n",
       "      <td>...</td>\n",
       "      <td>...</td>\n",
       "      <td>...</td>\n",
       "      <td>...</td>\n",
       "      <td>...</td>\n",
       "    </tr>\n",
       "    <tr>\n",
       "      <th>10010</th>\n",
       "      <td>HAM_0002867</td>\n",
       "      <td>ISIC_0033084</td>\n",
       "      <td>akiec</td>\n",
       "      <td>histo</td>\n",
       "      <td>40.0</td>\n",
       "      <td>male</td>\n",
       "      <td>abdomen</td>\n",
       "      <td>vidir_modern</td>\n",
       "      <td>has_duplicates</td>\n",
       "    </tr>\n",
       "    <tr>\n",
       "      <th>10011</th>\n",
       "      <td>HAM_0002867</td>\n",
       "      <td>ISIC_0033550</td>\n",
       "      <td>akiec</td>\n",
       "      <td>histo</td>\n",
       "      <td>40.0</td>\n",
       "      <td>male</td>\n",
       "      <td>abdomen</td>\n",
       "      <td>vidir_modern</td>\n",
       "      <td>has_duplicates</td>\n",
       "    </tr>\n",
       "    <tr>\n",
       "      <th>10012</th>\n",
       "      <td>HAM_0002867</td>\n",
       "      <td>ISIC_0033536</td>\n",
       "      <td>akiec</td>\n",
       "      <td>histo</td>\n",
       "      <td>40.0</td>\n",
       "      <td>male</td>\n",
       "      <td>abdomen</td>\n",
       "      <td>vidir_modern</td>\n",
       "      <td>has_duplicates</td>\n",
       "    </tr>\n",
       "    <tr>\n",
       "      <th>10013</th>\n",
       "      <td>HAM_0000239</td>\n",
       "      <td>ISIC_0032854</td>\n",
       "      <td>akiec</td>\n",
       "      <td>histo</td>\n",
       "      <td>80.0</td>\n",
       "      <td>male</td>\n",
       "      <td>face</td>\n",
       "      <td>vidir_modern</td>\n",
       "      <td>has_duplicates</td>\n",
       "    </tr>\n",
       "    <tr>\n",
       "      <th>10014</th>\n",
       "      <td>HAM_0003521</td>\n",
       "      <td>ISIC_0032258</td>\n",
       "      <td>mel</td>\n",
       "      <td>histo</td>\n",
       "      <td>70.0</td>\n",
       "      <td>female</td>\n",
       "      <td>back</td>\n",
       "      <td>vidir_modern</td>\n",
       "      <td>has_duplicates</td>\n",
       "    </tr>\n",
       "  </tbody>\n",
       "</table>\n",
       "<p>10015 rows × 9 columns</p>\n",
       "</div>"
      ],
      "text/plain": [
       "         lesion_id      image_id     dx dx_type   age     sex localization  \\\n",
       "0      HAM_0000118  ISIC_0027419    bkl   histo  80.0    male        scalp   \n",
       "1      HAM_0000118  ISIC_0025030    bkl   histo  80.0    male        scalp   \n",
       "2      HAM_0002730  ISIC_0026769    bkl   histo  80.0    male        scalp   \n",
       "3      HAM_0002730  ISIC_0025661    bkl   histo  80.0    male        scalp   \n",
       "4      HAM_0001466  ISIC_0031633    bkl   histo  75.0    male          ear   \n",
       "...            ...           ...    ...     ...   ...     ...          ...   \n",
       "10010  HAM_0002867  ISIC_0033084  akiec   histo  40.0    male      abdomen   \n",
       "10011  HAM_0002867  ISIC_0033550  akiec   histo  40.0    male      abdomen   \n",
       "10012  HAM_0002867  ISIC_0033536  akiec   histo  40.0    male      abdomen   \n",
       "10013  HAM_0000239  ISIC_0032854  akiec   histo  80.0    male         face   \n",
       "10014  HAM_0003521  ISIC_0032258    mel   histo  70.0  female         back   \n",
       "\n",
       "            dataset      duplicates  \n",
       "0      vidir_modern  has_duplicates  \n",
       "1      vidir_modern  has_duplicates  \n",
       "2      vidir_modern  has_duplicates  \n",
       "3      vidir_modern  has_duplicates  \n",
       "4      vidir_modern  has_duplicates  \n",
       "...             ...             ...  \n",
       "10010  vidir_modern  has_duplicates  \n",
       "10011  vidir_modern  has_duplicates  \n",
       "10012  vidir_modern  has_duplicates  \n",
       "10013  vidir_modern  has_duplicates  \n",
       "10014  vidir_modern  has_duplicates  \n",
       "\n",
       "[10015 rows x 9 columns]"
      ]
     },
     "execution_count": 11,
     "metadata": {},
     "output_type": "execute_result"
    }
   ],
   "source": [
    "df_data"
   ]
  },
  {
   "cell_type": "code",
   "execution_count": 12,
   "id": "46b0900d-5768-4f4a-90de-5f9664b4e655",
   "metadata": {
    "tags": []
   },
   "outputs": [
    {
     "data": {
      "text/plain": [
       "no_duplicates     5514\n",
       "has_duplicates    4501\n",
       "Name: duplicates, dtype: int64"
      ]
     },
     "execution_count": 12,
     "metadata": {},
     "output_type": "execute_result"
    }
   ],
   "source": [
    "df_data['duplicates'].value_counts()\n"
   ]
  },
  {
   "cell_type": "code",
   "execution_count": 13,
   "id": "767eadc6-a37a-4ac2-91f2-186a8af8894f",
   "metadata": {
    "tags": []
   },
   "outputs": [
    {
     "data": {
      "text/plain": [
       "(5514, 9)"
      ]
     },
     "execution_count": 13,
     "metadata": {},
     "output_type": "execute_result"
    }
   ],
   "source": [
    "#in df we store dataset with no duplicates\n",
    "df=df_data[df_data['duplicates'] == 'no_duplicates']\n",
    "\n",
    "df.shape\n"
   ]
  },
  {
   "cell_type": "markdown",
   "id": "4a08a8af-9355-4c45-ade7-6238b76c8fbe",
   "metadata": {},
   "source": [
    "We have 5514 unique skin lesion image\n"
   ]
  },
  {
   "cell_type": "code",
   "execution_count": 14,
   "id": "75acfa5f-8d5b-4901-9d45-90773b94c5dd",
   "metadata": {
    "tags": []
   },
   "outputs": [
    {
     "data": {
      "text/html": [
       "<div>\n",
       "<style scoped>\n",
       "    .dataframe tbody tr th:only-of-type {\n",
       "        vertical-align: middle;\n",
       "    }\n",
       "\n",
       "    .dataframe tbody tr th {\n",
       "        vertical-align: top;\n",
       "    }\n",
       "\n",
       "    .dataframe thead th {\n",
       "        text-align: right;\n",
       "    }\n",
       "</style>\n",
       "<table border=\"1\" class=\"dataframe\">\n",
       "  <thead>\n",
       "    <tr style=\"text-align: right;\">\n",
       "      <th></th>\n",
       "      <th>lesion_id</th>\n",
       "      <th>image_id</th>\n",
       "      <th>dx</th>\n",
       "      <th>dx_type</th>\n",
       "      <th>age</th>\n",
       "      <th>sex</th>\n",
       "      <th>localization</th>\n",
       "      <th>dataset</th>\n",
       "      <th>duplicates</th>\n",
       "    </tr>\n",
       "  </thead>\n",
       "  <tbody>\n",
       "    <tr>\n",
       "      <th>10</th>\n",
       "      <td>HAM_0001396</td>\n",
       "      <td>ISIC_0025276</td>\n",
       "      <td>bkl</td>\n",
       "      <td>histo</td>\n",
       "      <td>55.0</td>\n",
       "      <td>female</td>\n",
       "      <td>trunk</td>\n",
       "      <td>vidir_modern</td>\n",
       "      <td>no_duplicates</td>\n",
       "    </tr>\n",
       "    <tr>\n",
       "      <th>15</th>\n",
       "      <td>HAM_0007207</td>\n",
       "      <td>ISIC_0031326</td>\n",
       "      <td>bkl</td>\n",
       "      <td>histo</td>\n",
       "      <td>65.0</td>\n",
       "      <td>male</td>\n",
       "      <td>back</td>\n",
       "      <td>vidir_modern</td>\n",
       "      <td>no_duplicates</td>\n",
       "    </tr>\n",
       "    <tr>\n",
       "      <th>20</th>\n",
       "      <td>HAM_0006071</td>\n",
       "      <td>ISIC_0032343</td>\n",
       "      <td>bkl</td>\n",
       "      <td>histo</td>\n",
       "      <td>70.0</td>\n",
       "      <td>female</td>\n",
       "      <td>face</td>\n",
       "      <td>vidir_modern</td>\n",
       "      <td>no_duplicates</td>\n",
       "    </tr>\n",
       "    <tr>\n",
       "      <th>33</th>\n",
       "      <td>HAM_0005612</td>\n",
       "      <td>ISIC_0024981</td>\n",
       "      <td>bkl</td>\n",
       "      <td>histo</td>\n",
       "      <td>80.0</td>\n",
       "      <td>male</td>\n",
       "      <td>scalp</td>\n",
       "      <td>vidir_modern</td>\n",
       "      <td>no_duplicates</td>\n",
       "    </tr>\n",
       "    <tr>\n",
       "      <th>34</th>\n",
       "      <td>HAM_0005388</td>\n",
       "      <td>ISIC_0027815</td>\n",
       "      <td>bkl</td>\n",
       "      <td>histo</td>\n",
       "      <td>80.0</td>\n",
       "      <td>male</td>\n",
       "      <td>chest</td>\n",
       "      <td>rosendahl</td>\n",
       "      <td>no_duplicates</td>\n",
       "    </tr>\n",
       "  </tbody>\n",
       "</table>\n",
       "</div>"
      ],
      "text/plain": [
       "      lesion_id      image_id   dx dx_type   age     sex localization  \\\n",
       "10  HAM_0001396  ISIC_0025276  bkl   histo  55.0  female        trunk   \n",
       "15  HAM_0007207  ISIC_0031326  bkl   histo  65.0    male         back   \n",
       "20  HAM_0006071  ISIC_0032343  bkl   histo  70.0  female         face   \n",
       "33  HAM_0005612  ISIC_0024981  bkl   histo  80.0    male        scalp   \n",
       "34  HAM_0005388  ISIC_0027815  bkl   histo  80.0    male        chest   \n",
       "\n",
       "         dataset     duplicates  \n",
       "10  vidir_modern  no_duplicates  \n",
       "15  vidir_modern  no_duplicates  \n",
       "20  vidir_modern  no_duplicates  \n",
       "33  vidir_modern  no_duplicates  \n",
       "34     rosendahl  no_duplicates  "
      ]
     },
     "execution_count": 14,
     "metadata": {},
     "output_type": "execute_result"
    }
   ],
   "source": [
    "df.head(5)"
   ]
  },
  {
   "cell_type": "code",
   "execution_count": 15,
   "id": "a73af3bd-6083-44ab-ba3a-54a05145eb1a",
   "metadata": {
    "tags": []
   },
   "outputs": [
    {
     "data": {
      "text/plain": [
       "(1103, 9)"
      ]
     },
     "execution_count": 15,
     "metadata": {},
     "output_type": "execute_result"
    }
   ],
   "source": [
    "y= df[\"dx\"]\n",
    "\n",
    "_, df_val = train_test_split(df, test_size=0.2, random_state=101, stratify=y)\n",
    "\n",
    "df_val.shape"
   ]
  },
  {
   "cell_type": "markdown",
   "id": "c40d340a-adcd-4db1-87c1-33304071a552",
   "metadata": {},
   "source": [
    "**dx** column uniquely identifies the class of each Image,"
   ]
  },
  {
   "cell_type": "code",
   "execution_count": 16,
   "id": "30cbc4c1-84c2-4ba2-848e-2201c868a5d0",
   "metadata": {
    "tags": []
   },
   "outputs": [
    {
     "data": {
      "text/plain": [
       "nv       883\n",
       "bkl       88\n",
       "mel       46\n",
       "bcc       35\n",
       "akiec     30\n",
       "vasc      13\n",
       "df         8\n",
       "Name: dx, dtype: int64"
      ]
     },
     "execution_count": 16,
     "metadata": {},
     "output_type": "execute_result"
    }
   ],
   "source": [
    "df_val['dx'].value_counts()\n"
   ]
  },
  {
   "cell_type": "code",
   "execution_count": 17,
   "id": "e0e9fe1c-dd5c-4c6b-b5cf-8a14f9227de5",
   "metadata": {
    "tags": []
   },
   "outputs": [],
   "source": [
    "#Helper Function to uniquely identify and remove validation dataset from original dataset where duplicates existed\n",
    "\n",
    "def identify_val_rows(x):\n",
    "    # create a list of all the lesion_id's in the val set\n",
    "    val_list = list(df_val['image_id'])\n",
    "    \n",
    "    if str(x) in val_list:\n",
    "        return 'val'\n",
    "    else:\n",
    "        return 'train'\n"
   ]
  },
  {
   "cell_type": "code",
   "execution_count": 18,
   "id": "6357f178-72d7-432d-b582-036a53127b0f",
   "metadata": {
    "tags": []
   },
   "outputs": [
    {
     "name": "stdout",
     "output_type": "stream",
     "text": [
      "8912\n",
      "1103\n"
     ]
    }
   ],
   "source": [
    "# create a new colum that is a copy of the image_id column\n",
    "df_data['train_or_val'] = df_data['image_id']\n",
    "# apply the function to this new column\n",
    "df_data['train_or_val'] = df_data['train_or_val'].apply(identify_val_rows)\n",
    "   \n",
    "# filter out train rows\n",
    "df_train = df_data[df_data['train_or_val'] == 'train']\n",
    "\n",
    "\n",
    "print(len(df_train))\n",
    "print(len(df_val))\n"
   ]
  },
  {
   "cell_type": "code",
   "execution_count": 19,
   "id": "291be0f0-9570-4068-83f8-89befa477156",
   "metadata": {
    "tags": []
   },
   "outputs": [
    {
     "data": {
      "text/plain": [
       "nv       5822\n",
       "mel      1067\n",
       "bkl      1011\n",
       "bcc       479\n",
       "akiec     297\n",
       "vasc      129\n",
       "df        107\n",
       "Name: dx, dtype: int64"
      ]
     },
     "execution_count": 19,
     "metadata": {},
     "output_type": "execute_result"
    }
   ],
   "source": [
    "#value count the class in train dataset\n",
    "df_train['dx'].value_counts()"
   ]
  },
  {
   "cell_type": "code",
   "execution_count": 20,
   "id": "14d25da5-4ba9-44b8-a82a-2dda095b273f",
   "metadata": {
    "tags": []
   },
   "outputs": [],
   "source": [
    "part1=os.listdir(base_dir+'/HAM10000_images_part_1')\n",
    "part2= os.listdir(base_dir+'/HAM10000_images_part_2')"
   ]
  },
  {
   "cell_type": "code",
   "execution_count": 21,
   "id": "b7c60357-894e-41e9-ac16-22de247875ac",
   "metadata": {
    "tags": []
   },
   "outputs": [],
   "source": [
    "train_list = list(df_train['image_id'])\n",
    "val_list = list(df_val['image_id'])"
   ]
  },
  {
   "cell_type": "code",
   "execution_count": 22,
   "id": "822441a3-ed49-45d8-a78f-bdba077ffb50",
   "metadata": {
    "tags": []
   },
   "outputs": [],
   "source": [
    "df_data.set_index('image_id', inplace=True)"
   ]
  },
  {
   "cell_type": "code",
   "execution_count": 23,
   "id": "85123671-078d-4d02-b795-f9dee5524268",
   "metadata": {
    "tags": []
   },
   "outputs": [],
   "source": [
    "def transfer_train_images():\n",
    "    for image in train_list:\n",
    "    \n",
    "        fname = image + '.jpg'\n",
    "        label = df_data.loc[image,'dx']\n",
    "\n",
    "        if fname in part1:\n",
    "            # source path to image\n",
    "            src = os.path.join(base_dir+'/HAM10000_images_part_1', fname)\n",
    "            # destination path to image\n",
    "            dst = os.path.join(train_dir, label, fname)\n",
    "            # copy the image from the source to the destination\n",
    "            shutil.copyfile(src, dst)\n",
    "\n",
    "        if fname in part2:\n",
    "            # source path to image\n",
    "            src = os.path.join(base_dir+'/HAM10000_images_part_2', fname)\n",
    "            # destination path to image\n",
    "            dst = os.path.join(train_dir, label, fname)\n",
    "            # copy the image from the source to the destination\n",
    "            shutil.copyfile(src, dst)"
   ]
  },
  {
   "cell_type": "code",
   "execution_count": 24,
   "id": "c1c1ca56-3d6c-4510-b2ec-31dc54fa6fd3",
   "metadata": {
    "tags": []
   },
   "outputs": [],
   "source": [
    "# transfer_train_images()"
   ]
  },
  {
   "cell_type": "code",
   "execution_count": 25,
   "id": "16d4fa29-fc92-4a57-8934-4efd2d19e4bd",
   "metadata": {
    "tags": []
   },
   "outputs": [],
   "source": [
    "def transfer_val_images():\n",
    "    for image in val_list:\n",
    "    \n",
    "        fname = image + '.jpg'\n",
    "        label = df_data.loc[image,'dx']\n",
    "\n",
    "        if fname in part1:\n",
    "            # source path to image\n",
    "            src = os.path.join(base_dir+'/HAM10000_images_part_1', fname)\n",
    "            # destination path to image\n",
    "            dst = os.path.join(val_dir, label, fname)\n",
    "            # copy the image from the source to the destination\n",
    "            shutil.copyfile(src, dst)\n",
    "\n",
    "        if fname in part2:\n",
    "            # source path to image\n",
    "            src = os.path.join(base_dir+'/HAM10000_images_part_2', fname)\n",
    "            # destination path to image\n",
    "            dst = os.path.join(val_dir, label, fname)\n",
    "            # copy the image from the source to the destination\n",
    "            shutil.copyfile(src, dst)"
   ]
  },
  {
   "cell_type": "code",
   "execution_count": 26,
   "id": "c8cd72fb-9dbd-463a-813a-984a41316a91",
   "metadata": {
    "tags": []
   },
   "outputs": [],
   "source": [
    "# transfer_val_images()"
   ]
  },
  {
   "cell_type": "code",
   "execution_count": 27,
   "id": "a45c4296-e70d-4fa0-b1fa-7aa79a42e670",
   "metadata": {
    "tags": []
   },
   "outputs": [
    {
     "data": {
      "text/plain": [
       "nv       5822\n",
       "mel      1067\n",
       "bkl      1011\n",
       "bcc       479\n",
       "akiec     297\n",
       "vasc      129\n",
       "df        107\n",
       "Name: dx, dtype: int64"
      ]
     },
     "execution_count": 27,
     "metadata": {},
     "output_type": "execute_result"
    }
   ],
   "source": [
    "df_train['dx'].value_counts()"
   ]
  },
  {
   "cell_type": "code",
   "execution_count": 28,
   "id": "a25722e9-542f-4d20-b9a1-a063beac69eb",
   "metadata": {
    "tags": []
   },
   "outputs": [
    {
     "name": "stdout",
     "output_type": "stream",
     "text": [
      "883\n",
      "46\n",
      "88\n",
      "35\n",
      "30\n",
      "13\n",
      "8\n"
     ]
    }
   ],
   "source": [
    "print(len(os.listdir(base_dir+'/Test/nv')))\n",
    "print(len(os.listdir(base_dir+'/Test/mel')))\n",
    "print(len(os.listdir(base_dir+'/Test/bkl')))\n",
    "print(len(os.listdir(base_dir+'/Test//bcc')))\n",
    "print(len(os.listdir(base_dir+'/Test/akiec')))\n",
    "print(len(os.listdir(base_dir+'/Test/vasc')))\n",
    "print(len(os.listdir(base_dir+'/Test/df')))"
   ]
  },
  {
   "cell_type": "code",
   "execution_count": 29,
   "id": "810d4356-f915-4a96-b5cf-5332b5a902e1",
   "metadata": {
    "tags": []
   },
   "outputs": [
    {
     "data": {
      "text/plain": [
       "nv       883\n",
       "bkl       88\n",
       "mel       46\n",
       "bcc       35\n",
       "akiec     30\n",
       "vasc      13\n",
       "df         8\n",
       "Name: dx, dtype: int64"
      ]
     },
     "execution_count": 29,
     "metadata": {},
     "output_type": "execute_result"
    }
   ],
   "source": [
    "df_val['dx'].value_counts()"
   ]
  },
  {
   "cell_type": "markdown",
   "id": "6ae6b036-b8c7-4aa0-9647-2fa18674f8a6",
   "metadata": {},
   "source": [
    "There is definitely a class imbalance in the provided dataset, one way to deal with it it so augmenting the class of images "
   ]
  },
  {
   "cell_type": "code",
   "execution_count": 30,
   "id": "7ffb0e69-c6d3-4da9-a024-7cd560d4089b",
   "metadata": {
    "tags": []
   },
   "outputs": [],
   "source": [
    "data_directory=base_dir+\"/Train\"\n",
    "dataset = ImageFolder(root=data_directory)"
   ]
  },
  {
   "cell_type": "code",
   "execution_count": 31,
   "id": "0c2cfda0-6f8e-4090-880a-97794460cd45",
   "metadata": {
    "tags": []
   },
   "outputs": [
    {
     "data": {
      "text/plain": [
       "['akiec', 'bcc', 'bkl', 'df', 'mel', 'nv', 'vasc']"
      ]
     },
     "execution_count": 31,
     "metadata": {},
     "output_type": "execute_result"
    }
   ],
   "source": [
    "dataset.classes"
   ]
  },
  {
   "cell_type": "code",
   "execution_count": 32,
   "id": "c521f5a6-ab29-4ba2-a476-738d302bb309",
   "metadata": {
    "tags": []
   },
   "outputs": [],
   "source": [
    "def perform_augmentation():\n",
    "    # note that we are not augmenting class 'nv'\n",
    "    class_list = ['mel','bkl','bcc','akiec','vasc','df']\n",
    "\n",
    "    for item in class_list:\n",
    "\n",
    "        # We are creating temporary directories here because we delete these directories later\n",
    "        # create a base dir\n",
    "        aug_dir = 'aug_dir'\n",
    "        os.mkdir(aug_dir)\n",
    "        # create a dir within the base dir to store images of the same class\n",
    "        img_dir = os.path.join(aug_dir, 'img_dir')\n",
    "        os.mkdir(img_dir)\n",
    "\n",
    "        # Choose a class\n",
    "        img_class = item\n",
    "\n",
    "        # list all images in that directory\n",
    "        img_list = os.listdir(base_dir+'/Train/' + img_class)\n",
    "\n",
    "        # Copy images from the class train dir to the img_dir e.g. class 'mel'\n",
    "        for fname in img_list:\n",
    "            # source path to image\n",
    "            if fname.lower().endswith(('.png', '.jpg', '.jpeg', '.bmp', '.gif')):\n",
    "                src = os.path.join(base_dir+'/Train/' + img_class, fname)\n",
    "                # destination path to image\n",
    "                dst = os.path.join(img_dir, fname)\n",
    "                # copy the image from the source to the destination\n",
    "                shutil.copyfile(src, dst)\n",
    "\n",
    "\n",
    "        # point to a dir containing the images and not to the images themselves\n",
    "        path = aug_dir\n",
    "        save_path = base_dir+'/Train/'  + img_class\n",
    "\n",
    "        # Create a data generator\n",
    "        datagen = ImageDataGenerator(\n",
    "            rotation_range=180,\n",
    "            width_shift_range=0.1,\n",
    "            height_shift_range=0.1,\n",
    "            zoom_range=0.1,\n",
    "            horizontal_flip=True,\n",
    "            vertical_flip=True,\n",
    "            #brightness_range=(0.9,1.1),\n",
    "            fill_mode='nearest')\n",
    "\n",
    "        batch_size = 50\n",
    "\n",
    "        aug_datagen = datagen.flow_from_directory(path,\n",
    "                                               save_to_dir=save_path,\n",
    "                                               save_format='jpg',\n",
    "                                                        target_size=(224,224),\n",
    "                                                        batch_size=batch_size)\n",
    "\n",
    "\n",
    "\n",
    "        # Generate the augmented images and add them to the training folders\n",
    "\n",
    "        ###########\n",
    "\n",
    "        num_aug_images_wanted = 6000 # total number of images we want to have in each class\n",
    "\n",
    "        ###########\n",
    "\n",
    "        num_files = len(os.listdir(img_dir))\n",
    "        num_batches = int(np.ceil((num_aug_images_wanted-num_files)/batch_size))\n",
    "\n",
    "        # run the generator and create about 6000 augmented images\n",
    "        for i in range(0,num_batches):\n",
    "\n",
    "            imgs, labels = next(aug_datagen)\n",
    "\n",
    "        # delete temporary directory with the raw image files\n",
    "        shutil.rmtree('aug_dir')"
   ]
  },
  {
   "cell_type": "code",
   "execution_count": 33,
   "id": "fe21d6b0-203e-495a-aa2c-183fad457eee",
   "metadata": {
    "tags": []
   },
   "outputs": [],
   "source": [
    "# perform_augmentation()"
   ]
  },
  {
   "cell_type": "code",
   "execution_count": 34,
   "id": "9709ca8b-4b04-497b-8ffe-8d9bbc4ae28a",
   "metadata": {
    "tags": []
   },
   "outputs": [
    {
     "name": "stdout",
     "output_type": "stream",
     "text": [
      "nv ------> 5822\n",
      "mel -----> 5885\n",
      "bkl -----> 5855\n",
      "bcc -----> 5798\n",
      "akiec ---> 5990\n",
      "vasc ----> 5210\n",
      "df ------> 4330\n"
     ]
    }
   ],
   "source": [
    "# check how many train images we have in each folder\n",
    "\n",
    "print('nv ------>', len(os.listdir(base_dir+'/Train/nv')))\n",
    "print('mel ----->', len(os.listdir(base_dir+'/Train/mel')))\n",
    "print('bkl ----->', len(os.listdir(base_dir+'/Train/bkl')))\n",
    "print('bcc ----->', len(os.listdir(base_dir+'/Train//bcc')))\n",
    "print('akiec --->', len(os.listdir(base_dir+'/Train/akiec')))\n",
    "print('vasc ---->', len(os.listdir(base_dir+'/Train/vasc')))\n",
    "print('df ------>', len(os.listdir(base_dir+'/Train/df')))"
   ]
  },
  {
   "cell_type": "code",
   "execution_count": 35,
   "id": "d0b4c018-d623-4f11-a7ef-4103ce031e94",
   "metadata": {
    "tags": []
   },
   "outputs": [],
   "source": [
    "# plots images with labels within jupyter notebook\n",
    "# source: https://github.com/smileservices/keras_utils/blob/master/utils.py\n",
    "\n",
    "def plots(ims, figsize=(12,6), rows=5, interp=False, titles=None): # 12,6\n",
    "    if type(ims[0]) is np.ndarray:\n",
    "        ims = np.array(ims).astype(np.uint8)\n",
    "        if (ims.shape[-1] != 3):\n",
    "            ims = ims.transpose((0,2,3,1))\n",
    "    f = plt.figure(figsize=figsize)\n",
    "    cols = len(ims)//rows if len(ims) % 2 == 0 else len(ims)//rows + 1\n",
    "    for i in range(len(ims)):\n",
    "        sp = f.add_subplot(rows, cols, i+1)\n",
    "        sp.axis('Off')\n",
    "        if titles is not None:\n",
    "            sp.set_title(titles[i], fontsize=16)\n",
    "        plt.imshow(ims[i], interpolation=None if interp else 'none')\n",
    "        \n",
    "# plots(imgs, titles=None) # titles=labels will display the image labels"
   ]
  },
  {
   "cell_type": "code",
   "execution_count": 36,
   "id": "382ef757-143b-4fa5-909e-38796a0201eb",
   "metadata": {
    "tags": []
   },
   "outputs": [
    {
     "data": {
      "text/html": [
       "<div>\n",
       "<style scoped>\n",
       "    .dataframe tbody tr th:only-of-type {\n",
       "        vertical-align: middle;\n",
       "    }\n",
       "\n",
       "    .dataframe tbody tr th {\n",
       "        vertical-align: top;\n",
       "    }\n",
       "\n",
       "    .dataframe thead th {\n",
       "        text-align: right;\n",
       "    }\n",
       "</style>\n",
       "<table border=\"1\" class=\"dataframe\">\n",
       "  <thead>\n",
       "    <tr style=\"text-align: right;\">\n",
       "      <th></th>\n",
       "      <th>lesion_id</th>\n",
       "      <th>image_id</th>\n",
       "      <th>dx</th>\n",
       "      <th>dx_type</th>\n",
       "      <th>age</th>\n",
       "      <th>sex</th>\n",
       "      <th>localization</th>\n",
       "      <th>dataset</th>\n",
       "      <th>duplicates</th>\n",
       "      <th>train_or_val</th>\n",
       "    </tr>\n",
       "  </thead>\n",
       "  <tbody>\n",
       "    <tr>\n",
       "      <th>0</th>\n",
       "      <td>HAM_0000118</td>\n",
       "      <td>ISIC_0027419</td>\n",
       "      <td>bkl</td>\n",
       "      <td>histo</td>\n",
       "      <td>80.0</td>\n",
       "      <td>male</td>\n",
       "      <td>scalp</td>\n",
       "      <td>vidir_modern</td>\n",
       "      <td>has_duplicates</td>\n",
       "      <td>train</td>\n",
       "    </tr>\n",
       "    <tr>\n",
       "      <th>1</th>\n",
       "      <td>HAM_0000118</td>\n",
       "      <td>ISIC_0025030</td>\n",
       "      <td>bkl</td>\n",
       "      <td>histo</td>\n",
       "      <td>80.0</td>\n",
       "      <td>male</td>\n",
       "      <td>scalp</td>\n",
       "      <td>vidir_modern</td>\n",
       "      <td>has_duplicates</td>\n",
       "      <td>train</td>\n",
       "    </tr>\n",
       "    <tr>\n",
       "      <th>2</th>\n",
       "      <td>HAM_0002730</td>\n",
       "      <td>ISIC_0026769</td>\n",
       "      <td>bkl</td>\n",
       "      <td>histo</td>\n",
       "      <td>80.0</td>\n",
       "      <td>male</td>\n",
       "      <td>scalp</td>\n",
       "      <td>vidir_modern</td>\n",
       "      <td>has_duplicates</td>\n",
       "      <td>train</td>\n",
       "    </tr>\n",
       "    <tr>\n",
       "      <th>3</th>\n",
       "      <td>HAM_0002730</td>\n",
       "      <td>ISIC_0025661</td>\n",
       "      <td>bkl</td>\n",
       "      <td>histo</td>\n",
       "      <td>80.0</td>\n",
       "      <td>male</td>\n",
       "      <td>scalp</td>\n",
       "      <td>vidir_modern</td>\n",
       "      <td>has_duplicates</td>\n",
       "      <td>train</td>\n",
       "    </tr>\n",
       "    <tr>\n",
       "      <th>4</th>\n",
       "      <td>HAM_0001466</td>\n",
       "      <td>ISIC_0031633</td>\n",
       "      <td>bkl</td>\n",
       "      <td>histo</td>\n",
       "      <td>75.0</td>\n",
       "      <td>male</td>\n",
       "      <td>ear</td>\n",
       "      <td>vidir_modern</td>\n",
       "      <td>has_duplicates</td>\n",
       "      <td>train</td>\n",
       "    </tr>\n",
       "    <tr>\n",
       "      <th>...</th>\n",
       "      <td>...</td>\n",
       "      <td>...</td>\n",
       "      <td>...</td>\n",
       "      <td>...</td>\n",
       "      <td>...</td>\n",
       "      <td>...</td>\n",
       "      <td>...</td>\n",
       "      <td>...</td>\n",
       "      <td>...</td>\n",
       "      <td>...</td>\n",
       "    </tr>\n",
       "    <tr>\n",
       "      <th>10010</th>\n",
       "      <td>HAM_0002867</td>\n",
       "      <td>ISIC_0033084</td>\n",
       "      <td>akiec</td>\n",
       "      <td>histo</td>\n",
       "      <td>40.0</td>\n",
       "      <td>male</td>\n",
       "      <td>abdomen</td>\n",
       "      <td>vidir_modern</td>\n",
       "      <td>has_duplicates</td>\n",
       "      <td>train</td>\n",
       "    </tr>\n",
       "    <tr>\n",
       "      <th>10011</th>\n",
       "      <td>HAM_0002867</td>\n",
       "      <td>ISIC_0033550</td>\n",
       "      <td>akiec</td>\n",
       "      <td>histo</td>\n",
       "      <td>40.0</td>\n",
       "      <td>male</td>\n",
       "      <td>abdomen</td>\n",
       "      <td>vidir_modern</td>\n",
       "      <td>has_duplicates</td>\n",
       "      <td>train</td>\n",
       "    </tr>\n",
       "    <tr>\n",
       "      <th>10012</th>\n",
       "      <td>HAM_0002867</td>\n",
       "      <td>ISIC_0033536</td>\n",
       "      <td>akiec</td>\n",
       "      <td>histo</td>\n",
       "      <td>40.0</td>\n",
       "      <td>male</td>\n",
       "      <td>abdomen</td>\n",
       "      <td>vidir_modern</td>\n",
       "      <td>has_duplicates</td>\n",
       "      <td>train</td>\n",
       "    </tr>\n",
       "    <tr>\n",
       "      <th>10013</th>\n",
       "      <td>HAM_0000239</td>\n",
       "      <td>ISIC_0032854</td>\n",
       "      <td>akiec</td>\n",
       "      <td>histo</td>\n",
       "      <td>80.0</td>\n",
       "      <td>male</td>\n",
       "      <td>face</td>\n",
       "      <td>vidir_modern</td>\n",
       "      <td>has_duplicates</td>\n",
       "      <td>train</td>\n",
       "    </tr>\n",
       "    <tr>\n",
       "      <th>10014</th>\n",
       "      <td>HAM_0003521</td>\n",
       "      <td>ISIC_0032258</td>\n",
       "      <td>mel</td>\n",
       "      <td>histo</td>\n",
       "      <td>70.0</td>\n",
       "      <td>female</td>\n",
       "      <td>back</td>\n",
       "      <td>vidir_modern</td>\n",
       "      <td>has_duplicates</td>\n",
       "      <td>train</td>\n",
       "    </tr>\n",
       "  </tbody>\n",
       "</table>\n",
       "<p>8912 rows × 10 columns</p>\n",
       "</div>"
      ],
      "text/plain": [
       "         lesion_id      image_id     dx dx_type   age     sex localization  \\\n",
       "0      HAM_0000118  ISIC_0027419    bkl   histo  80.0    male        scalp   \n",
       "1      HAM_0000118  ISIC_0025030    bkl   histo  80.0    male        scalp   \n",
       "2      HAM_0002730  ISIC_0026769    bkl   histo  80.0    male        scalp   \n",
       "3      HAM_0002730  ISIC_0025661    bkl   histo  80.0    male        scalp   \n",
       "4      HAM_0001466  ISIC_0031633    bkl   histo  75.0    male          ear   \n",
       "...            ...           ...    ...     ...   ...     ...          ...   \n",
       "10010  HAM_0002867  ISIC_0033084  akiec   histo  40.0    male      abdomen   \n",
       "10011  HAM_0002867  ISIC_0033550  akiec   histo  40.0    male      abdomen   \n",
       "10012  HAM_0002867  ISIC_0033536  akiec   histo  40.0    male      abdomen   \n",
       "10013  HAM_0000239  ISIC_0032854  akiec   histo  80.0    male         face   \n",
       "10014  HAM_0003521  ISIC_0032258    mel   histo  70.0  female         back   \n",
       "\n",
       "            dataset      duplicates train_or_val  \n",
       "0      vidir_modern  has_duplicates        train  \n",
       "1      vidir_modern  has_duplicates        train  \n",
       "2      vidir_modern  has_duplicates        train  \n",
       "3      vidir_modern  has_duplicates        train  \n",
       "4      vidir_modern  has_duplicates        train  \n",
       "...             ...             ...          ...  \n",
       "10010  vidir_modern  has_duplicates        train  \n",
       "10011  vidir_modern  has_duplicates        train  \n",
       "10012  vidir_modern  has_duplicates        train  \n",
       "10013  vidir_modern  has_duplicates        train  \n",
       "10014  vidir_modern  has_duplicates        train  \n",
       "\n",
       "[8912 rows x 10 columns]"
      ]
     },
     "execution_count": 36,
     "metadata": {},
     "output_type": "execute_result"
    }
   ],
   "source": [
    "df_train"
   ]
  },
  {
   "cell_type": "code",
   "execution_count": 37,
   "id": "1b34350b-d9dd-41fd-9d5d-9a1d1d7864c6",
   "metadata": {
    "tags": []
   },
   "outputs": [],
   "source": [
    "def requirementsForModelTraining(model):\n",
    "    blurpool = BlurPool(\n",
    "    replace_convs=True, # Blur before convs\n",
    "    replace_maxpools=True, # Blur before max-pools\n",
    "    blur_first=True # Blur before conv/max-pool)\n",
    "    )\n",
    "    optimizer = optim.Adam(model.parameters(), lr=0.0001)\n",
    "    algorithms=[blurpool]\n",
    "    return algorithms, optimizer"
   ]
  },
  {
   "cell_type": "code",
   "execution_count": 67,
   "id": "c99d15da-a58e-4b77-9547-136768289ec9",
   "metadata": {
    "tags": []
   },
   "outputs": [],
   "source": [
    "class_names = ['akiec', 'bcc', 'bkl', 'df', 'mel', 'nv', 'vasc']\n",
    "\n",
    "def evaluate_model(model, num_of_classes=7):  \n",
    "    model.eval()\n",
    "    accuracy_metric = torchmetrics.classification.MulticlassAccuracy(num_classes=num_classes, average='micro')\n",
    "    true_labels = []\n",
    "    predicted_labels = []\n",
    "    correct = 0\n",
    "    total = 0\n",
    "    with torch.no_grad():\n",
    "        for inputs, targets in valid_dataloader:\n",
    "            # Move data to the same device as the model (CPU or GPU)\n",
    "            device = torch.device(\"cuda\" if torch.cuda.is_available() else \"cpu\")\n",
    "            inputs, targets = inputs.to(device), targets.to(device)\n",
    "\n",
    "            # Perform the forward pass and get the outputs\n",
    "            outputs = model(inputs)\n",
    "\n",
    "            # Get the predicted class by finding the index with the highest score\n",
    "            _, predicted = torch.max(outputs.data, 1)\n",
    "\n",
    "            # Accumulate the true labels and predicted labels for each batch\n",
    "            true_labels.extend(targets.cpu().numpy())\n",
    "            predicted_labels.extend(predicted.cpu().numpy())\n",
    "            total += targets.size(0)\n",
    "            correct += (predicted == targets).sum().item()\n",
    "            \n",
    "    # Convert the lists to numpy arrays\n",
    "    true_labels = np.array(true_labels)\n",
    "    predicted_labels = np.array(predicted_labels)\n",
    "\n",
    "    # Create the confusion matrix\n",
    "    conf_matrix = confusion_matrix(true_labels, predicted_labels)\n",
    "\n",
    "    plt.figure(figsize=(8, 6))\n",
    "    sns.heatmap(conf_matrix, annot=True, fmt=\"d\", cmap=\"Blues\", xticklabels=class_names, yticklabels=class_names)\n",
    "    plt.xlabel(\"Predicted Labels\")\n",
    "    plt.ylabel(\"True Labels\")\n",
    "    plt.title(\"Confusion Matrix\")\n",
    "    plt.show()\n",
    "    TP = np.diag(conf_matrix)\n",
    "    FP = np.sum(conf_matrix, axis=0) - TP\n",
    "    FN = np.sum(conf_matrix, axis=1) - TP\n",
    "    TN = np.sum(conf_matrix) - (TP + FP + FN)\n",
    "\n",
    "    accuracyForEachClass = (TP + TN) / np.sum(conf_matrix)\n",
    "\n",
    "    # Print the results\n",
    "    accuracy = 100 * correct / total\n",
    "    print(f\"Accuracy on the evaluation dataset: {accuracy:.2f}%\")\n",
    "    print(\"\\n\")\n",
    "    print(\"Accuracy:\", accuracyForEachClass)"
   ]
  },
  {
   "cell_type": "code",
   "execution_count": 42,
   "id": "3c326820-8ca5-4272-9522-670c0ece21fc",
   "metadata": {
    "tags": []
   },
   "outputs": [],
   "source": [
    "# Set your desired image size\n",
    "image_size = 224\n",
    "\n",
    "train_path=base_dir + '/Train/'\n",
    "valid_path=base_dir + '/Test/'\n",
    "\n",
    "# Define data transforms for training and validation datasets\n",
    "train_transforms = transforms.Compose([\n",
    "    transforms.Resize((image_size, image_size)),\n",
    "    transforms.RandomHorizontalFlip(),\n",
    "    transforms.ToTensor(),\n",
    "    transforms.Normalize(mean=[0.485, 0.456, 0.406], std=[0.229, 0.224, 0.225]),\n",
    "])\n",
    "\n",
    "valid_transforms = transforms.Compose([\n",
    "    transforms.Resize((image_size, image_size)),\n",
    "    transforms.ToTensor(),\n",
    "    transforms.Normalize(mean=[0.485, 0.456, 0.406], std=[0.229, 0.224, 0.225]),\n",
    "])\n",
    "\n",
    "# Load datasets from the directories using torchvision.datasets.ImageFolder\n",
    "train_dataset = datasets.ImageFolder(root=train_path, transform=train_transforms)\n",
    "valid_dataset = datasets.ImageFolder(root=valid_path, transform=valid_transforms)\n",
    "\n",
    "# Create data loaders\n",
    "train_batch_size = 10\n",
    "val_batch_size = 10\n",
    "\n",
    "train_dataloader = torch.utils.data.DataLoader(train_dataset, batch_size=train_batch_size, shuffle=True)\n",
    "valid_dataloader = torch.utils.data.DataLoader(valid_dataset, batch_size=val_batch_size, shuffle=False)\n",
    "\n",
    "# Note: shuffle=False causes the test dataset to not be shuffled\n",
    "test_dataloader = torch.utils.data.DataLoader(valid_dataset, batch_size=1, shuffle=False)\n"
   ]
  },
  {
   "cell_type": "code",
   "execution_count": 43,
   "id": "091cf245-a8c7-4b5c-83f2-8c4277cccf22",
   "metadata": {
    "tags": []
   },
   "outputs": [
    {
     "data": {
      "image/png": "[encoded data removed]",
      "text/plain": [
       "<Figure size 640x480 with 1 Axes>"
      ]
     },
     "metadata": {},
     "output_type": "display_data"
    }
   ],
   "source": [
    "\n",
    "# Fetch one batch from the test_dataloader\n",
    "for images, labels in test_dataloader:\n",
    "    break\n",
    "\n",
    "# Unnormalize the image data for display\n",
    "mean = np.array([0.485, 0.456, 0.406])\n",
    "std = np.array([0.229, 0.224, 0.225])\n",
    "images = images.numpy().transpose((0, 2, 3, 1))\n",
    "images = std * images + mean\n",
    "images = np.clip(images, 0, 1)\n",
    "\n",
    "# Display the image\n",
    "plt.imshow(images[0])\n",
    "plt.title(f\"Label: {labels[0].item()}\")\n",
    "plt.axis('off')\n",
    "plt.show()\n"
   ]
  },
  {
   "cell_type": "code",
   "execution_count": 44,
   "id": "16285834-ed9e-42ce-baa3-5f122b42ff9b",
   "metadata": {
    "tags": []
   },
   "outputs": [],
   "source": [
    "class_weights={\n",
    "    0: 1.0, # akiec\n",
    "    1: 1.0, # bcc\n",
    "    2: 1.0, # bkl\n",
    "    3: 1.0, # df\n",
    "    4: 3.0, # mel # Try to make the model more sensitive to Melanoma.\n",
    "    5: 1.0, # nv\n",
    "    6: 1.0, # vasc\n",
    "}"
   ]
  },
  {
   "cell_type": "code",
   "execution_count": 77,
   "id": "aef3e502-b726-470c-b6e7-74d3458a1da9",
   "metadata": {
    "tags": []
   },
   "outputs": [],
   "source": [
    "\n",
    "\n",
    "class ResNetCustomModel(ComposerModel):\n",
    "\n",
    "    def __init__(self):\n",
    "        super().__init__()\n",
    "        self.model = torchvision.models.resnet18()\n",
    "\n",
    "    def forward(self, batch):  # batch is the output of the dataloader\n",
    "        # Determine the format of the batch and handle it accordingly\n",
    "        if isinstance(batch, tuple):\n",
    "            # If the batch is in the format (inputs, targets)\n",
    "            inputs, targets = batch\n",
    "        else:\n",
    "            # If the batch is just the inputs\n",
    "            inputs = batch\n",
    "\n",
    "        return self.model(inputs)\n",
    "\n",
    "    def loss(self, outputs, batch):\n",
    "        # pass batches and `forward` outputs to the loss\n",
    "        _, targets = batch\n",
    "        return F.cross_entropy(outputs, targets)"
   ]
  },
  {
   "cell_type": "code",
   "execution_count": 78,
   "id": "c6c0359e-3dba-40fc-97fb-76426ab15c28",
   "metadata": {
    "tags": []
   },
   "outputs": [],
   "source": [
    "\n",
    "\n",
    "resnetModel = ResNetCustomModel()\n",
    "\n",
    "\n",
    "logger = InMemoryLogger()\n",
    "trainer = Trainer(\n",
    "    model=resnetModel,\n",
    "    optimizers=optimizer,\n",
    "    train_dataloader=train_dataloader, \n",
    "    eval_dataloader=valid_dataloader,\n",
    "    max_duration='10ep',\n",
    "    algorithms=algorithms,\n",
    "    loggers=logger\n",
    ")"
   ]
  },
  {
   "cell_type": "code",
   "execution_count": 67,
   "id": "281e8f7a-420d-445c-9df8-b4b462f02305",
   "metadata": {
    "tags": []
   },
   "outputs": [
    {
     "name": "stderr",
     "output_type": "stream",
     "text": [
      "******************************\n",
      "Config:\n",
      "blurpool/num_blurconv_layers: 6\n",
      "blurpool/num_blurpool_layers: 1\n",
      "enabled_algorithms/BlurPool: true\n",
      "node_name: unknown because NODENAME environment variable not set\n",
      "num_gpus_per_node: 1\n",
      "num_nodes: 1\n",
      "rank_zero_seed: 2519990940\n",
      "\n",
      "******************************\n"
     ]
    },
    {
     "data": {
      "application/vnd.jupyter.widget-view+json": {
       "model_id": "d2202d5694384dfd8ab9246f4cc8ce6e",
       "version_major": 2,
       "version_minor": 0
      },
      "text/plain": [
       "train          Epoch   0:    0%|| 0/3889 [00:00<?, ?ba/s]         "
      ]
     },
     "metadata": {},
     "output_type": "display_data"
    },
    {
     "data": {
      "application/vnd.jupyter.widget-view+json": {
       "model_id": "e5a1ec602f754c55800cf68de2a4334d",
       "version_major": 2,
       "version_minor": 0
      },
      "text/plain": [
       "eval           Epoch   0:    0%|| 0/111 [00:00<?, ?ba/s]         "
      ]
     },
     "metadata": {},
     "output_type": "display_data"
    },
    {
     "name": "stderr",
     "output_type": "stream",
     "text": [
      "/home/ec2-user/anaconda3/envs/pytorch_p310/lib/python3.10/site-packages/composer/core/data_spec.py:35: UserWarning: Cannot split tensor of length 3 into batches of size 10. As it is smaller, no splitting will be done. This may happen on the last batch of a dataset if it is a smaller size than the microbatch size.\n",
      "  warnings.warn(f'Cannot split tensor of length {len(t)} into batches of size {microbatch_size}. '\n"
     ]
    },
    {
     "data": {
      "application/vnd.jupyter.widget-view+json": {
       "model_id": "70be8a2af64c4bf2a9f051ae44cbffb8",
       "version_major": 2,
       "version_minor": 0
      },
      "text/plain": [
       "train          Epoch   1:    0%|| 0/3889 [00:00<?, ?ba/s]         "
      ]
     },
     "metadata": {},
     "output_type": "display_data"
    },
    {
     "data": {
      "application/vnd.jupyter.widget-view+json": {
       "model_id": "931e5c6f362444d1ad7b29bb01712fe3",
       "version_major": 2,
       "version_minor": 0
      },
      "text/plain": [
       "eval           Epoch   1:    0%|| 0/111 [00:00<?, ?ba/s]         "
      ]
     },
     "metadata": {},
     "output_type": "display_data"
    },
    {
     "data": {
      "application/vnd.jupyter.widget-view+json": {
       "model_id": "621199e6b81e4e13b3b3649fde81878b",
       "version_major": 2,
       "version_minor": 0
      },
      "text/plain": [
       "train          Epoch   2:    0%|| 0/3889 [00:00<?, ?ba/s]         "
      ]
     },
     "metadata": {},
     "output_type": "display_data"
    },
    {
     "data": {
      "application/vnd.jupyter.widget-view+json": {
       "model_id": "a3a2825cfdce42928a2b529e5bcf102e",
       "version_major": 2,
       "version_minor": 0
      },
      "text/plain": [
       "eval           Epoch   2:    0%|| 0/111 [00:00<?, ?ba/s]         "
      ]
     },
     "metadata": {},
     "output_type": "display_data"
    },
    {
     "data": {
      "application/vnd.jupyter.widget-view+json": {
       "model_id": "5734b6006fae4d39889617c40ac89506",
       "version_major": 2,
       "version_minor": 0
      },
      "text/plain": [
       "train          Epoch   3:    0%|| 0/3889 [00:00<?, ?ba/s]         "
      ]
     },
     "metadata": {},
     "output_type": "display_data"
    },
    {
     "data": {
      "application/vnd.jupyter.widget-view+json": {
       "model_id": "be313f622c124169967e6bf9619d1878",
       "version_major": 2,
       "version_minor": 0
      },
      "text/plain": [
       "eval           Epoch   3:    0%|| 0/111 [00:00<?, ?ba/s]         "
      ]
     },
     "metadata": {},
     "output_type": "display_data"
    },
    {
     "data": {
      "application/vnd.jupyter.widget-view+json": {
       "model_id": "b1083dc57321400aa7fb25089e5ad6b9",
       "version_major": 2,
       "version_minor": 0
      },
      "text/plain": [
       "train          Epoch   4:    0%|| 0/3889 [00:00<?, ?ba/s]         "
      ]
     },
     "metadata": {},
     "output_type": "display_data"
    },
    {
     "data": {
      "application/vnd.jupyter.widget-view+json": {
       "model_id": "606f519795fa4b60b796b232c8450dbb",
       "version_major": 2,
       "version_minor": 0
      },
      "text/plain": [
       "eval           Epoch   4:    0%|| 0/111 [00:00<?, ?ba/s]         "
      ]
     },
     "metadata": {},
     "output_type": "display_data"
    },
    {
     "data": {
      "application/vnd.jupyter.widget-view+json": {
       "model_id": "1c8a0462f392425b907ee61ec79fc9ea",
       "version_major": 2,
       "version_minor": 0
      },
      "text/plain": [
       "train          Epoch   5:    0%|| 0/3889 [00:00<?, ?ba/s]         "
      ]
     },
     "metadata": {},
     "output_type": "display_data"
    },
    {
     "data": {
      "application/vnd.jupyter.widget-view+json": {
       "model_id": "5215cbede7c64471ba4a3228b3d03572",
       "version_major": 2,
       "version_minor": 0
      },
      "text/plain": [
       "eval           Epoch   5:    0%|| 0/111 [00:00<?, ?ba/s]         "
      ]
     },
     "metadata": {},
     "output_type": "display_data"
    },
    {
     "data": {
      "application/vnd.jupyter.widget-view+json": {
       "model_id": "57eb495dc01844b4b59b693577797d47",
       "version_major": 2,
       "version_minor": 0
      },
      "text/plain": [
       "train          Epoch   6:    0%|| 0/3889 [00:00<?, ?ba/s]         "
      ]
     },
     "metadata": {},
     "output_type": "display_data"
    },
    {
     "data": {
      "application/vnd.jupyter.widget-view+json": {
       "model_id": "83c968018b0f49fc83eb89698132967f",
       "version_major": 2,
       "version_minor": 0
      },
      "text/plain": [
       "eval           Epoch   6:    0%|| 0/111 [00:00<?, ?ba/s]         "
      ]
     },
     "metadata": {},
     "output_type": "display_data"
    },
    {
     "data": {
      "application/vnd.jupyter.widget-view+json": {
       "model_id": "20d0aa1cf91b492592c4323b2d90be78",
       "version_major": 2,
       "version_minor": 0
      },
      "text/plain": [
       "train          Epoch   7:    0%|| 0/3889 [00:00<?, ?ba/s]         "
      ]
     },
     "metadata": {},
     "output_type": "display_data"
    },
    {
     "data": {
      "application/vnd.jupyter.widget-view+json": {
       "model_id": "b5db4de486a848fa9d3bab32e5c7476b",
       "version_major": 2,
       "version_minor": 0
      },
      "text/plain": [
       "eval           Epoch   7:    0%|| 0/111 [00:00<?, ?ba/s]         "
      ]
     },
     "metadata": {},
     "output_type": "display_data"
    },
    {
     "data": {
      "application/vnd.jupyter.widget-view+json": {
       "model_id": "9e8371e52dfe46f5bd5d78ee66c59350",
       "version_major": 2,
       "version_minor": 0
      },
      "text/plain": [
       "train          Epoch   8:    0%|| 0/3889 [00:00<?, ?ba/s]         "
      ]
     },
     "metadata": {},
     "output_type": "display_data"
    },
    {
     "data": {
      "application/vnd.jupyter.widget-view+json": {
       "model_id": "9eca24f83f8f43a6a028af122b19f0d6",
       "version_major": 2,
       "version_minor": 0
      },
      "text/plain": [
       "eval           Epoch   8:    0%|| 0/111 [00:00<?, ?ba/s]         "
      ]
     },
     "metadata": {},
     "output_type": "display_data"
    },
    {
     "data": {
      "application/vnd.jupyter.widget-view+json": {
       "model_id": "a6b31d5047ad45a39bcd59f1070778b2",
       "version_major": 2,
       "version_minor": 0
      },
      "text/plain": [
       "train          Epoch   9:    0%|| 0/3889 [00:00<?, ?ba/s]         "
      ]
     },
     "metadata": {},
     "output_type": "display_data"
    },
    {
     "data": {
      "application/vnd.jupyter.widget-view+json": {
       "model_id": "7ec16b7e82b24e65b6520fcfb0348f30",
       "version_major": 2,
       "version_minor": 0
      },
      "text/plain": [
       "eval           Epoch   9:    0%|| 0/111 [00:00<?, ?ba/s]         "
      ]
     },
     "metadata": {},
     "output_type": "display_data"
    },
    {
     "name": "stdout",
     "output_type": "stream",
     "text": [
      "It took 2124.1183 seconds to train\n"
     ]
    }
   ],
   "source": [
    "start_time = time.perf_counter()\n",
    "trainer.fit() # <-- Your training loop in action!\n",
    "end_time = time.perf_counter()\n",
    "print(f\"It took {end_time - start_time:0.4f} seconds to train\")"
   ]
  },
  {
   "cell_type": "code",
   "execution_count": 68,
   "id": "4cf93454-4a8b-491c-a936-5ff7b6f75e92",
   "metadata": {
    "tags": []
   },
   "outputs": [],
   "source": [
    "torch.save(model.state_dict(), 'trained_model_composer_10ep.pth')"
   ]
  },
  {
   "cell_type": "markdown",
   "id": "af4948c8-503c-4d49-bdeb-2d6c51adeaa0",
   "metadata": {},
   "source": [
    "Resnet Model without BlurPool"
   ]
  },
  {
   "cell_type": "code",
   "execution_count": 72,
   "id": "c29bbda9-4eef-4ade-9fe0-50e4755a8645",
   "metadata": {
    "tags": []
   },
   "outputs": [
    {
     "name": "stdout",
     "output_type": "stream",
     "text": [
      "Accuracy on the evaluation dataset: 88.94%\n"
     ]
    }
   ],
   "source": [
    "model.eval()\n",
    "correct = 0\n",
    "total = 0\n",
    "\n",
    "with torch.no_grad():\n",
    "    for inputs, targets in valid_dataloader:\n",
    "        # Move data to the same device as the model (CPU or GPU)\n",
    "        device = torch.device(\"cuda\" if torch.cuda.is_available() else \"cpu\")\n",
    "        inputs, targets = inputs.to(device), targets.to(device)\n",
    "\n",
    "        # Forward pass (compute predictions)\n",
    "        outputs = model(inputs)\n",
    "\n",
    "        # Get the predicted class by finding the index with the highest score\n",
    "        _, predicted = torch.max(outputs.data, 1)\n",
    "\n",
    "        # Accumulate the total number of samples and correctly predicted samples\n",
    "        total += targets.size(0)\n",
    "        correct += (predicted == targets).sum().item()\n",
    "\n",
    "# Calculate the overall accuracy\n",
    "accuracy = 100 * correct / total\n",
    "print(f\"Accuracy on the evaluation dataset: {accuracy:.2f}%\")\n"
   ]
  },
  {
   "cell_type": "code",
   "execution_count": 79,
   "id": "89a79cd8-478e-4253-87b9-039f387cdc00",
   "metadata": {
    "tags": []
   },
   "outputs": [],
   "source": [
    "\n",
    "\n",
    "modelWOBP = ResNetCustomModel()\n",
    "optimizer = optim.Adam(modelWOBP.parameters(), lr=0.0001)\n",
    "\n",
    "logger = InMemoryLogger()\n",
    "trainerWOBP = Trainer(\n",
    "    model=modelWOBP,\n",
    "    optimizers=optimizer,\n",
    "    train_dataloader=train_dataloader, \n",
    "    eval_dataloader=valid_dataloader,\n",
    "    max_duration='10ep',\n",
    "    loggers=logger\n",
    ")"
   ]
  },
  {
   "cell_type": "code",
   "execution_count": 45,
   "id": "2e70b05e-0159-49ad-ac7b-4b21638d2f98",
   "metadata": {
    "tags": []
   },
   "outputs": [
    {
     "name": "stderr",
     "output_type": "stream",
     "text": [
      "******************************\n",
      "Config:\n",
      "node_name: unknown because NODENAME environment variable not set\n",
      "num_gpus_per_node: 1\n",
      "num_nodes: 1\n",
      "rank_zero_seed: 1127122937\n",
      "\n",
      "******************************\n"
     ]
    },
    {
     "data": {
      "application/vnd.jupyter.widget-view+json": {
       "model_id": "cc55d1a44c834e088d7c1042593692e4",
       "version_major": 2,
       "version_minor": 0
      },
      "text/plain": [
       "train          Epoch   0:    0%|| 0/3889 [00:00<?, ?ba/s]         "
      ]
     },
     "metadata": {},
     "output_type": "display_data"
    },
    {
     "data": {
      "application/vnd.jupyter.widget-view+json": {
       "model_id": "afc206e8dd634c089945089d3bb7711c",
       "version_major": 2,
       "version_minor": 0
      },
      "text/plain": [
       "eval           Epoch   0:    0%|| 0/111 [00:00<?, ?ba/s]         "
      ]
     },
     "metadata": {},
     "output_type": "display_data"
    },
    {
     "name": "stderr",
     "output_type": "stream",
     "text": [
      "/home/ec2-user/anaconda3/envs/pytorch_p310/lib/python3.10/site-packages/composer/core/data_spec.py:35: UserWarning: Cannot split tensor of length 3 into batches of size 10. As it is smaller, no splitting will be done. This may happen on the last batch of a dataset if it is a smaller size than the microbatch size.\n",
      "  warnings.warn(f'Cannot split tensor of length {len(t)} into batches of size {microbatch_size}. '\n"
     ]
    },
    {
     "data": {
      "application/vnd.jupyter.widget-view+json": {
       "model_id": "00e91522ae454227b7e09409a23f4b41",
       "version_major": 2,
       "version_minor": 0
      },
      "text/plain": [
       "train          Epoch   1:    0%|| 0/3889 [00:00<?, ?ba/s]         "
      ]
     },
     "metadata": {},
     "output_type": "display_data"
    },
    {
     "data": {
      "application/vnd.jupyter.widget-view+json": {
       "model_id": "ad6487bf28104a06b05b70409be6ab4a",
       "version_major": 2,
       "version_minor": 0
      },
      "text/plain": [
       "eval           Epoch   1:    0%|| 0/111 [00:00<?, ?ba/s]         "
      ]
     },
     "metadata": {},
     "output_type": "display_data"
    },
    {
     "data": {
      "application/vnd.jupyter.widget-view+json": {
       "model_id": "b6be007a33e84d1a917668382e610d00",
       "version_major": 2,
       "version_minor": 0
      },
      "text/plain": [
       "train          Epoch   2:    0%|| 0/3889 [00:00<?, ?ba/s]         "
      ]
     },
     "metadata": {},
     "output_type": "display_data"
    },
    {
     "data": {
      "application/vnd.jupyter.widget-view+json": {
       "model_id": "da44bb3fbe6a4f7c81059b1ac4a17e0e",
       "version_major": 2,
       "version_minor": 0
      },
      "text/plain": [
       "eval           Epoch   2:    0%|| 0/111 [00:00<?, ?ba/s]         "
      ]
     },
     "metadata": {},
     "output_type": "display_data"
    },
    {
     "data": {
      "application/vnd.jupyter.widget-view+json": {
       "model_id": "0a09bb0125c740c5a91bb4ab5e5c785d",
       "version_major": 2,
       "version_minor": 0
      },
      "text/plain": [
       "train          Epoch   3:    0%|| 0/3889 [00:00<?, ?ba/s]         "
      ]
     },
     "metadata": {},
     "output_type": "display_data"
    },
    {
     "data": {
      "application/vnd.jupyter.widget-view+json": {
       "model_id": "c88c69b038f445579d6d956094194e69",
       "version_major": 2,
       "version_minor": 0
      },
      "text/plain": [
       "eval           Epoch   3:    0%|| 0/111 [00:00<?, ?ba/s]         "
      ]
     },
     "metadata": {},
     "output_type": "display_data"
    },
    {
     "data": {
      "application/vnd.jupyter.widget-view+json": {
       "model_id": "55265cb078b942b9a3102cff6bba00cd",
       "version_major": 2,
       "version_minor": 0
      },
      "text/plain": [
       "train          Epoch   4:    0%|| 0/3889 [00:00<?, ?ba/s]         "
      ]
     },
     "metadata": {},
     "output_type": "display_data"
    },
    {
     "data": {
      "application/vnd.jupyter.widget-view+json": {
       "model_id": "2830b29d22fa4113ab29e53a90f7c03c",
       "version_major": 2,
       "version_minor": 0
      },
      "text/plain": [
       "eval           Epoch   4:    0%|| 0/111 [00:00<?, ?ba/s]         "
      ]
     },
     "metadata": {},
     "output_type": "display_data"
    },
    {
     "data": {
      "application/vnd.jupyter.widget-view+json": {
       "model_id": "639fcb51a38e47fb8607e64ef3ea5b6e",
       "version_major": 2,
       "version_minor": 0
      },
      "text/plain": [
       "train          Epoch   5:    0%|| 0/3889 [00:00<?, ?ba/s]         "
      ]
     },
     "metadata": {},
     "output_type": "display_data"
    },
    {
     "data": {
      "application/vnd.jupyter.widget-view+json": {
       "model_id": "a06a2134798a43ca896074e90698d6eb",
       "version_major": 2,
       "version_minor": 0
      },
      "text/plain": [
       "eval           Epoch   5:    0%|| 0/111 [00:00<?, ?ba/s]         "
      ]
     },
     "metadata": {},
     "output_type": "display_data"
    },
    {
     "data": {
      "application/vnd.jupyter.widget-view+json": {
       "model_id": "2162cb86b155427b81f920c95ace747e",
       "version_major": 2,
       "version_minor": 0
      },
      "text/plain": [
       "train          Epoch   6:    0%|| 0/3889 [00:00<?, ?ba/s]         "
      ]
     },
     "metadata": {},
     "output_type": "display_data"
    },
    {
     "data": {
      "application/vnd.jupyter.widget-view+json": {
       "model_id": "089d7aa2ec574dd89b56de87f72205b0",
       "version_major": 2,
       "version_minor": 0
      },
      "text/plain": [
       "eval           Epoch   6:    0%|| 0/111 [00:00<?, ?ba/s]         "
      ]
     },
     "metadata": {},
     "output_type": "display_data"
    },
    {
     "data": {
      "application/vnd.jupyter.widget-view+json": {
       "model_id": "b53acf740d3242e08a1cf9206b8df62a",
       "version_major": 2,
       "version_minor": 0
      },
      "text/plain": [
       "train          Epoch   7:    0%|| 0/3889 [00:00<?, ?ba/s]         "
      ]
     },
     "metadata": {},
     "output_type": "display_data"
    },
    {
     "data": {
      "application/vnd.jupyter.widget-view+json": {
       "model_id": "df069abac48e4c81b95d0426d17a2763",
       "version_major": 2,
       "version_minor": 0
      },
      "text/plain": [
       "eval           Epoch   7:    0%|| 0/111 [00:00<?, ?ba/s]         "
      ]
     },
     "metadata": {},
     "output_type": "display_data"
    },
    {
     "data": {
      "application/vnd.jupyter.widget-view+json": {
       "model_id": "47d7635619784b9ab29a2504e5e21a5d",
       "version_major": 2,
       "version_minor": 0
      },
      "text/plain": [
       "train          Epoch   8:    0%|| 0/3889 [00:00<?, ?ba/s]         "
      ]
     },
     "metadata": {},
     "output_type": "display_data"
    },
    {
     "data": {
      "application/vnd.jupyter.widget-view+json": {
       "model_id": "903a78308bbe401d9ebf1ea803f6b78e",
       "version_major": 2,
       "version_minor": 0
      },
      "text/plain": [
       "eval           Epoch   8:    0%|| 0/111 [00:00<?, ?ba/s]         "
      ]
     },
     "metadata": {},
     "output_type": "display_data"
    },
    {
     "data": {
      "application/vnd.jupyter.widget-view+json": {
       "model_id": "c905df29eec74ef8916a716d6489b7cd",
       "version_major": 2,
       "version_minor": 0
      },
      "text/plain": [
       "train          Epoch   9:    0%|| 0/3889 [00:00<?, ?ba/s]         "
      ]
     },
     "metadata": {},
     "output_type": "display_data"
    },
    {
     "data": {
      "application/vnd.jupyter.widget-view+json": {
       "model_id": "0b294ac55b57412ba4c0a939f73c78a5",
       "version_major": 2,
       "version_minor": 0
      },
      "text/plain": [
       "eval           Epoch   9:    0%|| 0/111 [00:00<?, ?ba/s]         "
      ]
     },
     "metadata": {},
     "output_type": "display_data"
    },
    {
     "name": "stdout",
     "output_type": "stream",
     "text": [
      "It took 2734.7752 seconds to train\n"
     ]
    }
   ],
   "source": [
    "start_time = time.perf_counter()\n",
    "trainerWOBP.fit() # <-- Your training loop in action!\n",
    "end_time = time.perf_counter()\n",
    "print(f\"It took {end_time - start_time:0.4f} seconds to train\")"
   ]
  },
  {
   "cell_type": "code",
   "execution_count": 46,
   "id": "d30ec2c4-2b7f-4423-a64a-398698aa3b38",
   "metadata": {
    "tags": []
   },
   "outputs": [
    {
     "name": "stdout",
     "output_type": "stream",
     "text": [
      "Accuracy on the evaluation dataset: 87.85%\n"
     ]
    }
   ],
   "source": [
    "modelWOBP.eval()\n",
    "correct = 0\n",
    "total = 0\n",
    "\n",
    "with torch.no_grad():\n",
    "    for inputs, targets in valid_dataloader:\n",
    "        # Move data to the same device as the model (CPU or GPU)\n",
    "        device = torch.device(\"cuda\" if torch.cuda.is_available() else \"cpu\")\n",
    "        inputs, targets = inputs.to(device), targets.to(device)\n",
    "\n",
    "        # Forward pass (compute predictions)\n",
    "        outputs = modelWOBP(inputs)\n",
    "\n",
    "        # Get the predicted class by finding the index with the highest score\n",
    "        _, predicted = torch.max(outputs.data, 1)\n",
    "\n",
    "        # Accumulate the total number of samples and correctly predicted samples\n",
    "        total += targets.size(0)\n",
    "        correct += (predicted == targets).sum().item()\n",
    "\n",
    "# Calculate the overall accuracy\n",
    "accuracy = 100 * correct / total\n",
    "print(f\"Accuracy on the evaluation dataset: {accuracy:.2f}%\")\n"
   ]
  },
  {
   "cell_type": "markdown",
   "id": "83cd74e5-7757-4c06-9737-6daf5be80e10",
   "metadata": {},
   "source": [
    "## Statistics\n",
    "\n",
    "**ResNet18** with **BlurPool** gives an accuracy of **88.94%**\n",
    "\n",
    "**ResNet18** without **BlurPool** gives an accuracy of **87.85%**\n",
    "\n",
    "**Time To Train ResNet18** with BlurPool is 2124.83 seconds\n",
    "\n",
    "**Time To Train ResNet18** without BlurPool is 2734.7752 seconds"
   ]
  },
  {
   "cell_type": "code",
   "execution_count": null,
   "id": "977e6226-17a7-40be-b7b3-3384d15c8639",
   "metadata": {
    "tags": []
   },
   "outputs": [],
   "source": [
    "torch.cuda.empty_cache()"
   ]
  },
  {
   "cell_type": "markdown",
   "id": "faba3ed8-991f-4c7d-b260-e5120ce8d3b3",
   "metadata": {},
   "source": [
    "**EfficientNet**"
   ]
  },
  {
   "cell_type": "code",
   "execution_count": 39,
   "id": "270fb11c-3353-4267-a207-178b9b9f69da",
   "metadata": {
    "tags": []
   },
   "outputs": [],
   "source": [
    "# Set your desired image size\n",
    "image_size = 320\n",
    "\n",
    "train_path=base_dir + '/Train/'\n",
    "valid_path=base_dir + '/Test/'\n",
    "\n",
    "# Define data transforms for training and validation datasets\n",
    "train_transforms = transforms.Compose([\n",
    "    transforms.Resize((image_size, image_size)),\n",
    "    transforms.RandomHorizontalFlip(),\n",
    "    transforms.ToTensor(),\n",
    "    transforms.Normalize(mean=[0.485, 0.456, 0.406], std=[0.229, 0.224, 0.225]),\n",
    "])\n",
    "\n",
    "valid_transforms = transforms.Compose([\n",
    "    transforms.Resize((image_size, image_size)),\n",
    "    transforms.ToTensor(),\n",
    "    transforms.Normalize(mean=[0.485, 0.456, 0.406], std=[0.229, 0.224, 0.225]),\n",
    "])\n",
    "\n",
    "# Load datasets from the directories using torchvision.datasets.ImageFolder\n",
    "train_dataset = datasets.ImageFolder(root=train_path, transform=train_transforms)\n",
    "valid_dataset = datasets.ImageFolder(root=valid_path, transform=valid_transforms)\n",
    "\n",
    "# Create data loaders\n",
    "train_batch_size = 8\n",
    "val_batch_size = 8\n",
    "\n",
    "train_dataloader = torch.utils.data.DataLoader(train_dataset, batch_size=train_batch_size, shuffle=True)\n",
    "valid_dataloader = torch.utils.data.DataLoader(valid_dataset, batch_size=val_batch_size, shuffle=False)\n",
    "\n",
    "# Note: shuffle=False causes the test dataset to not be shuffled\n",
    "test_dataloader = torch.utils.data.DataLoader(valid_dataset, batch_size=1, shuffle=False)\n"
   ]
  },
  {
   "cell_type": "code",
   "execution_count": 40,
   "id": "fcc33050-1545-47c7-8601-cad0e3ab88c8",
   "metadata": {
    "tags": []
   },
   "outputs": [],
   "source": [
    "class EfficientNetB3(ComposerModel):\n",
    "    def __init__(self, num_classes):\n",
    "        super().__init__()\n",
    "        self.model = torchvision.models.efficientnet_b3()\n",
    "        \n",
    "        # Modify the final classification head\n",
    "        in_features = self.model.classifier[-1].in_features\n",
    "        self.model.classifier[-1] = torch.nn.Linear(in_features, num_classes)\n",
    "        \n",
    "        self.num_classes = num_classes\n",
    "        self.train_accuracy = torchmetrics.classification.MulticlassAccuracy(num_classes=num_classes, average='micro')\n",
    "        self.val_accuracy = torchmetrics.classification.MulticlassAccuracy(num_classes=num_classes, average='micro')\n",
    "\n",
    "    def forward(self, batch):\n",
    "        if isinstance(batch, tuple):\n",
    "            inputs, targets = batch\n",
    "        else:\n",
    "            inputs = batch\n",
    "        return self.model(inputs)\n",
    "\n",
    "    def loss(self, outputs, batch):\n",
    "        _, targets = batch\n",
    "        return F.cross_entropy(outputs, targets)\n",
    "\n",
    "    def eval_forward(self, batch, outputs=None):\n",
    "        inputs, targets = batch\n",
    "        if outputs is not None and outputs.numel() > 0:\n",
    "            if outputs.dim() > 1 and outputs.shape[1] != self.num_classes:\n",
    "                outputs = torch.softmax(outputs, dim=1)\n",
    "            return outputs\n",
    "        else:\n",
    "            return self.forward(inputs)\n",
    "\n",
    "    def update_metric(self, batch, outputs, metric):\n",
    "        _, targets = batch\n",
    "\n",
    "        # Ensure that the outputs tensor has the correct number of classes\n",
    "        if outputs.dim() > 1 and outputs.shape[1] != self.num_classes:\n",
    "            outputs = torch.softmax(outputs, dim=1)  # Apply softmax if necessary\n",
    "\n",
    "        # Print the number of classes attribute\n",
    "        metric.update(outputs, targets)\n",
    "        \n",
    "    def _eval_train_metrics(self, device_batch):\n",
    "            # Separate inputs and targets from the device_batch\n",
    "            inputs, targets = device_batch\n",
    "\n",
    "            # Set the model to evaluation mode\n",
    "            self.model.eval()\n",
    "\n",
    "            # Perform the forward pass and get the outputs\n",
    "            with torch.no_grad():\n",
    "                outputs = self.model(inputs)\n",
    "                eval_outputs = self.eval_forward(device_batch, outputs)\n",
    "\n",
    "            # Update the metrics with the computed outputs\n",
    "            for _, metric in self.state.train_metrics.items():\n",
    "                self.update_metric(device_batch, eval_outputs, metric)\n",
    "\n",
    "    def get_metrics(self, is_train=False):\n",
    "        return {'MulticlassAccuracy': self.train_accuracy} if is_train else {'MulticlassAccuracy': self.val_accuracy}\n"
   ]
  },
  {
   "cell_type": "code",
   "execution_count": 40,
   "id": "6b1e59a3-b23d-4a01-8e37-f58c4ed255c3",
   "metadata": {
    "tags": []
   },
   "outputs": [],
   "source": [
    "efficientModel = EfficientNetB3(num_classes=7)\n",
    "algorithms, optimizer,  = requirementsForModelTraining(efficientModel)\n",
    "logger = InMemoryLogger()\n",
    "trainer = Trainer(\n",
    "    model=efficientModel,\n",
    "    optimizers=optimizer,\n",
    "    train_dataloader=train_dataloader, \n",
    "    eval_dataloader=valid_dataloader,\n",
    "    max_duration='10ep',\n",
    "    algorithms=algorithms,\n",
    "    loggers=logger\n",
    ")"
   ]
  },
  {
   "cell_type": "code",
   "execution_count": 41,
   "id": "774f8920-8baf-4d2a-bd41-c1f309fb2a28",
   "metadata": {
    "tags": []
   },
   "outputs": [
    {
     "name": "stderr",
     "output_type": "stream",
     "text": [
      "******************************\n",
      "Config:\n",
      "blurpool/num_blurconv_layers: 4\n",
      "blurpool/num_blurpool_layers: 0\n",
      "enabled_algorithms/BlurPool: true\n",
      "node_name: unknown because NODENAME environment variable not set\n",
      "num_gpus_per_node: 1\n",
      "num_nodes: 1\n",
      "rank_zero_seed: 829998277\n",
      "\n",
      "******************************\n"
     ]
    },
    {
     "data": {
      "application/vnd.jupyter.widget-view+json": {
       "model_id": "813fac409b2a4311a6da24e487be9bd7",
       "version_major": 2,
       "version_minor": 0
      },
      "text/plain": [
       "train          Epoch   0:    0%|| 0/4862 [00:00<?, ?ba/s]         "
      ]
     },
     "metadata": {},
     "output_type": "display_data"
    },
    {
     "name": "stderr",
     "output_type": "stream",
     "text": [
      "/home/ec2-user/anaconda3/envs/pytorch_p310/lib/python3.10/site-packages/composer/core/data_spec.py:35: UserWarning: Cannot split tensor of length 2 into batches of size 8. As it is smaller, no splitting will be done. This may happen on the last batch of a dataset if it is a smaller size than the microbatch size.\n",
      "  warnings.warn(f'Cannot split tensor of length {len(t)} into batches of size {microbatch_size}. '\n"
     ]
    },
    {
     "data": {
      "application/vnd.jupyter.widget-view+json": {
       "model_id": "07427107b13e4c53b89a7087da68eafb",
       "version_major": 2,
       "version_minor": 0
      },
      "text/plain": [
       "eval           Epoch   0:    0%|| 0/138 [00:00<?, ?ba/s]         "
      ]
     },
     "metadata": {},
     "output_type": "display_data"
    },
    {
     "name": "stderr",
     "output_type": "stream",
     "text": [
      "/home/ec2-user/anaconda3/envs/pytorch_p310/lib/python3.10/site-packages/composer/core/data_spec.py:35: UserWarning: Cannot split tensor of length 7 into batches of size 8. As it is smaller, no splitting will be done. This may happen on the last batch of a dataset if it is a smaller size than the microbatch size.\n",
      "  warnings.warn(f'Cannot split tensor of length {len(t)} into batches of size {microbatch_size}. '\n"
     ]
    },
    {
     "data": {
      "application/vnd.jupyter.widget-view+json": {
       "model_id": "702d2eae179348c5bcf43b5fe3beadd6",
       "version_major": 2,
       "version_minor": 0
      },
      "text/plain": [
       "train          Epoch   1:    0%|| 0/4862 [00:00<?, ?ba/s]         "
      ]
     },
     "metadata": {},
     "output_type": "display_data"
    },
    {
     "data": {
      "application/vnd.jupyter.widget-view+json": {
       "model_id": "ac90a8a8fed445dd9b731b85d82cf6f6",
       "version_major": 2,
       "version_minor": 0
      },
      "text/plain": [
       "eval           Epoch   1:    0%|| 0/138 [00:00<?, ?ba/s]         "
      ]
     },
     "metadata": {},
     "output_type": "display_data"
    },
    {
     "data": {
      "application/vnd.jupyter.widget-view+json": {
       "model_id": "7a404b43c43241d2885034d1bd61e2b1",
       "version_major": 2,
       "version_minor": 0
      },
      "text/plain": [
       "train          Epoch   2:    0%|| 0/4862 [00:00<?, ?ba/s]         "
      ]
     },
     "metadata": {},
     "output_type": "display_data"
    },
    {
     "data": {
      "application/vnd.jupyter.widget-view+json": {
       "model_id": "42cf3b1c5d1b4b2596bb0887fba52cd5",
       "version_major": 2,
       "version_minor": 0
      },
      "text/plain": [
       "eval           Epoch   2:    0%|| 0/138 [00:00<?, ?ba/s]         "
      ]
     },
     "metadata": {},
     "output_type": "display_data"
    },
    {
     "data": {
      "application/vnd.jupyter.widget-view+json": {
       "model_id": "379d9b7a67114d1cbfed71dbda425ec9",
       "version_major": 2,
       "version_minor": 0
      },
      "text/plain": [
       "train          Epoch   3:    0%|| 0/4862 [00:00<?, ?ba/s]         "
      ]
     },
     "metadata": {},
     "output_type": "display_data"
    },
    {
     "data": {
      "application/vnd.jupyter.widget-view+json": {
       "model_id": "c6ee6a0a1b624b79b37798cb81b577db",
       "version_major": 2,
       "version_minor": 0
      },
      "text/plain": [
       "eval           Epoch   3:    0%|| 0/138 [00:00<?, ?ba/s]         "
      ]
     },
     "metadata": {},
     "output_type": "display_data"
    },
    {
     "data": {
      "application/vnd.jupyter.widget-view+json": {
       "model_id": "88f3c112bf2241eba1dac9c3b38ff35e",
       "version_major": 2,
       "version_minor": 0
      },
      "text/plain": [
       "train          Epoch   4:    0%|| 0/4862 [00:00<?, ?ba/s]         "
      ]
     },
     "metadata": {},
     "output_type": "display_data"
    },
    {
     "data": {
      "application/vnd.jupyter.widget-view+json": {
       "model_id": "af7320bf88d54fb39941e86a42c73959",
       "version_major": 2,
       "version_minor": 0
      },
      "text/plain": [
       "eval           Epoch   4:    0%|| 0/138 [00:00<?, ?ba/s]         "
      ]
     },
     "metadata": {},
     "output_type": "display_data"
    },
    {
     "data": {
      "application/vnd.jupyter.widget-view+json": {
       "model_id": "db15159975ed4471a8468f1f1325f946",
       "version_major": 2,
       "version_minor": 0
      },
      "text/plain": [
       "train          Epoch   5:    0%|| 0/4862 [00:00<?, ?ba/s]         "
      ]
     },
     "metadata": {},
     "output_type": "display_data"
    },
    {
     "data": {
      "application/vnd.jupyter.widget-view+json": {
       "model_id": "25a1a8edbc334fd6a426eb4a64c4d6bd",
       "version_major": 2,
       "version_minor": 0
      },
      "text/plain": [
       "eval           Epoch   5:    0%|| 0/138 [00:00<?, ?ba/s]         "
      ]
     },
     "metadata": {},
     "output_type": "display_data"
    },
    {
     "data": {
      "application/vnd.jupyter.widget-view+json": {
       "model_id": "10aa560ff87e4693af64e81e62e4366d",
       "version_major": 2,
       "version_minor": 0
      },
      "text/plain": [
       "train          Epoch   6:    0%|| 0/4862 [00:00<?, ?ba/s]         "
      ]
     },
     "metadata": {},
     "output_type": "display_data"
    },
    {
     "data": {
      "application/vnd.jupyter.widget-view+json": {
       "model_id": "9f41b0da06eb41498ffda32066d05dc5",
       "version_major": 2,
       "version_minor": 0
      },
      "text/plain": [
       "eval           Epoch   6:    0%|| 0/138 [00:00<?, ?ba/s]         "
      ]
     },
     "metadata": {},
     "output_type": "display_data"
    },
    {
     "data": {
      "application/vnd.jupyter.widget-view+json": {
       "model_id": "b779d9ee5f3e410ba2fdb6f206e7176d",
       "version_major": 2,
       "version_minor": 0
      },
      "text/plain": [
       "train          Epoch   7:    0%|| 0/4862 [00:00<?, ?ba/s]         "
      ]
     },
     "metadata": {},
     "output_type": "display_data"
    },
    {
     "data": {
      "application/vnd.jupyter.widget-view+json": {
       "model_id": "9b9c457a666b41f6afd8df1072237c00",
       "version_major": 2,
       "version_minor": 0
      },
      "text/plain": [
       "eval           Epoch   7:    0%|| 0/138 [00:00<?, ?ba/s]         "
      ]
     },
     "metadata": {},
     "output_type": "display_data"
    },
    {
     "data": {
      "application/vnd.jupyter.widget-view+json": {
       "model_id": "f183cb68fffa403d9b14089a7f0143d1",
       "version_major": 2,
       "version_minor": 0
      },
      "text/plain": [
       "train          Epoch   8:    0%|| 0/4862 [00:00<?, ?ba/s]         "
      ]
     },
     "metadata": {},
     "output_type": "display_data"
    },
    {
     "data": {
      "application/vnd.jupyter.widget-view+json": {
       "model_id": "10a8c2b83c7043039d25d43f754c93b9",
       "version_major": 2,
       "version_minor": 0
      },
      "text/plain": [
       "eval           Epoch   8:    0%|| 0/138 [00:00<?, ?ba/s]         "
      ]
     },
     "metadata": {},
     "output_type": "display_data"
    },
    {
     "data": {
      "application/vnd.jupyter.widget-view+json": {
       "model_id": "96bfeae2217349998f8ae2bbb50e590b",
       "version_major": 2,
       "version_minor": 0
      },
      "text/plain": [
       "train          Epoch   9:    0%|| 0/4862 [00:00<?, ?ba/s]         "
      ]
     },
     "metadata": {},
     "output_type": "display_data"
    },
    {
     "data": {
      "application/vnd.jupyter.widget-view+json": {
       "model_id": "430acf1604fa4e9f883af51584b109c1",
       "version_major": 2,
       "version_minor": 0
      },
      "text/plain": [
       "eval           Epoch   9:    0%|| 0/138 [00:00<?, ?ba/s]         "
      ]
     },
     "metadata": {},
     "output_type": "display_data"
    },
    {
     "name": "stdout",
     "output_type": "stream",
     "text": [
      "It took 6744.6352 seconds to train\n"
     ]
    }
   ],
   "source": [
    "start_time = time.perf_counter()\n",
    "trainer.fit() # <-- Your training loop in action!\n",
    "end_time = time.perf_counter()\n",
    "print(f\"It took {end_time - start_time:0.4f} seconds to train\")"
   ]
  },
  {
   "cell_type": "code",
   "execution_count": 43,
   "id": "90c68ae8-9b2a-461e-8661-45528d02388b",
   "metadata": {
    "tags": []
   },
   "outputs": [
    {
     "name": "stdout",
     "output_type": "stream",
     "text": [
      "Accuracy on the evaluation dataset: 87.76%\n"
     ]
    }
   ],
   "source": [
    "# Set the model to evaluation mode\n",
    "efficientModel.eval()\n",
    "num_classes=7\n",
    "correct = 0\n",
    "total = 0\n",
    "# Create a metric instance for accuracy\n",
    "accuracy_metric = torchmetrics.classification.MulticlassAccuracy(num_classes=num_classes, average='micro')\n",
    "\n",
    "# Iterate over the data loader and calculate accuracy\n",
    "with torch.no_grad():\n",
    "    for inputs, targets in valid_dataloader:\n",
    "        # Move data to the same device as the model (CPU or GPU)\n",
    "        device = torch.device(\"cuda\" if torch.cuda.is_available() else \"cpu\")\n",
    "        inputs, targets = inputs.to(device), targets.to(device)\n",
    "\n",
    "        # Perform the forward pass and get the outputs\n",
    "        outputs = efficientModel(inputs)\n",
    "\n",
    "        # Get the predicted class by finding the index with the highest score\n",
    "        _, predicted = torch.max(outputs.data, 1)\n",
    "\n",
    "        # Accumulate the total number of samples and correctly predicted samples\n",
    "        total += targets.size(0)\n",
    "        correct += (predicted == targets).sum().item()\n",
    "        \n",
    "# Get the final accuracy value\n",
    "accuracy = 100 * correct / total\n",
    "print(f\"Accuracy on the evaluation dataset: {accuracy:.2f}%\")\n"
   ]
  },
  {
   "cell_type": "markdown",
   "id": "ef85da73-3937-4d76-ba06-ba2843ef3f45",
   "metadata": {},
   "source": [
    "## Efficient Net Without Blurpool"
   ]
  },
  {
   "cell_type": "code",
   "execution_count": 41,
   "id": "e3c2c93c-3ff4-45a1-80bb-ef17eee10e02",
   "metadata": {
    "tags": []
   },
   "outputs": [],
   "source": [
    "efficientModelWOBP = EfficientNetB3(num_classes=7)\n",
    "algorithms, optimizer,  = requirementsForModelTraining(efficientModelWOBP)\n",
    "logger = InMemoryLogger()\n",
    "trainer = Trainer(\n",
    "    model=efficientModelWOBP,\n",
    "    optimizers=optimizer,\n",
    "    train_dataloader=train_dataloader, \n",
    "    eval_dataloader=valid_dataloader,\n",
    "    max_duration='10ep',\n",
    "    loggers=logger\n",
    ")"
   ]
  },
  {
   "cell_type": "code",
   "execution_count": 42,
   "id": "8d677e03-4599-4a48-ad28-7f4c2368cccc",
   "metadata": {
    "tags": []
   },
   "outputs": [
    {
     "name": "stderr",
     "output_type": "stream",
     "text": [
      "******************************\n",
      "Config:\n",
      "node_name: unknown because NODENAME environment variable not set\n",
      "num_gpus_per_node: 1\n",
      "num_nodes: 1\n",
      "rank_zero_seed: 2070618928\n",
      "\n",
      "******************************\n"
     ]
    },
    {
     "data": {
      "application/vnd.jupyter.widget-view+json": {
       "model_id": "a5befcfed77b47048963272b740aa7b2",
       "version_major": 2,
       "version_minor": 0
      },
      "text/plain": [
       "train          Epoch   0:    0%|| 0/4862 [00:00<?, ?ba/s]         "
      ]
     },
     "metadata": {},
     "output_type": "display_data"
    },
    {
     "name": "stderr",
     "output_type": "stream",
     "text": [
      "/home/ec2-user/anaconda3/envs/pytorch_p310/lib/python3.10/site-packages/composer/core/data_spec.py:35: UserWarning: Cannot split tensor of length 2 into batches of size 8. As it is smaller, no splitting will be done. This may happen on the last batch of a dataset if it is a smaller size than the microbatch size.\n",
      "  warnings.warn(f'Cannot split tensor of length {len(t)} into batches of size {microbatch_size}. '\n"
     ]
    },
    {
     "data": {
      "application/vnd.jupyter.widget-view+json": {
       "model_id": "a1829dd6c6be42d082995a3182f592db",
       "version_major": 2,
       "version_minor": 0
      },
      "text/plain": [
       "eval           Epoch   0:    0%|| 0/138 [00:00<?, ?ba/s]         "
      ]
     },
     "metadata": {},
     "output_type": "display_data"
    },
    {
     "name": "stderr",
     "output_type": "stream",
     "text": [
      "/home/ec2-user/anaconda3/envs/pytorch_p310/lib/python3.10/site-packages/composer/core/data_spec.py:35: UserWarning: Cannot split tensor of length 7 into batches of size 8. As it is smaller, no splitting will be done. This may happen on the last batch of a dataset if it is a smaller size than the microbatch size.\n",
      "  warnings.warn(f'Cannot split tensor of length {len(t)} into batches of size {microbatch_size}. '\n"
     ]
    },
    {
     "data": {
      "application/vnd.jupyter.widget-view+json": {
       "model_id": "72632ab0609847c99752d9015cbf9e94",
       "version_major": 2,
       "version_minor": 0
      },
      "text/plain": [
       "train          Epoch   1:    0%|| 0/4862 [00:00<?, ?ba/s]         "
      ]
     },
     "metadata": {},
     "output_type": "display_data"
    },
    {
     "data": {
      "application/vnd.jupyter.widget-view+json": {
       "model_id": "5afd483d69834b3e90c1145902f6ca37",
       "version_major": 2,
       "version_minor": 0
      },
      "text/plain": [
       "eval           Epoch   1:    0%|| 0/138 [00:00<?, ?ba/s]         "
      ]
     },
     "metadata": {},
     "output_type": "display_data"
    },
    {
     "data": {
      "application/vnd.jupyter.widget-view+json": {
       "model_id": "236dffc7eefb410092ac9e323d2e50fa",
       "version_major": 2,
       "version_minor": 0
      },
      "text/plain": [
       "train          Epoch   2:    0%|| 0/4862 [00:00<?, ?ba/s]         "
      ]
     },
     "metadata": {},
     "output_type": "display_data"
    },
    {
     "data": {
      "application/vnd.jupyter.widget-view+json": {
       "model_id": "d97e476cb9284866909a4fa791009d5e",
       "version_major": 2,
       "version_minor": 0
      },
      "text/plain": [
       "eval           Epoch   2:    0%|| 0/138 [00:00<?, ?ba/s]         "
      ]
     },
     "metadata": {},
     "output_type": "display_data"
    },
    {
     "data": {
      "application/vnd.jupyter.widget-view+json": {
       "model_id": "c9291c846569402fac3637841d730e54",
       "version_major": 2,
       "version_minor": 0
      },
      "text/plain": [
       "train          Epoch   3:    0%|| 0/4862 [00:00<?, ?ba/s]         "
      ]
     },
     "metadata": {},
     "output_type": "display_data"
    },
    {
     "data": {
      "application/vnd.jupyter.widget-view+json": {
       "model_id": "a99e5e501e594023a92a7bb6fc18974a",
       "version_major": 2,
       "version_minor": 0
      },
      "text/plain": [
       "eval           Epoch   3:    0%|| 0/138 [00:00<?, ?ba/s]         "
      ]
     },
     "metadata": {},
     "output_type": "display_data"
    },
    {
     "data": {
      "application/vnd.jupyter.widget-view+json": {
       "model_id": "7f5444449e644cbcaea39e6c18ae775d",
       "version_major": 2,
       "version_minor": 0
      },
      "text/plain": [
       "train          Epoch   4:    0%|| 0/4862 [00:00<?, ?ba/s]         "
      ]
     },
     "metadata": {},
     "output_type": "display_data"
    },
    {
     "data": {
      "application/vnd.jupyter.widget-view+json": {
       "model_id": "d7a13b2964304505a4b788e99c7f2191",
       "version_major": 2,
       "version_minor": 0
      },
      "text/plain": [
       "eval           Epoch   4:    0%|| 0/138 [00:00<?, ?ba/s]         "
      ]
     },
     "metadata": {},
     "output_type": "display_data"
    },
    {
     "data": {
      "application/vnd.jupyter.widget-view+json": {
       "model_id": "4e2b6012f661414b9366c23945c8d204",
       "version_major": 2,
       "version_minor": 0
      },
      "text/plain": [
       "train          Epoch   5:    0%|| 0/4862 [00:00<?, ?ba/s]         "
      ]
     },
     "metadata": {},
     "output_type": "display_data"
    },
    {
     "data": {
      "application/vnd.jupyter.widget-view+json": {
       "model_id": "ee7161bce5f1491cbfa1957289eff18a",
       "version_major": 2,
       "version_minor": 0
      },
      "text/plain": [
       "eval           Epoch   5:    0%|| 0/138 [00:00<?, ?ba/s]         "
      ]
     },
     "metadata": {},
     "output_type": "display_data"
    },
    {
     "data": {
      "application/vnd.jupyter.widget-view+json": {
       "model_id": "c62cd1f31b9040fab78e96a3a5fa288f",
       "version_major": 2,
       "version_minor": 0
      },
      "text/plain": [
       "train          Epoch   6:    0%|| 0/4862 [00:00<?, ?ba/s]         "
      ]
     },
     "metadata": {},
     "output_type": "display_data"
    },
    {
     "data": {
      "application/vnd.jupyter.widget-view+json": {
       "model_id": "4548055164864cc080be3aacdecebc0a",
       "version_major": 2,
       "version_minor": 0
      },
      "text/plain": [
       "eval           Epoch   6:    0%|| 0/138 [00:00<?, ?ba/s]         "
      ]
     },
     "metadata": {},
     "output_type": "display_data"
    },
    {
     "data": {
      "application/vnd.jupyter.widget-view+json": {
       "model_id": "ae5c85fb4b6b469b8a3160424bae0a53",
       "version_major": 2,
       "version_minor": 0
      },
      "text/plain": [
       "train          Epoch   7:    0%|| 0/4862 [00:00<?, ?ba/s]         "
      ]
     },
     "metadata": {},
     "output_type": "display_data"
    },
    {
     "data": {
      "application/vnd.jupyter.widget-view+json": {
       "model_id": "f4bcaa1721244fb9966bf9c5b3a542a1",
       "version_major": 2,
       "version_minor": 0
      },
      "text/plain": [
       "eval           Epoch   7:    0%|| 0/138 [00:00<?, ?ba/s]         "
      ]
     },
     "metadata": {},
     "output_type": "display_data"
    },
    {
     "data": {
      "application/vnd.jupyter.widget-view+json": {
       "model_id": "53d032900e294fcda46df61cb74f22ce",
       "version_major": 2,
       "version_minor": 0
      },
      "text/plain": [
       "train          Epoch   8:    0%|| 0/4862 [00:00<?, ?ba/s]         "
      ]
     },
     "metadata": {},
     "output_type": "display_data"
    },
    {
     "data": {
      "application/vnd.jupyter.widget-view+json": {
       "model_id": "b51a79d0561147e397678aa7b20dd8f8",
       "version_major": 2,
       "version_minor": 0
      },
      "text/plain": [
       "eval           Epoch   8:    0%|| 0/138 [00:00<?, ?ba/s]         "
      ]
     },
     "metadata": {},
     "output_type": "display_data"
    },
    {
     "data": {
      "application/vnd.jupyter.widget-view+json": {
       "model_id": "9f117b1959654995ad19a6da7843a379",
       "version_major": 2,
       "version_minor": 0
      },
      "text/plain": [
       "train          Epoch   9:    0%|| 0/4862 [00:00<?, ?ba/s]         "
      ]
     },
     "metadata": {},
     "output_type": "display_data"
    },
    {
     "data": {
      "application/vnd.jupyter.widget-view+json": {
       "model_id": "5130098b3f3a433ebe668b553cb4d7de",
       "version_major": 2,
       "version_minor": 0
      },
      "text/plain": [
       "eval           Epoch   9:    0%|| 0/138 [00:00<?, ?ba/s]         "
      ]
     },
     "metadata": {},
     "output_type": "display_data"
    },
    {
     "name": "stdout",
     "output_type": "stream",
     "text": [
      "It took 6686.8272 seconds to train\n"
     ]
    }
   ],
   "source": [
    "start_time = time.perf_counter()\n",
    "trainer.fit() # <-- Your training loop in action!\n",
    "end_time = time.perf_counter()\n",
    "print(f\"It took {end_time - start_time:0.4f} seconds to train\")"
   ]
  },
  {
   "cell_type": "code",
   "execution_count": 66,
   "id": "0e0e46b5-36b2-4772-9498-7731fc4faeaa",
   "metadata": {
    "tags": []
   },
   "outputs": [
    {
     "data": {
      "image/png": "[encoded data removed]",
      "text/plain": [
       "<Figure size 800x600 with 2 Axes>"
      ]
     },
     "metadata": {},
     "output_type": "display_data"
    },
    {
     "name": "stdout",
     "output_type": "stream",
     "text": [
      "Accuracy on the evaluation dataset: 88.94%\n",
      "Accuracy: [0.97733454 0.98368087 0.94288305 0.98912058 0.95829556 0.92747053\n",
      " 1.        ]\n"
     ]
    }
   ],
   "source": [
    "evaluate_model(efficientModelWOBP)"
   ]
  },
  {
   "cell_type": "markdown",
   "id": "3804d06e-c67e-4efb-a6bb-9d1f3abbd58f",
   "metadata": {},
   "source": [
    "# InceptionNet\n"
   ]
  },
  {
   "cell_type": "code",
   "execution_count": 60,
   "id": "c6c57210-d293-4dcb-ba77-396ee3ed83be",
   "metadata": {
    "tags": []
   },
   "outputs": [],
   "source": [
    "import os\n",
    "os.environ['TORCH_USE_CUDA_DSA'] = '1'\n",
    "os.environ['CUDA_LAUNCH_BLOCKING']= '1'"
   ]
  },
  {
   "cell_type": "code",
   "execution_count": 61,
   "id": "b63b0493-ee1d-42c2-9736-8ababad1d2fc",
   "metadata": {
    "tags": []
   },
   "outputs": [],
   "source": [
    "import torch\n",
    "import torch.nn as nn\n",
    "import torch.nn.functional as F\n",
    "import torchmetrics\n",
    "import torchvision\n",
    "from torchvision import transforms\n",
    "\n",
    "from composer.models import ComposerModel\n",
    "from composer.trainer import Trainer\n",
    "\n",
    "class InceptionNet(ComposerModel):\n",
    "    def __init__(self, num_classes, weights=None):\n",
    "        super().__init__()\n",
    "        self.model = torchvision.models.inception_v3()\n",
    "        self.num_classes = num_classes\n",
    "\n",
    "        # Modify the final classification head\n",
    "        in_features = self.model.fc.in_features\n",
    "        self.model.fc = torch.nn.Linear(in_features, num_classes)\n",
    "\n",
    "        self.train_accuracy = torchmetrics.classification.MulticlassAccuracy(num_classes=num_classes, average='micro')\n",
    "        self.val_accuracy = torchmetrics.classification.MulticlassAccuracy(num_classes=num_classes, average='micro')\n",
    "\n",
    "    def forward(self, batch):\n",
    "        if isinstance(batch, tuple):\n",
    "            inputs, targets = batch\n",
    "        else:\n",
    "            inputs = batch\n",
    "        return self.model(inputs)\n",
    "\n",
    "    def loss(self, outputs, batch):\n",
    "        _, targets = batch\n",
    "\n",
    "        # Extract the necessary tensor from InceptionOutputs\n",
    "        logits = outputs.logits\n",
    "\n",
    "        return F.cross_entropy(logits, targets)\n",
    "\n",
    "    def eval_forward(self, batch, outputs):\n",
    "        inputs, targets = batch\n",
    "        if outputs is not None and outputs.numel() > 0:\n",
    "            if outputs.dim() > 1 and outputs.shape[1] != self.num_classes:\n",
    "                outputs = torch.softmax(outputs, dim=1)\n",
    "            return outputs\n",
    "        else:\n",
    "            return self.forward(inputs)\n",
    "\n",
    "    def update_metric(self, batch, outputs, metric):\n",
    "        _, targets = batch\n",
    "\n",
    "        # Ensure that the outputs tensor has the correct number of classes\n",
    "        if outputs.dim() > 1 and outputs.shape[1] != self.num_classes:\n",
    "            outputs = torch.softmax(outputs, dim=1)  # Apply softmax if necessary\n",
    "\n",
    "        metric.update(outputs, targets)\n",
    "\n",
    "    def get_metrics(self, is_train=False):\n",
    "        return {'MulticlassAccuracy': self.train_accuracy} if is_train else {'MulticlassAccuracy': self.val_accuracy}\n"
   ]
  },
  {
   "cell_type": "code",
   "execution_count": 63,
   "id": "0ef216ff-0ab1-4490-b8ca-5d5e32874dcb",
   "metadata": {
    "tags": []
   },
   "outputs": [
    {
     "ename": "RuntimeError",
     "evalue": "CUDA error: device-side assert triggered\nCUDA kernel errors might be asynchronously reported at some other API call, so the stacktrace below might be incorrect.\nFor debugging consider passing CUDA_LAUNCH_BLOCKING=1.\nCompile with `TORCH_USE_CUDA_DSA` to enable device-side assertions.\n",
     "output_type": "error",
     "traceback": [
      "\u001b[0;31m---------------------------------------------------------------------------\u001b[0m",
      "\u001b[0;31mRuntimeError\u001b[0m                              Traceback (most recent call last)",
      "Cell \u001b[0;32mIn[63], line 4\u001b[0m\n\u001b[1;32m      2\u001b[0m algorithms, optimizer \u001b[38;5;241m=\u001b[39m requirementsForModelTraining(inceptionModel)\n\u001b[1;32m      3\u001b[0m logger \u001b[38;5;241m=\u001b[39m InMemoryLogger()\n\u001b[0;32m----> 4\u001b[0m trainer \u001b[38;5;241m=\u001b[39m \u001b[43mTrainer\u001b[49m\u001b[43m(\u001b[49m\n\u001b[1;32m      5\u001b[0m \u001b[43m    \u001b[49m\u001b[43mmodel\u001b[49m\u001b[38;5;241;43m=\u001b[39;49m\u001b[43minceptionModel\u001b[49m\u001b[43m,\u001b[49m\n\u001b[1;32m      6\u001b[0m \u001b[43m    \u001b[49m\u001b[43moptimizers\u001b[49m\u001b[38;5;241;43m=\u001b[39;49m\u001b[43moptimizer\u001b[49m\u001b[43m,\u001b[49m\n\u001b[1;32m      7\u001b[0m \u001b[43m    \u001b[49m\u001b[43mtrain_dataloader\u001b[49m\u001b[38;5;241;43m=\u001b[39;49m\u001b[43mtrain_dataloader\u001b[49m\u001b[43m,\u001b[49m\u001b[43m \u001b[49m\n\u001b[1;32m      8\u001b[0m \u001b[43m    \u001b[49m\u001b[43meval_dataloader\u001b[49m\u001b[38;5;241;43m=\u001b[39;49m\u001b[43mvalid_dataloader\u001b[49m\u001b[43m,\u001b[49m\n\u001b[1;32m      9\u001b[0m \u001b[43m    \u001b[49m\u001b[43mmax_duration\u001b[49m\u001b[38;5;241;43m=\u001b[39;49m\u001b[38;5;124;43m'\u001b[39;49m\u001b[38;5;124;43m5ep\u001b[39;49m\u001b[38;5;124;43m'\u001b[39;49m\u001b[43m,\u001b[49m\n\u001b[1;32m     10\u001b[0m \u001b[43m    \u001b[49m\u001b[43malgorithms\u001b[49m\u001b[38;5;241;43m=\u001b[39;49m\u001b[43malgorithms\u001b[49m\u001b[43m,\u001b[49m\n\u001b[1;32m     11\u001b[0m \u001b[43m    \u001b[49m\u001b[43mloggers\u001b[49m\u001b[38;5;241;43m=\u001b[39;49m\u001b[43mlogger\u001b[49m\n\u001b[1;32m     12\u001b[0m \u001b[43m)\u001b[49m\n\u001b[1;32m     14\u001b[0m start_time \u001b[38;5;241m=\u001b[39m time\u001b[38;5;241m.\u001b[39mperf_counter()\n\u001b[1;32m     15\u001b[0m trainer\u001b[38;5;241m.\u001b[39mfit()  \u001b[38;5;66;03m# <-- Your training loop in action!\u001b[39;00m\n",
      "File \u001b[0;32m~/anaconda3/envs/pytorch_p310/lib/python3.10/site-packages/composer/trainer/trainer.py:964\u001b[0m, in \u001b[0;36mTrainer.__init__\u001b[0;34m(self, model, train_dataloader, train_dataloader_label, train_subset_num_batches, spin_dataloaders, max_duration, algorithms, algorithm_passes, optimizers, schedulers, scale_schedule_ratio, step_schedulers_every_batch, eval_dataloader, eval_interval, eval_subset_num_batches, callbacks, loggers, run_name, progress_bar, log_to_console, console_stream, console_log_interval, log_traces, auto_log_hparams, load_path, load_object_store, load_weights_only, load_strict_model_weights, load_progress_bar, load_ignore_keys, load_exclude_algorithms, save_folder, save_filename, save_latest_filename, save_overwrite, save_interval, save_weights_only, save_num_checkpoints_to_keep, autoresume, deepspeed_config, fsdp_config, fsdp_auto_wrap, device, precision, device_train_microbatch_size, seed, deterministic_mode, dist_timeout, ddp_sync_strategy, profiler, python_log_level, compile_config)\u001b[0m\n\u001b[1;32m    961\u001b[0m     dist\u001b[38;5;241m.\u001b[39minitialize_dist(device, dist_timeout)\n\u001b[1;32m    963\u001b[0m \u001b[38;5;66;03m# Reproducibility\u001b[39;00m\n\u001b[0;32m--> 964\u001b[0m rank_zero_seed, seed \u001b[38;5;241m=\u001b[39m \u001b[43m_distribute_and_get_random_seed\u001b[49m\u001b[43m(\u001b[49m\u001b[43mseed\u001b[49m\u001b[43m,\u001b[49m\u001b[43m \u001b[49m\u001b[43mdevice\u001b[49m\u001b[43m)\u001b[49m\n\u001b[1;32m    965\u001b[0m \u001b[38;5;66;03m# If hparams is used to create the Trainer this function is called twice\u001b[39;00m\n\u001b[1;32m    966\u001b[0m \u001b[38;5;66;03m# which is okay because all runs with the hparams codepath will do this\u001b[39;00m\n\u001b[1;32m    967\u001b[0m reproducibility\u001b[38;5;241m.\u001b[39mseed_all(seed)\n",
      "File \u001b[0;32m~/anaconda3/envs/pytorch_p310/lib/python3.10/site-packages/composer/trainer/trainer.py:290\u001b[0m, in \u001b[0;36m_distribute_and_get_random_seed\u001b[0;34m(seed, device)\u001b[0m\n\u001b[1;32m    287\u001b[0m     \u001b[38;5;28;01mraise\u001b[39;00m \u001b[38;5;167;01mValueError\u001b[39;00m(\u001b[38;5;124mf\u001b[39m\u001b[38;5;124m'\u001b[39m\u001b[38;5;124mInvalid seed: \u001b[39m\u001b[38;5;132;01m{\u001b[39;00mseed\u001b[38;5;132;01m}\u001b[39;00m\u001b[38;5;124m. It must be on [0; 2**32 - 1)\u001b[39m\u001b[38;5;124m'\u001b[39m)\n\u001b[1;32m    289\u001b[0m \u001b[38;5;66;03m# using int64 to prevent overflow\u001b[39;00m\n\u001b[0;32m--> 290\u001b[0m rank_zero_seed \u001b[38;5;241m=\u001b[39m \u001b[43mdevice\u001b[49m\u001b[38;5;241;43m.\u001b[39;49m\u001b[43mtensor_to_device\u001b[49m\u001b[43m(\u001b[49m\u001b[43mtorch\u001b[49m\u001b[38;5;241;43m.\u001b[39;49m\u001b[43mtensor\u001b[49m\u001b[43m(\u001b[49m\u001b[43m[\u001b[49m\u001b[43mseed\u001b[49m\u001b[43m]\u001b[49m\u001b[43m,\u001b[49m\u001b[43m \u001b[49m\u001b[43mdtype\u001b[49m\u001b[38;5;241;43m=\u001b[39;49m\u001b[43mtorch\u001b[49m\u001b[38;5;241;43m.\u001b[39;49m\u001b[43mint64\u001b[49m\u001b[43m)\u001b[49m\u001b[43m)\u001b[49m\n\u001b[1;32m    291\u001b[0m \u001b[38;5;28;01mif\u001b[39;00m dist\u001b[38;5;241m.\u001b[39mget_world_size() \u001b[38;5;241m>\u001b[39m \u001b[38;5;241m1\u001b[39m:\n\u001b[1;32m    292\u001b[0m     dist\u001b[38;5;241m.\u001b[39mbroadcast(rank_zero_seed, src\u001b[38;5;241m=\u001b[39m\u001b[38;5;241m0\u001b[39m)\n",
      "File \u001b[0;32m~/anaconda3/envs/pytorch_p310/lib/python3.10/site-packages/composer/devices/device_gpu.py:59\u001b[0m, in \u001b[0;36mDeviceGPU.tensor_to_device\u001b[0;34m(self, tensor)\u001b[0m\n\u001b[1;32m     58\u001b[0m \u001b[38;5;28;01mdef\u001b[39;00m \u001b[38;5;21mtensor_to_device\u001b[39m(\u001b[38;5;28mself\u001b[39m, tensor: torch\u001b[38;5;241m.\u001b[39mTensor) \u001b[38;5;241m-\u001b[39m\u001b[38;5;241m>\u001b[39m torch\u001b[38;5;241m.\u001b[39mTensor:\n\u001b[0;32m---> 59\u001b[0m     \u001b[38;5;28;01mreturn\u001b[39;00m \u001b[43mtensor\u001b[49m\u001b[38;5;241;43m.\u001b[39;49m\u001b[43mto\u001b[49m\u001b[43m(\u001b[49m\u001b[38;5;28;43mself\u001b[39;49m\u001b[38;5;241;43m.\u001b[39;49m\u001b[43m_device\u001b[49m\u001b[43m,\u001b[49m\u001b[43m \u001b[49m\u001b[43mnon_blocking\u001b[49m\u001b[38;5;241;43m=\u001b[39;49m\u001b[38;5;28;43;01mTrue\u001b[39;49;00m\u001b[43m)\u001b[49m\n",
      "\u001b[0;31mRuntimeError\u001b[0m: CUDA error: device-side assert triggered\nCUDA kernel errors might be asynchronously reported at some other API call, so the stacktrace below might be incorrect.\nFor debugging consider passing CUDA_LAUNCH_BLOCKING=1.\nCompile with `TORCH_USE_CUDA_DSA` to enable device-side assertions.\n"
     ]
    }
   ],
   "source": [
    "inceptionModel = InceptionNet(num_classes=7, weights=\"imagenet1k-v1\")\n",
    "algorithms, optimizer = requirementsForModelTraining(inceptionModel)\n",
    "logger = InMemoryLogger()\n",
    "trainer = Trainer(\n",
    "    model=inceptionModel,\n",
    "    optimizers=optimizer,\n",
    "    train_dataloader=train_dataloader, \n",
    "    eval_dataloader=valid_dataloader,\n",
    "    max_duration='5ep',\n",
    "    algorithms=algorithms,\n",
    "    loggers=logger\n",
    ")\n",
    "\n",
    "start_time = time.perf_counter()\n",
    "trainer.fit()  # <-- Your training loop in action!\n",
    "end_time = time.perf_counter()\n",
    "print(f\"It took {end_time - start_time:0.4f} seconds to train\")"
   ]
  },
  {
   "cell_type": "code",
   "execution_count": null,
   "id": "d8d72dd5-74eb-4689-8f13-832fb0760f36",
   "metadata": {},
   "outputs": [],
   "source": []
  }
 ],
 "metadata": {
  "kernelspec": {
   "display_name": "conda_pytorch_p310",
   "language": "python",
   "name": "conda_pytorch_p310"
  },
  "language_info": {
   "codemirror_mode": {
    "name": "ipython",
    "version": 3
   },
   "file_extension": ".py",
   "mimetype": "text/x-python",
   "name": "python",
   "nbconvert_exporter": "python",
   "pygments_lexer": "ipython3",
   "version": "3.10.10"
  },
  "toc-showcode": false
 },
 "nbformat": 4,
 "nbformat_minor": 5
}
