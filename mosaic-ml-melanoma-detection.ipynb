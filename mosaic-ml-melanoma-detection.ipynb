{
 "cells": [
  {
   "cell_type": "code",
   "execution_count": 1,
   "id": "1eb59704-7bd6-4934-8d9c-20106af74002",
   "metadata": {
    "tags": []
   },
   "outputs": [
    {
     "name": "stdout",
     "output_type": "stream",
     "text": [
      "Collecting mosaicml\n",
      "  Obtaining dependency information for mosaicml from https://files.pythonhosted.org/packages/f6/db/35f413cd624b931c7f624a9e4dce320787d90b7a47a4011ba8acb9af715f/mosaicml-0.16.0-py3-none-any.whl.metadata\n",
      "  Downloading mosaicml-0.16.0-py3-none-any.whl.metadata (28 kB)\n",
      "Requirement already satisfied: pyyaml<7,>=6.0 in /home/ec2-user/anaconda3/envs/pytorch_p310/lib/python3.10/site-packages (from mosaicml) (6.0)\n",
      "Requirement already satisfied: tqdm<5,>=4.62.3 in /home/ec2-user/anaconda3/envs/pytorch_p310/lib/python3.10/site-packages (from mosaicml) (4.65.0)\n",
      "Collecting torchmetrics<1.1,>=0.10.0 (from mosaicml)\n",
      "  Obtaining dependency information for torchmetrics<1.1,>=0.10.0 from https://files.pythonhosted.org/packages/67/90/9ac94af10cd1777859a92be1e8186325490654930e871f8bb219cc342868/torchmetrics-1.0.3-py3-none-any.whl.metadata\n",
      "  Downloading torchmetrics-1.0.3-py3-none-any.whl.metadata (21 kB)\n",
      "Collecting torch-optimizer<0.4,>=0.3.0 (from mosaicml)\n",
      "  Downloading torch_optimizer-0.3.0-py3-none-any.whl (61 kB)\n",
      "\u001b[2K     \u001b[90m━━━━━━━━━━━━━━━━━━━━━━━━━━━━━━━━━━━━━━━━\u001b[0m \u001b[32m61.9/61.9 kB\u001b[0m \u001b[31m16.0 MB/s\u001b[0m eta \u001b[36m0:00:00\u001b[0m\n",
      "\u001b[?25hRequirement already satisfied: torchvision<0.16,>=0.13.1 in /home/ec2-user/anaconda3/envs/pytorch_p310/lib/python3.10/site-packages (from mosaicml) (0.15.2)\n",
      "Requirement already satisfied: torch<2.1,>=1.13.1 in /home/ec2-user/anaconda3/envs/pytorch_p310/lib/python3.10/site-packages (from mosaicml) (2.0.1)\n",
      "Requirement already satisfied: requests<3,>=2.26.0 in /home/ec2-user/anaconda3/envs/pytorch_p310/lib/python3.10/site-packages (from mosaicml) (2.31.0)\n",
      "Requirement already satisfied: numpy<1.26.0,>=1.21.5 in /home/ec2-user/anaconda3/envs/pytorch_p310/lib/python3.10/site-packages (from mosaicml) (1.24.4)\n",
      "Requirement already satisfied: psutil<6,>=5.8.0 in /home/ec2-user/anaconda3/envs/pytorch_p310/lib/python3.10/site-packages (from mosaicml) (5.9.5)\n",
      "Collecting coolname<3,>=1.1.0 (from mosaicml)\n",
      "  Downloading coolname-2.2.0-py2.py3-none-any.whl (37 kB)\n",
      "Requirement already satisfied: tabulate==0.9.0 in /home/ec2-user/anaconda3/envs/pytorch_p310/lib/python3.10/site-packages (from mosaicml) (0.9.0)\n",
      "Collecting py-cpuinfo<10,>=8.0.0 (from mosaicml)\n",
      "  Downloading py_cpuinfo-9.0.0-py3-none-any.whl (22 kB)\n",
      "Requirement already satisfied: packaging<23,>=21.3.0 in /home/ec2-user/anaconda3/envs/pytorch_p310/lib/python3.10/site-packages (from mosaicml) (21.3)\n",
      "Requirement already satisfied: importlib-metadata<7,>=5.0.0 in /home/ec2-user/anaconda3/envs/pytorch_p310/lib/python3.10/site-packages (from mosaicml) (6.8.0)\n",
      "Collecting mosaicml-cli<0.6,>=0.4.12 (from mosaicml)\n",
      "  Obtaining dependency information for mosaicml-cli<0.6,>=0.4.12 from https://files.pythonhosted.org/packages/c8/20/802d8e1ba87713ff3f3bf2971b7282fbd5f7179ff8df430568d473a700ce/mosaicml_cli-0.5.7-py3-none-any.whl.metadata\n",
      "  Downloading mosaicml_cli-0.5.7-py3-none-any.whl.metadata (4.8 kB)\n",
      "Requirement already satisfied: zipp>=0.5 in /home/ec2-user/anaconda3/envs/pytorch_p310/lib/python3.10/site-packages (from importlib-metadata<7,>=5.0.0->mosaicml) (3.16.2)\n",
      "Collecting argcomplete>=2.0.0 (from mosaicml-cli<0.6,>=0.4.12->mosaicml)\n",
      "  Obtaining dependency information for argcomplete>=2.0.0 from https://files.pythonhosted.org/packages/4f/ef/8b604222ba5e5190e25851aa3a5b754f2002361dc62a258a8e9f13e866f4/argcomplete-3.1.1-py3-none-any.whl.metadata\n",
      "  Downloading argcomplete-3.1.1-py3-none-any.whl.metadata (16 kB)\n",
      "Requirement already satisfied: arrow>=1.2.2 in /home/ec2-user/anaconda3/envs/pytorch_p310/lib/python3.10/site-packages (from mosaicml-cli<0.6,>=0.4.12->mosaicml) (1.2.3)\n",
      "Collecting backoff>=2.2.1 (from mosaicml-cli<0.6,>=0.4.12->mosaicml)\n",
      "  Downloading backoff-2.2.1-py3-none-any.whl (15 kB)\n",
      "Collecting gql[websockets]>=3.4.0 (from mosaicml-cli<0.6,>=0.4.12->mosaicml)\n",
      "  Downloading gql-3.4.1-py2.py3-none-any.whl (65 kB)\n",
      "\u001b[2K     \u001b[90m━━━━━━━━━━━━━━━━━━━━━━━━━━━━━━━━━━━━━━━━\u001b[0m \u001b[32m65.1/65.1 kB\u001b[0m \u001b[31m23.7 MB/s\u001b[0m eta \u001b[36m0:00:00\u001b[0m\n",
      "\u001b[?25hRequirement already satisfied: prompt-toolkit>=3.0.29 in /home/ec2-user/anaconda3/envs/pytorch_p310/lib/python3.10/site-packages (from mosaicml-cli<0.6,>=0.4.12->mosaicml) (3.0.39)\n",
      "Requirement already satisfied: protobuf>=3.20.0 in /home/ec2-user/anaconda3/envs/pytorch_p310/lib/python3.10/site-packages (from mosaicml-cli<0.6,>=0.4.12->mosaicml) (4.23.4)\n",
      "Collecting questionary>=1.10.0 (from mosaicml-cli<0.6,>=0.4.12->mosaicml)\n",
      "  Obtaining dependency information for questionary>=1.10.0 from https://files.pythonhosted.org/packages/ec/16/d640510d6485660ef6c775a8ab92e4fdec4eb700d8a3749b729797a07c42/questionary-2.0.0-py3-none-any.whl.metadata\n",
      "  Downloading questionary-2.0.0-py3-none-any.whl.metadata (5.4 kB)\n",
      "Collecting rich>=12.6.0 (from mosaicml-cli<0.6,>=0.4.12->mosaicml)\n",
      "  Obtaining dependency information for rich>=12.6.0 from https://files.pythonhosted.org/packages/8d/5f/21a93b2ec205f4b79853ff6e838e3c99064d5dbe85ec6b05967506f14af0/rich-13.5.2-py3-none-any.whl.metadata\n",
      "  Downloading rich-13.5.2-py3-none-any.whl.metadata (18 kB)\n",
      "Requirement already satisfied: ruamel.yaml>=0.17.21 in /home/ec2-user/anaconda3/envs/pytorch_p310/lib/python3.10/site-packages (from mosaicml-cli<0.6,>=0.4.12->mosaicml) (0.17.32)\n",
      "Requirement already satisfied: typing-extensions>=4.0.1 in /home/ec2-user/anaconda3/envs/pytorch_p310/lib/python3.10/site-packages (from mosaicml-cli<0.6,>=0.4.12->mosaicml) (4.7.1)\n",
      "Collecting validators>=0.20.0 (from mosaicml-cli<0.6,>=0.4.12->mosaicml)\n",
      "  Obtaining dependency information for validators>=0.20.0 from https://files.pythonhosted.org/packages/8d/e7/c2d0758c58dbd463b4a0a650f8cf3af5c4cbb6fbc61a36ce077964286feb/validators-0.21.2-py3-none-any.whl.metadata\n",
      "  Downloading validators-0.21.2-py3-none-any.whl.metadata (4.4 kB)\n",
      "Requirement already satisfied: pyparsing!=3.0.5,>=2.0.2 in /home/ec2-user/anaconda3/envs/pytorch_p310/lib/python3.10/site-packages (from packaging<23,>=21.3.0->mosaicml) (3.0.9)\n",
      "Requirement already satisfied: charset-normalizer<4,>=2 in /home/ec2-user/anaconda3/envs/pytorch_p310/lib/python3.10/site-packages (from requests<3,>=2.26.0->mosaicml) (3.2.0)\n",
      "Requirement already satisfied: idna<4,>=2.5 in /home/ec2-user/anaconda3/envs/pytorch_p310/lib/python3.10/site-packages (from requests<3,>=2.26.0->mosaicml) (3.4)\n",
      "Requirement already satisfied: urllib3<3,>=1.21.1 in /home/ec2-user/anaconda3/envs/pytorch_p310/lib/python3.10/site-packages (from requests<3,>=2.26.0->mosaicml) (1.26.14)\n",
      "Requirement already satisfied: certifi>=2017.4.17 in /home/ec2-user/anaconda3/envs/pytorch_p310/lib/python3.10/site-packages (from requests<3,>=2.26.0->mosaicml) (2023.5.7)\n",
      "Requirement already satisfied: filelock in /home/ec2-user/anaconda3/envs/pytorch_p310/lib/python3.10/site-packages (from torch<2.1,>=1.13.1->mosaicml) (3.12.2)\n",
      "Requirement already satisfied: sympy in /home/ec2-user/anaconda3/envs/pytorch_p310/lib/python3.10/site-packages (from torch<2.1,>=1.13.1->mosaicml) (1.12)\n",
      "Requirement already satisfied: networkx in /home/ec2-user/anaconda3/envs/pytorch_p310/lib/python3.10/site-packages (from torch<2.1,>=1.13.1->mosaicml) (3.1)\n",
      "Requirement already satisfied: jinja2 in /home/ec2-user/anaconda3/envs/pytorch_p310/lib/python3.10/site-packages (from torch<2.1,>=1.13.1->mosaicml) (3.1.2)\n",
      "Collecting pytorch-ranger>=0.1.1 (from torch-optimizer<0.4,>=0.3.0->mosaicml)\n",
      "  Downloading pytorch_ranger-0.1.1-py3-none-any.whl (14 kB)\n",
      "Collecting lightning-utilities>=0.7.0 (from torchmetrics<1.1,>=0.10.0->mosaicml)\n",
      "  Obtaining dependency information for lightning-utilities>=0.7.0 from https://files.pythonhosted.org/packages/46/ee/8641eeb6a062f383b7d6875604e1f3f83bd2c93a0b4dbcabd3150b32de6e/lightning_utilities-0.9.0-py3-none-any.whl.metadata\n",
      "  Downloading lightning_utilities-0.9.0-py3-none-any.whl.metadata (4.6 kB)\n",
      "Requirement already satisfied: pillow!=8.3.*,>=5.3.0 in /home/ec2-user/anaconda3/envs/pytorch_p310/lib/python3.10/site-packages (from torchvision<0.16,>=0.13.1->mosaicml) (10.0.0)\n",
      "Requirement already satisfied: python-dateutil>=2.7.0 in /home/ec2-user/anaconda3/envs/pytorch_p310/lib/python3.10/site-packages (from arrow>=1.2.2->mosaicml-cli<0.6,>=0.4.12->mosaicml) (2.8.2)\n",
      "Collecting graphql-core<3.3,>=3.2 (from gql[websockets]>=3.4.0->mosaicml-cli<0.6,>=0.4.12->mosaicml)\n",
      "  Downloading graphql_core-3.2.3-py3-none-any.whl (202 kB)\n",
      "\u001b[2K     \u001b[90m━━━━━━━━━━━━━━━━━━━━━━━━━━━━━━━━━━━━━━\u001b[0m \u001b[32m202.9/202.9 kB\u001b[0m \u001b[31m46.2 MB/s\u001b[0m eta \u001b[36m0:00:00\u001b[0m\n",
      "\u001b[?25hCollecting yarl<2.0,>=1.6 (from gql[websockets]>=3.4.0->mosaicml-cli<0.6,>=0.4.12->mosaicml)\n",
      "  Downloading yarl-1.9.2-cp310-cp310-manylinux_2_17_x86_64.manylinux2014_x86_64.whl (268 kB)\n",
      "\u001b[2K     \u001b[90m━━━━━━━━━━━━━━━━━━━━━━━━━━━━━━━━━━━━━━━\u001b[0m \u001b[32m268.8/268.8 kB\u001b[0m \u001b[31m5.4 MB/s\u001b[0m eta \u001b[36m0:00:00\u001b[0m00:01\u001b[0m\n",
      "\u001b[?25hCollecting websockets<11,>=10 (from gql[websockets]>=3.4.0->mosaicml-cli<0.6,>=0.4.12->mosaicml)\n",
      "  Downloading websockets-10.4-cp310-cp310-manylinux_2_5_x86_64.manylinux1_x86_64.manylinux_2_17_x86_64.manylinux2014_x86_64.whl (106 kB)\n",
      "\u001b[2K     \u001b[90m━━━━━━━━━━━━━━━━━━━━━━━━━━━━━━━━━━━━━━\u001b[0m \u001b[32m106.8/106.8 kB\u001b[0m \u001b[31m30.4 MB/s\u001b[0m eta \u001b[36m0:00:00\u001b[0m\n",
      "\u001b[?25hRequirement already satisfied: wcwidth in /home/ec2-user/anaconda3/envs/pytorch_p310/lib/python3.10/site-packages (from prompt-toolkit>=3.0.29->mosaicml-cli<0.6,>=0.4.12->mosaicml) (0.2.6)\n",
      "Collecting prompt-toolkit>=3.0.29 (from mosaicml-cli<0.6,>=0.4.12->mosaicml)\n",
      "  Downloading prompt_toolkit-3.0.36-py3-none-any.whl (386 kB)\n",
      "\u001b[2K     \u001b[90m━━━━━━━━━━━━━━━━━━━━━━━━━━━━━━━━━━━━━━━\u001b[0m \u001b[32m386.4/386.4 kB\u001b[0m \u001b[31m9.9 MB/s\u001b[0m eta \u001b[36m0:00:00\u001b[0m00:01\u001b[0m\n",
      "\u001b[?25hCollecting markdown-it-py>=2.2.0 (from rich>=12.6.0->mosaicml-cli<0.6,>=0.4.12->mosaicml)\n",
      "  Obtaining dependency information for markdown-it-py>=2.2.0 from https://files.pythonhosted.org/packages/42/d7/1ec15b46af6af88f19b8e5ffea08fa375d433c998b8a7639e76935c14f1f/markdown_it_py-3.0.0-py3-none-any.whl.metadata\n",
      "  Downloading markdown_it_py-3.0.0-py3-none-any.whl.metadata (6.9 kB)\n",
      "Requirement already satisfied: pygments<3.0.0,>=2.13.0 in /home/ec2-user/anaconda3/envs/pytorch_p310/lib/python3.10/site-packages (from rich>=12.6.0->mosaicml-cli<0.6,>=0.4.12->mosaicml) (2.15.1)\n",
      "Requirement already satisfied: ruamel.yaml.clib>=0.2.7 in /home/ec2-user/anaconda3/envs/pytorch_p310/lib/python3.10/site-packages (from ruamel.yaml>=0.17.21->mosaicml-cli<0.6,>=0.4.12->mosaicml) (0.2.7)\n",
      "Requirement already satisfied: MarkupSafe>=2.0 in /home/ec2-user/anaconda3/envs/pytorch_p310/lib/python3.10/site-packages (from jinja2->torch<2.1,>=1.13.1->mosaicml) (2.1.3)\n",
      "Requirement already satisfied: mpmath>=0.19 in /home/ec2-user/anaconda3/envs/pytorch_p310/lib/python3.10/site-packages (from sympy->torch<2.1,>=1.13.1->mosaicml) (1.3.0)\n",
      "Collecting mdurl~=0.1 (from markdown-it-py>=2.2.0->rich>=12.6.0->mosaicml-cli<0.6,>=0.4.12->mosaicml)\n",
      "  Downloading mdurl-0.1.2-py3-none-any.whl (10.0 kB)\n",
      "Requirement already satisfied: six>=1.5 in /home/ec2-user/anaconda3/envs/pytorch_p310/lib/python3.10/site-packages (from python-dateutil>=2.7.0->arrow>=1.2.2->mosaicml-cli<0.6,>=0.4.12->mosaicml) (1.16.0)\n",
      "Collecting multidict>=4.0 (from yarl<2.0,>=1.6->gql[websockets]>=3.4.0->mosaicml-cli<0.6,>=0.4.12->mosaicml)\n",
      "  Downloading multidict-6.0.4-cp310-cp310-manylinux_2_17_x86_64.manylinux2014_x86_64.whl (114 kB)\n",
      "\u001b[2K     \u001b[90m━━━━━━━━━━━━━━━━━━━━━━━━━━━━━━━━━━━━━━\u001b[0m \u001b[32m114.5/114.5 kB\u001b[0m \u001b[31m35.0 MB/s\u001b[0m eta \u001b[36m0:00:00\u001b[0m\n",
      "\u001b[?25hDownloading mosaicml-0.16.0-py3-none-any.whl (590 kB)\n",
      "\u001b[2K   \u001b[90m━━━━━━━━━━━━━━━━━━━━━━━━━━━━━━━━━━━━━━━━\u001b[0m \u001b[32m590.8/590.8 kB\u001b[0m \u001b[31m78.3 MB/s\u001b[0m eta \u001b[36m0:00:00\u001b[0m\n",
      "\u001b[?25hDownloading mosaicml_cli-0.5.7-py3-none-any.whl (214 kB)\n",
      "\u001b[2K   \u001b[90m━━━━━━━━━━━━━━━━━━━━━━━━━━━━━━━━━━━━━━━━\u001b[0m \u001b[32m214.3/214.3 kB\u001b[0m \u001b[31m4.0 MB/s\u001b[0m eta \u001b[36m0:00:00\u001b[0mta \u001b[36m0:00:01\u001b[0m\n",
      "\u001b[?25hDownloading torchmetrics-1.0.3-py3-none-any.whl (731 kB)\n",
      "\u001b[2K   \u001b[90m━━━━━━━━━━━━━━━━━━━━━━━━━━━━━━━━━━━━━━━━\u001b[0m \u001b[32m731.6/731.6 kB\u001b[0m \u001b[31m22.1 MB/s\u001b[0m eta \u001b[36m0:00:00\u001b[0m\n",
      "\u001b[?25hDownloading argcomplete-3.1.1-py3-none-any.whl (41 kB)\n",
      "\u001b[2K   \u001b[90m━━━━━━━━━━━━━━━━━━━━━━━━━━━━━━━━━━━━━━━━\u001b[0m \u001b[32m41.5/41.5 kB\u001b[0m \u001b[31m14.4 MB/s\u001b[0m eta \u001b[36m0:00:00\u001b[0m\n",
      "\u001b[?25hDownloading lightning_utilities-0.9.0-py3-none-any.whl (23 kB)\n",
      "Downloading questionary-2.0.0-py3-none-any.whl (34 kB)\n",
      "Downloading rich-13.5.2-py3-none-any.whl (239 kB)\n",
      "\u001b[2K   \u001b[90m━━━━━━━━━━━━━━━━━━━━━━━━━━━━━━━━━━━━━━━━\u001b[0m \u001b[32m239.7/239.7 kB\u001b[0m \u001b[31m8.0 MB/s\u001b[0m eta \u001b[36m0:00:00\u001b[0m\n",
      "\u001b[?25hDownloading validators-0.21.2-py3-none-any.whl (25 kB)\n",
      "Downloading markdown_it_py-3.0.0-py3-none-any.whl (87 kB)\n",
      "\u001b[2K   \u001b[90m━━━━━━━━━━━━━━━━━━━━━━━━━━━━━━━━━━━━━━━━\u001b[0m \u001b[32m87.5/87.5 kB\u001b[0m \u001b[31m31.6 MB/s\u001b[0m eta \u001b[36m0:00:00\u001b[0m\n",
      "\u001b[?25hInstalling collected packages: py-cpuinfo, coolname, websockets, validators, prompt-toolkit, multidict, mdurl, graphql-core, backoff, argcomplete, yarl, questionary, markdown-it-py, lightning-utilities, torchmetrics, rich, pytorch-ranger, gql, torch-optimizer, mosaicml-cli, mosaicml\n",
      "  Attempting uninstall: prompt-toolkit\n",
      "    Found existing installation: prompt-toolkit 3.0.39\n",
      "    Uninstalling prompt-toolkit-3.0.39:\n",
      "      Successfully uninstalled prompt-toolkit-3.0.39\n",
      "Successfully installed argcomplete-3.1.1 backoff-2.2.1 coolname-2.2.0 gql-3.4.1 graphql-core-3.2.3 lightning-utilities-0.9.0 markdown-it-py-3.0.0 mdurl-0.1.2 mosaicml-0.16.0 mosaicml-cli-0.5.7 multidict-6.0.4 prompt-toolkit-3.0.36 py-cpuinfo-9.0.0 pytorch-ranger-0.1.1 questionary-2.0.0 rich-13.5.2 torch-optimizer-0.3.0 torchmetrics-1.0.3 validators-0.21.2 websockets-10.4 yarl-1.9.2\n",
      "Note: you may need to restart the kernel to use updated packages.\n",
      "Collecting tensorflow\n",
      "  Obtaining dependency information for tensorflow from https://files.pythonhosted.org/packages/5a/f2/5c2f878c62c8b79c629b11b33516bb55054d7677eba6f56f3a20296b56bd/tensorflow-2.13.0-cp310-cp310-manylinux_2_17_x86_64.manylinux2014_x86_64.whl.metadata\n",
      "  Downloading tensorflow-2.13.0-cp310-cp310-manylinux_2_17_x86_64.manylinux2014_x86_64.whl.metadata (3.4 kB)\n",
      "Collecting absl-py>=1.0.0 (from tensorflow)\n",
      "  Downloading absl_py-1.4.0-py3-none-any.whl (126 kB)\n",
      "\u001b[2K     \u001b[90m━━━━━━━━━━━━━━━━━━━━━━━━━━━━━━━━━━━━━━\u001b[0m \u001b[32m126.5/126.5 kB\u001b[0m \u001b[31m12.4 MB/s\u001b[0m eta \u001b[36m0:00:00\u001b[0m\n",
      "\u001b[?25hCollecting astunparse>=1.6.0 (from tensorflow)\n",
      "  Downloading astunparse-1.6.3-py2.py3-none-any.whl (12 kB)\n",
      "Collecting flatbuffers>=23.1.21 (from tensorflow)\n",
      "  Obtaining dependency information for flatbuffers>=23.1.21 from https://files.pythonhosted.org/packages/6f/12/d5c79ee252793ffe845d58a913197bfa02ae9a0b5c9bc3dc4b58d477b9e7/flatbuffers-23.5.26-py2.py3-none-any.whl.metadata\n",
      "  Downloading flatbuffers-23.5.26-py2.py3-none-any.whl.metadata (850 bytes)\n",
      "Collecting gast<=0.4.0,>=0.2.1 (from tensorflow)\n",
      "  Downloading gast-0.4.0-py3-none-any.whl (9.8 kB)\n",
      "Requirement already satisfied: google-pasta>=0.1.1 in /home/ec2-user/anaconda3/envs/pytorch_p310/lib/python3.10/site-packages (from tensorflow) (0.2.0)\n",
      "Collecting grpcio<2.0,>=1.24.3 (from tensorflow)\n",
      "  Obtaining dependency information for grpcio<2.0,>=1.24.3 from https://files.pythonhosted.org/packages/28/fa/c38a010d3fffcac07ef121abb34eb2c3db0876df74267ce5bde13c3a6ed7/grpcio-1.57.0-cp310-cp310-manylinux_2_17_x86_64.manylinux2014_x86_64.whl.metadata\n",
      "  Downloading grpcio-1.57.0-cp310-cp310-manylinux_2_17_x86_64.manylinux2014_x86_64.whl.metadata (4.0 kB)\n",
      "Collecting h5py>=2.9.0 (from tensorflow)\n",
      "  Obtaining dependency information for h5py>=2.9.0 from https://files.pythonhosted.org/packages/0d/7a/e55589e4093cca1934db5e99644c1c2424a9b3aac104b7f6176605a5eeb7/h5py-3.9.0-cp310-cp310-manylinux_2_17_x86_64.manylinux2014_x86_64.whl.metadata\n",
      "  Downloading h5py-3.9.0-cp310-cp310-manylinux_2_17_x86_64.manylinux2014_x86_64.whl.metadata (2.5 kB)\n",
      "Collecting keras<2.14,>=2.13.1 (from tensorflow)\n",
      "  Obtaining dependency information for keras<2.14,>=2.13.1 from https://files.pythonhosted.org/packages/2e/f3/19da7511b45e80216cbbd9467137b2d28919c58ba1ccb971435cb631e470/keras-2.13.1-py3-none-any.whl.metadata\n",
      "  Downloading keras-2.13.1-py3-none-any.whl.metadata (2.4 kB)\n",
      "Collecting libclang>=13.0.0 (from tensorflow)\n",
      "  Obtaining dependency information for libclang>=13.0.0 from https://files.pythonhosted.org/packages/ea/df/55525e489c43f9dbb6c8ea27d8a567b3dcd18a22f3c45483055f5ca6611d/libclang-16.0.6-py2.py3-none-manylinux2010_x86_64.whl.metadata\n",
      "  Downloading libclang-16.0.6-py2.py3-none-manylinux2010_x86_64.whl.metadata (5.2 kB)\n",
      "Collecting numpy<=1.24.3,>=1.22 (from tensorflow)\n",
      "  Downloading numpy-1.24.3-cp310-cp310-manylinux_2_17_x86_64.manylinux2014_x86_64.whl (17.3 MB)\n",
      "\u001b[2K     \u001b[90m━━━━━━━━━━━━━━━━━━━━━━━━━━━━━━━━━━━━━━━━\u001b[0m \u001b[32m17.3/17.3 MB\u001b[0m \u001b[31m38.0 MB/s\u001b[0m eta \u001b[36m0:00:00\u001b[0m00:01\u001b[0m00:01\u001b[0m\n",
      "\u001b[?25hCollecting opt-einsum>=2.3.2 (from tensorflow)\n",
      "  Downloading opt_einsum-3.3.0-py3-none-any.whl (65 kB)\n",
      "\u001b[2K     \u001b[90m━━━━━━━━━━━━━━━━━━━━━━━━━━━━━━━━━━━━━━━━\u001b[0m \u001b[32m65.5/65.5 kB\u001b[0m \u001b[31m2.4 MB/s\u001b[0m eta \u001b[36m0:00:00\u001b[0m\n",
      "\u001b[?25hRequirement already satisfied: packaging in /home/ec2-user/anaconda3/envs/pytorch_p310/lib/python3.10/site-packages (from tensorflow) (21.3)\n",
      "Requirement already satisfied: protobuf!=4.21.0,!=4.21.1,!=4.21.2,!=4.21.3,!=4.21.4,!=4.21.5,<5.0.0dev,>=3.20.3 in /home/ec2-user/anaconda3/envs/pytorch_p310/lib/python3.10/site-packages (from tensorflow) (4.23.4)\n",
      "Requirement already satisfied: setuptools in /home/ec2-user/anaconda3/envs/pytorch_p310/lib/python3.10/site-packages (from tensorflow) (68.0.0)\n",
      "Requirement already satisfied: six>=1.12.0 in /home/ec2-user/anaconda3/envs/pytorch_p310/lib/python3.10/site-packages (from tensorflow) (1.16.0)\n",
      "Collecting tensorboard<2.14,>=2.13 (from tensorflow)\n",
      "  Downloading tensorboard-2.13.0-py3-none-any.whl (5.6 MB)\n",
      "\u001b[2K     \u001b[90m━━━━━━━━━━━━━━━━━━━━━━━━━━━━━━━━━━━━━━━━\u001b[0m \u001b[32m5.6/5.6 MB\u001b[0m \u001b[31m40.5 MB/s\u001b[0m eta \u001b[36m0:00:00\u001b[0m:00:01\u001b[0m\n",
      "\u001b[?25hCollecting tensorflow-estimator<2.14,>=2.13.0 (from tensorflow)\n",
      "  Obtaining dependency information for tensorflow-estimator<2.14,>=2.13.0 from https://files.pythonhosted.org/packages/72/5c/c318268d96791c6222ad7df1651bbd1b2409139afeb6f468c0f327177016/tensorflow_estimator-2.13.0-py2.py3-none-any.whl.metadata\n",
      "  Downloading tensorflow_estimator-2.13.0-py2.py3-none-any.whl.metadata (1.3 kB)\n",
      "Requirement already satisfied: termcolor>=1.1.0 in /home/ec2-user/anaconda3/envs/pytorch_p310/lib/python3.10/site-packages (from tensorflow) (2.3.0)\n",
      "Collecting typing-extensions<4.6.0,>=3.6.6 (from tensorflow)\n",
      "  Downloading typing_extensions-4.5.0-py3-none-any.whl (27 kB)\n",
      "Collecting wrapt>=1.11.0 (from tensorflow)\n",
      "  Downloading wrapt-1.15.0-cp310-cp310-manylinux_2_5_x86_64.manylinux1_x86_64.manylinux_2_17_x86_64.manylinux2014_x86_64.whl (78 kB)\n",
      "\u001b[2K     \u001b[90m━━━━━━━━━━━━━━━━━━━━━━━━━━━━━━━━━━━━━━━━\u001b[0m \u001b[32m78.4/78.4 kB\u001b[0m \u001b[31m25.6 MB/s\u001b[0m eta \u001b[36m0:00:00\u001b[0m\n",
      "\u001b[?25hCollecting tensorflow-io-gcs-filesystem>=0.23.1 (from tensorflow)\n",
      "  Obtaining dependency information for tensorflow-io-gcs-filesystem>=0.23.1 from https://files.pythonhosted.org/packages/6a/48/3cdab86db01701ea043de445f3af1c3e539835781e57d803d2a87f256475/tensorflow_io_gcs_filesystem-0.33.0-cp310-cp310-manylinux_2_12_x86_64.manylinux2010_x86_64.whl.metadata\n",
      "  Downloading tensorflow_io_gcs_filesystem-0.33.0-cp310-cp310-manylinux_2_12_x86_64.manylinux2010_x86_64.whl.metadata (14 kB)\n",
      "Requirement already satisfied: wheel<1.0,>=0.23.0 in /home/ec2-user/anaconda3/envs/pytorch_p310/lib/python3.10/site-packages (from astunparse>=1.6.0->tensorflow) (0.40.0)\n",
      "Collecting google-auth<3,>=1.6.3 (from tensorboard<2.14,>=2.13->tensorflow)\n",
      "  Obtaining dependency information for google-auth<3,>=1.6.3 from https://files.pythonhosted.org/packages/9c/8d/bff87fc722553a5691d8514da5523c23547f3894189ba03b57592e37bdc2/google_auth-2.22.0-py2.py3-none-any.whl.metadata\n",
      "  Downloading google_auth-2.22.0-py2.py3-none-any.whl.metadata (4.2 kB)\n",
      "Collecting google-auth-oauthlib<1.1,>=0.5 (from tensorboard<2.14,>=2.13->tensorflow)\n",
      "  Downloading google_auth_oauthlib-1.0.0-py2.py3-none-any.whl (18 kB)\n",
      "Collecting markdown>=2.6.8 (from tensorboard<2.14,>=2.13->tensorflow)\n",
      "  Obtaining dependency information for markdown>=2.6.8 from https://files.pythonhosted.org/packages/1a/b5/228c1cdcfe138f1a8e01ab1b54284c8b83735476cb22b6ba251656ed13ad/Markdown-3.4.4-py3-none-any.whl.metadata\n",
      "  Downloading Markdown-3.4.4-py3-none-any.whl.metadata (6.9 kB)\n",
      "Requirement already satisfied: requests<3,>=2.21.0 in /home/ec2-user/anaconda3/envs/pytorch_p310/lib/python3.10/site-packages (from tensorboard<2.14,>=2.13->tensorflow) (2.31.0)\n",
      "Collecting tensorboard-data-server<0.8.0,>=0.7.0 (from tensorboard<2.14,>=2.13->tensorflow)\n",
      "  Obtaining dependency information for tensorboard-data-server<0.8.0,>=0.7.0 from https://files.pythonhosted.org/packages/02/52/fb9e51fba47951aabd7a6b25e41d73eae94208ccf62d886168096941a781/tensorboard_data_server-0.7.1-py3-none-manylinux2014_x86_64.whl.metadata\n",
      "  Downloading tensorboard_data_server-0.7.1-py3-none-manylinux2014_x86_64.whl.metadata (1.1 kB)\n",
      "Requirement already satisfied: werkzeug>=1.0.1 in /home/ec2-user/anaconda3/envs/pytorch_p310/lib/python3.10/site-packages (from tensorboard<2.14,>=2.13->tensorflow) (2.3.6)\n",
      "Requirement already satisfied: pyparsing!=3.0.5,>=2.0.2 in /home/ec2-user/anaconda3/envs/pytorch_p310/lib/python3.10/site-packages (from packaging->tensorflow) (3.0.9)\n",
      "Collecting cachetools<6.0,>=2.0.0 (from google-auth<3,>=1.6.3->tensorboard<2.14,>=2.13->tensorflow)\n",
      "  Obtaining dependency information for cachetools<6.0,>=2.0.0 from https://files.pythonhosted.org/packages/a9/c9/c8a7710f2cedcb1db9224fdd4d8307c9e48cbddc46c18b515fefc0f1abbe/cachetools-5.3.1-py3-none-any.whl.metadata\n",
      "  Downloading cachetools-5.3.1-py3-none-any.whl.metadata (5.2 kB)\n",
      "Collecting pyasn1-modules>=0.2.1 (from google-auth<3,>=1.6.3->tensorboard<2.14,>=2.13->tensorflow)\n",
      "  Downloading pyasn1_modules-0.3.0-py2.py3-none-any.whl (181 kB)\n",
      "\u001b[2K     \u001b[90m━━━━━━━━━━━━━━━━━━━━━━━━━━━━━━━━━━━━━━━\u001b[0m \u001b[32m181.3/181.3 kB\u001b[0m \u001b[31m6.8 MB/s\u001b[0m eta \u001b[36m0:00:00\u001b[0m\n",
      "\u001b[?25hRequirement already satisfied: rsa<5,>=3.1.4 in /home/ec2-user/anaconda3/envs/pytorch_p310/lib/python3.10/site-packages (from google-auth<3,>=1.6.3->tensorboard<2.14,>=2.13->tensorflow) (4.7.2)\n",
      "Requirement already satisfied: urllib3<2.0 in /home/ec2-user/anaconda3/envs/pytorch_p310/lib/python3.10/site-packages (from google-auth<3,>=1.6.3->tensorboard<2.14,>=2.13->tensorflow) (1.26.14)\n",
      "Collecting requests-oauthlib>=0.7.0 (from google-auth-oauthlib<1.1,>=0.5->tensorboard<2.14,>=2.13->tensorflow)\n",
      "  Downloading requests_oauthlib-1.3.1-py2.py3-none-any.whl (23 kB)\n",
      "Requirement already satisfied: charset-normalizer<4,>=2 in /home/ec2-user/anaconda3/envs/pytorch_p310/lib/python3.10/site-packages (from requests<3,>=2.21.0->tensorboard<2.14,>=2.13->tensorflow) (3.2.0)\n",
      "Requirement already satisfied: idna<4,>=2.5 in /home/ec2-user/anaconda3/envs/pytorch_p310/lib/python3.10/site-packages (from requests<3,>=2.21.0->tensorboard<2.14,>=2.13->tensorflow) (3.4)\n",
      "Requirement already satisfied: certifi>=2017.4.17 in /home/ec2-user/anaconda3/envs/pytorch_p310/lib/python3.10/site-packages (from requests<3,>=2.21.0->tensorboard<2.14,>=2.13->tensorflow) (2023.5.7)\n",
      "Requirement already satisfied: MarkupSafe>=2.1.1 in /home/ec2-user/anaconda3/envs/pytorch_p310/lib/python3.10/site-packages (from werkzeug>=1.0.1->tensorboard<2.14,>=2.13->tensorflow) (2.1.3)\n",
      "Requirement already satisfied: pyasn1<0.6.0,>=0.4.6 in /home/ec2-user/anaconda3/envs/pytorch_p310/lib/python3.10/site-packages (from pyasn1-modules>=0.2.1->google-auth<3,>=1.6.3->tensorboard<2.14,>=2.13->tensorflow) (0.4.8)\n",
      "Collecting oauthlib>=3.0.0 (from requests-oauthlib>=0.7.0->google-auth-oauthlib<1.1,>=0.5->tensorboard<2.14,>=2.13->tensorflow)\n",
      "  Downloading oauthlib-3.2.2-py3-none-any.whl (151 kB)\n",
      "\u001b[2K     \u001b[90m━━━━━━━━━━━━━━━━━━━━━━━━━━━━━━━━━━━━━━\u001b[0m \u001b[32m151.7/151.7 kB\u001b[0m \u001b[31m42.2 MB/s\u001b[0m eta \u001b[36m0:00:00\u001b[0m\n",
      "\u001b[?25hDownloading tensorflow-2.13.0-cp310-cp310-manylinux_2_17_x86_64.manylinux2014_x86_64.whl (524.1 MB)\n",
      "\u001b[2K   \u001b[90m━━━━━━━━━━━━━━━━━━━━━━━━━━━━━━━━━━━━━━━━\u001b[0m \u001b[32m524.1/524.1 MB\u001b[0m \u001b[31m2.5 MB/s\u001b[0m eta \u001b[36m0:00:00\u001b[0m:00:01\u001b[0m00:01\u001b[0m\n",
      "\u001b[?25hDownloading flatbuffers-23.5.26-py2.py3-none-any.whl (26 kB)\n",
      "Downloading grpcio-1.57.0-cp310-cp310-manylinux_2_17_x86_64.manylinux2014_x86_64.whl (5.3 MB)\n",
      "\u001b[2K   \u001b[90m━━━━━━━━━━━━━━━━━━━━━━━━━━━━━━━━━━━━━━━━\u001b[0m \u001b[32m5.3/5.3 MB\u001b[0m \u001b[31m66.7 MB/s\u001b[0m eta \u001b[36m0:00:00\u001b[0m:00:01\u001b[0m\n",
      "\u001b[?25hDownloading h5py-3.9.0-cp310-cp310-manylinux_2_17_x86_64.manylinux2014_x86_64.whl (4.8 MB)\n",
      "\u001b[2K   \u001b[90m━━━━━━━━━━━━━━━━━━━━━━━━━━━━━━━━━━━━━━━━\u001b[0m \u001b[32m4.8/4.8 MB\u001b[0m \u001b[31m30.8 MB/s\u001b[0m eta \u001b[36m0:00:00\u001b[0m00:01\u001b[0m:00:01\u001b[0m\n",
      "\u001b[?25hDownloading keras-2.13.1-py3-none-any.whl (1.7 MB)\n",
      "\u001b[2K   \u001b[90m━━━━━━━━━━━━━━━━━━━━━━━━━━━━━━━━━━━━━━━━\u001b[0m \u001b[32m1.7/1.7 MB\u001b[0m \u001b[31m38.9 MB/s\u001b[0m eta \u001b[36m0:00:00\u001b[0m:00:01\u001b[0m\n",
      "\u001b[?25hDownloading libclang-16.0.6-py2.py3-none-manylinux2010_x86_64.whl (22.9 MB)\n",
      "\u001b[2K   \u001b[90m━━━━━━━━━━━━━━━━━━━━━━━━━━━━━━━━━━━━━━━━\u001b[0m \u001b[32m22.9/22.9 MB\u001b[0m \u001b[31m35.9 MB/s\u001b[0m eta \u001b[36m0:00:00\u001b[0m:00:01\u001b[0m00:01\u001b[0m\n",
      "\u001b[?25hDownloading tensorflow_estimator-2.13.0-py2.py3-none-any.whl (440 kB)\n",
      "\u001b[2K   \u001b[90m━━━━━━━━━━━━━━━━━━━━━━━━━━━━━━━━━━━━━━━━\u001b[0m \u001b[32m440.8/440.8 kB\u001b[0m \u001b[31m79.1 MB/s\u001b[0m eta \u001b[36m0:00:00\u001b[0m\n",
      "\u001b[?25hDownloading tensorflow_io_gcs_filesystem-0.33.0-cp310-cp310-manylinux_2_12_x86_64.manylinux2010_x86_64.whl (2.4 MB)\n",
      "\u001b[2K   \u001b[90m━━━━━━━━━━━━━━━━━━━━━━━━━━━━━━━━━━━━━━━━\u001b[0m \u001b[32m2.4/2.4 MB\u001b[0m \u001b[31m50.2 MB/s\u001b[0m eta \u001b[36m0:00:00\u001b[0m:00:01\u001b[0m\n",
      "\u001b[?25hDownloading google_auth-2.22.0-py2.py3-none-any.whl (181 kB)\n",
      "\u001b[2K   \u001b[90m━━━━━━━━━━━━━━━━━━━━━━━━━━━━━━━━━━━━━━━━\u001b[0m \u001b[32m181.8/181.8 kB\u001b[0m \u001b[31m51.5 MB/s\u001b[0m eta \u001b[36m0:00:00\u001b[0m\n",
      "\u001b[?25hDownloading Markdown-3.4.4-py3-none-any.whl (94 kB)\n",
      "\u001b[2K   \u001b[90m━━━━━━━━━━━━━━━━━━━━━━━━━━━━━━━━━━━━━━━━\u001b[0m \u001b[32m94.2/94.2 kB\u001b[0m \u001b[31m2.3 MB/s\u001b[0m eta \u001b[36m0:00:00\u001b[0m0:00:01\u001b[0m\n",
      "\u001b[?25hDownloading tensorboard_data_server-0.7.1-py3-none-manylinux2014_x86_64.whl (6.6 MB)\n",
      "\u001b[2K   \u001b[90m━━━━━━━━━━━━━━━━━━━━━━━━━━━━━━━━━━━━━━━━\u001b[0m \u001b[32m6.6/6.6 MB\u001b[0m \u001b[31m46.6 MB/s\u001b[0m eta \u001b[36m0:00:00\u001b[0m:00:01\u001b[0m0:01\u001b[0m\n",
      "\u001b[?25hDownloading cachetools-5.3.1-py3-none-any.whl (9.3 kB)\n",
      "Installing collected packages: libclang, flatbuffers, wrapt, typing-extensions, tensorflow-io-gcs-filesystem, tensorflow-estimator, tensorboard-data-server, pyasn1-modules, oauthlib, numpy, markdown, keras, grpcio, gast, cachetools, astunparse, absl-py, requests-oauthlib, opt-einsum, h5py, google-auth, google-auth-oauthlib, tensorboard, tensorflow\n",
      "  Attempting uninstall: typing-extensions\n",
      "    Found existing installation: typing_extensions 4.7.1\n",
      "    Uninstalling typing_extensions-4.7.1:\n",
      "      Successfully uninstalled typing_extensions-4.7.1\n",
      "  Attempting uninstall: numpy\n",
      "    Found existing installation: numpy 1.24.4\n",
      "    Uninstalling numpy-1.24.4:\n",
      "      Successfully uninstalled numpy-1.24.4\n",
      "\u001b[31mERROR: pip's dependency resolver does not currently take into account all the packages that are installed. This behaviour is the source of the following dependency conflicts.\n",
      "triton 2.0.0 requires cmake, which is not installed.\n",
      "triton 2.0.0 requires lit, which is not installed.\n",
      "pydantic 2.0.3 requires typing-extensions>=4.6.1, but you have typing-extensions 4.5.0 which is incompatible.\n",
      "pydantic-core 2.3.0 requires typing-extensions!=4.7.0,>=4.6.0, but you have typing-extensions 4.5.0 which is incompatible.\u001b[0m\u001b[31m\n",
      "\u001b[0mSuccessfully installed absl-py-1.4.0 astunparse-1.6.3 cachetools-5.3.1 flatbuffers-23.5.26 gast-0.4.0 google-auth-2.22.0 google-auth-oauthlib-1.0.0 grpcio-1.57.0 h5py-3.9.0 keras-2.13.1 libclang-16.0.6 markdown-3.4.4 numpy-1.24.3 oauthlib-3.2.2 opt-einsum-3.3.0 pyasn1-modules-0.3.0 requests-oauthlib-1.3.1 tensorboard-2.13.0 tensorboard-data-server-0.7.1 tensorflow-2.13.0 tensorflow-estimator-2.13.0 tensorflow-io-gcs-filesystem-0.33.0 typing-extensions-4.5.0 wrapt-1.15.0\n",
      "Note: you may need to restart the kernel to use updated packages.\n"
     ]
    }
   ],
   "source": [
    "%pip install mosaicml\n",
    "%pip install tensorflow"
   ]
  },
  {
   "cell_type": "code",
   "execution_count": 2,
   "id": "1527c8a7-a772-4a97-bc35-5f7df0c0ba0c",
   "metadata": {
    "tags": []
   },
   "outputs": [
    {
     "name": "stdout",
     "output_type": "stream",
     "text": [
      "Collecting torchcontrib\n",
      "  Downloading torchcontrib-0.0.2.tar.gz (11 kB)\n",
      "  Preparing metadata (setup.py) ... \u001b[?25ldone\n",
      "\u001b[?25hBuilding wheels for collected packages: torchcontrib\n",
      "  Building wheel for torchcontrib (setup.py) ... \u001b[?25ldone\n",
      "\u001b[?25h  Created wheel for torchcontrib: filename=torchcontrib-0.0.2-py3-none-any.whl size=7516 sha256=8dd17faf7511f700704d6f376d8e14ea738ed1be3ff4cd9dac06d92b4f5d4519\n",
      "  Stored in directory: /home/ec2-user/.cache/pip/wheels/4e/e6/4d/ca9241b0fd2036630ed1674493738e27be708978362dac7cf4\n",
      "Successfully built torchcontrib\n",
      "Installing collected packages: torchcontrib\n",
      "Successfully installed torchcontrib-0.0.2\n",
      "Collecting torchsummary\n",
      "  Downloading torchsummary-1.5.1-py3-none-any.whl (2.8 kB)\n",
      "Installing collected packages: torchsummary\n",
      "Successfully installed torchsummary-1.5.1\n"
     ]
    }
   ],
   "source": [
    "!pip install torchcontrib\n",
    "!pip install torchsummary"
   ]
  },
  {
   "cell_type": "code",
   "execution_count": 3,
   "id": "24e5b6e1-4fa3-4677-8012-d15a7abf414a",
   "metadata": {
    "tags": []
   },
   "outputs": [
    {
     "name": "stderr",
     "output_type": "stream",
     "text": [
      "2023-08-25 09:51:51.096339: I tensorflow/core/util/port.cc:110] oneDNN custom operations are on. You may see slightly different numerical results due to floating-point round-off errors from different computation orders. To turn them off, set the environment variable `TF_ENABLE_ONEDNN_OPTS=0`.\n",
      "2023-08-25 09:51:51.154269: I tensorflow/core/platform/cpu_feature_guard.cc:182] This TensorFlow binary is optimized to use available CPU instructions in performance-critical operations.\n",
      "To enable the following instructions: AVX2 AVX512F AVX512_VNNI FMA, in other operations, rebuild TensorFlow with the appropriate compiler flags.\n",
      "2023-08-25 09:51:52.100571: W tensorflow/compiler/tf2tensorrt/utils/py_utils.cc:38] TF-TRT Warning: Could not find TensorRT\n"
     ]
    }
   ],
   "source": [
    "from numpy.random import seed\n",
    "import os\n",
    "import pandas as pd\n",
    "from sklearn.model_selection import train_test_split\n",
    "import shutil\n",
    "import torch\n",
    "import torchvision\n",
    "import torch.nn.functional as F\n",
    "\n",
    "from composer.models import ComposerModel\n",
    "from torchvision.datasets import ImageFolder\n",
    "from torch.utils.data import DataLoader, random_split\n",
    "import numpy as np\n",
    "from torchvision import transforms, datasets\n",
    "\n",
    "import tensorflow\n",
    "from tensorflow.keras.layers import Dense, Dropout\n",
    "from tensorflow.keras.optimizers import Adam\n",
    "from tensorflow.keras.metrics import categorical_crossentropy\n",
    "from tensorflow.keras.preprocessing.image import ImageDataGenerator\n",
    "from tensorflow.keras.models import Model\n",
    "from tensorflow.keras.callbacks import EarlyStopping, ReduceLROnPlateau, ModelCheckpoint\n",
    "\n",
    "import time\n",
    "import torchmetrics\n",
    "\n",
    "import torch.optim as optim\n",
    "from composer import Trainer\n",
    "import composer\n",
    "from composer.algorithms import BlurPool\n",
    "from composer.loggers import InMemoryLogger\n",
    "\n",
    "import matplotlib.pyplot as plt\n",
    "import numpy as np\n",
    "\n",
    "\n",
    "import seaborn as sns\n",
    "from sklearn.metrics import confusion_matrix\n",
    "from PIL import Image\n",
    "from torchvision.transforms.functional import InterpolationMode\n",
    "\n",
    "from torchvision.models.inception import InceptionOutputs\n",
    "import torch.nn as nn\n",
    "import torch.nn.functional as F\n",
    "import torchmetrics\n"
   ]
  },
  {
   "cell_type": "code",
   "execution_count": 4,
   "id": "41b833d7-8640-46e9-a26d-bbd086bd7bfa",
   "metadata": {
    "tags": []
   },
   "outputs": [],
   "source": [
    "base_dir='./data/ham10000'"
   ]
  },
  {
   "cell_type": "code",
   "execution_count": 5,
   "id": "637947f0-7c7e-4e7f-85d4-6a0663541f78",
   "metadata": {
    "tags": []
   },
   "outputs": [],
   "source": [
    "def create_folder_struct():\n",
    "    train_dir = os.path.join(base_dir, 'Train')\n",
    "    os.mkdir(train_dir)\n",
    "\n",
    "    # val_dir\n",
    "    val_dir = os.path.join(base_dir, 'Test')\n",
    "    os.mkdir(val_dir)\n",
    "\n",
    "\n",
    "    # [CREATE FOLDERS INSIDE THE TRAIN, VALIDATION AND TEST FOLDERS]\n",
    "    # Inside each folder we create seperate folders for each class\n",
    "\n",
    "    # create new folders inside train_dir\n",
    "    nv = os.path.join(train_dir, 'nv')\n",
    "    os.mkdir(nv)\n",
    "    mel = os.path.join(train_dir, 'mel')\n",
    "    os.mkdir(mel)\n",
    "    bkl = os.path.join(train_dir, 'bkl')\n",
    "    os.mkdir(bkl)\n",
    "    bcc = os.path.join(train_dir, 'bcc')\n",
    "    os.mkdir(bcc)\n",
    "    akiec = os.path.join(train_dir, 'akiec')\n",
    "    os.mkdir(akiec)\n",
    "    vasc = os.path.join(train_dir, 'vasc')\n",
    "    os.mkdir(vasc)\n",
    "    df = os.path.join(train_dir, 'df')\n",
    "    os.mkdir(df)\n",
    "\n",
    "\n",
    "\n",
    "    # create new folders inside val_dir\n",
    "    nv = os.path.join(val_dir, 'nv')\n",
    "    os.mkdir(nv)\n",
    "    mel = os.path.join(val_dir, 'mel')\n",
    "    os.mkdir(mel)\n",
    "    bkl = os.path.join(val_dir, 'bkl')\n",
    "    os.mkdir(bkl)\n",
    "    bcc = os.path.join(val_dir, 'bcc')\n",
    "    os.mkdir(bcc)\n",
    "    akiec = os.path.join(val_dir, 'akiec')\n",
    "    os.mkdir(akiec)\n",
    "    vasc = os.path.join(val_dir, 'vasc')\n",
    "    os.mkdir(vasc)\n",
    "    df = os.path.join(val_dir, 'df')\n",
    "    os.mkdir(df)"
   ]
  },
  {
   "cell_type": "code",
   "execution_count": 6,
   "id": "1a67ed49-c5c2-442c-bba1-383d05cb80cd",
   "metadata": {
    "tags": []
   },
   "outputs": [],
   "source": [
    "train_dir = os.path.join(base_dir, 'Train')\n",
    "val_dir = os.path.join(base_dir, 'Test')"
   ]
  },
  {
   "cell_type": "code",
   "execution_count": 7,
   "id": "dc0de287-9cf0-4f9a-a085-90bc8c2bf282",
   "metadata": {
    "tags": []
   },
   "outputs": [],
   "source": [
    "# create_folder_struct()"
   ]
  },
  {
   "cell_type": "code",
   "execution_count": 8,
   "id": "6c58ccf2-c2a9-4606-aa78-18eb94fc9fa6",
   "metadata": {
    "tags": []
   },
   "outputs": [],
   "source": [
    "df_data=pd.read_csv(base_dir+'/HAM10000_metadata')"
   ]
  },
  {
   "cell_type": "code",
   "execution_count": 9,
   "id": "87069c75-d9ba-4cae-875b-b488d6f47b08",
   "metadata": {
    "tags": []
   },
   "outputs": [
    {
     "data": {
      "text/html": [
       "<div>\n",
       "<style scoped>\n",
       "    .dataframe tbody tr th:only-of-type {\n",
       "        vertical-align: middle;\n",
       "    }\n",
       "\n",
       "    .dataframe tbody tr th {\n",
       "        vertical-align: top;\n",
       "    }\n",
       "\n",
       "    .dataframe thead th {\n",
       "        text-align: right;\n",
       "    }\n",
       "</style>\n",
       "<table border=\"1\" class=\"dataframe\">\n",
       "  <thead>\n",
       "    <tr style=\"text-align: right;\">\n",
       "      <th></th>\n",
       "      <th>lesion_id</th>\n",
       "      <th>image_id</th>\n",
       "      <th>dx</th>\n",
       "      <th>dx_type</th>\n",
       "      <th>age</th>\n",
       "      <th>sex</th>\n",
       "      <th>localization</th>\n",
       "      <th>dataset</th>\n",
       "    </tr>\n",
       "  </thead>\n",
       "  <tbody>\n",
       "    <tr>\n",
       "      <th>0</th>\n",
       "      <td>HAM_0000118</td>\n",
       "      <td>ISIC_0027419</td>\n",
       "      <td>bkl</td>\n",
       "      <td>histo</td>\n",
       "      <td>80.0</td>\n",
       "      <td>male</td>\n",
       "      <td>scalp</td>\n",
       "      <td>vidir_modern</td>\n",
       "    </tr>\n",
       "    <tr>\n",
       "      <th>1</th>\n",
       "      <td>HAM_0000118</td>\n",
       "      <td>ISIC_0025030</td>\n",
       "      <td>bkl</td>\n",
       "      <td>histo</td>\n",
       "      <td>80.0</td>\n",
       "      <td>male</td>\n",
       "      <td>scalp</td>\n",
       "      <td>vidir_modern</td>\n",
       "    </tr>\n",
       "    <tr>\n",
       "      <th>2</th>\n",
       "      <td>HAM_0002730</td>\n",
       "      <td>ISIC_0026769</td>\n",
       "      <td>bkl</td>\n",
       "      <td>histo</td>\n",
       "      <td>80.0</td>\n",
       "      <td>male</td>\n",
       "      <td>scalp</td>\n",
       "      <td>vidir_modern</td>\n",
       "    </tr>\n",
       "    <tr>\n",
       "      <th>3</th>\n",
       "      <td>HAM_0002730</td>\n",
       "      <td>ISIC_0025661</td>\n",
       "      <td>bkl</td>\n",
       "      <td>histo</td>\n",
       "      <td>80.0</td>\n",
       "      <td>male</td>\n",
       "      <td>scalp</td>\n",
       "      <td>vidir_modern</td>\n",
       "    </tr>\n",
       "    <tr>\n",
       "      <th>4</th>\n",
       "      <td>HAM_0001466</td>\n",
       "      <td>ISIC_0031633</td>\n",
       "      <td>bkl</td>\n",
       "      <td>histo</td>\n",
       "      <td>75.0</td>\n",
       "      <td>male</td>\n",
       "      <td>ear</td>\n",
       "      <td>vidir_modern</td>\n",
       "    </tr>\n",
       "  </tbody>\n",
       "</table>\n",
       "</div>"
      ],
      "text/plain": [
       "     lesion_id      image_id   dx dx_type   age   sex localization  \\\n",
       "0  HAM_0000118  ISIC_0027419  bkl   histo  80.0  male        scalp   \n",
       "1  HAM_0000118  ISIC_0025030  bkl   histo  80.0  male        scalp   \n",
       "2  HAM_0002730  ISIC_0026769  bkl   histo  80.0  male        scalp   \n",
       "3  HAM_0002730  ISIC_0025661  bkl   histo  80.0  male        scalp   \n",
       "4  HAM_0001466  ISIC_0031633  bkl   histo  75.0  male          ear   \n",
       "\n",
       "        dataset  \n",
       "0  vidir_modern  \n",
       "1  vidir_modern  \n",
       "2  vidir_modern  \n",
       "3  vidir_modern  \n",
       "4  vidir_modern  "
      ]
     },
     "execution_count": 9,
     "metadata": {},
     "output_type": "execute_result"
    }
   ],
   "source": [
    "df_data.head()"
   ]
  },
  {
   "cell_type": "code",
   "execution_count": 10,
   "id": "2aecda5d-2064-4b0d-9e97-9e63183173ef",
   "metadata": {
    "tags": []
   },
   "outputs": [
    {
     "data": {
      "text/html": [
       "<div>\n",
       "<style scoped>\n",
       "    .dataframe tbody tr th:only-of-type {\n",
       "        vertical-align: middle;\n",
       "    }\n",
       "\n",
       "    .dataframe tbody tr th {\n",
       "        vertical-align: top;\n",
       "    }\n",
       "\n",
       "    .dataframe thead th {\n",
       "        text-align: right;\n",
       "    }\n",
       "</style>\n",
       "<table border=\"1\" class=\"dataframe\">\n",
       "  <thead>\n",
       "    <tr style=\"text-align: right;\">\n",
       "      <th></th>\n",
       "      <th>lesion_id</th>\n",
       "      <th>image_id</th>\n",
       "      <th>dx</th>\n",
       "      <th>dx_type</th>\n",
       "      <th>age</th>\n",
       "      <th>sex</th>\n",
       "      <th>localization</th>\n",
       "      <th>dataset</th>\n",
       "    </tr>\n",
       "  </thead>\n",
       "  <tbody>\n",
       "    <tr>\n",
       "      <th>0</th>\n",
       "      <td>HAM_0000001</td>\n",
       "      <td>1</td>\n",
       "      <td>1</td>\n",
       "      <td>1</td>\n",
       "      <td>1</td>\n",
       "      <td>1</td>\n",
       "      <td>1</td>\n",
       "      <td>1</td>\n",
       "    </tr>\n",
       "    <tr>\n",
       "      <th>1</th>\n",
       "      <td>HAM_0000003</td>\n",
       "      <td>1</td>\n",
       "      <td>1</td>\n",
       "      <td>1</td>\n",
       "      <td>1</td>\n",
       "      <td>1</td>\n",
       "      <td>1</td>\n",
       "      <td>1</td>\n",
       "    </tr>\n",
       "    <tr>\n",
       "      <th>2</th>\n",
       "      <td>HAM_0000004</td>\n",
       "      <td>1</td>\n",
       "      <td>1</td>\n",
       "      <td>1</td>\n",
       "      <td>1</td>\n",
       "      <td>1</td>\n",
       "      <td>1</td>\n",
       "      <td>1</td>\n",
       "    </tr>\n",
       "    <tr>\n",
       "      <th>3</th>\n",
       "      <td>HAM_0000007</td>\n",
       "      <td>1</td>\n",
       "      <td>1</td>\n",
       "      <td>1</td>\n",
       "      <td>1</td>\n",
       "      <td>1</td>\n",
       "      <td>1</td>\n",
       "      <td>1</td>\n",
       "    </tr>\n",
       "    <tr>\n",
       "      <th>4</th>\n",
       "      <td>HAM_0000008</td>\n",
       "      <td>1</td>\n",
       "      <td>1</td>\n",
       "      <td>1</td>\n",
       "      <td>1</td>\n",
       "      <td>1</td>\n",
       "      <td>1</td>\n",
       "      <td>1</td>\n",
       "    </tr>\n",
       "    <tr>\n",
       "      <th>...</th>\n",
       "      <td>...</td>\n",
       "      <td>...</td>\n",
       "      <td>...</td>\n",
       "      <td>...</td>\n",
       "      <td>...</td>\n",
       "      <td>...</td>\n",
       "      <td>...</td>\n",
       "      <td>...</td>\n",
       "    </tr>\n",
       "    <tr>\n",
       "      <th>95</th>\n",
       "      <td>HAM_0000132</td>\n",
       "      <td>1</td>\n",
       "      <td>1</td>\n",
       "      <td>1</td>\n",
       "      <td>1</td>\n",
       "      <td>1</td>\n",
       "      <td>1</td>\n",
       "      <td>1</td>\n",
       "    </tr>\n",
       "    <tr>\n",
       "      <th>96</th>\n",
       "      <td>HAM_0000133</td>\n",
       "      <td>1</td>\n",
       "      <td>1</td>\n",
       "      <td>1</td>\n",
       "      <td>1</td>\n",
       "      <td>1</td>\n",
       "      <td>1</td>\n",
       "      <td>1</td>\n",
       "    </tr>\n",
       "    <tr>\n",
       "      <th>97</th>\n",
       "      <td>HAM_0000134</td>\n",
       "      <td>1</td>\n",
       "      <td>1</td>\n",
       "      <td>1</td>\n",
       "      <td>1</td>\n",
       "      <td>1</td>\n",
       "      <td>1</td>\n",
       "      <td>1</td>\n",
       "    </tr>\n",
       "    <tr>\n",
       "      <th>98</th>\n",
       "      <td>HAM_0000137</td>\n",
       "      <td>1</td>\n",
       "      <td>1</td>\n",
       "      <td>1</td>\n",
       "      <td>1</td>\n",
       "      <td>1</td>\n",
       "      <td>1</td>\n",
       "      <td>1</td>\n",
       "    </tr>\n",
       "    <tr>\n",
       "      <th>99</th>\n",
       "      <td>HAM_0000139</td>\n",
       "      <td>1</td>\n",
       "      <td>1</td>\n",
       "      <td>1</td>\n",
       "      <td>1</td>\n",
       "      <td>1</td>\n",
       "      <td>1</td>\n",
       "      <td>1</td>\n",
       "    </tr>\n",
       "  </tbody>\n",
       "</table>\n",
       "<p>100 rows × 8 columns</p>\n",
       "</div>"
      ],
      "text/plain": [
       "      lesion_id  image_id  dx  dx_type  age  sex  localization  dataset\n",
       "0   HAM_0000001         1   1        1    1    1             1        1\n",
       "1   HAM_0000003         1   1        1    1    1             1        1\n",
       "2   HAM_0000004         1   1        1    1    1             1        1\n",
       "3   HAM_0000007         1   1        1    1    1             1        1\n",
       "4   HAM_0000008         1   1        1    1    1             1        1\n",
       "..          ...       ...  ..      ...  ...  ...           ...      ...\n",
       "95  HAM_0000132         1   1        1    1    1             1        1\n",
       "96  HAM_0000133         1   1        1    1    1             1        1\n",
       "97  HAM_0000134         1   1        1    1    1             1        1\n",
       "98  HAM_0000137         1   1        1    1    1             1        1\n",
       "99  HAM_0000139         1   1        1    1    1             1        1\n",
       "\n",
       "[100 rows x 8 columns]"
      ]
     },
     "execution_count": 10,
     "metadata": {},
     "output_type": "execute_result"
    }
   ],
   "source": [
    "df = df_data.groupby('lesion_id').count()\n",
    "\n",
    "# now we filter out lesion_id's that have only one image associated with it\n",
    "df = df[df['image_id'] == 1]\n",
    "\n",
    "df.reset_index(inplace=True)\n",
    "\n",
    "df.head(100)"
   ]
  },
  {
   "cell_type": "code",
   "execution_count": 11,
   "id": "14c7420f-1b25-48dc-adf1-6144c25df54e",
   "metadata": {
    "tags": []
   },
   "outputs": [
    {
     "data": {
      "text/html": [
       "<div>\n",
       "<style scoped>\n",
       "    .dataframe tbody tr th:only-of-type {\n",
       "        vertical-align: middle;\n",
       "    }\n",
       "\n",
       "    .dataframe tbody tr th {\n",
       "        vertical-align: top;\n",
       "    }\n",
       "\n",
       "    .dataframe thead th {\n",
       "        text-align: right;\n",
       "    }\n",
       "</style>\n",
       "<table border=\"1\" class=\"dataframe\">\n",
       "  <thead>\n",
       "    <tr style=\"text-align: right;\">\n",
       "      <th></th>\n",
       "      <th>lesion_id</th>\n",
       "      <th>image_id</th>\n",
       "      <th>dx</th>\n",
       "      <th>dx_type</th>\n",
       "      <th>age</th>\n",
       "      <th>sex</th>\n",
       "      <th>localization</th>\n",
       "      <th>dataset</th>\n",
       "      <th>duplicates</th>\n",
       "    </tr>\n",
       "  </thead>\n",
       "  <tbody>\n",
       "    <tr>\n",
       "      <th>0</th>\n",
       "      <td>HAM_0000118</td>\n",
       "      <td>ISIC_0027419</td>\n",
       "      <td>bkl</td>\n",
       "      <td>histo</td>\n",
       "      <td>80.0</td>\n",
       "      <td>male</td>\n",
       "      <td>scalp</td>\n",
       "      <td>vidir_modern</td>\n",
       "      <td>has_duplicates</td>\n",
       "    </tr>\n",
       "    <tr>\n",
       "      <th>1</th>\n",
       "      <td>HAM_0000118</td>\n",
       "      <td>ISIC_0025030</td>\n",
       "      <td>bkl</td>\n",
       "      <td>histo</td>\n",
       "      <td>80.0</td>\n",
       "      <td>male</td>\n",
       "      <td>scalp</td>\n",
       "      <td>vidir_modern</td>\n",
       "      <td>has_duplicates</td>\n",
       "    </tr>\n",
       "    <tr>\n",
       "      <th>2</th>\n",
       "      <td>HAM_0002730</td>\n",
       "      <td>ISIC_0026769</td>\n",
       "      <td>bkl</td>\n",
       "      <td>histo</td>\n",
       "      <td>80.0</td>\n",
       "      <td>male</td>\n",
       "      <td>scalp</td>\n",
       "      <td>vidir_modern</td>\n",
       "      <td>has_duplicates</td>\n",
       "    </tr>\n",
       "    <tr>\n",
       "      <th>3</th>\n",
       "      <td>HAM_0002730</td>\n",
       "      <td>ISIC_0025661</td>\n",
       "      <td>bkl</td>\n",
       "      <td>histo</td>\n",
       "      <td>80.0</td>\n",
       "      <td>male</td>\n",
       "      <td>scalp</td>\n",
       "      <td>vidir_modern</td>\n",
       "      <td>has_duplicates</td>\n",
       "    </tr>\n",
       "    <tr>\n",
       "      <th>4</th>\n",
       "      <td>HAM_0001466</td>\n",
       "      <td>ISIC_0031633</td>\n",
       "      <td>bkl</td>\n",
       "      <td>histo</td>\n",
       "      <td>75.0</td>\n",
       "      <td>male</td>\n",
       "      <td>ear</td>\n",
       "      <td>vidir_modern</td>\n",
       "      <td>has_duplicates</td>\n",
       "    </tr>\n",
       "  </tbody>\n",
       "</table>\n",
       "</div>"
      ],
      "text/plain": [
       "     lesion_id      image_id   dx dx_type   age   sex localization  \\\n",
       "0  HAM_0000118  ISIC_0027419  bkl   histo  80.0  male        scalp   \n",
       "1  HAM_0000118  ISIC_0025030  bkl   histo  80.0  male        scalp   \n",
       "2  HAM_0002730  ISIC_0026769  bkl   histo  80.0  male        scalp   \n",
       "3  HAM_0002730  ISIC_0025661  bkl   histo  80.0  male        scalp   \n",
       "4  HAM_0001466  ISIC_0031633  bkl   histo  75.0  male          ear   \n",
       "\n",
       "        dataset      duplicates  \n",
       "0  vidir_modern  has_duplicates  \n",
       "1  vidir_modern  has_duplicates  \n",
       "2  vidir_modern  has_duplicates  \n",
       "3  vidir_modern  has_duplicates  \n",
       "4  vidir_modern  has_duplicates  "
      ]
     },
     "execution_count": 11,
     "metadata": {},
     "output_type": "execute_result"
    }
   ],
   "source": [
    "def identify_duplicates(x):\n",
    "    \n",
    "    unique_list = list(df['lesion_id'])\n",
    "    \n",
    "    if x in unique_list:\n",
    "        return 'no_duplicates'\n",
    "    else:\n",
    "        return 'has_duplicates'\n",
    "    \n",
    "# create a new colum that is a copy of the lesion_id column\n",
    "df_data['duplicates'] = df_data['lesion_id']\n",
    "# apply the function to this new column\n",
    "df_data['duplicates'] = df_data['duplicates'].apply(identify_duplicates)\n",
    "\n",
    "df_data.head()"
   ]
  },
  {
   "cell_type": "code",
   "execution_count": 12,
   "id": "e6557c32-5c9a-49ef-929c-cef9ce44d0d7",
   "metadata": {
    "tags": []
   },
   "outputs": [
    {
     "data": {
      "text/html": [
       "<div>\n",
       "<style scoped>\n",
       "    .dataframe tbody tr th:only-of-type {\n",
       "        vertical-align: middle;\n",
       "    }\n",
       "\n",
       "    .dataframe tbody tr th {\n",
       "        vertical-align: top;\n",
       "    }\n",
       "\n",
       "    .dataframe thead th {\n",
       "        text-align: right;\n",
       "    }\n",
       "</style>\n",
       "<table border=\"1\" class=\"dataframe\">\n",
       "  <thead>\n",
       "    <tr style=\"text-align: right;\">\n",
       "      <th></th>\n",
       "      <th>lesion_id</th>\n",
       "      <th>image_id</th>\n",
       "      <th>dx</th>\n",
       "      <th>dx_type</th>\n",
       "      <th>age</th>\n",
       "      <th>sex</th>\n",
       "      <th>localization</th>\n",
       "      <th>dataset</th>\n",
       "      <th>duplicates</th>\n",
       "    </tr>\n",
       "  </thead>\n",
       "  <tbody>\n",
       "    <tr>\n",
       "      <th>0</th>\n",
       "      <td>HAM_0000118</td>\n",
       "      <td>ISIC_0027419</td>\n",
       "      <td>bkl</td>\n",
       "      <td>histo</td>\n",
       "      <td>80.0</td>\n",
       "      <td>male</td>\n",
       "      <td>scalp</td>\n",
       "      <td>vidir_modern</td>\n",
       "      <td>has_duplicates</td>\n",
       "    </tr>\n",
       "    <tr>\n",
       "      <th>1</th>\n",
       "      <td>HAM_0000118</td>\n",
       "      <td>ISIC_0025030</td>\n",
       "      <td>bkl</td>\n",
       "      <td>histo</td>\n",
       "      <td>80.0</td>\n",
       "      <td>male</td>\n",
       "      <td>scalp</td>\n",
       "      <td>vidir_modern</td>\n",
       "      <td>has_duplicates</td>\n",
       "    </tr>\n",
       "    <tr>\n",
       "      <th>2</th>\n",
       "      <td>HAM_0002730</td>\n",
       "      <td>ISIC_0026769</td>\n",
       "      <td>bkl</td>\n",
       "      <td>histo</td>\n",
       "      <td>80.0</td>\n",
       "      <td>male</td>\n",
       "      <td>scalp</td>\n",
       "      <td>vidir_modern</td>\n",
       "      <td>has_duplicates</td>\n",
       "    </tr>\n",
       "    <tr>\n",
       "      <th>3</th>\n",
       "      <td>HAM_0002730</td>\n",
       "      <td>ISIC_0025661</td>\n",
       "      <td>bkl</td>\n",
       "      <td>histo</td>\n",
       "      <td>80.0</td>\n",
       "      <td>male</td>\n",
       "      <td>scalp</td>\n",
       "      <td>vidir_modern</td>\n",
       "      <td>has_duplicates</td>\n",
       "    </tr>\n",
       "    <tr>\n",
       "      <th>4</th>\n",
       "      <td>HAM_0001466</td>\n",
       "      <td>ISIC_0031633</td>\n",
       "      <td>bkl</td>\n",
       "      <td>histo</td>\n",
       "      <td>75.0</td>\n",
       "      <td>male</td>\n",
       "      <td>ear</td>\n",
       "      <td>vidir_modern</td>\n",
       "      <td>has_duplicates</td>\n",
       "    </tr>\n",
       "    <tr>\n",
       "      <th>...</th>\n",
       "      <td>...</td>\n",
       "      <td>...</td>\n",
       "      <td>...</td>\n",
       "      <td>...</td>\n",
       "      <td>...</td>\n",
       "      <td>...</td>\n",
       "      <td>...</td>\n",
       "      <td>...</td>\n",
       "      <td>...</td>\n",
       "    </tr>\n",
       "    <tr>\n",
       "      <th>10010</th>\n",
       "      <td>HAM_0002867</td>\n",
       "      <td>ISIC_0033084</td>\n",
       "      <td>akiec</td>\n",
       "      <td>histo</td>\n",
       "      <td>40.0</td>\n",
       "      <td>male</td>\n",
       "      <td>abdomen</td>\n",
       "      <td>vidir_modern</td>\n",
       "      <td>has_duplicates</td>\n",
       "    </tr>\n",
       "    <tr>\n",
       "      <th>10011</th>\n",
       "      <td>HAM_0002867</td>\n",
       "      <td>ISIC_0033550</td>\n",
       "      <td>akiec</td>\n",
       "      <td>histo</td>\n",
       "      <td>40.0</td>\n",
       "      <td>male</td>\n",
       "      <td>abdomen</td>\n",
       "      <td>vidir_modern</td>\n",
       "      <td>has_duplicates</td>\n",
       "    </tr>\n",
       "    <tr>\n",
       "      <th>10012</th>\n",
       "      <td>HAM_0002867</td>\n",
       "      <td>ISIC_0033536</td>\n",
       "      <td>akiec</td>\n",
       "      <td>histo</td>\n",
       "      <td>40.0</td>\n",
       "      <td>male</td>\n",
       "      <td>abdomen</td>\n",
       "      <td>vidir_modern</td>\n",
       "      <td>has_duplicates</td>\n",
       "    </tr>\n",
       "    <tr>\n",
       "      <th>10013</th>\n",
       "      <td>HAM_0000239</td>\n",
       "      <td>ISIC_0032854</td>\n",
       "      <td>akiec</td>\n",
       "      <td>histo</td>\n",
       "      <td>80.0</td>\n",
       "      <td>male</td>\n",
       "      <td>face</td>\n",
       "      <td>vidir_modern</td>\n",
       "      <td>has_duplicates</td>\n",
       "    </tr>\n",
       "    <tr>\n",
       "      <th>10014</th>\n",
       "      <td>HAM_0003521</td>\n",
       "      <td>ISIC_0032258</td>\n",
       "      <td>mel</td>\n",
       "      <td>histo</td>\n",
       "      <td>70.0</td>\n",
       "      <td>female</td>\n",
       "      <td>back</td>\n",
       "      <td>vidir_modern</td>\n",
       "      <td>has_duplicates</td>\n",
       "    </tr>\n",
       "  </tbody>\n",
       "</table>\n",
       "<p>10015 rows × 9 columns</p>\n",
       "</div>"
      ],
      "text/plain": [
       "         lesion_id      image_id     dx dx_type   age     sex localization  \\\n",
       "0      HAM_0000118  ISIC_0027419    bkl   histo  80.0    male        scalp   \n",
       "1      HAM_0000118  ISIC_0025030    bkl   histo  80.0    male        scalp   \n",
       "2      HAM_0002730  ISIC_0026769    bkl   histo  80.0    male        scalp   \n",
       "3      HAM_0002730  ISIC_0025661    bkl   histo  80.0    male        scalp   \n",
       "4      HAM_0001466  ISIC_0031633    bkl   histo  75.0    male          ear   \n",
       "...            ...           ...    ...     ...   ...     ...          ...   \n",
       "10010  HAM_0002867  ISIC_0033084  akiec   histo  40.0    male      abdomen   \n",
       "10011  HAM_0002867  ISIC_0033550  akiec   histo  40.0    male      abdomen   \n",
       "10012  HAM_0002867  ISIC_0033536  akiec   histo  40.0    male      abdomen   \n",
       "10013  HAM_0000239  ISIC_0032854  akiec   histo  80.0    male         face   \n",
       "10014  HAM_0003521  ISIC_0032258    mel   histo  70.0  female         back   \n",
       "\n",
       "            dataset      duplicates  \n",
       "0      vidir_modern  has_duplicates  \n",
       "1      vidir_modern  has_duplicates  \n",
       "2      vidir_modern  has_duplicates  \n",
       "3      vidir_modern  has_duplicates  \n",
       "4      vidir_modern  has_duplicates  \n",
       "...             ...             ...  \n",
       "10010  vidir_modern  has_duplicates  \n",
       "10011  vidir_modern  has_duplicates  \n",
       "10012  vidir_modern  has_duplicates  \n",
       "10013  vidir_modern  has_duplicates  \n",
       "10014  vidir_modern  has_duplicates  \n",
       "\n",
       "[10015 rows x 9 columns]"
      ]
     },
     "execution_count": 12,
     "metadata": {},
     "output_type": "execute_result"
    }
   ],
   "source": [
    "df_data"
   ]
  },
  {
   "cell_type": "code",
   "execution_count": 13,
   "id": "46b0900d-5768-4f4a-90de-5f9664b4e655",
   "metadata": {
    "tags": []
   },
   "outputs": [
    {
     "data": {
      "text/plain": [
       "no_duplicates     5514\n",
       "has_duplicates    4501\n",
       "Name: duplicates, dtype: int64"
      ]
     },
     "execution_count": 13,
     "metadata": {},
     "output_type": "execute_result"
    }
   ],
   "source": [
    "df_data['duplicates'].value_counts()\n"
   ]
  },
  {
   "cell_type": "code",
   "execution_count": 14,
   "id": "767eadc6-a37a-4ac2-91f2-186a8af8894f",
   "metadata": {
    "tags": []
   },
   "outputs": [
    {
     "data": {
      "text/plain": [
       "(5514, 9)"
      ]
     },
     "execution_count": 14,
     "metadata": {},
     "output_type": "execute_result"
    }
   ],
   "source": [
    "#in df we store dataset with no duplicates\n",
    "df=df_data[df_data['duplicates'] == 'no_duplicates']\n",
    "\n",
    "df.shape\n"
   ]
  },
  {
   "cell_type": "markdown",
   "id": "4a08a8af-9355-4c45-ade7-6238b76c8fbe",
   "metadata": {},
   "source": [
    "We have 5514 unique skin lesion image\n"
   ]
  },
  {
   "cell_type": "code",
   "execution_count": 15,
   "id": "75acfa5f-8d5b-4901-9d45-90773b94c5dd",
   "metadata": {
    "tags": []
   },
   "outputs": [
    {
     "data": {
      "text/html": [
       "<div>\n",
       "<style scoped>\n",
       "    .dataframe tbody tr th:only-of-type {\n",
       "        vertical-align: middle;\n",
       "    }\n",
       "\n",
       "    .dataframe tbody tr th {\n",
       "        vertical-align: top;\n",
       "    }\n",
       "\n",
       "    .dataframe thead th {\n",
       "        text-align: right;\n",
       "    }\n",
       "</style>\n",
       "<table border=\"1\" class=\"dataframe\">\n",
       "  <thead>\n",
       "    <tr style=\"text-align: right;\">\n",
       "      <th></th>\n",
       "      <th>lesion_id</th>\n",
       "      <th>image_id</th>\n",
       "      <th>dx</th>\n",
       "      <th>dx_type</th>\n",
       "      <th>age</th>\n",
       "      <th>sex</th>\n",
       "      <th>localization</th>\n",
       "      <th>dataset</th>\n",
       "      <th>duplicates</th>\n",
       "    </tr>\n",
       "  </thead>\n",
       "  <tbody>\n",
       "    <tr>\n",
       "      <th>10</th>\n",
       "      <td>HAM_0001396</td>\n",
       "      <td>ISIC_0025276</td>\n",
       "      <td>bkl</td>\n",
       "      <td>histo</td>\n",
       "      <td>55.0</td>\n",
       "      <td>female</td>\n",
       "      <td>trunk</td>\n",
       "      <td>vidir_modern</td>\n",
       "      <td>no_duplicates</td>\n",
       "    </tr>\n",
       "    <tr>\n",
       "      <th>15</th>\n",
       "      <td>HAM_0007207</td>\n",
       "      <td>ISIC_0031326</td>\n",
       "      <td>bkl</td>\n",
       "      <td>histo</td>\n",
       "      <td>65.0</td>\n",
       "      <td>male</td>\n",
       "      <td>back</td>\n",
       "      <td>vidir_modern</td>\n",
       "      <td>no_duplicates</td>\n",
       "    </tr>\n",
       "    <tr>\n",
       "      <th>20</th>\n",
       "      <td>HAM_0006071</td>\n",
       "      <td>ISIC_0032343</td>\n",
       "      <td>bkl</td>\n",
       "      <td>histo</td>\n",
       "      <td>70.0</td>\n",
       "      <td>female</td>\n",
       "      <td>face</td>\n",
       "      <td>vidir_modern</td>\n",
       "      <td>no_duplicates</td>\n",
       "    </tr>\n",
       "    <tr>\n",
       "      <th>33</th>\n",
       "      <td>HAM_0005612</td>\n",
       "      <td>ISIC_0024981</td>\n",
       "      <td>bkl</td>\n",
       "      <td>histo</td>\n",
       "      <td>80.0</td>\n",
       "      <td>male</td>\n",
       "      <td>scalp</td>\n",
       "      <td>vidir_modern</td>\n",
       "      <td>no_duplicates</td>\n",
       "    </tr>\n",
       "    <tr>\n",
       "      <th>34</th>\n",
       "      <td>HAM_0005388</td>\n",
       "      <td>ISIC_0027815</td>\n",
       "      <td>bkl</td>\n",
       "      <td>histo</td>\n",
       "      <td>80.0</td>\n",
       "      <td>male</td>\n",
       "      <td>chest</td>\n",
       "      <td>rosendahl</td>\n",
       "      <td>no_duplicates</td>\n",
       "    </tr>\n",
       "  </tbody>\n",
       "</table>\n",
       "</div>"
      ],
      "text/plain": [
       "      lesion_id      image_id   dx dx_type   age     sex localization  \\\n",
       "10  HAM_0001396  ISIC_0025276  bkl   histo  55.0  female        trunk   \n",
       "15  HAM_0007207  ISIC_0031326  bkl   histo  65.0    male         back   \n",
       "20  HAM_0006071  ISIC_0032343  bkl   histo  70.0  female         face   \n",
       "33  HAM_0005612  ISIC_0024981  bkl   histo  80.0    male        scalp   \n",
       "34  HAM_0005388  ISIC_0027815  bkl   histo  80.0    male        chest   \n",
       "\n",
       "         dataset     duplicates  \n",
       "10  vidir_modern  no_duplicates  \n",
       "15  vidir_modern  no_duplicates  \n",
       "20  vidir_modern  no_duplicates  \n",
       "33  vidir_modern  no_duplicates  \n",
       "34     rosendahl  no_duplicates  "
      ]
     },
     "execution_count": 15,
     "metadata": {},
     "output_type": "execute_result"
    }
   ],
   "source": [
    "df.head(5)"
   ]
  },
  {
   "cell_type": "code",
   "execution_count": 16,
   "id": "a73af3bd-6083-44ab-ba3a-54a05145eb1a",
   "metadata": {
    "tags": []
   },
   "outputs": [
    {
     "data": {
      "text/plain": [
       "(1103, 9)"
      ]
     },
     "execution_count": 16,
     "metadata": {},
     "output_type": "execute_result"
    }
   ],
   "source": [
    "y= df[\"dx\"]\n",
    "\n",
    "_, df_val = train_test_split(df, test_size=0.2, random_state=101, stratify=y)\n",
    "\n",
    "df_val.shape"
   ]
  },
  {
   "cell_type": "markdown",
   "id": "c40d340a-adcd-4db1-87c1-33304071a552",
   "metadata": {},
   "source": [
    "**dx** column uniquely identifies the class of each Image,"
   ]
  },
  {
   "cell_type": "code",
   "execution_count": 17,
   "id": "30cbc4c1-84c2-4ba2-848e-2201c868a5d0",
   "metadata": {
    "tags": []
   },
   "outputs": [
    {
     "data": {
      "text/plain": [
       "nv       883\n",
       "bkl       88\n",
       "mel       46\n",
       "bcc       35\n",
       "akiec     30\n",
       "vasc      13\n",
       "df         8\n",
       "Name: dx, dtype: int64"
      ]
     },
     "execution_count": 17,
     "metadata": {},
     "output_type": "execute_result"
    }
   ],
   "source": [
    "df_val['dx'].value_counts()\n"
   ]
  },
  {
   "cell_type": "code",
   "execution_count": 18,
   "id": "e0e9fe1c-dd5c-4c6b-b5cf-8a14f9227de5",
   "metadata": {
    "tags": []
   },
   "outputs": [],
   "source": [
    "#Helper Function to uniquely identify and remove validation dataset from original dataset where duplicates existed\n",
    "\n",
    "def identify_val_rows(x):\n",
    "    # create a list of all the lesion_id's in the val set\n",
    "    val_list = list(df_val['image_id'])\n",
    "    \n",
    "    if str(x) in val_list:\n",
    "        return 'val'\n",
    "    else:\n",
    "        return 'train'\n"
   ]
  },
  {
   "cell_type": "code",
   "execution_count": 19,
   "id": "6357f178-72d7-432d-b582-036a53127b0f",
   "metadata": {
    "tags": []
   },
   "outputs": [
    {
     "name": "stdout",
     "output_type": "stream",
     "text": [
      "8912\n",
      "1103\n"
     ]
    }
   ],
   "source": [
    "# create a new colum that is a copy of the image_id column\n",
    "df_data['train_or_val'] = df_data['image_id']\n",
    "# apply the function to this new column\n",
    "df_data['train_or_val'] = df_data['train_or_val'].apply(identify_val_rows)\n",
    "   \n",
    "# filter out train rows\n",
    "df_train = df_data[df_data['train_or_val'] == 'train']\n",
    "\n",
    "\n",
    "print(len(df_train))\n",
    "print(len(df_val))\n"
   ]
  },
  {
   "cell_type": "code",
   "execution_count": 20,
   "id": "291be0f0-9570-4068-83f8-89befa477156",
   "metadata": {
    "tags": []
   },
   "outputs": [
    {
     "data": {
      "text/plain": [
       "nv       5822\n",
       "mel      1067\n",
       "bkl      1011\n",
       "bcc       479\n",
       "akiec     297\n",
       "vasc      129\n",
       "df        107\n",
       "Name: dx, dtype: int64"
      ]
     },
     "execution_count": 20,
     "metadata": {},
     "output_type": "execute_result"
    }
   ],
   "source": [
    "#value count the class in train dataset\n",
    "df_train['dx'].value_counts()"
   ]
  },
  {
   "cell_type": "code",
   "execution_count": 21,
   "id": "14d25da5-4ba9-44b8-a82a-2dda095b273f",
   "metadata": {
    "tags": []
   },
   "outputs": [],
   "source": [
    "part1=os.listdir(base_dir+'/HAM10000_images_part_1')\n",
    "part2= os.listdir(base_dir+'/HAM10000_images_part_2')"
   ]
  },
  {
   "cell_type": "code",
   "execution_count": 22,
   "id": "b7c60357-894e-41e9-ac16-22de247875ac",
   "metadata": {
    "tags": []
   },
   "outputs": [],
   "source": [
    "train_list = list(df_train['image_id'])\n",
    "val_list = list(df_val['image_id'])"
   ]
  },
  {
   "cell_type": "code",
   "execution_count": 23,
   "id": "822441a3-ed49-45d8-a78f-bdba077ffb50",
   "metadata": {
    "tags": []
   },
   "outputs": [],
   "source": [
    "df_data.set_index('image_id', inplace=True)"
   ]
  },
  {
   "cell_type": "code",
   "execution_count": 24,
   "id": "85123671-078d-4d02-b795-f9dee5524268",
   "metadata": {
    "tags": []
   },
   "outputs": [],
   "source": [
    "def transfer_train_images():\n",
    "    for image in train_list:\n",
    "    \n",
    "        fname = image + '.jpg'\n",
    "        label = df_data.loc[image,'dx']\n",
    "\n",
    "        if fname in part1:\n",
    "            # source path to image\n",
    "            src = os.path.join(base_dir+'/HAM10000_images_part_1', fname)\n",
    "            # destination path to image\n",
    "            dst = os.path.join(train_dir, label, fname)\n",
    "            # copy the image from the source to the destination\n",
    "            shutil.copyfile(src, dst)\n",
    "\n",
    "        if fname in part2:\n",
    "            # source path to image\n",
    "            src = os.path.join(base_dir+'/HAM10000_images_part_2', fname)\n",
    "            # destination path to image\n",
    "            dst = os.path.join(train_dir, label, fname)\n",
    "            # copy the image from the source to the destination\n",
    "            shutil.copyfile(src, dst)"
   ]
  },
  {
   "cell_type": "code",
   "execution_count": 25,
   "id": "c1c1ca56-3d6c-4510-b2ec-31dc54fa6fd3",
   "metadata": {
    "tags": []
   },
   "outputs": [],
   "source": [
    "# transfer_train_images()"
   ]
  },
  {
   "cell_type": "code",
   "execution_count": 26,
   "id": "16d4fa29-fc92-4a57-8934-4efd2d19e4bd",
   "metadata": {
    "tags": []
   },
   "outputs": [],
   "source": [
    "def transfer_val_images():\n",
    "    for image in val_list:\n",
    "    \n",
    "        fname = image + '.jpg'\n",
    "        label = df_data.loc[image,'dx']\n",
    "\n",
    "        if fname in part1:\n",
    "            # source path to image\n",
    "            src = os.path.join(base_dir+'/HAM10000_images_part_1', fname)\n",
    "            # destination path to image\n",
    "            dst = os.path.join(val_dir, label, fname)\n",
    "            # copy the image from the source to the destination\n",
    "            shutil.copyfile(src, dst)\n",
    "\n",
    "        if fname in part2:\n",
    "            # source path to image\n",
    "            src = os.path.join(base_dir+'/HAM10000_images_part_2', fname)\n",
    "            # destination path to image\n",
    "            dst = os.path.join(val_dir, label, fname)\n",
    "            # copy the image from the source to the destination\n",
    "            shutil.copyfile(src, dst)"
   ]
  },
  {
   "cell_type": "code",
   "execution_count": 27,
   "id": "c8cd72fb-9dbd-463a-813a-984a41316a91",
   "metadata": {
    "tags": []
   },
   "outputs": [],
   "source": [
    "# transfer_val_images()"
   ]
  },
  {
   "cell_type": "code",
   "execution_count": 28,
   "id": "a45c4296-e70d-4fa0-b1fa-7aa79a42e670",
   "metadata": {
    "tags": []
   },
   "outputs": [
    {
     "data": {
      "text/plain": [
       "nv       5822\n",
       "mel      1067\n",
       "bkl      1011\n",
       "bcc       479\n",
       "akiec     297\n",
       "vasc      129\n",
       "df        107\n",
       "Name: dx, dtype: int64"
      ]
     },
     "execution_count": 28,
     "metadata": {},
     "output_type": "execute_result"
    }
   ],
   "source": [
    "df_train['dx'].value_counts()"
   ]
  },
  {
   "cell_type": "code",
   "execution_count": 29,
   "id": "a25722e9-542f-4d20-b9a1-a063beac69eb",
   "metadata": {
    "tags": []
   },
   "outputs": [
    {
     "name": "stdout",
     "output_type": "stream",
     "text": [
      "883\n",
      "46\n",
      "88\n",
      "35\n",
      "30\n",
      "13\n",
      "8\n"
     ]
    }
   ],
   "source": [
    "print(len(os.listdir(base_dir+'/Test/nv')))\n",
    "print(len(os.listdir(base_dir+'/Test/mel')))\n",
    "print(len(os.listdir(base_dir+'/Test/bkl')))\n",
    "print(len(os.listdir(base_dir+'/Test//bcc')))\n",
    "print(len(os.listdir(base_dir+'/Test/akiec')))\n",
    "print(len(os.listdir(base_dir+'/Test/vasc')))\n",
    "print(len(os.listdir(base_dir+'/Test/df')))"
   ]
  },
  {
   "cell_type": "code",
   "execution_count": 30,
   "id": "810d4356-f915-4a96-b5cf-5332b5a902e1",
   "metadata": {
    "tags": []
   },
   "outputs": [
    {
     "data": {
      "text/plain": [
       "nv       883\n",
       "bkl       88\n",
       "mel       46\n",
       "bcc       35\n",
       "akiec     30\n",
       "vasc      13\n",
       "df         8\n",
       "Name: dx, dtype: int64"
      ]
     },
     "execution_count": 30,
     "metadata": {},
     "output_type": "execute_result"
    }
   ],
   "source": [
    "df_val['dx'].value_counts()"
   ]
  },
  {
   "cell_type": "markdown",
   "id": "6ae6b036-b8c7-4aa0-9647-2fa18674f8a6",
   "metadata": {},
   "source": [
    "There is definitely a class imbalance in the provided dataset, one way to deal with it it so augmenting the class of images "
   ]
  },
  {
   "cell_type": "code",
   "execution_count": 31,
   "id": "7ffb0e69-c6d3-4da9-a024-7cd560d4089b",
   "metadata": {
    "tags": []
   },
   "outputs": [],
   "source": [
    "data_directory=base_dir+\"/Train\"\n",
    "dataset = ImageFolder(root=data_directory)"
   ]
  },
  {
   "cell_type": "code",
   "execution_count": 32,
   "id": "0c2cfda0-6f8e-4090-880a-97794460cd45",
   "metadata": {
    "tags": []
   },
   "outputs": [
    {
     "data": {
      "text/plain": [
       "['akiec', 'bcc', 'bkl', 'df', 'mel', 'nv', 'vasc']"
      ]
     },
     "execution_count": 32,
     "metadata": {},
     "output_type": "execute_result"
    }
   ],
   "source": [
    "dataset.classes"
   ]
  },
  {
   "cell_type": "code",
   "execution_count": 33,
   "id": "c521f5a6-ab29-4ba2-a476-738d302bb309",
   "metadata": {
    "tags": []
   },
   "outputs": [],
   "source": [
    "def perform_augmentation():\n",
    "    # note that we are not augmenting class 'nv'\n",
    "    class_list = ['mel','bkl','bcc','akiec','vasc','df']\n",
    "\n",
    "    for item in class_list:\n",
    "\n",
    "        # We are creating temporary directories here because we delete these directories later\n",
    "        # create a base dir\n",
    "        aug_dir = 'aug_dir'\n",
    "        os.mkdir(aug_dir)\n",
    "        # create a dir within the base dir to store images of the same class\n",
    "        img_dir = os.path.join(aug_dir, 'img_dir')\n",
    "        os.mkdir(img_dir)\n",
    "\n",
    "        # Choose a class\n",
    "        img_class = item\n",
    "\n",
    "        # list all images in that directory\n",
    "        img_list = os.listdir(base_dir+'/Train/' + img_class)\n",
    "\n",
    "        # Copy images from the class train dir to the img_dir e.g. class 'mel'\n",
    "        for fname in img_list:\n",
    "            # source path to image\n",
    "            if fname.lower().endswith(('.png', '.jpg', '.jpeg', '.bmp', '.gif')):\n",
    "                src = os.path.join(base_dir+'/Train/' + img_class, fname)\n",
    "                # destination path to image\n",
    "                dst = os.path.join(img_dir, fname)\n",
    "                # copy the image from the source to the destination\n",
    "                shutil.copyfile(src, dst)\n",
    "\n",
    "\n",
    "        # point to a dir containing the images and not to the images themselves\n",
    "        path = aug_dir\n",
    "        save_path = base_dir+'/Train/'  + img_class\n",
    "\n",
    "        # Create a data generator\n",
    "        datagen = ImageDataGenerator(\n",
    "            rotation_range=180,\n",
    "            width_shift_range=0.1,\n",
    "            height_shift_range=0.1,\n",
    "            zoom_range=0.1,\n",
    "            horizontal_flip=True,\n",
    "            vertical_flip=True,\n",
    "            #brightness_range=(0.9,1.1),\n",
    "            fill_mode='nearest')\n",
    "\n",
    "        batch_size = 50\n",
    "\n",
    "        aug_datagen = datagen.flow_from_directory(path,\n",
    "                                               save_to_dir=save_path,\n",
    "                                               save_format='jpg',\n",
    "                                                        target_size=(224,224),\n",
    "                                                        batch_size=batch_size)\n",
    "\n",
    "\n",
    "\n",
    "        # Generate the augmented images and add them to the training folders\n",
    "\n",
    "        ###########\n",
    "\n",
    "        num_aug_images_wanted = 6000 # total number of images we want to have in each class\n",
    "\n",
    "        ###########\n",
    "\n",
    "        num_files = len(os.listdir(img_dir))\n",
    "        num_batches = int(np.ceil((num_aug_images_wanted-num_files)/batch_size))\n",
    "\n",
    "        # run the generator and create about 6000 augmented images\n",
    "        for i in range(0,num_batches):\n",
    "\n",
    "            imgs, labels = next(aug_datagen)\n",
    "\n",
    "        # delete temporary directory with the raw image files\n",
    "        shutil.rmtree('aug_dir')"
   ]
  },
  {
   "cell_type": "code",
   "execution_count": 34,
   "id": "fe21d6b0-203e-495a-aa2c-183fad457eee",
   "metadata": {
    "tags": []
   },
   "outputs": [],
   "source": [
    "# perform_augmentation()"
   ]
  },
  {
   "cell_type": "code",
   "execution_count": 35,
   "id": "9709ca8b-4b04-497b-8ffe-8d9bbc4ae28a",
   "metadata": {
    "tags": []
   },
   "outputs": [
    {
     "name": "stdout",
     "output_type": "stream",
     "text": [
      "nv ------> 5822\n",
      "mel -----> 5885\n",
      "bkl -----> 5855\n",
      "bcc -----> 5798\n",
      "akiec ---> 5990\n",
      "vasc ----> 5210\n",
      "df ------> 4330\n"
     ]
    }
   ],
   "source": [
    "# check how many train images we have in each folder\n",
    "\n",
    "print('nv ------>', len(os.listdir(base_dir+'/Train/nv')))\n",
    "print('mel ----->', len(os.listdir(base_dir+'/Train/mel')))\n",
    "print('bkl ----->', len(os.listdir(base_dir+'/Train/bkl')))\n",
    "print('bcc ----->', len(os.listdir(base_dir+'/Train//bcc')))\n",
    "print('akiec --->', len(os.listdir(base_dir+'/Train/akiec')))\n",
    "print('vasc ---->', len(os.listdir(base_dir+'/Train/vasc')))\n",
    "print('df ------>', len(os.listdir(base_dir+'/Train/df')))"
   ]
  },
  {
   "cell_type": "code",
   "execution_count": 36,
   "id": "d0b4c018-d623-4f11-a7ef-4103ce031e94",
   "metadata": {
    "tags": []
   },
   "outputs": [],
   "source": [
    "# plots images with labels within jupyter notebook\n",
    "# source: https://github.com/smileservices/keras_utils/blob/master/utils.py\n",
    "\n",
    "def plots(ims, figsize=(12,6), rows=5, interp=False, titles=None): # 12,6\n",
    "    if type(ims[0]) is np.ndarray:\n",
    "        ims = np.array(ims).astype(np.uint8)\n",
    "        if (ims.shape[-1] != 3):\n",
    "            ims = ims.transpose((0,2,3,1))\n",
    "    f = plt.figure(figsize=figsize)\n",
    "    cols = len(ims)//rows if len(ims) % 2 == 0 else len(ims)//rows + 1\n",
    "    for i in range(len(ims)):\n",
    "        sp = f.add_subplot(rows, cols, i+1)\n",
    "        sp.axis('Off')\n",
    "        if titles is not None:\n",
    "            sp.set_title(titles[i], fontsize=16)\n",
    "        plt.imshow(ims[i], interpolation=None if interp else 'none')\n",
    "        \n",
    "# plots(imgs, titles=None) # titles=labels will display the image labels"
   ]
  },
  {
   "cell_type": "code",
   "execution_count": 37,
   "id": "382ef757-143b-4fa5-909e-38796a0201eb",
   "metadata": {
    "tags": []
   },
   "outputs": [
    {
     "data": {
      "text/html": [
       "<div>\n",
       "<style scoped>\n",
       "    .dataframe tbody tr th:only-of-type {\n",
       "        vertical-align: middle;\n",
       "    }\n",
       "\n",
       "    .dataframe tbody tr th {\n",
       "        vertical-align: top;\n",
       "    }\n",
       "\n",
       "    .dataframe thead th {\n",
       "        text-align: right;\n",
       "    }\n",
       "</style>\n",
       "<table border=\"1\" class=\"dataframe\">\n",
       "  <thead>\n",
       "    <tr style=\"text-align: right;\">\n",
       "      <th></th>\n",
       "      <th>lesion_id</th>\n",
       "      <th>image_id</th>\n",
       "      <th>dx</th>\n",
       "      <th>dx_type</th>\n",
       "      <th>age</th>\n",
       "      <th>sex</th>\n",
       "      <th>localization</th>\n",
       "      <th>dataset</th>\n",
       "      <th>duplicates</th>\n",
       "      <th>train_or_val</th>\n",
       "    </tr>\n",
       "  </thead>\n",
       "  <tbody>\n",
       "    <tr>\n",
       "      <th>0</th>\n",
       "      <td>HAM_0000118</td>\n",
       "      <td>ISIC_0027419</td>\n",
       "      <td>bkl</td>\n",
       "      <td>histo</td>\n",
       "      <td>80.0</td>\n",
       "      <td>male</td>\n",
       "      <td>scalp</td>\n",
       "      <td>vidir_modern</td>\n",
       "      <td>has_duplicates</td>\n",
       "      <td>train</td>\n",
       "    </tr>\n",
       "    <tr>\n",
       "      <th>1</th>\n",
       "      <td>HAM_0000118</td>\n",
       "      <td>ISIC_0025030</td>\n",
       "      <td>bkl</td>\n",
       "      <td>histo</td>\n",
       "      <td>80.0</td>\n",
       "      <td>male</td>\n",
       "      <td>scalp</td>\n",
       "      <td>vidir_modern</td>\n",
       "      <td>has_duplicates</td>\n",
       "      <td>train</td>\n",
       "    </tr>\n",
       "    <tr>\n",
       "      <th>2</th>\n",
       "      <td>HAM_0002730</td>\n",
       "      <td>ISIC_0026769</td>\n",
       "      <td>bkl</td>\n",
       "      <td>histo</td>\n",
       "      <td>80.0</td>\n",
       "      <td>male</td>\n",
       "      <td>scalp</td>\n",
       "      <td>vidir_modern</td>\n",
       "      <td>has_duplicates</td>\n",
       "      <td>train</td>\n",
       "    </tr>\n",
       "    <tr>\n",
       "      <th>3</th>\n",
       "      <td>HAM_0002730</td>\n",
       "      <td>ISIC_0025661</td>\n",
       "      <td>bkl</td>\n",
       "      <td>histo</td>\n",
       "      <td>80.0</td>\n",
       "      <td>male</td>\n",
       "      <td>scalp</td>\n",
       "      <td>vidir_modern</td>\n",
       "      <td>has_duplicates</td>\n",
       "      <td>train</td>\n",
       "    </tr>\n",
       "    <tr>\n",
       "      <th>4</th>\n",
       "      <td>HAM_0001466</td>\n",
       "      <td>ISIC_0031633</td>\n",
       "      <td>bkl</td>\n",
       "      <td>histo</td>\n",
       "      <td>75.0</td>\n",
       "      <td>male</td>\n",
       "      <td>ear</td>\n",
       "      <td>vidir_modern</td>\n",
       "      <td>has_duplicates</td>\n",
       "      <td>train</td>\n",
       "    </tr>\n",
       "    <tr>\n",
       "      <th>...</th>\n",
       "      <td>...</td>\n",
       "      <td>...</td>\n",
       "      <td>...</td>\n",
       "      <td>...</td>\n",
       "      <td>...</td>\n",
       "      <td>...</td>\n",
       "      <td>...</td>\n",
       "      <td>...</td>\n",
       "      <td>...</td>\n",
       "      <td>...</td>\n",
       "    </tr>\n",
       "    <tr>\n",
       "      <th>10010</th>\n",
       "      <td>HAM_0002867</td>\n",
       "      <td>ISIC_0033084</td>\n",
       "      <td>akiec</td>\n",
       "      <td>histo</td>\n",
       "      <td>40.0</td>\n",
       "      <td>male</td>\n",
       "      <td>abdomen</td>\n",
       "      <td>vidir_modern</td>\n",
       "      <td>has_duplicates</td>\n",
       "      <td>train</td>\n",
       "    </tr>\n",
       "    <tr>\n",
       "      <th>10011</th>\n",
       "      <td>HAM_0002867</td>\n",
       "      <td>ISIC_0033550</td>\n",
       "      <td>akiec</td>\n",
       "      <td>histo</td>\n",
       "      <td>40.0</td>\n",
       "      <td>male</td>\n",
       "      <td>abdomen</td>\n",
       "      <td>vidir_modern</td>\n",
       "      <td>has_duplicates</td>\n",
       "      <td>train</td>\n",
       "    </tr>\n",
       "    <tr>\n",
       "      <th>10012</th>\n",
       "      <td>HAM_0002867</td>\n",
       "      <td>ISIC_0033536</td>\n",
       "      <td>akiec</td>\n",
       "      <td>histo</td>\n",
       "      <td>40.0</td>\n",
       "      <td>male</td>\n",
       "      <td>abdomen</td>\n",
       "      <td>vidir_modern</td>\n",
       "      <td>has_duplicates</td>\n",
       "      <td>train</td>\n",
       "    </tr>\n",
       "    <tr>\n",
       "      <th>10013</th>\n",
       "      <td>HAM_0000239</td>\n",
       "      <td>ISIC_0032854</td>\n",
       "      <td>akiec</td>\n",
       "      <td>histo</td>\n",
       "      <td>80.0</td>\n",
       "      <td>male</td>\n",
       "      <td>face</td>\n",
       "      <td>vidir_modern</td>\n",
       "      <td>has_duplicates</td>\n",
       "      <td>train</td>\n",
       "    </tr>\n",
       "    <tr>\n",
       "      <th>10014</th>\n",
       "      <td>HAM_0003521</td>\n",
       "      <td>ISIC_0032258</td>\n",
       "      <td>mel</td>\n",
       "      <td>histo</td>\n",
       "      <td>70.0</td>\n",
       "      <td>female</td>\n",
       "      <td>back</td>\n",
       "      <td>vidir_modern</td>\n",
       "      <td>has_duplicates</td>\n",
       "      <td>train</td>\n",
       "    </tr>\n",
       "  </tbody>\n",
       "</table>\n",
       "<p>8912 rows × 10 columns</p>\n",
       "</div>"
      ],
      "text/plain": [
       "         lesion_id      image_id     dx dx_type   age     sex localization  \\\n",
       "0      HAM_0000118  ISIC_0027419    bkl   histo  80.0    male        scalp   \n",
       "1      HAM_0000118  ISIC_0025030    bkl   histo  80.0    male        scalp   \n",
       "2      HAM_0002730  ISIC_0026769    bkl   histo  80.0    male        scalp   \n",
       "3      HAM_0002730  ISIC_0025661    bkl   histo  80.0    male        scalp   \n",
       "4      HAM_0001466  ISIC_0031633    bkl   histo  75.0    male          ear   \n",
       "...            ...           ...    ...     ...   ...     ...          ...   \n",
       "10010  HAM_0002867  ISIC_0033084  akiec   histo  40.0    male      abdomen   \n",
       "10011  HAM_0002867  ISIC_0033550  akiec   histo  40.0    male      abdomen   \n",
       "10012  HAM_0002867  ISIC_0033536  akiec   histo  40.0    male      abdomen   \n",
       "10013  HAM_0000239  ISIC_0032854  akiec   histo  80.0    male         face   \n",
       "10014  HAM_0003521  ISIC_0032258    mel   histo  70.0  female         back   \n",
       "\n",
       "            dataset      duplicates train_or_val  \n",
       "0      vidir_modern  has_duplicates        train  \n",
       "1      vidir_modern  has_duplicates        train  \n",
       "2      vidir_modern  has_duplicates        train  \n",
       "3      vidir_modern  has_duplicates        train  \n",
       "4      vidir_modern  has_duplicates        train  \n",
       "...             ...             ...          ...  \n",
       "10010  vidir_modern  has_duplicates        train  \n",
       "10011  vidir_modern  has_duplicates        train  \n",
       "10012  vidir_modern  has_duplicates        train  \n",
       "10013  vidir_modern  has_duplicates        train  \n",
       "10014  vidir_modern  has_duplicates        train  \n",
       "\n",
       "[8912 rows x 10 columns]"
      ]
     },
     "execution_count": 37,
     "metadata": {},
     "output_type": "execute_result"
    }
   ],
   "source": [
    "df_train"
   ]
  },
  {
   "cell_type": "code",
   "execution_count": 38,
   "id": "1b34350b-d9dd-41fd-9d5d-9a1d1d7864c6",
   "metadata": {
    "tags": []
   },
   "outputs": [],
   "source": [
    "def requirementsForModelTraining(model):\n",
    "    blurpool = BlurPool(\n",
    "    replace_convs=True, # Blur before convs\n",
    "    replace_maxpools=True, # Blur before max-pools\n",
    "    blur_first=True # Blur before conv/max-pool)\n",
    "    )\n",
    "    optimizer = optim.Adam(model.parameters(), lr=0.0001)\n",
    "    algorithms=[blurpool]\n",
    "    return algorithms, optimizer"
   ]
  },
  {
   "cell_type": "code",
   "execution_count": 39,
   "id": "c99d15da-a58e-4b77-9547-136768289ec9",
   "metadata": {
    "tags": []
   },
   "outputs": [],
   "source": [
    "class_names = ['akiec', 'bcc', 'bkl', 'df', 'mel', 'nv', 'vasc']\n",
    "num_of_classes=7\n",
    "def evaluate_model(model):  \n",
    "    model.eval()\n",
    "    accuracy_metric = torchmetrics.classification.MulticlassAccuracy(num_classes=num_of_classes, average='micro')\n",
    "    true_labels = []\n",
    "    predicted_labels = []\n",
    "    correct = 0\n",
    "    total = 0\n",
    "    with torch.no_grad():\n",
    "        for inputs, targets in valid_dataloader:\n",
    "            # Move data to the same device as the model (CPU or GPU)\n",
    "            device = torch.device(\"cuda\" if torch.cuda.is_available() else \"cpu\")\n",
    "            model.to(device)\n",
    "            inputs, targets = inputs.to(device), targets.to(device)\n",
    "\n",
    "            # Perform the forward pass and get the outputs\n",
    "            outputs = model(inputs)\n",
    "\n",
    "            # Get the predicted class by finding the index with the highest score\n",
    "            _, predicted = torch.max(outputs.data, 1)\n",
    "\n",
    "            # Accumulate the true labels and predicted labels for each batch\n",
    "            true_labels.extend(targets.cpu().numpy())\n",
    "            predicted_labels.extend(predicted.cpu().numpy())\n",
    "            total += targets.size(0)\n",
    "            correct += (predicted == targets).sum().item()\n",
    "            \n",
    "    # Convert the lists to numpy arrays\n",
    "    true_labels = np.array(true_labels)\n",
    "    predicted_labels = np.array(predicted_labels)\n",
    "\n",
    "    # Create the confusion matrix\n",
    "    conf_matrix = confusion_matrix(true_labels, predicted_labels)\n",
    "\n",
    "    plt.figure(figsize=(8, 6))\n",
    "    sns.heatmap(conf_matrix, annot=True, fmt=\"d\", cmap=\"Blues\", xticklabels=class_names, yticklabels=class_names)\n",
    "    plt.xlabel(\"Predicted Labels\")\n",
    "    plt.ylabel(\"True Labels\")\n",
    "    plt.title(\"Confusion Matrix\")\n",
    "    plt.show()\n",
    "\n",
    "    # Print the results\n",
    "    accuracy = 100 * correct / total\n",
    "    print(f\"Accuracy on the evaluation dataset: {accuracy:.2f}%\")\n",
    "    print(\"\\n\")\n",
    "\n",
    "    # Calculate precision, recall, and F1 score for each class\n",
    "    TP = np.diag(conf_matrix)\n",
    "    FP = np.sum(conf_matrix, axis=0) - TP\n",
    "    FN = np.sum(conf_matrix, axis=1) - TP\n",
    "    TN = np.sum(conf_matrix) - (TP + FP + FN)\n",
    "\n",
    "    precision = TP / (TP + FP)\n",
    "    recall = TP / (TP + FN)\n",
    "    f1_score = 2 * (precision * recall) / (precision + recall)\n",
    "\n",
    "    print(\"Precision:\", precision)\n",
    "    print(\"Recall:\", recall)\n",
    "    print(\"F1 Score:\", f1_score)\n"
   ]
  },
  {
   "cell_type": "code",
   "execution_count": 40,
   "id": "3c326820-8ca5-4272-9522-670c0ece21fc",
   "metadata": {
    "tags": []
   },
   "outputs": [],
   "source": [
    "# Set your desired image size\n",
    "def transform_images(image_size, crop_size=None):\n",
    "\n",
    "    train_path=base_dir + '/Train/'\n",
    "    valid_path=base_dir + '/Test/'\n",
    "\n",
    "    # Define data transforms for training and validation datasets\n",
    "    train_transforms = transforms.Compose([\n",
    "        transforms.Resize(image_size, interpolation=InterpolationMode.BILINEAR),\n",
    "        transforms.CenterCrop(crop_size),\n",
    "        transforms.RandomHorizontalFlip(),\n",
    "        transforms.ToTensor(),\n",
    "        transforms.Normalize(mean=[0.485, 0.456, 0.406], std=[0.229, 0.224, 0.225])\n",
    "    ])\n",
    "\n",
    "    valid_transforms = transforms.Compose([\n",
    "        transforms.Resize(image_size, interpolation=InterpolationMode.BILINEAR),\n",
    "        transforms.CenterCrop(crop_size),\n",
    "        transforms.ToTensor(),\n",
    "        transforms.Normalize(mean=[0.485, 0.456, 0.406], std=[0.229, 0.224, 0.225])\n",
    "    ])\n",
    "\n",
    "    # Load datasets from the directories using torchvision.datasets.ImageFolder\n",
    "    train_dataset = datasets.ImageFolder(root=train_path, transform=train_transforms)\n",
    "    valid_dataset = datasets.ImageFolder(root=valid_path, transform=valid_transforms)\n",
    "\n",
    "    # Create data loaders\n",
    "    train_batch_size = 10\n",
    "    val_batch_size = 10\n",
    "\n",
    "    train_dataloader = torch.utils.data.DataLoader(train_dataset, batch_size=train_batch_size, shuffle=True)\n",
    "    valid_dataloader = torch.utils.data.DataLoader(valid_dataset, batch_size=val_batch_size, shuffle=False)\n",
    "\n",
    "    # Note: shuffle=False causes the test dataset to not be shuffled\n",
    "    test_dataloader = torch.utils.data.DataLoader(valid_dataset, batch_size=1, shuffle=False)\n",
    "    return train_dataloader, valid_dataloader, test_dataloader\n"
   ]
  },
  {
   "cell_type": "code",
   "execution_count": 41,
   "id": "e9f3e78a-6eb2-4cc8-803f-7ada5ba18098",
   "metadata": {
    "tags": []
   },
   "outputs": [],
   "source": [
    "def test_model(model_class, model_path, image_path, image_size):\n",
    "    num_classes=7\n",
    "    model = model_class(num_classes=num_classes)\n",
    "    model.load_state_dict(torch.load(model_path))\n",
    "    model.eval()\n",
    "    \n",
    "    transform = transforms.Compose([\n",
    "    transforms.Resize((image_size, image_size)),  # Replace with the input size of your model\n",
    "    transforms.ToTensor(),\n",
    "    transforms.Normalize(mean=[0.485, 0.456, 0.406], std=[0.229, 0.224, 0.225]),  # Replace with the normalization values used during training\n",
    "    ])\n",
    "    image=Image.open(image_path).convert(\"RGB\")\n",
    "    image = transform(image)\n",
    "    image = image.unsqueeze(0)\n",
    "    device = torch.device(\"cuda\" if torch.cuda.is_available() else \"cpu\")\n",
    "    image = image.to(device)\n",
    "    model = model.to(device)\n",
    "\n",
    "    with torch.no_grad():\n",
    "        outputs = model(image)\n",
    "\n",
    "    _, predicted_idx = torch.max(outputs.data, 1)\n",
    "    predicted_class = class_names[predicted_idx.item()]\n",
    "\n",
    "    print(\"Predicted Class:\", predicted_class)\n"
   ]
  },
  {
   "cell_type": "code",
   "execution_count": 42,
   "id": "091cf245-a8c7-4b5c-83f2-8c4277cccf22",
   "metadata": {
    "tags": []
   },
   "outputs": [
    {
     "data": {
      "image/png": "[encoded data removed]",
      "text/plain": [
       "<Figure size 640x480 with 1 Axes>"
      ]
     },
     "metadata": {},
     "output_type": "display_data"
    }
   ],
   "source": [
    "\n",
    "# Fetch one batch from the test_dataloader\n",
    "_, _, test_dataloader = transform_images(256,224)\n",
    "for images, labels in test_dataloader:\n",
    "    break\n",
    "\n",
    "# Unnormalize the image data for display\n",
    "mean = np.array([0.485, 0.456, 0.406])\n",
    "std = np.array([0.229, 0.224, 0.225])\n",
    "images = images.numpy().transpose((0, 2, 3, 1))\n",
    "images = std * images + mean\n",
    "images = np.clip(images, 0, 1)\n",
    "\n",
    "# Display the image\n",
    "plt.imshow(images[0])\n",
    "plt.title(f\"Label: {labels[0].item()}\")\n",
    "plt.axis('off')\n",
    "plt.show()\n"
   ]
  },
  {
   "cell_type": "code",
   "execution_count": 43,
   "id": "aef3e502-b726-470c-b6e7-74d3458a1da9",
   "metadata": {
    "tags": []
   },
   "outputs": [],
   "source": [
    "class ResNetCustomModel(ComposerModel):\n",
    "\n",
    "    def __init__(self):\n",
    "        super().__init__()\n",
    "        self.model = torchvision.models.resnet18()\n",
    "\n",
    "    def forward(self, batch):  # batch is the output of the dataloader\n",
    "        # Determine the format of the batch and handle it accordingly\n",
    "        if isinstance(batch, tuple):\n",
    "            # If the batch is in the format (inputs, targets)\n",
    "            inputs, targets = batch\n",
    "        else:\n",
    "            # If the batch is just the inputs\n",
    "            inputs = batch\n",
    "\n",
    "        return self.model(inputs)\n",
    "\n",
    "    def loss(self, outputs, batch):\n",
    "        # pass batches and `forward` outputs to the loss\n",
    "        _, targets = batch\n",
    "        return F.cross_entropy(outputs, targets)"
   ]
  },
  {
   "cell_type": "code",
   "execution_count": null,
   "id": "c6c0359e-3dba-40fc-97fb-76426ab15c28",
   "metadata": {
    "tags": []
   },
   "outputs": [],
   "source": [
    "train_dataloader, valid_dataloader, test_dataloader=transform_images(256,224)\n",
    "resnetModel = ResNetCustomModel()\n",
    "algorithms, optimizer=requirementsForModelTraining(resnetModel)\n",
    "logger = InMemoryLogger()\n",
    "trainer = Trainer(\n",
    "    model=resnetModel,\n",
    "    optimizers=optimizer,\n",
    "    train_dataloader=train_dataloader, \n",
    "    eval_dataloader=valid_dataloader,\n",
    "    max_duration='15ep',\n",
    "    algorithms=algorithms,\n",
    "    loggers=logger\n",
    ")"
   ]
  },
  {
   "cell_type": "code",
   "execution_count": null,
   "id": "281e8f7a-420d-445c-9df8-b4b462f02305",
   "metadata": {
    "tags": []
   },
   "outputs": [],
   "source": [
    "start_time = time.perf_counter()\n",
    "trainer.fit() # <-- Your training loop in action!\n",
    "end_time = time.perf_counter()\n",
    "print(f\"It took {end_time - start_time:0.4f} seconds to train\")"
   ]
  },
  {
   "cell_type": "code",
   "execution_count": 55,
   "id": "4cf93454-4a8b-491c-a936-5ff7b6f75e92",
   "metadata": {
    "tags": []
   },
   "outputs": [],
   "source": [
    "torch.save(resnetModel.state_dict(), './models/trained_model_composer_15ep.pth')"
   ]
  },
  {
   "cell_type": "markdown",
   "id": "af4948c8-503c-4d49-bdeb-2d6c51adeaa0",
   "metadata": {},
   "source": [
    "Resnet Model without BlurPool"
   ]
  },
  {
   "cell_type": "code",
   "execution_count": 48,
   "id": "c29bbda9-4eef-4ade-9fe0-50e4755a8645",
   "metadata": {
    "tags": []
   },
   "outputs": [
    {
     "data": {
      "image/png": "[encoded data removed]",
      "text/plain": [
       "<Figure size 800x600 with 2 Axes>"
      ]
     },
     "metadata": {},
     "output_type": "display_data"
    },
    {
     "name": "stdout",
     "output_type": "stream",
     "text": [
      "Accuracy on the evaluation dataset: 89.39%\n",
      "\n",
      "\n",
      "Precision: [0.80952381 0.74358974 0.62820513 0.42857143 0.57142857 0.93688792\n",
      " 1.        ]\n",
      "Recall: [0.56666667 0.82857143 0.55681818 0.375      0.34782609 0.97508494\n",
      " 0.84615385]\n",
      "F1 Score: [0.66666667 0.78378378 0.59036145 0.4        0.43243243 0.95560488\n",
      " 0.91666667]\n"
     ]
    }
   ],
   "source": [
    "evaluate_model(resnetModel)\n"
   ]
  },
  {
   "cell_type": "code",
   "execution_count": 49,
   "id": "89a79cd8-478e-4253-87b9-039f387cdc00",
   "metadata": {
    "tags": []
   },
   "outputs": [],
   "source": [
    "\n",
    "\n",
    "modelWOBP = ResNetCustomModel()\n",
    "optimizer = optim.Adam(modelWOBP.parameters(), lr=0.0001)\n",
    "\n",
    "logger = InMemoryLogger()\n",
    "trainerWOBP = Trainer(\n",
    "    model=modelWOBP,\n",
    "    optimizers=optimizer,\n",
    "    train_dataloader=train_dataloader, \n",
    "    eval_dataloader=valid_dataloader,\n",
    "    max_duration='15ep',\n",
    "    loggers=logger\n",
    ")"
   ]
  },
  {
   "cell_type": "code",
   "execution_count": 50,
   "id": "2e70b05e-0159-49ad-ac7b-4b21638d2f98",
   "metadata": {
    "tags": []
   },
   "outputs": [
    {
     "name": "stderr",
     "output_type": "stream",
     "text": [
      "******************************\n",
      "Config:\n",
      "node_name: unknown because NODENAME environment variable not set\n",
      "num_gpus_per_node: 1\n",
      "num_nodes: 1\n",
      "rank_zero_seed: 620620196\n",
      "\n",
      "******************************\n"
     ]
    },
    {
     "data": {
      "application/vnd.jupyter.widget-view+json": {
       "model_id": "ee8a25f9d68546b8bfd5aa9dc48da463",
       "version_major": 2,
       "version_minor": 0
      },
      "text/plain": [
       "train          Epoch   0:    0%|| 0/3889 [00:00<?, ?ba/s]         "
      ]
     },
     "metadata": {},
     "output_type": "display_data"
    },
    {
     "data": {
      "application/vnd.jupyter.widget-view+json": {
       "model_id": "1105e66b21b544338e3e6148ce8634f8",
       "version_major": 2,
       "version_minor": 0
      },
      "text/plain": [
       "eval           Epoch   0:    0%|| 0/111 [00:00<?, ?ba/s]         "
      ]
     },
     "metadata": {},
     "output_type": "display_data"
    },
    {
     "name": "stderr",
     "output_type": "stream",
     "text": [
      "/home/ec2-user/anaconda3/envs/pytorch_p310/lib/python3.10/site-packages/composer/core/data_spec.py:35: UserWarning: Cannot split tensor of length 3 into batches of size 10. As it is smaller, no splitting will be done. This may happen on the last batch of a dataset if it is a smaller size than the microbatch size.\n",
      "  warnings.warn(f'Cannot split tensor of length {len(t)} into batches of size {microbatch_size}. '\n"
     ]
    },
    {
     "data": {
      "application/vnd.jupyter.widget-view+json": {
       "model_id": "39a4c39f376e4d1986a14763becc852e",
       "version_major": 2,
       "version_minor": 0
      },
      "text/plain": [
       "train          Epoch   1:    0%|| 0/3889 [00:00<?, ?ba/s]         "
      ]
     },
     "metadata": {},
     "output_type": "display_data"
    },
    {
     "data": {
      "application/vnd.jupyter.widget-view+json": {
       "model_id": "db843480345f46f4b22bcf02089013af",
       "version_major": 2,
       "version_minor": 0
      },
      "text/plain": [
       "eval           Epoch   1:    0%|| 0/111 [00:00<?, ?ba/s]         "
      ]
     },
     "metadata": {},
     "output_type": "display_data"
    },
    {
     "data": {
      "application/vnd.jupyter.widget-view+json": {
       "model_id": "198567823d344311a2826d164e026c23",
       "version_major": 2,
       "version_minor": 0
      },
      "text/plain": [
       "train          Epoch   2:    0%|| 0/3889 [00:00<?, ?ba/s]         "
      ]
     },
     "metadata": {},
     "output_type": "display_data"
    },
    {
     "data": {
      "application/vnd.jupyter.widget-view+json": {
       "model_id": "dbffc6fad012446484f25b83a0c67ca3",
       "version_major": 2,
       "version_minor": 0
      },
      "text/plain": [
       "eval           Epoch   2:    0%|| 0/111 [00:00<?, ?ba/s]         "
      ]
     },
     "metadata": {},
     "output_type": "display_data"
    },
    {
     "data": {
      "application/vnd.jupyter.widget-view+json": {
       "model_id": "93801d5e27f04f01a7a4cbc232bf5d81",
       "version_major": 2,
       "version_minor": 0
      },
      "text/plain": [
       "train          Epoch   3:    0%|| 0/3889 [00:00<?, ?ba/s]         "
      ]
     },
     "metadata": {},
     "output_type": "display_data"
    },
    {
     "data": {
      "application/vnd.jupyter.widget-view+json": {
       "model_id": "ad01f9a1a5304962bc434a1a9ced474c",
       "version_major": 2,
       "version_minor": 0
      },
      "text/plain": [
       "eval           Epoch   3:    0%|| 0/111 [00:00<?, ?ba/s]         "
      ]
     },
     "metadata": {},
     "output_type": "display_data"
    },
    {
     "data": {
      "application/vnd.jupyter.widget-view+json": {
       "model_id": "87f06192b22e49f0b902503f708a4fce",
       "version_major": 2,
       "version_minor": 0
      },
      "text/plain": [
       "train          Epoch   4:    0%|| 0/3889 [00:00<?, ?ba/s]         "
      ]
     },
     "metadata": {},
     "output_type": "display_data"
    },
    {
     "data": {
      "application/vnd.jupyter.widget-view+json": {
       "model_id": "d01ed3d2ca1e41b7b519d1968dc15879",
       "version_major": 2,
       "version_minor": 0
      },
      "text/plain": [
       "eval           Epoch   4:    0%|| 0/111 [00:00<?, ?ba/s]         "
      ]
     },
     "metadata": {},
     "output_type": "display_data"
    },
    {
     "data": {
      "application/vnd.jupyter.widget-view+json": {
       "model_id": "68b151e0b8a7440b842c0f6f04706c6c",
       "version_major": 2,
       "version_minor": 0
      },
      "text/plain": [
       "train          Epoch   5:    0%|| 0/3889 [00:00<?, ?ba/s]         "
      ]
     },
     "metadata": {},
     "output_type": "display_data"
    },
    {
     "data": {
      "application/vnd.jupyter.widget-view+json": {
       "model_id": "db52412dcbfc42b681fec981000c8977",
       "version_major": 2,
       "version_minor": 0
      },
      "text/plain": [
       "eval           Epoch   5:    0%|| 0/111 [00:00<?, ?ba/s]         "
      ]
     },
     "metadata": {},
     "output_type": "display_data"
    },
    {
     "data": {
      "application/vnd.jupyter.widget-view+json": {
       "model_id": "f7586d2f40a941539290b0aa765daef5",
       "version_major": 2,
       "version_minor": 0
      },
      "text/plain": [
       "train          Epoch   6:    0%|| 0/3889 [00:00<?, ?ba/s]         "
      ]
     },
     "metadata": {},
     "output_type": "display_data"
    },
    {
     "data": {
      "application/vnd.jupyter.widget-view+json": {
       "model_id": "da2d19e164c449d4b8974c20e71e327b",
       "version_major": 2,
       "version_minor": 0
      },
      "text/plain": [
       "eval           Epoch   6:    0%|| 0/111 [00:00<?, ?ba/s]         "
      ]
     },
     "metadata": {},
     "output_type": "display_data"
    },
    {
     "data": {
      "application/vnd.jupyter.widget-view+json": {
       "model_id": "20bd27dc17034912be5b1d91bb2cf3e6",
       "version_major": 2,
       "version_minor": 0
      },
      "text/plain": [
       "train          Epoch   7:    0%|| 0/3889 [00:00<?, ?ba/s]         "
      ]
     },
     "metadata": {},
     "output_type": "display_data"
    },
    {
     "data": {
      "application/vnd.jupyter.widget-view+json": {
       "model_id": "61e034cdcce54f2c8c53a2561ed05c1b",
       "version_major": 2,
       "version_minor": 0
      },
      "text/plain": [
       "eval           Epoch   7:    0%|| 0/111 [00:00<?, ?ba/s]         "
      ]
     },
     "metadata": {},
     "output_type": "display_data"
    },
    {
     "data": {
      "application/vnd.jupyter.widget-view+json": {
       "model_id": "11f32f62e8a949348525c72bdebf64b1",
       "version_major": 2,
       "version_minor": 0
      },
      "text/plain": [
       "train          Epoch   8:    0%|| 0/3889 [00:00<?, ?ba/s]         "
      ]
     },
     "metadata": {},
     "output_type": "display_data"
    },
    {
     "data": {
      "application/vnd.jupyter.widget-view+json": {
       "model_id": "a4c39abd54104a05b87074707d1a071a",
       "version_major": 2,
       "version_minor": 0
      },
      "text/plain": [
       "eval           Epoch   8:    0%|| 0/111 [00:00<?, ?ba/s]         "
      ]
     },
     "metadata": {},
     "output_type": "display_data"
    },
    {
     "data": {
      "application/vnd.jupyter.widget-view+json": {
       "model_id": "3f13b5652c78437d88da331efc6ea83c",
       "version_major": 2,
       "version_minor": 0
      },
      "text/plain": [
       "train          Epoch   9:    0%|| 0/3889 [00:00<?, ?ba/s]         "
      ]
     },
     "metadata": {},
     "output_type": "display_data"
    },
    {
     "data": {
      "application/vnd.jupyter.widget-view+json": {
       "model_id": "9d8e2aef8ac647bda068349447fffbc8",
       "version_major": 2,
       "version_minor": 0
      },
      "text/plain": [
       "eval           Epoch   9:    0%|| 0/111 [00:00<?, ?ba/s]         "
      ]
     },
     "metadata": {},
     "output_type": "display_data"
    },
    {
     "name": "stdout",
     "output_type": "stream",
     "text": [
      "It took 2121.6316 seconds to train\n"
     ]
    }
   ],
   "source": [
    "start_time = time.perf_counter()\n",
    "trainerWOBP.fit() # <-- Your training loop in action!\n",
    "end_time = time.perf_counter()\n",
    "print(f\"It took {end_time - start_time:0.4f} seconds to train\")"
   ]
  },
  {
   "cell_type": "code",
   "execution_count": 51,
   "id": "d30ec2c4-2b7f-4423-a64a-398698aa3b38",
   "metadata": {
    "tags": []
   },
   "outputs": [
    {
     "data": {
      "image/png": "[encoded data removed]",
      "text/plain": [
       "<Figure size 800x600 with 2 Axes>"
      ]
     },
     "metadata": {},
     "output_type": "display_data"
    },
    {
     "name": "stdout",
     "output_type": "stream",
     "text": [
      "Accuracy on the evaluation dataset: 88.40%\n",
      "\n",
      "\n",
      "Precision: [0.75       0.62222222 0.67857143 0.55555556 0.46       0.93866375\n",
      " 0.85714286]\n",
      "Recall: [0.4        0.8        0.43181818 0.625      0.5        0.97055493\n",
      " 0.92307692]\n",
      "F1 Score: [0.52173913 0.7        0.52777778 0.58823529 0.47916667 0.95434298\n",
      " 0.88888889]\n"
     ]
    }
   ],
   "source": [
    "evaluate_model(modelWOBP)"
   ]
  },
  {
   "cell_type": "code",
   "execution_count": 54,
   "id": "a359e1b4-e09b-44cc-a7c8-b108851b5a98",
   "metadata": {
    "tags": []
   },
   "outputs": [],
   "source": [
    "torch.save(modelWOBP.state_dict(), './models/trained_model_resnet_wobp_15ep.pth')"
   ]
  },
  {
   "cell_type": "markdown",
   "id": "83cd74e5-7757-4c06-9737-6daf5be80e10",
   "metadata": {},
   "source": [
    "## Statistics\n",
    "\n",
    "**ResNet18** with **BlurPool** gives an accuracy of **88.94%**\n",
    "\n",
    "**ResNet18** without **BlurPool** gives an accuracy of **87.85%**\n",
    "\n",
    "**Time To Train ResNet18** with BlurPool is 2124.83 seconds\n",
    "\n",
    "**Time To Train ResNet18** without BlurPool is 2734.7752 seconds"
   ]
  },
  {
   "cell_type": "code",
   "execution_count": null,
   "id": "977e6226-17a7-40be-b7b3-3384d15c8639",
   "metadata": {
    "tags": []
   },
   "outputs": [],
   "source": [
    "torch.cuda.empty_cache()"
   ]
  },
  {
   "cell_type": "markdown",
   "id": "faba3ed8-991f-4c7d-b260-e5120ce8d3b3",
   "metadata": {},
   "source": [
    "# EfficientNet "
   ]
  },
  {
   "cell_type": "code",
   "execution_count": 49,
   "id": "270fb11c-3353-4267-a207-178b9b9f69da",
   "metadata": {
    "tags": []
   },
   "outputs": [],
   "source": [
    "# Set your desired image size\n",
    "train_dataloader, valid_dataloader, test_dataloader=transform_images(320,300)\n"
   ]
  },
  {
   "cell_type": "code",
   "execution_count": 46,
   "id": "fcc33050-1545-47c7-8601-cad0e3ab88c8",
   "metadata": {
    "tags": []
   },
   "outputs": [],
   "source": [
    "class EfficientNetB3(ComposerModel):\n",
    "    def __init__(self, num_classes):\n",
    "        super().__init__()\n",
    "        self.model = torchvision.models.efficientnet_b3()\n",
    "        \n",
    "        # Modify the final classification head\n",
    "        in_features = self.model.classifier[-1].in_features\n",
    "        self.model.classifier[-1] = torch.nn.Linear(in_features, num_classes)\n",
    "        \n",
    "        self.num_classes = num_classes\n",
    "        self.train_accuracy = torchmetrics.classification.MulticlassAccuracy(num_classes=num_classes, average='micro')\n",
    "        self.val_accuracy = torchmetrics.classification.MulticlassAccuracy(num_classes=num_classes, average='micro')\n",
    "\n",
    "    def forward(self, batch):\n",
    "        if isinstance(batch, tuple):\n",
    "            inputs, targets = batch\n",
    "        else:\n",
    "            inputs = batch\n",
    "        return self.model(inputs)\n",
    "\n",
    "    def loss(self, outputs, batch):\n",
    "        _, targets = batch\n",
    "        return F.cross_entropy(outputs, targets)\n",
    "\n",
    "    def eval_forward(self, batch, outputs=None):\n",
    "        inputs, targets = batch\n",
    "        if outputs is not None and outputs.numel() > 0:\n",
    "            if outputs.dim() > 1 and outputs.shape[1] != self.num_classes:\n",
    "                outputs = torch.softmax(outputs, dim=1)\n",
    "            return outputs\n",
    "        else:\n",
    "            return self.forward(inputs)\n",
    "\n",
    "    def update_metric(self, batch, outputs, metric):\n",
    "        _, targets = batch\n",
    "\n",
    "        # Ensure that the outputs tensor has the correct number of classes\n",
    "        if outputs.dim() > 1 and outputs.shape[1] != self.num_classes:\n",
    "            outputs = torch.softmax(outputs, dim=1)  # Apply softmax if necessary\n",
    "\n",
    "        # Print the number of classes attribute\n",
    "        metric.update(outputs, targets)\n",
    "        \n",
    "    def _eval_train_metrics(self, device_batch):\n",
    "            # Separate inputs and targets from the device_batch\n",
    "            inputs, targets = device_batch\n",
    "\n",
    "            # Set the model to evaluation mode\n",
    "            self.model.eval()\n",
    "\n",
    "            # Perform the forward pass and get the outputs\n",
    "            with torch.no_grad():\n",
    "                outputs = self.model(inputs)\n",
    "                eval_outputs = self.eval_forward(device_batch, outputs)\n",
    "\n",
    "            # Update the metrics with the computed outputs\n",
    "            for _, metric in self.state.train_metrics.items():\n",
    "                self.update_metric(device_batch, eval_outputs, metric)\n",
    "\n",
    "    def get_metrics(self, is_train=False):\n",
    "        return {'MulticlassAccuracy': self.train_accuracy} if is_train else {'MulticlassAccuracy': self.val_accuracy}\n"
   ]
  },
  {
   "cell_type": "code",
   "execution_count": 44,
   "id": "6b1e59a3-b23d-4a01-8e37-f58c4ed255c3",
   "metadata": {
    "tags": []
   },
   "outputs": [],
   "source": [
    "efficientModel = EfficientNetB3(num_classes=7)\n",
    "algorithms, optimizer,  = requirementsForModelTraining(efficientModel)\n",
    "logger = InMemoryLogger()\n",
    "trainer = Trainer(\n",
    "    model=efficientModel,\n",
    "    optimizers=optimizer,\n",
    "    train_dataloader=train_dataloader, \n",
    "    eval_dataloader=valid_dataloader,\n",
    "    max_duration='15ep',\n",
    "    algorithms=algorithms,\n",
    "    loggers=logger\n",
    ")"
   ]
  },
  {
   "cell_type": "code",
   "execution_count": null,
   "id": "774f8920-8baf-4d2a-bd41-c1f309fb2a28",
   "metadata": {
    "tags": []
   },
   "outputs": [
    {
     "name": "stderr",
     "output_type": "stream",
     "text": [
      "******************************\n",
      "Config:\n",
      "blurpool/num_blurconv_layers: 4\n",
      "blurpool/num_blurpool_layers: 0\n",
      "enabled_algorithms/BlurPool: true\n",
      "node_name: unknown because NODENAME environment variable not set\n",
      "num_gpus_per_node: 1\n",
      "num_nodes: 1\n",
      "rank_zero_seed: 2663485124\n",
      "\n",
      "******************************\n"
     ]
    },
    {
     "data": {
      "application/vnd.jupyter.widget-view+json": {
       "model_id": "fb6e68d44fec408e8fe2c1bc149e24a7",
       "version_major": 2,
       "version_minor": 0
      },
      "text/plain": [
       "train          Epoch   0:    0%|| 0/3889 [00:00<?, ?ba/s]         "
      ]
     },
     "metadata": {},
     "output_type": "display_data"
    },
    {
     "data": {
      "application/vnd.jupyter.widget-view+json": {
       "model_id": "f64b92a32d7e4126a41ef82c7c00a423",
       "version_major": 2,
       "version_minor": 0
      },
      "text/plain": [
       "eval           Epoch   0:    0%|| 0/111 [00:00<?, ?ba/s]         "
      ]
     },
     "metadata": {},
     "output_type": "display_data"
    },
    {
     "name": "stderr",
     "output_type": "stream",
     "text": [
      "/home/ec2-user/anaconda3/envs/pytorch_p310/lib/python3.10/site-packages/composer/core/data_spec.py:35: UserWarning: Cannot split tensor of length 3 into batches of size 10. As it is smaller, no splitting will be done. This may happen on the last batch of a dataset if it is a smaller size than the microbatch size.\n",
      "  warnings.warn(f'Cannot split tensor of length {len(t)} into batches of size {microbatch_size}. '\n"
     ]
    },
    {
     "data": {
      "application/vnd.jupyter.widget-view+json": {
       "model_id": "f1fa5b66ccb24a3592de9486e8e30d46",
       "version_major": 2,
       "version_minor": 0
      },
      "text/plain": [
       "train          Epoch   1:    0%|| 0/3889 [00:00<?, ?ba/s]         "
      ]
     },
     "metadata": {},
     "output_type": "display_data"
    },
    {
     "data": {
      "application/vnd.jupyter.widget-view+json": {
       "model_id": "9ff9dc86499b46f7a14e9e00c80c5e78",
       "version_major": 2,
       "version_minor": 0
      },
      "text/plain": [
       "eval           Epoch   1:    0%|| 0/111 [00:00<?, ?ba/s]         "
      ]
     },
     "metadata": {},
     "output_type": "display_data"
    },
    {
     "data": {
      "application/vnd.jupyter.widget-view+json": {
       "model_id": "cbdff733a4e34f9ea6af3e4ebfdfb289",
       "version_major": 2,
       "version_minor": 0
      },
      "text/plain": [
       "train          Epoch   2:    0%|| 0/3889 [00:00<?, ?ba/s]         "
      ]
     },
     "metadata": {},
     "output_type": "display_data"
    },
    {
     "data": {
      "application/vnd.jupyter.widget-view+json": {
       "model_id": "5b311d5ac40343468802b01ff8292e43",
       "version_major": 2,
       "version_minor": 0
      },
      "text/plain": [
       "eval           Epoch   2:    0%|| 0/111 [00:00<?, ?ba/s]         "
      ]
     },
     "metadata": {},
     "output_type": "display_data"
    },
    {
     "data": {
      "application/vnd.jupyter.widget-view+json": {
       "model_id": "c7123a111b6842ecac0256ff598d88be",
       "version_major": 2,
       "version_minor": 0
      },
      "text/plain": [
       "train          Epoch   3:    0%|| 0/3889 [00:00<?, ?ba/s]         "
      ]
     },
     "metadata": {},
     "output_type": "display_data"
    },
    {
     "data": {
      "application/vnd.jupyter.widget-view+json": {
       "model_id": "a9f5f0c19ac1459e8dcc9f40f533bab1",
       "version_major": 2,
       "version_minor": 0
      },
      "text/plain": [
       "eval           Epoch   3:    0%|| 0/111 [00:00<?, ?ba/s]         "
      ]
     },
     "metadata": {},
     "output_type": "display_data"
    },
    {
     "data": {
      "application/vnd.jupyter.widget-view+json": {
       "model_id": "3561a12e72d94779940f83885a9918c0",
       "version_major": 2,
       "version_minor": 0
      },
      "text/plain": [
       "train          Epoch   4:    0%|| 0/3889 [00:00<?, ?ba/s]         "
      ]
     },
     "metadata": {},
     "output_type": "display_data"
    },
    {
     "data": {
      "application/vnd.jupyter.widget-view+json": {
       "model_id": "0dc8d6816c894b62860e825dc8a50773",
       "version_major": 2,
       "version_minor": 0
      },
      "text/plain": [
       "eval           Epoch   4:    0%|| 0/111 [00:00<?, ?ba/s]         "
      ]
     },
     "metadata": {},
     "output_type": "display_data"
    },
    {
     "data": {
      "application/vnd.jupyter.widget-view+json": {
       "model_id": "e506a94cd6154ee9bf5e89a8cbb5770d",
       "version_major": 2,
       "version_minor": 0
      },
      "text/plain": [
       "train          Epoch   5:    0%|| 0/3889 [00:00<?, ?ba/s]         "
      ]
     },
     "metadata": {},
     "output_type": "display_data"
    },
    {
     "data": {
      "application/vnd.jupyter.widget-view+json": {
       "model_id": "12387e784d2f4908a35a6c71936fef65",
       "version_major": 2,
       "version_minor": 0
      },
      "text/plain": [
       "eval           Epoch   5:    0%|| 0/111 [00:00<?, ?ba/s]         "
      ]
     },
     "metadata": {},
     "output_type": "display_data"
    },
    {
     "data": {
      "application/vnd.jupyter.widget-view+json": {
       "model_id": "e4b1aa02086443cd8c155ac0597b8c13",
       "version_major": 2,
       "version_minor": 0
      },
      "text/plain": [
       "train          Epoch   6:    0%|| 0/3889 [00:00<?, ?ba/s]         "
      ]
     },
     "metadata": {},
     "output_type": "display_data"
    },
    {
     "data": {
      "application/vnd.jupyter.widget-view+json": {
       "model_id": "9d9de5ab3d854f85ad60a9e176dd5c18",
       "version_major": 2,
       "version_minor": 0
      },
      "text/plain": [
       "eval           Epoch   6:    0%|| 0/111 [00:00<?, ?ba/s]         "
      ]
     },
     "metadata": {},
     "output_type": "display_data"
    },
    {
     "data": {
      "application/vnd.jupyter.widget-view+json": {
       "model_id": "20877e22aaca4cc29bf393d2bfb418ec",
       "version_major": 2,
       "version_minor": 0
      },
      "text/plain": [
       "train          Epoch   7:    0%|| 0/3889 [00:00<?, ?ba/s]         "
      ]
     },
     "metadata": {},
     "output_type": "display_data"
    },
    {
     "data": {
      "application/vnd.jupyter.widget-view+json": {
       "model_id": "0b1de9db0d004e52aac9713fb5dfad13",
       "version_major": 2,
       "version_minor": 0
      },
      "text/plain": [
       "eval           Epoch   7:    0%|| 0/111 [00:00<?, ?ba/s]         "
      ]
     },
     "metadata": {},
     "output_type": "display_data"
    },
    {
     "data": {
      "application/vnd.jupyter.widget-view+json": {
       "model_id": "e1c44d35deba435581530aee886e3bd2",
       "version_major": 2,
       "version_minor": 0
      },
      "text/plain": [
       "train          Epoch   8:    0%|| 0/3889 [00:00<?, ?ba/s]         "
      ]
     },
     "metadata": {},
     "output_type": "display_data"
    },
    {
     "data": {
      "application/vnd.jupyter.widget-view+json": {
       "model_id": "7b97bb509d514db5bb465d19463fa93f",
       "version_major": 2,
       "version_minor": 0
      },
      "text/plain": [
       "eval           Epoch   8:    0%|| 0/111 [00:00<?, ?ba/s]         "
      ]
     },
     "metadata": {},
     "output_type": "display_data"
    },
    {
     "data": {
      "application/vnd.jupyter.widget-view+json": {
       "model_id": "c521545f489a41d887c4aaeb0fc3101a",
       "version_major": 2,
       "version_minor": 0
      },
      "text/plain": [
       "train          Epoch   9:    0%|| 0/3889 [00:00<?, ?ba/s]         "
      ]
     },
     "metadata": {},
     "output_type": "display_data"
    },
    {
     "data": {
      "application/vnd.jupyter.widget-view+json": {
       "model_id": "ee8975c783c447ffbbc47bc8fc03223c",
       "version_major": 2,
       "version_minor": 0
      },
      "text/plain": [
       "eval           Epoch   9:    0%|| 0/111 [00:00<?, ?ba/s]         "
      ]
     },
     "metadata": {},
     "output_type": "display_data"
    },
    {
     "data": {
      "application/vnd.jupyter.widget-view+json": {
       "model_id": "ede9d7a84cce4938962da5a382bc0ee1",
       "version_major": 2,
       "version_minor": 0
      },
      "text/plain": [
       "train          Epoch  10:    0%|| 0/3889 [00:00<?, ?ba/s]         "
      ]
     },
     "metadata": {},
     "output_type": "display_data"
    },
    {
     "data": {
      "application/vnd.jupyter.widget-view+json": {
       "model_id": "e424de4b51b2429f856fc36191aed907",
       "version_major": 2,
       "version_minor": 0
      },
      "text/plain": [
       "eval           Epoch  10:    0%|| 0/111 [00:00<?, ?ba/s]         "
      ]
     },
     "metadata": {},
     "output_type": "display_data"
    },
    {
     "data": {
      "application/vnd.jupyter.widget-view+json": {
       "model_id": "2d8dde17cfa44d5fbe72c329a5405a1f",
       "version_major": 2,
       "version_minor": 0
      },
      "text/plain": [
       "train          Epoch  11:    0%|| 0/3889 [00:00<?, ?ba/s]         "
      ]
     },
     "metadata": {},
     "output_type": "display_data"
    },
    {
     "data": {
      "application/vnd.jupyter.widget-view+json": {
       "model_id": "8419b409560d4c299604edbebf2f940c",
       "version_major": 2,
       "version_minor": 0
      },
      "text/plain": [
       "eval           Epoch  11:    0%|| 0/111 [00:00<?, ?ba/s]         "
      ]
     },
     "metadata": {},
     "output_type": "display_data"
    },
    {
     "data": {
      "application/vnd.jupyter.widget-view+json": {
       "model_id": "0e8431967d524e6e9d146b1234ca3ec5",
       "version_major": 2,
       "version_minor": 0
      },
      "text/plain": [
       "train          Epoch  12:    0%|| 0/3889 [00:00<?, ?ba/s]         "
      ]
     },
     "metadata": {},
     "output_type": "display_data"
    },
    {
     "data": {
      "application/vnd.jupyter.widget-view+json": {
       "model_id": "dd3ae926a21b4107a429d1fff4a767e1",
       "version_major": 2,
       "version_minor": 0
      },
      "text/plain": [
       "eval           Epoch  12:    0%|| 0/111 [00:00<?, ?ba/s]         "
      ]
     },
     "metadata": {},
     "output_type": "display_data"
    },
    {
     "data": {
      "application/vnd.jupyter.widget-view+json": {
       "model_id": "54dfe4de6e744752b5ca22d7b079a315",
       "version_major": 2,
       "version_minor": 0
      },
      "text/plain": [
       "train          Epoch  13:    0%|| 0/3889 [00:00<?, ?ba/s]         "
      ]
     },
     "metadata": {},
     "output_type": "display_data"
    },
    {
     "data": {
      "application/vnd.jupyter.widget-view+json": {
       "model_id": "cb26c1217ddc45fd9545e4f00f3b70a0",
       "version_major": 2,
       "version_minor": 0
      },
      "text/plain": [
       "eval           Epoch  13:    0%|| 0/111 [00:00<?, ?ba/s]         "
      ]
     },
     "metadata": {},
     "output_type": "display_data"
    },
    {
     "data": {
      "application/vnd.jupyter.widget-view+json": {
       "model_id": "a216df8a549e45aaa0501fd79da5e086",
       "version_major": 2,
       "version_minor": 0
      },
      "text/plain": [
       "train          Epoch  14:    0%|| 0/3889 [00:00<?, ?ba/s]         "
      ]
     },
     "metadata": {},
     "output_type": "display_data"
    },
    {
     "data": {
      "application/vnd.jupyter.widget-view+json": {
       "model_id": "c8722098b4c346f8a2559be1068266d7",
       "version_major": 2,
       "version_minor": 0
      },
      "text/plain": [
       "eval           Epoch  14:    0%|| 0/111 [00:00<?, ?ba/s]         "
      ]
     },
     "metadata": {},
     "output_type": "display_data"
    },
    {
     "name": "stdout",
     "output_type": "stream",
     "text": [
      "It took 9965.0546 seconds to train\n"
     ]
    }
   ],
   "source": [
    "start_time = time.perf_counter()\n",
    "trainer.fit() # <-- Your training loop in action!\n",
    "end_time = time.perf_counter()\n",
    "print(f\"It took {end_time - start_time:0.4f} seconds to train\")"
   ]
  },
  {
   "cell_type": "code",
   "execution_count": 46,
   "id": "90c68ae8-9b2a-461e-8661-45528d02388b",
   "metadata": {
    "tags": []
   },
   "outputs": [
    {
     "data": {
      "image/png": "[encoded data removed]",
      "text/plain": [
       "<Figure size 800x600 with 2 Axes>"
      ]
     },
     "metadata": {},
     "output_type": "display_data"
    },
    {
     "name": "stdout",
     "output_type": "stream",
     "text": [
      "Accuracy on the evaluation dataset: 89.03%\n",
      "\n",
      "\n",
      "Precision: [0.60869565 0.7        0.70833333 0.38461538 0.61538462 0.9299569\n",
      " 0.92857143]\n",
      "Recall: [0.46666667 0.8        0.57954545 0.625      0.17391304 0.97734994\n",
      " 1.        ]\n",
      "F1 Score: [0.52830189 0.74666667 0.6375     0.47619048 0.27118644 0.95306461\n",
      " 0.96296296]\n"
     ]
    }
   ],
   "source": [
    "evaluate_model(efficientModel)"
   ]
  },
  {
   "cell_type": "code",
   "execution_count": 47,
   "id": "4e8120d5-e1eb-482a-a4b4-1d7ff8911658",
   "metadata": {
    "tags": []
   },
   "outputs": [],
   "source": [
    "torch.save(efficientModel.state_dict(), './models/trained_model_efficientModel_15ep.pth')"
   ]
  },
  {
   "cell_type": "code",
   "execution_count": null,
   "id": "9e2d90b9-46a9-4f24-8650-a40c0916908d",
   "metadata": {
    "tags": []
   },
   "outputs": [],
   "source": [
    "test_model(EfficientNetB3,'./models/trained_model_efficientModel_15ep.pth',base_dir+'/Test/vasc/ISIC_0025707.jpg',224)"
   ]
  },
  {
   "cell_type": "markdown",
   "id": "ef85da73-3937-4d76-ba06-ba2843ef3f45",
   "metadata": {},
   "source": [
    "## Efficient Net Without Blurpool"
   ]
  },
  {
   "cell_type": "code",
   "execution_count": 48,
   "id": "e3c2c93c-3ff4-45a1-80bb-ef17eee10e02",
   "metadata": {
    "tags": []
   },
   "outputs": [],
   "source": [
    "efficientModelWOBP = EfficientNetB3(num_classes=7)\n",
    "\n",
    "algorithms, optimizer,  = requirementsForModelTraining(efficientModelWOBP)\n",
    "logger = InMemoryLogger()\n",
    "trainer = Trainer(\n",
    "    model=efficientModelWOBP,\n",
    "    optimizers=optimizer,\n",
    "    train_dataloader=train_dataloader, \n",
    "    eval_dataloader=valid_dataloader,\n",
    "    max_duration='15ep',\n",
    "    loggers=logger\n",
    ")"
   ]
  },
  {
   "cell_type": "code",
   "execution_count": 49,
   "id": "8d677e03-4599-4a48-ad28-7f4c2368cccc",
   "metadata": {
    "tags": []
   },
   "outputs": [
    {
     "name": "stderr",
     "output_type": "stream",
     "text": [
      "******************************\n",
      "Config:\n",
      "node_name: unknown because NODENAME environment variable not set\n",
      "num_gpus_per_node: 1\n",
      "num_nodes: 1\n",
      "rank_zero_seed: 2789743848\n",
      "\n",
      "******************************\n"
     ]
    },
    {
     "data": {
      "application/vnd.jupyter.widget-view+json": {
       "model_id": "6e198311879e41bb8e3f60c9494c94bf",
       "version_major": 2,
       "version_minor": 0
      },
      "text/plain": [
       "train          Epoch   0:    0%|| 0/3889 [00:00<?, ?ba/s]         "
      ]
     },
     "metadata": {},
     "output_type": "display_data"
    },
    {
     "data": {
      "application/vnd.jupyter.widget-view+json": {
       "model_id": "2607c3daf9764828aa0ae7262a0f0856",
       "version_major": 2,
       "version_minor": 0
      },
      "text/plain": [
       "eval           Epoch   0:    0%|| 0/111 [00:00<?, ?ba/s]         "
      ]
     },
     "metadata": {},
     "output_type": "display_data"
    },
    {
     "name": "stderr",
     "output_type": "stream",
     "text": [
      "/home/ec2-user/anaconda3/envs/pytorch_p310/lib/python3.10/site-packages/composer/core/data_spec.py:35: UserWarning: Cannot split tensor of length 3 into batches of size 10. As it is smaller, no splitting will be done. This may happen on the last batch of a dataset if it is a smaller size than the microbatch size.\n",
      "  warnings.warn(f'Cannot split tensor of length {len(t)} into batches of size {microbatch_size}. '\n"
     ]
    },
    {
     "data": {
      "application/vnd.jupyter.widget-view+json": {
       "model_id": "0a8d391256b2474691a27618c6a76e2f",
       "version_major": 2,
       "version_minor": 0
      },
      "text/plain": [
       "train          Epoch   1:    0%|| 0/3889 [00:00<?, ?ba/s]         "
      ]
     },
     "metadata": {},
     "output_type": "display_data"
    },
    {
     "data": {
      "application/vnd.jupyter.widget-view+json": {
       "model_id": "8f1c4282870543f0a010670408256809",
       "version_major": 2,
       "version_minor": 0
      },
      "text/plain": [
       "eval           Epoch   1:    0%|| 0/111 [00:00<?, ?ba/s]         "
      ]
     },
     "metadata": {},
     "output_type": "display_data"
    },
    {
     "data": {
      "application/vnd.jupyter.widget-view+json": {
       "model_id": "bc7dd4b996c7488a821e88512fb0f5b9",
       "version_major": 2,
       "version_minor": 0
      },
      "text/plain": [
       "train          Epoch   2:    0%|| 0/3889 [00:00<?, ?ba/s]         "
      ]
     },
     "metadata": {},
     "output_type": "display_data"
    },
    {
     "data": {
      "application/vnd.jupyter.widget-view+json": {
       "model_id": "af59a6743ff14c8d88dcc8245300e08d",
       "version_major": 2,
       "version_minor": 0
      },
      "text/plain": [
       "eval           Epoch   2:    0%|| 0/111 [00:00<?, ?ba/s]         "
      ]
     },
     "metadata": {},
     "output_type": "display_data"
    },
    {
     "data": {
      "application/vnd.jupyter.widget-view+json": {
       "model_id": "327f6710058d49e0add6f2c332aca85e",
       "version_major": 2,
       "version_minor": 0
      },
      "text/plain": [
       "train          Epoch   3:    0%|| 0/3889 [00:00<?, ?ba/s]         "
      ]
     },
     "metadata": {},
     "output_type": "display_data"
    },
    {
     "data": {
      "application/vnd.jupyter.widget-view+json": {
       "model_id": "9221228a3c6941dcb6a4d3dac86a0fcb",
       "version_major": 2,
       "version_minor": 0
      },
      "text/plain": [
       "eval           Epoch   3:    0%|| 0/111 [00:00<?, ?ba/s]         "
      ]
     },
     "metadata": {},
     "output_type": "display_data"
    },
    {
     "data": {
      "application/vnd.jupyter.widget-view+json": {
       "model_id": "d8bd9872fc5445c48ced73f3dd050d66",
       "version_major": 2,
       "version_minor": 0
      },
      "text/plain": [
       "train          Epoch   4:    0%|| 0/3889 [00:00<?, ?ba/s]         "
      ]
     },
     "metadata": {},
     "output_type": "display_data"
    },
    {
     "data": {
      "application/vnd.jupyter.widget-view+json": {
       "model_id": "a0c35d2b07cf42908cae7df1cc9870b1",
       "version_major": 2,
       "version_minor": 0
      },
      "text/plain": [
       "eval           Epoch   4:    0%|| 0/111 [00:00<?, ?ba/s]         "
      ]
     },
     "metadata": {},
     "output_type": "display_data"
    },
    {
     "data": {
      "application/vnd.jupyter.widget-view+json": {
       "model_id": "dce51573953f44d7ae4e09b6e3d9b175",
       "version_major": 2,
       "version_minor": 0
      },
      "text/plain": [
       "train          Epoch   5:    0%|| 0/3889 [00:00<?, ?ba/s]         "
      ]
     },
     "metadata": {},
     "output_type": "display_data"
    },
    {
     "data": {
      "application/vnd.jupyter.widget-view+json": {
       "model_id": "62a0f13aebde4aa084b38ea2a50bc724",
       "version_major": 2,
       "version_minor": 0
      },
      "text/plain": [
       "eval           Epoch   5:    0%|| 0/111 [00:00<?, ?ba/s]         "
      ]
     },
     "metadata": {},
     "output_type": "display_data"
    },
    {
     "data": {
      "application/vnd.jupyter.widget-view+json": {
       "model_id": "3ecf2d44eb794fc1a59e2e5327047eed",
       "version_major": 2,
       "version_minor": 0
      },
      "text/plain": [
       "train          Epoch   6:    0%|| 0/3889 [00:00<?, ?ba/s]         "
      ]
     },
     "metadata": {},
     "output_type": "display_data"
    },
    {
     "data": {
      "application/vnd.jupyter.widget-view+json": {
       "model_id": "e9ddfa41dc184ba1a8b0ff47bec414db",
       "version_major": 2,
       "version_minor": 0
      },
      "text/plain": [
       "eval           Epoch   6:    0%|| 0/111 [00:00<?, ?ba/s]         "
      ]
     },
     "metadata": {},
     "output_type": "display_data"
    },
    {
     "data": {
      "application/vnd.jupyter.widget-view+json": {
       "model_id": "08e1634a3cd14ca2970c4b891429c0e1",
       "version_major": 2,
       "version_minor": 0
      },
      "text/plain": [
       "train          Epoch   7:    0%|| 0/3889 [00:00<?, ?ba/s]         "
      ]
     },
     "metadata": {},
     "output_type": "display_data"
    },
    {
     "data": {
      "application/vnd.jupyter.widget-view+json": {
       "model_id": "e1e9da549b2d4b35b7cbdfa19b830847",
       "version_major": 2,
       "version_minor": 0
      },
      "text/plain": [
       "eval           Epoch   7:    0%|| 0/111 [00:00<?, ?ba/s]         "
      ]
     },
     "metadata": {},
     "output_type": "display_data"
    },
    {
     "data": {
      "application/vnd.jupyter.widget-view+json": {
       "model_id": "aa256acb379b4aafa7979bfe4b52ce88",
       "version_major": 2,
       "version_minor": 0
      },
      "text/plain": [
       "train          Epoch   8:    0%|| 0/3889 [00:00<?, ?ba/s]         "
      ]
     },
     "metadata": {},
     "output_type": "display_data"
    },
    {
     "data": {
      "application/vnd.jupyter.widget-view+json": {
       "model_id": "58b66c8824f6446cbbd903515d871770",
       "version_major": 2,
       "version_minor": 0
      },
      "text/plain": [
       "eval           Epoch   8:    0%|| 0/111 [00:00<?, ?ba/s]         "
      ]
     },
     "metadata": {},
     "output_type": "display_data"
    },
    {
     "data": {
      "application/vnd.jupyter.widget-view+json": {
       "model_id": "5006b5bd43dc418c9a715c44612e5388",
       "version_major": 2,
       "version_minor": 0
      },
      "text/plain": [
       "train          Epoch   9:    0%|| 0/3889 [00:00<?, ?ba/s]         "
      ]
     },
     "metadata": {},
     "output_type": "display_data"
    },
    {
     "data": {
      "application/vnd.jupyter.widget-view+json": {
       "model_id": "da261506e4d14220882c7b99a45d5fe6",
       "version_major": 2,
       "version_minor": 0
      },
      "text/plain": [
       "eval           Epoch   9:    0%|| 0/111 [00:00<?, ?ba/s]         "
      ]
     },
     "metadata": {},
     "output_type": "display_data"
    },
    {
     "data": {
      "application/vnd.jupyter.widget-view+json": {
       "model_id": "91065726c2bd495581bad7c9b3372b43",
       "version_major": 2,
       "version_minor": 0
      },
      "text/plain": [
       "train          Epoch  10:    0%|| 0/3889 [00:00<?, ?ba/s]         "
      ]
     },
     "metadata": {},
     "output_type": "display_data"
    },
    {
     "data": {
      "application/vnd.jupyter.widget-view+json": {
       "model_id": "edcc6c13e68c4be483685cfb63cdce07",
       "version_major": 2,
       "version_minor": 0
      },
      "text/plain": [
       "eval           Epoch  10:    0%|| 0/111 [00:00<?, ?ba/s]         "
      ]
     },
     "metadata": {},
     "output_type": "display_data"
    },
    {
     "data": {
      "application/vnd.jupyter.widget-view+json": {
       "model_id": "7025df7f52214490987ca26a77180150",
       "version_major": 2,
       "version_minor": 0
      },
      "text/plain": [
       "train          Epoch  11:    0%|| 0/3889 [00:00<?, ?ba/s]         "
      ]
     },
     "metadata": {},
     "output_type": "display_data"
    },
    {
     "data": {
      "application/vnd.jupyter.widget-view+json": {
       "model_id": "26ff19d240ec4dd48f6dcae0af056d4d",
       "version_major": 2,
       "version_minor": 0
      },
      "text/plain": [
       "eval           Epoch  11:    0%|| 0/111 [00:00<?, ?ba/s]         "
      ]
     },
     "metadata": {},
     "output_type": "display_data"
    },
    {
     "data": {
      "application/vnd.jupyter.widget-view+json": {
       "model_id": "2353ab09c5944e62984a1fc362990d89",
       "version_major": 2,
       "version_minor": 0
      },
      "text/plain": [
       "train          Epoch  12:    0%|| 0/3889 [00:00<?, ?ba/s]         "
      ]
     },
     "metadata": {},
     "output_type": "display_data"
    },
    {
     "data": {
      "application/vnd.jupyter.widget-view+json": {
       "model_id": "d229a69369384c94b5261ccdddbe35e8",
       "version_major": 2,
       "version_minor": 0
      },
      "text/plain": [
       "eval           Epoch  12:    0%|| 0/111 [00:00<?, ?ba/s]         "
      ]
     },
     "metadata": {},
     "output_type": "display_data"
    },
    {
     "data": {
      "application/vnd.jupyter.widget-view+json": {
       "model_id": "39690f9c26f44b5a808c685094889dbe",
       "version_major": 2,
       "version_minor": 0
      },
      "text/plain": [
       "train          Epoch  13:    0%|| 0/3889 [00:00<?, ?ba/s]         "
      ]
     },
     "metadata": {},
     "output_type": "display_data"
    },
    {
     "data": {
      "application/vnd.jupyter.widget-view+json": {
       "model_id": "74de4bfca24c47bfade99b6b69170b5e",
       "version_major": 2,
       "version_minor": 0
      },
      "text/plain": [
       "eval           Epoch  13:    0%|| 0/111 [00:00<?, ?ba/s]         "
      ]
     },
     "metadata": {},
     "output_type": "display_data"
    },
    {
     "data": {
      "application/vnd.jupyter.widget-view+json": {
       "model_id": "bfd2f3d7b84b4b4eb0332dfec49ee5ed",
       "version_major": 2,
       "version_minor": 0
      },
      "text/plain": [
       "train          Epoch  14:    0%|| 0/3889 [00:00<?, ?ba/s]         "
      ]
     },
     "metadata": {},
     "output_type": "display_data"
    },
    {
     "data": {
      "application/vnd.jupyter.widget-view+json": {
       "model_id": "a07513d1a2104428abd78bf46c11e714",
       "version_major": 2,
       "version_minor": 0
      },
      "text/plain": [
       "eval           Epoch  14:    0%|| 0/111 [00:00<?, ?ba/s]         "
      ]
     },
     "metadata": {},
     "output_type": "display_data"
    },
    {
     "name": "stdout",
     "output_type": "stream",
     "text": [
      "It took 9315.5618 seconds to train\n"
     ]
    }
   ],
   "source": [
    "start_time = time.perf_counter()\n",
    "trainer.fit() # <-- Your training loop in action!\n",
    "end_time = time.perf_counter()\n",
    "print(f\"It took {end_time - start_time:0.4f} seconds to train\")"
   ]
  },
  {
   "cell_type": "code",
   "execution_count": 50,
   "id": "0e0e46b5-36b2-4772-9498-7731fc4faeaa",
   "metadata": {
    "tags": []
   },
   "outputs": [
    {
     "data": {
      "image/png": "[encoded data removed]",
      "text/plain": [
       "<Figure size 800x600 with 2 Axes>"
      ]
     },
     "metadata": {},
     "output_type": "display_data"
    },
    {
     "name": "stdout",
     "output_type": "stream",
     "text": [
      "Accuracy on the evaluation dataset: 88.49%\n",
      "\n",
      "\n",
      "Precision: [0.52631579 0.74285714 0.64383562 0.5        0.52777778 0.93544858\n",
      " 0.92857143]\n",
      "Recall: [0.33333333 0.74285714 0.53409091 0.75       0.41304348 0.96828992\n",
      " 1.        ]\n",
      "F1 Score: [0.40816327 0.74285714 0.58385093 0.6        0.46341463 0.95158598\n",
      " 0.96296296]\n"
     ]
    }
   ],
   "source": [
    "evaluate_model(efficientModelWOBP)"
   ]
  },
  {
   "cell_type": "code",
   "execution_count": null,
   "id": "255fc3ff-8b59-472c-b61c-2aeaedb1b098",
   "metadata": {},
   "outputs": [],
   "source": [
    "torch.save(efficientModel.state_dict(), './models/trained_model_efficientModel_wobp_15ep.pth')"
   ]
  },
  {
   "cell_type": "markdown",
   "id": "fc5d91b5-98f9-4cfe-aedc-5b9a466db383",
   "metadata": {},
   "source": [
    "# MobileNet"
   ]
  },
  {
   "cell_type": "code",
   "execution_count": 43,
   "id": "b6f93945-da1b-4b38-a571-3e0cda5e3e79",
   "metadata": {
    "tags": []
   },
   "outputs": [],
   "source": [
    "train_dataloader, valid_dataloader, test_dataloader=transform_images(256,224)"
   ]
  },
  {
   "cell_type": "code",
   "execution_count": 44,
   "id": "1a59f60c-e82f-45f4-b645-3e903ec94635",
   "metadata": {
    "tags": []
   },
   "outputs": [],
   "source": [
    "import torch\n",
    "import torch.nn as nn\n",
    "import torch.nn.functional as F\n",
    "import torchmetrics\n",
    "import torchvision\n",
    "from composer.models import ComposerModel\n",
    "\n",
    "class MobileNet(ComposerModel):\n",
    "    def __init__(self, num_classes):\n",
    "        super().__init__()\n",
    "        self.model = torchvision.models.mobilenet_v2()  # You can use pretrained weights if needed\n",
    "        self.num_classes = num_classes\n",
    "\n",
    "        # Modify the final classification head\n",
    "        in_features = self.model.classifier[-1].in_features\n",
    "        self.model.classifier[-1] = nn.Linear(in_features, num_classes)\n",
    "\n",
    "        self.train_accuracy = torchmetrics.classification.MulticlassAccuracy(num_classes=num_classes, average='micro')\n",
    "        self.val_accuracy = torchmetrics.classification.MulticlassAccuracy(num_classes=num_classes, average='micro')\n",
    "\n",
    "    def forward(self, batch):\n",
    "        if isinstance(batch, tuple):\n",
    "            inputs, targets = batch\n",
    "        else:\n",
    "            inputs = batch\n",
    "        return self.model(inputs)\n",
    "\n",
    "    def loss(self, outputs, batch):\n",
    "        _, targets = batch\n",
    "        return F.cross_entropy(outputs, targets)\n",
    "\n",
    "    def eval_forward(self, batch, outputs=None):\n",
    "        inputs, targets = batch\n",
    "        if outputs is not None and outputs.numel() > 0:\n",
    "            if outputs.dim() > 1 and outputs.shape[1] != self.num_classes:\n",
    "                outputs = torch.softmax(outputs, dim=1)\n",
    "            return outputs\n",
    "        else:\n",
    "            return self.forward(inputs)\n",
    "\n",
    "    def update_metric(self, batch, outputs, metric):\n",
    "        _, targets = batch\n",
    "\n",
    "        # Ensure that the outputs tensor has the correct number of classes\n",
    "        if outputs.dim() > 1 and outputs.shape[1] != self.num_classes:\n",
    "            outputs = torch.softmax(outputs, dim=1)  # Apply softmax if necessary\n",
    "\n",
    "        metric.update(outputs, targets)\n",
    "\n",
    "    def get_metrics(self, is_train=False):\n",
    "        return {'MulticlassAccuracy': self.train_accuracy} if is_train else {'MulticlassAccuracy': self.val_accuracy}\n"
   ]
  },
  {
   "cell_type": "code",
   "execution_count": 44,
   "id": "fc5db3c6-0b4a-4d2d-af28-feb2e99f97d0",
   "metadata": {
    "tags": []
   },
   "outputs": [],
   "source": [
    "mobileNet = MobileNet(num_classes=7)\n",
    "algorithms, optimizer,  = requirementsForModelTraining(mobileNet)\n",
    "logger = InMemoryLogger()\n",
    "trainer = Trainer(\n",
    "    model=mobileNet,\n",
    "    optimizers=optimizer,\n",
    "    train_dataloader=train_dataloader, \n",
    "    eval_dataloader=valid_dataloader,\n",
    "    max_duration='15ep',\n",
    "    algorithms=algorithms,\n",
    "    loggers=logger\n",
    ")"
   ]
  },
  {
   "cell_type": "code",
   "execution_count": 45,
   "id": "81944c75-feb0-4240-986d-b2a736cf7110",
   "metadata": {
    "tags": []
   },
   "outputs": [
    {
     "name": "stderr",
     "output_type": "stream",
     "text": [
      "******************************\n",
      "Config:\n",
      "blurpool/num_blurconv_layers: 4\n",
      "blurpool/num_blurpool_layers: 0\n",
      "enabled_algorithms/BlurPool: true\n",
      "node_name: unknown because NODENAME environment variable not set\n",
      "num_gpus_per_node: 1\n",
      "num_nodes: 1\n",
      "rank_zero_seed: 2321244148\n",
      "\n",
      "******************************\n"
     ]
    },
    {
     "data": {
      "application/vnd.jupyter.widget-view+json": {
       "model_id": "22c50556c87d45f097e893863836f78f",
       "version_major": 2,
       "version_minor": 0
      },
      "text/plain": [
       "train          Epoch   0:    0%|| 0/3889 [00:00<?, ?ba/s]         "
      ]
     },
     "metadata": {},
     "output_type": "display_data"
    },
    {
     "data": {
      "application/vnd.jupyter.widget-view+json": {
       "model_id": "747ae512a0d1442c86703e25abb8013d",
       "version_major": 2,
       "version_minor": 0
      },
      "text/plain": [
       "eval           Epoch   0:    0%|| 0/111 [00:00<?, ?ba/s]         "
      ]
     },
     "metadata": {},
     "output_type": "display_data"
    },
    {
     "name": "stderr",
     "output_type": "stream",
     "text": [
      "/home/ec2-user/anaconda3/envs/pytorch_p310/lib/python3.10/site-packages/composer/core/data_spec.py:35: UserWarning: Cannot split tensor of length 3 into batches of size 10. As it is smaller, no splitting will be done. This may happen on the last batch of a dataset if it is a smaller size than the microbatch size.\n",
      "  warnings.warn(f'Cannot split tensor of length {len(t)} into batches of size {microbatch_size}. '\n"
     ]
    },
    {
     "data": {
      "application/vnd.jupyter.widget-view+json": {
       "model_id": "cb5136ab828b4058a75e9f8294dc5a08",
       "version_major": 2,
       "version_minor": 0
      },
      "text/plain": [
       "train          Epoch   1:    0%|| 0/3889 [00:00<?, ?ba/s]         "
      ]
     },
     "metadata": {},
     "output_type": "display_data"
    },
    {
     "data": {
      "application/vnd.jupyter.widget-view+json": {
       "model_id": "40bec99eb08c4647849b898b19d431ba",
       "version_major": 2,
       "version_minor": 0
      },
      "text/plain": [
       "eval           Epoch   1:    0%|| 0/111 [00:00<?, ?ba/s]         "
      ]
     },
     "metadata": {},
     "output_type": "display_data"
    },
    {
     "data": {
      "application/vnd.jupyter.widget-view+json": {
       "model_id": "3da2611e6d424cabb1cc12b5de4bd074",
       "version_major": 2,
       "version_minor": 0
      },
      "text/plain": [
       "train          Epoch   2:    0%|| 0/3889 [00:00<?, ?ba/s]         "
      ]
     },
     "metadata": {},
     "output_type": "display_data"
    },
    {
     "data": {
      "application/vnd.jupyter.widget-view+json": {
       "model_id": "4ce65c5fcb9d4f5cad1a70bddce34b07",
       "version_major": 2,
       "version_minor": 0
      },
      "text/plain": [
       "eval           Epoch   2:    0%|| 0/111 [00:00<?, ?ba/s]         "
      ]
     },
     "metadata": {},
     "output_type": "display_data"
    },
    {
     "data": {
      "application/vnd.jupyter.widget-view+json": {
       "model_id": "996e3894f0f74393a43c4f5c38390910",
       "version_major": 2,
       "version_minor": 0
      },
      "text/plain": [
       "train          Epoch   3:    0%|| 0/3889 [00:00<?, ?ba/s]         "
      ]
     },
     "metadata": {},
     "output_type": "display_data"
    },
    {
     "data": {
      "application/vnd.jupyter.widget-view+json": {
       "model_id": "21db8d57e9a0478a843ab606ef9e41ea",
       "version_major": 2,
       "version_minor": 0
      },
      "text/plain": [
       "eval           Epoch   3:    0%|| 0/111 [00:00<?, ?ba/s]         "
      ]
     },
     "metadata": {},
     "output_type": "display_data"
    },
    {
     "data": {
      "application/vnd.jupyter.widget-view+json": {
       "model_id": "5874cd9516c046559b081eb5731d4fcc",
       "version_major": 2,
       "version_minor": 0
      },
      "text/plain": [
       "train          Epoch   4:    0%|| 0/3889 [00:00<?, ?ba/s]         "
      ]
     },
     "metadata": {},
     "output_type": "display_data"
    },
    {
     "data": {
      "application/vnd.jupyter.widget-view+json": {
       "model_id": "880e6f32f01b438291bedfdba802f6e2",
       "version_major": 2,
       "version_minor": 0
      },
      "text/plain": [
       "eval           Epoch   4:    0%|| 0/111 [00:00<?, ?ba/s]         "
      ]
     },
     "metadata": {},
     "output_type": "display_data"
    },
    {
     "data": {
      "application/vnd.jupyter.widget-view+json": {
       "model_id": "2c307470099d4e3ea1eade6ee669ad48",
       "version_major": 2,
       "version_minor": 0
      },
      "text/plain": [
       "train          Epoch   5:    0%|| 0/3889 [00:00<?, ?ba/s]         "
      ]
     },
     "metadata": {},
     "output_type": "display_data"
    },
    {
     "data": {
      "application/vnd.jupyter.widget-view+json": {
       "model_id": "f1650914ffea40aa966d8e304cfe475a",
       "version_major": 2,
       "version_minor": 0
      },
      "text/plain": [
       "eval           Epoch   5:    0%|| 0/111 [00:00<?, ?ba/s]         "
      ]
     },
     "metadata": {},
     "output_type": "display_data"
    },
    {
     "data": {
      "application/vnd.jupyter.widget-view+json": {
       "model_id": "456addb966784ab5b2842b4325984d8e",
       "version_major": 2,
       "version_minor": 0
      },
      "text/plain": [
       "train          Epoch   6:    0%|| 0/3889 [00:00<?, ?ba/s]         "
      ]
     },
     "metadata": {},
     "output_type": "display_data"
    },
    {
     "data": {
      "application/vnd.jupyter.widget-view+json": {
       "model_id": "0259eae07fbb4eae9668162eb785a12e",
       "version_major": 2,
       "version_minor": 0
      },
      "text/plain": [
       "eval           Epoch   6:    0%|| 0/111 [00:00<?, ?ba/s]         "
      ]
     },
     "metadata": {},
     "output_type": "display_data"
    },
    {
     "data": {
      "application/vnd.jupyter.widget-view+json": {
       "model_id": "0e221d70397641529bde95ed3f71c349",
       "version_major": 2,
       "version_minor": 0
      },
      "text/plain": [
       "train          Epoch   7:    0%|| 0/3889 [00:00<?, ?ba/s]         "
      ]
     },
     "metadata": {},
     "output_type": "display_data"
    },
    {
     "data": {
      "application/vnd.jupyter.widget-view+json": {
       "model_id": "5268da3b7959460ea953338caf21224f",
       "version_major": 2,
       "version_minor": 0
      },
      "text/plain": [
       "eval           Epoch   7:    0%|| 0/111 [00:00<?, ?ba/s]         "
      ]
     },
     "metadata": {},
     "output_type": "display_data"
    },
    {
     "data": {
      "application/vnd.jupyter.widget-view+json": {
       "model_id": "e08a530ebb184d9c9c08820abdb8617f",
       "version_major": 2,
       "version_minor": 0
      },
      "text/plain": [
       "train          Epoch   8:    0%|| 0/3889 [00:00<?, ?ba/s]         "
      ]
     },
     "metadata": {},
     "output_type": "display_data"
    },
    {
     "data": {
      "application/vnd.jupyter.widget-view+json": {
       "model_id": "4921066b579148e9bf8bc9e2abd2f217",
       "version_major": 2,
       "version_minor": 0
      },
      "text/plain": [
       "eval           Epoch   8:    0%|| 0/111 [00:00<?, ?ba/s]         "
      ]
     },
     "metadata": {},
     "output_type": "display_data"
    },
    {
     "data": {
      "application/vnd.jupyter.widget-view+json": {
       "model_id": "87a7e2d5425446d5b29db85ae9ed7e44",
       "version_major": 2,
       "version_minor": 0
      },
      "text/plain": [
       "train          Epoch   9:    0%|| 0/3889 [00:00<?, ?ba/s]         "
      ]
     },
     "metadata": {},
     "output_type": "display_data"
    },
    {
     "data": {
      "application/vnd.jupyter.widget-view+json": {
       "model_id": "0d9c6f88c7bc4637b54fe64a4ace2a8b",
       "version_major": 2,
       "version_minor": 0
      },
      "text/plain": [
       "eval           Epoch   9:    0%|| 0/111 [00:00<?, ?ba/s]         "
      ]
     },
     "metadata": {},
     "output_type": "display_data"
    },
    {
     "data": {
      "application/vnd.jupyter.widget-view+json": {
       "model_id": "77768323c6654437ae8f485e6435f0a8",
       "version_major": 2,
       "version_minor": 0
      },
      "text/plain": [
       "train          Epoch  10:    0%|| 0/3889 [00:00<?, ?ba/s]         "
      ]
     },
     "metadata": {},
     "output_type": "display_data"
    },
    {
     "data": {
      "application/vnd.jupyter.widget-view+json": {
       "model_id": "aca186d74be54760aadbb542d2311743",
       "version_major": 2,
       "version_minor": 0
      },
      "text/plain": [
       "eval           Epoch  10:    0%|| 0/111 [00:00<?, ?ba/s]         "
      ]
     },
     "metadata": {},
     "output_type": "display_data"
    },
    {
     "data": {
      "application/vnd.jupyter.widget-view+json": {
       "model_id": "e30e0d372ed74896be87c6afdcade431",
       "version_major": 2,
       "version_minor": 0
      },
      "text/plain": [
       "train          Epoch  11:    0%|| 0/3889 [00:00<?, ?ba/s]         "
      ]
     },
     "metadata": {},
     "output_type": "display_data"
    },
    {
     "data": {
      "application/vnd.jupyter.widget-view+json": {
       "model_id": "2b44f6c7677143ca9fc02aace9dddea8",
       "version_major": 2,
       "version_minor": 0
      },
      "text/plain": [
       "eval           Epoch  11:    0%|| 0/111 [00:00<?, ?ba/s]         "
      ]
     },
     "metadata": {},
     "output_type": "display_data"
    },
    {
     "data": {
      "application/vnd.jupyter.widget-view+json": {
       "model_id": "1285bbb8ded746c5958fa4b9e828e250",
       "version_major": 2,
       "version_minor": 0
      },
      "text/plain": [
       "train          Epoch  12:    0%|| 0/3889 [00:00<?, ?ba/s]         "
      ]
     },
     "metadata": {},
     "output_type": "display_data"
    },
    {
     "data": {
      "application/vnd.jupyter.widget-view+json": {
       "model_id": "fb66a90b7a724f89834cf081fc7cc423",
       "version_major": 2,
       "version_minor": 0
      },
      "text/plain": [
       "eval           Epoch  12:    0%|| 0/111 [00:00<?, ?ba/s]         "
      ]
     },
     "metadata": {},
     "output_type": "display_data"
    },
    {
     "data": {
      "application/vnd.jupyter.widget-view+json": {
       "model_id": "962f328eabcb402bab4b27e07819fde5",
       "version_major": 2,
       "version_minor": 0
      },
      "text/plain": [
       "train          Epoch  13:    0%|| 0/3889 [00:00<?, ?ba/s]         "
      ]
     },
     "metadata": {},
     "output_type": "display_data"
    },
    {
     "data": {
      "application/vnd.jupyter.widget-view+json": {
       "model_id": "5b155dea02a343278b0c852249960f5b",
       "version_major": 2,
       "version_minor": 0
      },
      "text/plain": [
       "eval           Epoch  13:    0%|| 0/111 [00:00<?, ?ba/s]         "
      ]
     },
     "metadata": {},
     "output_type": "display_data"
    },
    {
     "data": {
      "application/vnd.jupyter.widget-view+json": {
       "model_id": "5866aec0be364e6d80d6e7b2901d6cf5",
       "version_major": 2,
       "version_minor": 0
      },
      "text/plain": [
       "train          Epoch  14:    0%|| 0/3889 [00:00<?, ?ba/s]         "
      ]
     },
     "metadata": {},
     "output_type": "display_data"
    },
    {
     "data": {
      "application/vnd.jupyter.widget-view+json": {
       "model_id": "b26e6a2b22b147968f0608da69bcdd3d",
       "version_major": 2,
       "version_minor": 0
      },
      "text/plain": [
       "eval           Epoch  14:    0%|| 0/111 [00:00<?, ?ba/s]         "
      ]
     },
     "metadata": {},
     "output_type": "display_data"
    },
    {
     "name": "stdout",
     "output_type": "stream",
     "text": [
      "It took 4101.7634 seconds to train\n"
     ]
    }
   ],
   "source": [
    "start_time = time.perf_counter()\n",
    "trainer.fit() # <-- Your training loop in action!\n",
    "end_time = time.perf_counter()\n",
    "print(f\"It took {end_time - start_time:0.4f} seconds to train\")"
   ]
  },
  {
   "cell_type": "code",
   "execution_count": 46,
   "id": "d53a5305-e0ce-47a7-9a84-ad8c3485f9d2",
   "metadata": {
    "tags": []
   },
   "outputs": [
    {
     "data": {
      "image/png": "[encoded data removed]",
      "text/plain": [
       "<Figure size 800x600 with 2 Axes>"
      ]
     },
     "metadata": {},
     "output_type": "display_data"
    },
    {
     "name": "stdout",
     "output_type": "stream",
     "text": [
      "Accuracy on the evaluation dataset: 88.12%\n",
      "\n",
      "\n",
      "Precision: [0.9        0.69767442 0.5212766  0.5        0.42307692 0.93975904\n",
      " 1.        ]\n",
      "Recall: [0.3        0.85714286 0.55681818 0.25       0.23913043 0.97168743\n",
      " 1.        ]\n",
      "F1 Score: [0.45       0.76923077 0.53846154 0.33333333 0.30555556 0.95545657\n",
      " 1.        ]\n"
     ]
    }
   ],
   "source": [
    "evaluate_model(mobileNet)"
   ]
  },
  {
   "cell_type": "markdown",
   "id": "8ea38fa8-7453-40da-b477-81416147bbd2",
   "metadata": {},
   "source": [
    "# MobileNet Without BlurPool\n"
   ]
  },
  {
   "cell_type": "code",
   "execution_count": 55,
   "id": "62c125a6-81d8-47ac-9bfc-c056e747ca60",
   "metadata": {
    "tags": []
   },
   "outputs": [],
   "source": [
    "train_dataloader, valid_dataloader, test_dataloader=transform_images(256,224)"
   ]
  },
  {
   "cell_type": "code",
   "execution_count": 46,
   "id": "0bfd0859-a59e-4c85-ae1c-823401b91507",
   "metadata": {
    "tags": []
   },
   "outputs": [],
   "source": [
    "mobileNetWOBP = MobileNet(num_classes=7)\n",
    "_ , optimizer,  = requirementsForModelTraining(mobileNetWOBP)\n",
    "logger = InMemoryLogger()\n",
    "trainer = Trainer(\n",
    "    model=mobileNetWOBP,\n",
    "    optimizers=optimizer,\n",
    "    train_dataloader=train_dataloader,\n",
    "    eval_dataloader=valid_dataloader,\n",
    "    max_duration='15ep',\n",
    "    loggers=logger\n",
    ")"
   ]
  },
  {
   "cell_type": "code",
   "execution_count": null,
   "id": "cd22e366-c7c5-4b30-8d92-150074100f0e",
   "metadata": {
    "tags": []
   },
   "outputs": [
    {
     "name": "stderr",
     "output_type": "stream",
     "text": [
      "******************************\n",
      "Config:\n",
      "node_name: unknown because NODENAME environment variable not set\n",
      "num_gpus_per_node: 1\n",
      "num_nodes: 1\n",
      "rank_zero_seed: 3777163748\n",
      "\n",
      "******************************\n"
     ]
    },
    {
     "data": {
      "application/vnd.jupyter.widget-view+json": {
       "model_id": "eb923126763f4ecba3e9ae50322cad02",
       "version_major": 2,
       "version_minor": 0
      },
      "text/plain": [
       "train          Epoch   0:    0%|| 0/3889 [00:00<?, ?ba/s]         "
      ]
     },
     "metadata": {},
     "output_type": "display_data"
    },
    {
     "data": {
      "application/vnd.jupyter.widget-view+json": {
       "model_id": "f83200f9787047369fda09718cb8f3fd",
       "version_major": 2,
       "version_minor": 0
      },
      "text/plain": [
       "eval           Epoch   0:    0%|| 0/111 [00:00<?, ?ba/s]         "
      ]
     },
     "metadata": {},
     "output_type": "display_data"
    },
    {
     "name": "stderr",
     "output_type": "stream",
     "text": [
      "/home/ec2-user/anaconda3/envs/pytorch_p310/lib/python3.10/site-packages/composer/core/data_spec.py:35: UserWarning: Cannot split tensor of length 3 into batches of size 10. As it is smaller, no splitting will be done. This may happen on the last batch of a dataset if it is a smaller size than the microbatch size.\n",
      "  warnings.warn(f'Cannot split tensor of length {len(t)} into batches of size {microbatch_size}. '\n"
     ]
    },
    {
     "data": {
      "application/vnd.jupyter.widget-view+json": {
       "model_id": "f67209c035a249728c6ac985c6bf8a20",
       "version_major": 2,
       "version_minor": 0
      },
      "text/plain": [
       "train          Epoch   1:    0%|| 0/3889 [00:00<?, ?ba/s]         "
      ]
     },
     "metadata": {},
     "output_type": "display_data"
    },
    {
     "data": {
      "application/vnd.jupyter.widget-view+json": {
       "model_id": "52359df99fb541d8a7fd42f13fbc1f5d",
       "version_major": 2,
       "version_minor": 0
      },
      "text/plain": [
       "eval           Epoch   1:    0%|| 0/111 [00:00<?, ?ba/s]         "
      ]
     },
     "metadata": {},
     "output_type": "display_data"
    },
    {
     "data": {
      "application/vnd.jupyter.widget-view+json": {
       "model_id": "0013131e8eec4715a45bfcc87f7efc42",
       "version_major": 2,
       "version_minor": 0
      },
      "text/plain": [
       "train          Epoch   2:    0%|| 0/3889 [00:00<?, ?ba/s]         "
      ]
     },
     "metadata": {},
     "output_type": "display_data"
    },
    {
     "data": {
      "application/vnd.jupyter.widget-view+json": {
       "model_id": "3a6759bc7a61459e99821ed2934cb950",
       "version_major": 2,
       "version_minor": 0
      },
      "text/plain": [
       "eval           Epoch   2:    0%|| 0/111 [00:00<?, ?ba/s]         "
      ]
     },
     "metadata": {},
     "output_type": "display_data"
    },
    {
     "data": {
      "application/vnd.jupyter.widget-view+json": {
       "model_id": "68856c220df84f43adc3c281aa8f8027",
       "version_major": 2,
       "version_minor": 0
      },
      "text/plain": [
       "train          Epoch   3:    0%|| 0/3889 [00:00<?, ?ba/s]         "
      ]
     },
     "metadata": {},
     "output_type": "display_data"
    },
    {
     "data": {
      "application/vnd.jupyter.widget-view+json": {
       "model_id": "07b5fa52f4014b76993ffd8274c726eb",
       "version_major": 2,
       "version_minor": 0
      },
      "text/plain": [
       "eval           Epoch   3:    0%|| 0/111 [00:00<?, ?ba/s]         "
      ]
     },
     "metadata": {},
     "output_type": "display_data"
    },
    {
     "data": {
      "application/vnd.jupyter.widget-view+json": {
       "model_id": "f6761e24df774877afef2bd2c2193198",
       "version_major": 2,
       "version_minor": 0
      },
      "text/plain": [
       "train          Epoch   4:    0%|| 0/3889 [00:00<?, ?ba/s]         "
      ]
     },
     "metadata": {},
     "output_type": "display_data"
    },
    {
     "data": {
      "application/vnd.jupyter.widget-view+json": {
       "model_id": "6b60b1b0f36344ed8009e039c5f3d7f8",
       "version_major": 2,
       "version_minor": 0
      },
      "text/plain": [
       "eval           Epoch   4:    0%|| 0/111 [00:00<?, ?ba/s]         "
      ]
     },
     "metadata": {},
     "output_type": "display_data"
    },
    {
     "data": {
      "application/vnd.jupyter.widget-view+json": {
       "model_id": "028a7ff826064889bda74eee32c56ff0",
       "version_major": 2,
       "version_minor": 0
      },
      "text/plain": [
       "train          Epoch   5:    0%|| 0/3889 [00:00<?, ?ba/s]         "
      ]
     },
     "metadata": {},
     "output_type": "display_data"
    },
    {
     "data": {
      "application/vnd.jupyter.widget-view+json": {
       "model_id": "868654c2e4764a17bf040f33733fa949",
       "version_major": 2,
       "version_minor": 0
      },
      "text/plain": [
       "eval           Epoch   5:    0%|| 0/111 [00:00<?, ?ba/s]         "
      ]
     },
     "metadata": {},
     "output_type": "display_data"
    },
    {
     "data": {
      "application/vnd.jupyter.widget-view+json": {
       "model_id": "160ac79304e147edbe0c9a3baa67c73a",
       "version_major": 2,
       "version_minor": 0
      },
      "text/plain": [
       "train          Epoch   6:    0%|| 0/3889 [00:00<?, ?ba/s]         "
      ]
     },
     "metadata": {},
     "output_type": "display_data"
    },
    {
     "data": {
      "application/vnd.jupyter.widget-view+json": {
       "model_id": "121fa14b22194da28fdf0b79f7b9db1d",
       "version_major": 2,
       "version_minor": 0
      },
      "text/plain": [
       "eval           Epoch   6:    0%|| 0/111 [00:00<?, ?ba/s]         "
      ]
     },
     "metadata": {},
     "output_type": "display_data"
    },
    {
     "data": {
      "application/vnd.jupyter.widget-view+json": {
       "model_id": "183e9aada3a747dba50c33309875b2a0",
       "version_major": 2,
       "version_minor": 0
      },
      "text/plain": [
       "train          Epoch   7:    0%|| 0/3889 [00:00<?, ?ba/s]         "
      ]
     },
     "metadata": {},
     "output_type": "display_data"
    },
    {
     "data": {
      "application/vnd.jupyter.widget-view+json": {
       "model_id": "dc99eb821ef14062a9ad2cf6e613bb92",
       "version_major": 2,
       "version_minor": 0
      },
      "text/plain": [
       "eval           Epoch   7:    0%|| 0/111 [00:00<?, ?ba/s]         "
      ]
     },
     "metadata": {},
     "output_type": "display_data"
    },
    {
     "data": {
      "application/vnd.jupyter.widget-view+json": {
       "model_id": "122a3868298940079da966a8de1765dc",
       "version_major": 2,
       "version_minor": 0
      },
      "text/plain": [
       "train          Epoch   8:    0%|| 0/3889 [00:00<?, ?ba/s]         "
      ]
     },
     "metadata": {},
     "output_type": "display_data"
    },
    {
     "data": {
      "application/vnd.jupyter.widget-view+json": {
       "model_id": "226f6c7b0b8b42fe89254017c297ce48",
       "version_major": 2,
       "version_minor": 0
      },
      "text/plain": [
       "eval           Epoch   8:    0%|| 0/111 [00:00<?, ?ba/s]         "
      ]
     },
     "metadata": {},
     "output_type": "display_data"
    },
    {
     "data": {
      "application/vnd.jupyter.widget-view+json": {
       "model_id": "cee22b55f720439b8bc4e5c6224dacd4",
       "version_major": 2,
       "version_minor": 0
      },
      "text/plain": [
       "train          Epoch   9:    0%|| 0/3889 [00:00<?, ?ba/s]         "
      ]
     },
     "metadata": {},
     "output_type": "display_data"
    },
    {
     "data": {
      "application/vnd.jupyter.widget-view+json": {
       "model_id": "b4a12a20ee66448b91dd637149694815",
       "version_major": 2,
       "version_minor": 0
      },
      "text/plain": [
       "eval           Epoch   9:    0%|| 0/111 [00:00<?, ?ba/s]         "
      ]
     },
     "metadata": {},
     "output_type": "display_data"
    },
    {
     "data": {
      "application/vnd.jupyter.widget-view+json": {
       "model_id": "53668156d29747959f32aa6228158606",
       "version_major": 2,
       "version_minor": 0
      },
      "text/plain": [
       "train          Epoch  10:    0%|| 0/3889 [00:00<?, ?ba/s]         "
      ]
     },
     "metadata": {},
     "output_type": "display_data"
    },
    {
     "data": {
      "application/vnd.jupyter.widget-view+json": {
       "model_id": "b7b512f3024f446d810f5edde1d4137e",
       "version_major": 2,
       "version_minor": 0
      },
      "text/plain": [
       "eval           Epoch  10:    0%|| 0/111 [00:00<?, ?ba/s]         "
      ]
     },
     "metadata": {},
     "output_type": "display_data"
    },
    {
     "data": {
      "application/vnd.jupyter.widget-view+json": {
       "model_id": "53006e5681f04a31b54effdc2ba4c946",
       "version_major": 2,
       "version_minor": 0
      },
      "text/plain": [
       "train          Epoch  11:    0%|| 0/3889 [00:00<?, ?ba/s]         "
      ]
     },
     "metadata": {},
     "output_type": "display_data"
    },
    {
     "data": {
      "application/vnd.jupyter.widget-view+json": {
       "model_id": "81244f59362d43438f92232d6c2ea6ed",
       "version_major": 2,
       "version_minor": 0
      },
      "text/plain": [
       "eval           Epoch  11:    0%|| 0/111 [00:00<?, ?ba/s]         "
      ]
     },
     "metadata": {},
     "output_type": "display_data"
    },
    {
     "data": {
      "application/vnd.jupyter.widget-view+json": {
       "model_id": "51a3486e5af8452ab374bad1b0215310",
       "version_major": 2,
       "version_minor": 0
      },
      "text/plain": [
       "train          Epoch  12:    0%|| 0/3889 [00:00<?, ?ba/s]         "
      ]
     },
     "metadata": {},
     "output_type": "display_data"
    },
    {
     "data": {
      "application/vnd.jupyter.widget-view+json": {
       "model_id": "b11e522656c645cc9f8c33421918e3a7",
       "version_major": 2,
       "version_minor": 0
      },
      "text/plain": [
       "eval           Epoch  12:    0%|| 0/111 [00:00<?, ?ba/s]         "
      ]
     },
     "metadata": {},
     "output_type": "display_data"
    },
    {
     "data": {
      "application/vnd.jupyter.widget-view+json": {
       "model_id": "631ba696039442a596c6cccf7dbbdf29",
       "version_major": 2,
       "version_minor": 0
      },
      "text/plain": [
       "train          Epoch  13:    0%|| 0/3889 [00:00<?, ?ba/s]         "
      ]
     },
     "metadata": {},
     "output_type": "display_data"
    },
    {
     "data": {
      "application/vnd.jupyter.widget-view+json": {
       "model_id": "4d0b06c84c2342948b89f797d7a6d073",
       "version_major": 2,
       "version_minor": 0
      },
      "text/plain": [
       "eval           Epoch  13:    0%|| 0/111 [00:00<?, ?ba/s]         "
      ]
     },
     "metadata": {},
     "output_type": "display_data"
    },
    {
     "data": {
      "application/vnd.jupyter.widget-view+json": {
       "model_id": "f8cbd1ebc0af477595eb437529b2167d",
       "version_major": 2,
       "version_minor": 0
      },
      "text/plain": [
       "train          Epoch  14:    0%|| 0/3889 [00:00<?, ?ba/s]         "
      ]
     },
     "metadata": {},
     "output_type": "display_data"
    },
    {
     "data": {
      "application/vnd.jupyter.widget-view+json": {
       "model_id": "3ad316caafbf402a96af868b32554eab",
       "version_major": 2,
       "version_minor": 0
      },
      "text/plain": [
       "eval           Epoch  14:    0%|| 0/111 [00:00<?, ?ba/s]         "
      ]
     },
     "metadata": {},
     "output_type": "display_data"
    },
    {
     "name": "stdout",
     "output_type": "stream",
     "text": [
      "It took 5059.3937 seconds to train\n"
     ]
    }
   ],
   "source": [
    "start_time = time.perf_counter()\n",
    "trainer.fit() # <-- Your training loop in action!\n",
    "end_time = time.perf_counter()\n",
    "print(f\"It took {end_time - start_time:0.4f} seconds to train\")"
   ]
  },
  {
   "cell_type": "code",
   "execution_count": null,
   "id": "29ebe57f-34fe-4513-9da3-1efe515c1693",
   "metadata": {
    "tags": []
   },
   "outputs": [
    {
     "data": {
      "image/png": "[encoded data removed]",
      "text/plain": [
       "<Figure size 800x600 with 2 Axes>"
      ]
     },
     "metadata": {},
     "output_type": "display_data"
    },
    {
     "name": "stdout",
     "output_type": "stream",
     "text": [
      "Accuracy on the evaluation dataset: 86.22%\n",
      "\n",
      "\n",
      "Precision: [0.63157895 0.57777778 0.60606061 0.25       0.39583333 0.93534002\n",
      " 0.75      ]\n",
      "Recall: [0.4        0.74285714 0.45454545 0.375      0.41304348 0.95016988\n",
      " 0.92307692]\n",
      "F1 Score: [0.48979592 0.65       0.51948052 0.3        0.40425532 0.94269663\n",
      " 0.82758621]\n"
     ]
    }
   ],
   "source": [
    "evaluate_model(mobileNetWOBP)"
   ]
  },
  {
   "cell_type": "markdown",
   "id": "3804d06e-c67e-4efb-a6bb-9d1f3abbd58f",
   "metadata": {},
   "source": [
    "# InceptionNet\n"
   ]
  },
  {
   "cell_type": "code",
   "execution_count": 60,
   "id": "c6c57210-d293-4dcb-ba77-396ee3ed83be",
   "metadata": {
    "tags": []
   },
   "outputs": [],
   "source": [
    "# import os\n",
    "# os.environ['TORCH_USE_CUDA_DSA'] = '1'\n",
    "# os.environ['CUDA_LAUNCH_BLOCKING']= '1'"
   ]
  },
  {
   "cell_type": "code",
   "execution_count": null,
   "id": "213cb532-4c8e-4741-b1a7-4abc0080e391",
   "metadata": {
    "tags": []
   },
   "outputs": [],
   "source": [
    "from torchvision.transforms import Compose, Resize, CenterCrop, ToTensor, Normalize\n",
    "from torchvision.transforms.functional import InterpolationMode\n",
    "\n",
    "def transform_images_inception_net(resize_size,crop_size):\n",
    "    train_path = base_dir + '/Train/'\n",
    "    valid_path = base_dir + '/Test/'\n",
    "\n",
    "    # Define data transforms for training and validation datasets\n",
    "    train_transforms = Compose([\n",
    "        Resize(resize_size, interpolation=InterpolationMode.BILINEAR),\n",
    "        CenterCrop(crop_size),\n",
    "        ToTensor(),\n",
    "        Normalize(mean=[0.485, 0.456, 0.406], std=[0.229, 0.224, 0.225]),\n",
    "    ])\n",
    "\n",
    "    valid_transforms = Compose([\n",
    "        Resize(resize_size, interpolation=InterpolationMode.BILINEAR),\n",
    "        CenterCrop(crop_size),\n",
    "        ToTensor(),\n",
    "        Normalize(mean=[0.485, 0.456, 0.406], std=[0.229, 0.224, 0.225]),\n",
    "    ])\n",
    "\n",
    "    # Load datasets from the directories using torchvision.datasets.ImageFolder\n",
    "    train_dataset = datasets.ImageFolder(root=train_path, transform=train_transforms)\n",
    "    valid_dataset = datasets.ImageFolder(root=valid_path, transform=valid_transforms)\n",
    "\n",
    "    # Create data loaders\n",
    "    train_batch_size = 10\n",
    "    val_batch_size = 10\n",
    "\n",
    "    train_dataloader = torch.utils.data.DataLoader(train_dataset, batch_size=train_batch_size, shuffle=True)\n",
    "    valid_dataloader = torch.utils.data.DataLoader(valid_dataset, batch_size=val_batch_size, shuffle=False)\n",
    "\n",
    "    # Note: shuffle=False causes the test dataset to not be shuffled\n",
    "    test_dataloader = torch.utils.data.DataLoader(valid_dataset, batch_size=1, shuffle=False)\n",
    "    return train_dataloader, valid_dataloader, test_dataloader\n"
   ]
  },
  {
   "cell_type": "code",
   "execution_count": null,
   "id": "5de8b9d1-bcd2-4fe4-9faa-870ca18a75cc",
   "metadata": {
    "tags": []
   },
   "outputs": [],
   "source": [
    "train_dataloader, valid_dataloader, test_dataloader=transform_images_inception_net(342,299)"
   ]
  },
  {
   "cell_type": "code",
   "execution_count": null,
   "id": "b63b0493-ee1d-42c2-9736-8ababad1d2fc",
   "metadata": {
    "tags": []
   },
   "outputs": [],
   "source": [
    "class InceptionNet(ComposerModel):\n",
    "    def __init__(self, num_classes, weights=None):\n",
    "        super().__init__()\n",
    "        self.model = torchvision.models.inception_v3()\n",
    "        self.num_classes = num_classes\n",
    "\n",
    "        # Modify the final classification head\n",
    "        in_features = self.model.fc.in_features\n",
    "        self.model.fc = torch.nn.Linear(in_features, num_classes)\n",
    "\n",
    "        self.train_accuracy = torchmetrics.classification.MulticlassAccuracy(num_classes=num_classes, average='micro')\n",
    "        self.val_accuracy = torchmetrics.classification.MulticlassAccuracy(num_classes=num_classes, average='micro')\n",
    "\n",
    "    def forward(self, batch):\n",
    "        if isinstance(batch, tuple):\n",
    "            inputs, targets = batch\n",
    "        else:\n",
    "            inputs = batch\n",
    "        return self.model(inputs)\n",
    "\n",
    "    def loss(self, outputs, batch):\n",
    "        _, targets = batch\n",
    "\n",
    "        # Extract the necessary tensor from InceptionOutputs\n",
    "        logits = outputs.logits\n",
    "\n",
    "        return F.cross_entropy(logits, targets)\n",
    "\n",
    "    def eval_forward(self, batch, outputs=None):\n",
    "        inputs, targets = batch\n",
    "        if isinstance(outputs, InceptionOutputs):\n",
    "            logits = outputs.logits\n",
    "        else:\n",
    "            logits = self.forward(inputs)\n",
    "        if logits.dim() > 1 and logits.shape[1] != self.num_classes:\n",
    "            logits = torch.softmax(logits, dim=1)\n",
    "        return logits\n",
    "\n",
    "    def update_metric(self, batch, outputs, metric):\n",
    "        _, targets = batch\n",
    "\n",
    "        if isinstance(outputs, InceptionOutputs):\n",
    "            outputs = outputs.logits\n",
    "\n",
    "        if outputs.dim() > 1 and outputs.shape[1] != self.num_classes:\n",
    "            outputs = torch.softmax(outputs, dim=1)\n",
    "\n",
    "        metric.update(outputs, targets)\n",
    "\n",
    "\n",
    "    def get_metrics(self, is_train=False):\n",
    "        return {'MulticlassAccuracy': self.train_accuracy} if is_train else {'MulticlassAccuracy': self.val_accuracy}\n"
   ]
  },
  {
   "cell_type": "code",
   "execution_count": null,
   "id": "0ef216ff-0ab1-4490-b8ca-5d5e32874dcb",
   "metadata": {
    "tags": []
   },
   "outputs": [
    {
     "name": "stderr",
     "output_type": "stream",
     "text": [
      "/home/ec2-user/anaconda3/envs/pytorch_p310/lib/python3.10/site-packages/torchvision/models/inception.py:43: FutureWarning: The default weight initialization of inception_v3 will be changed in future releases of torchvision. If you wish to keep the old behavior (which leads to long initialization times due to scipy/scipy#11299), please set init_weights=True.\n",
      "  warnings.warn(\n",
      "******************************\n",
      "Config:\n",
      "blurpool/num_blurconv_layers: 4\n",
      "blurpool/num_blurpool_layers: 2\n",
      "enabled_algorithms/BlurPool: true\n",
      "node_name: unknown because NODENAME environment variable not set\n",
      "num_gpus_per_node: 1\n",
      "num_nodes: 1\n",
      "rank_zero_seed: 804008059\n",
      "\n",
      "******************************\n"
     ]
    },
    {
     "data": {
      "application/vnd.jupyter.widget-view+json": {
       "model_id": "c501b14cd2144bc7aeeba9929be0ba54",
       "version_major": 2,
       "version_minor": 0
      },
      "text/plain": [
       "train          Epoch   0:    0%|| 0/3889 [00:00<?, ?ba/s]         "
      ]
     },
     "metadata": {},
     "output_type": "display_data"
    },
    {
     "data": {
      "application/vnd.jupyter.widget-view+json": {
       "model_id": "047260cd052a466886fdce3811e0418c",
       "version_major": 2,
       "version_minor": 0
      },
      "text/plain": [
       "eval           Epoch   0:    0%|| 0/111 [00:00<?, ?ba/s]         "
      ]
     },
     "metadata": {},
     "output_type": "display_data"
    },
    {
     "name": "stderr",
     "output_type": "stream",
     "text": [
      "/home/ec2-user/anaconda3/envs/pytorch_p310/lib/python3.10/site-packages/composer/core/data_spec.py:35: UserWarning: Cannot split tensor of length 3 into batches of size 10. As it is smaller, no splitting will be done. This may happen on the last batch of a dataset if it is a smaller size than the microbatch size.\n",
      "  warnings.warn(f'Cannot split tensor of length {len(t)} into batches of size {microbatch_size}. '\n"
     ]
    },
    {
     "data": {
      "application/vnd.jupyter.widget-view+json": {
       "model_id": "6a8cc90bd2124dd0bdd391cf733aac5b",
       "version_major": 2,
       "version_minor": 0
      },
      "text/plain": [
       "train          Epoch   1:    0%|| 0/3889 [00:00<?, ?ba/s]         "
      ]
     },
     "metadata": {},
     "output_type": "display_data"
    },
    {
     "data": {
      "application/vnd.jupyter.widget-view+json": {
       "model_id": "b2397396b2484eeda1715b48aa60c5bd",
       "version_major": 2,
       "version_minor": 0
      },
      "text/plain": [
       "eval           Epoch   1:    0%|| 0/111 [00:00<?, ?ba/s]         "
      ]
     },
     "metadata": {},
     "output_type": "display_data"
    },
    {
     "data": {
      "application/vnd.jupyter.widget-view+json": {
       "model_id": "cec200f540824cafb047edbe2599de45",
       "version_major": 2,
       "version_minor": 0
      },
      "text/plain": [
       "train          Epoch   2:    0%|| 0/3889 [00:00<?, ?ba/s]         "
      ]
     },
     "metadata": {},
     "output_type": "display_data"
    },
    {
     "data": {
      "application/vnd.jupyter.widget-view+json": {
       "model_id": "c0f2560d07854f48be345168fc31d4f2",
       "version_major": 2,
       "version_minor": 0
      },
      "text/plain": [
       "eval           Epoch   2:    0%|| 0/111 [00:00<?, ?ba/s]         "
      ]
     },
     "metadata": {},
     "output_type": "display_data"
    },
    {
     "data": {
      "application/vnd.jupyter.widget-view+json": {
       "model_id": "f91b82c933994548bcde53760be83c6c",
       "version_major": 2,
       "version_minor": 0
      },
      "text/plain": [
       "train          Epoch   3:    0%|| 0/3889 [00:00<?, ?ba/s]         "
      ]
     },
     "metadata": {},
     "output_type": "display_data"
    },
    {
     "data": {
      "application/vnd.jupyter.widget-view+json": {
       "model_id": "fb87912ca36840be946222c5f2ad8236",
       "version_major": 2,
       "version_minor": 0
      },
      "text/plain": [
       "eval           Epoch   3:    0%|| 0/111 [00:00<?, ?ba/s]         "
      ]
     },
     "metadata": {},
     "output_type": "display_data"
    },
    {
     "data": {
      "application/vnd.jupyter.widget-view+json": {
       "model_id": "bb54c6be74934848b43bfaa74a57269d",
       "version_major": 2,
       "version_minor": 0
      },
      "text/plain": [
       "train          Epoch   4:    0%|| 0/3889 [00:00<?, ?ba/s]         "
      ]
     },
     "metadata": {},
     "output_type": "display_data"
    },
    {
     "data": {
      "application/vnd.jupyter.widget-view+json": {
       "model_id": "4e8e518669f141b8b84230125fd946b3",
       "version_major": 2,
       "version_minor": 0
      },
      "text/plain": [
       "eval           Epoch   4:    0%|| 0/111 [00:00<?, ?ba/s]         "
      ]
     },
     "metadata": {},
     "output_type": "display_data"
    },
    {
     "data": {
      "application/vnd.jupyter.widget-view+json": {
       "model_id": "3f71364719d947e8be9d55e09f7a38e6",
       "version_major": 2,
       "version_minor": 0
      },
      "text/plain": [
       "train          Epoch   5:    0%|| 0/3889 [00:00<?, ?ba/s]         "
      ]
     },
     "metadata": {},
     "output_type": "display_data"
    },
    {
     "data": {
      "application/vnd.jupyter.widget-view+json": {
       "model_id": "c078fb30b02f479ea5d168743d9479fa",
       "version_major": 2,
       "version_minor": 0
      },
      "text/plain": [
       "eval           Epoch   5:    0%|| 0/111 [00:00<?, ?ba/s]         "
      ]
     },
     "metadata": {},
     "output_type": "display_data"
    },
    {
     "data": {
      "application/vnd.jupyter.widget-view+json": {
       "model_id": "120cb61675fa4acba387d4dd9ba26dae",
       "version_major": 2,
       "version_minor": 0
      },
      "text/plain": [
       "train          Epoch   6:    0%|| 0/3889 [00:00<?, ?ba/s]         "
      ]
     },
     "metadata": {},
     "output_type": "display_data"
    },
    {
     "data": {
      "application/vnd.jupyter.widget-view+json": {
       "model_id": "67fa2f48489645fc8ef56fb7df147354",
       "version_major": 2,
       "version_minor": 0
      },
      "text/plain": [
       "eval           Epoch   6:    0%|| 0/111 [00:00<?, ?ba/s]         "
      ]
     },
     "metadata": {},
     "output_type": "display_data"
    },
    {
     "data": {
      "application/vnd.jupyter.widget-view+json": {
       "model_id": "239314e2e4814a979038a70058a51316",
       "version_major": 2,
       "version_minor": 0
      },
      "text/plain": [
       "train          Epoch   7:    0%|| 0/3889 [00:00<?, ?ba/s]         "
      ]
     },
     "metadata": {},
     "output_type": "display_data"
    },
    {
     "data": {
      "application/vnd.jupyter.widget-view+json": {
       "model_id": "34953271d39446dc93593b541c04c2a9",
       "version_major": 2,
       "version_minor": 0
      },
      "text/plain": [
       "eval           Epoch   7:    0%|| 0/111 [00:00<?, ?ba/s]         "
      ]
     },
     "metadata": {},
     "output_type": "display_data"
    },
    {
     "data": {
      "application/vnd.jupyter.widget-view+json": {
       "model_id": "f021e02587814018a98a3b54f8e4d0c8",
       "version_major": 2,
       "version_minor": 0
      },
      "text/plain": [
       "train          Epoch   8:    0%|| 0/3889 [00:00<?, ?ba/s]         "
      ]
     },
     "metadata": {},
     "output_type": "display_data"
    },
    {
     "data": {
      "application/vnd.jupyter.widget-view+json": {
       "model_id": "4e287e5cb70e4e7b9ceeb3d3442961f8",
       "version_major": 2,
       "version_minor": 0
      },
      "text/plain": [
       "eval           Epoch   8:    0%|| 0/111 [00:00<?, ?ba/s]         "
      ]
     },
     "metadata": {},
     "output_type": "display_data"
    },
    {
     "data": {
      "application/vnd.jupyter.widget-view+json": {
       "model_id": "15e2a9b0fda64b55958ce584e12ac46a",
       "version_major": 2,
       "version_minor": 0
      },
      "text/plain": [
       "train          Epoch   9:    0%|| 0/3889 [00:00<?, ?ba/s]         "
      ]
     },
     "metadata": {},
     "output_type": "display_data"
    },
    {
     "data": {
      "application/vnd.jupyter.widget-view+json": {
       "model_id": "9c133a15ba5d4a37a86336fa1626f63b",
       "version_major": 2,
       "version_minor": 0
      },
      "text/plain": [
       "eval           Epoch   9:    0%|| 0/111 [00:00<?, ?ba/s]         "
      ]
     },
     "metadata": {},
     "output_type": "display_data"
    },
    {
     "data": {
      "application/vnd.jupyter.widget-view+json": {
       "model_id": "846b7d5a5b934f6a8195436b85914ac6",
       "version_major": 2,
       "version_minor": 0
      },
      "text/plain": [
       "train          Epoch  10:    0%|| 0/3889 [00:00<?, ?ba/s]         "
      ]
     },
     "metadata": {},
     "output_type": "display_data"
    },
    {
     "data": {
      "application/vnd.jupyter.widget-view+json": {
       "model_id": "b7fae2b3fbce4f86a91315b36da3ef79",
       "version_major": 2,
       "version_minor": 0
      },
      "text/plain": [
       "eval           Epoch  10:    0%|| 0/111 [00:00<?, ?ba/s]         "
      ]
     },
     "metadata": {},
     "output_type": "display_data"
    },
    {
     "data": {
      "application/vnd.jupyter.widget-view+json": {
       "model_id": "0153a8799dc74a03ada6bf72258c9499",
       "version_major": 2,
       "version_minor": 0
      },
      "text/plain": [
       "train          Epoch  11:    0%|| 0/3889 [00:00<?, ?ba/s]         "
      ]
     },
     "metadata": {},
     "output_type": "display_data"
    },
    {
     "data": {
      "application/vnd.jupyter.widget-view+json": {
       "model_id": "1f83968353ba4fd7b132cb59f1dc47f6",
       "version_major": 2,
       "version_minor": 0
      },
      "text/plain": [
       "eval           Epoch  11:    0%|| 0/111 [00:00<?, ?ba/s]         "
      ]
     },
     "metadata": {},
     "output_type": "display_data"
    },
    {
     "data": {
      "application/vnd.jupyter.widget-view+json": {
       "model_id": "145d2a79061c4dc6afee2fef65ea64b0",
       "version_major": 2,
       "version_minor": 0
      },
      "text/plain": [
       "train          Epoch  12:    0%|| 0/3889 [00:00<?, ?ba/s]         "
      ]
     },
     "metadata": {},
     "output_type": "display_data"
    },
    {
     "data": {
      "application/vnd.jupyter.widget-view+json": {
       "model_id": "5e754aca8e8245c486100376de3fc67e",
       "version_major": 2,
       "version_minor": 0
      },
      "text/plain": [
       "eval           Epoch  12:    0%|| 0/111 [00:00<?, ?ba/s]         "
      ]
     },
     "metadata": {},
     "output_type": "display_data"
    },
    {
     "data": {
      "application/vnd.jupyter.widget-view+json": {
       "model_id": "ca7e94ab6c544445b928d66c39110e2d",
       "version_major": 2,
       "version_minor": 0
      },
      "text/plain": [
       "train          Epoch  13:    0%|| 0/3889 [00:00<?, ?ba/s]         "
      ]
     },
     "metadata": {},
     "output_type": "display_data"
    },
    {
     "data": {
      "application/vnd.jupyter.widget-view+json": {
       "model_id": "c499f9bb4e604029afbba784ec1b8a86",
       "version_major": 2,
       "version_minor": 0
      },
      "text/plain": [
       "eval           Epoch  13:    0%|| 0/111 [00:00<?, ?ba/s]         "
      ]
     },
     "metadata": {},
     "output_type": "display_data"
    },
    {
     "data": {
      "application/vnd.jupyter.widget-view+json": {
       "model_id": "7cc9353bea224a7da95942eb9cd3a51e",
       "version_major": 2,
       "version_minor": 0
      },
      "text/plain": [
       "train          Epoch  14:    0%|| 0/3889 [00:00<?, ?ba/s]         "
      ]
     },
     "metadata": {},
     "output_type": "display_data"
    },
    {
     "data": {
      "application/vnd.jupyter.widget-view+json": {
       "model_id": "ce089ff9082140c29152bc05e7ca6df1",
       "version_major": 2,
       "version_minor": 0
      },
      "text/plain": [
       "eval           Epoch  14:    0%|| 0/111 [00:00<?, ?ba/s]         "
      ]
     },
     "metadata": {},
     "output_type": "display_data"
    },
    {
     "name": "stdout",
     "output_type": "stream",
     "text": [
      "It took 8091.5614 seconds to train\n"
     ]
    }
   ],
   "source": [
    "inceptionModel = InceptionNet(num_classes=7)\n",
    "algorithms, optimizer = requirementsForModelTraining(inceptionModel)\n",
    "logger = InMemoryLogger()\n",
    "trainer = Trainer(\n",
    "    model=inceptionModel,\n",
    "    optimizers=optimizer,\n",
    "    train_dataloader=train_dataloader, \n",
    "    eval_dataloader=valid_dataloader,\n",
    "    max_duration='15ep',\n",
    "    algorithms=algorithms,\n",
    "    loggers=logger\n",
    ")\n",
    "\n",
    "start_time = time.perf_counter()\n",
    "trainer.fit()  # <-- Your training loop in action!\n",
    "end_time = time.perf_counter()\n",
    "print(f\"It took {end_time - start_time:0.4f} seconds to train\")"
   ]
  },
  {
   "cell_type": "code",
   "execution_count": null,
   "id": "6f0b21ba-040d-4228-a0fa-7531f1283abc",
   "metadata": {
    "tags": []
   },
   "outputs": [
    {
     "data": {
      "image/png": "[encoded data removed]",
      "text/plain": [
       "<Figure size 800x600 with 2 Axes>"
      ]
     },
     "metadata": {},
     "output_type": "display_data"
    },
    {
     "name": "stdout",
     "output_type": "stream",
     "text": [
      "Accuracy on the evaluation dataset: 87.85%\n",
      "\n",
      "\n",
      "Precision: [0.51851852 0.65789474 0.63095238 0.44444444 0.55       0.93311404\n",
      " 0.84615385]\n",
      "Recall: [0.46666667 0.71428571 0.60227273 0.5        0.23913043 0.96375991\n",
      " 0.84615385]\n",
      "F1 Score: [0.49122807 0.68493151 0.61627907 0.47058824 0.33333333 0.94818942\n",
      " 0.84615385]\n"
     ]
    }
   ],
   "source": [
    "evaluate_model(inceptionModel)"
   ]
  },
  {
   "cell_type": "code",
   "execution_count": 48,
   "id": "30bd4c91-6aa0-4312-aea1-66d95c65e424",
   "metadata": {
    "tags": []
   },
   "outputs": [
    {
     "name": "stderr",
     "output_type": "stream",
     "text": [
      "******************************\n",
      "Config:\n",
      "node_name: unknown because NODENAME environment variable not set\n",
      "num_gpus_per_node: 1\n",
      "num_nodes: 1\n",
      "rank_zero_seed: 2899244715\n",
      "\n",
      "******************************\n"
     ]
    },
    {
     "data": {
      "application/vnd.jupyter.widget-view+json": {
       "model_id": "11894cef43b34fa393d5633316fcbe45",
       "version_major": 2,
       "version_minor": 0
      },
      "text/plain": [
       "train          Epoch   0:    0%|| 0/3889 [00:00<?, ?ba/s]         "
      ]
     },
     "metadata": {},
     "output_type": "display_data"
    },
    {
     "data": {
      "application/vnd.jupyter.widget-view+json": {
       "model_id": "9359a99d26ef4b8c822fe17ac774c82b",
       "version_major": 2,
       "version_minor": 0
      },
      "text/plain": [
       "eval           Epoch   0:    0%|| 0/111 [00:00<?, ?ba/s]         "
      ]
     },
     "metadata": {},
     "output_type": "display_data"
    },
    {
     "name": "stderr",
     "output_type": "stream",
     "text": [
      "/home/ec2-user/anaconda3/envs/pytorch_p310/lib/python3.10/site-packages/composer/core/data_spec.py:35: UserWarning: Cannot split tensor of length 3 into batches of size 10. As it is smaller, no splitting will be done. This may happen on the last batch of a dataset if it is a smaller size than the microbatch size.\n",
      "  warnings.warn(f'Cannot split tensor of length {len(t)} into batches of size {microbatch_size}. '\n"
     ]
    },
    {
     "data": {
      "application/vnd.jupyter.widget-view+json": {
       "model_id": "2796290e90ab4e21b57221b6d890d047",
       "version_major": 2,
       "version_minor": 0
      },
      "text/plain": [
       "train          Epoch   1:    0%|| 0/3889 [00:00<?, ?ba/s]         "
      ]
     },
     "metadata": {},
     "output_type": "display_data"
    },
    {
     "data": {
      "application/vnd.jupyter.widget-view+json": {
       "model_id": "cabb21aadbbe449082610bcbbec34d96",
       "version_major": 2,
       "version_minor": 0
      },
      "text/plain": [
       "eval           Epoch   1:    0%|| 0/111 [00:00<?, ?ba/s]         "
      ]
     },
     "metadata": {},
     "output_type": "display_data"
    },
    {
     "data": {
      "application/vnd.jupyter.widget-view+json": {
       "model_id": "1a47c7e94ed84897aa20f1da7673579e",
       "version_major": 2,
       "version_minor": 0
      },
      "text/plain": [
       "train          Epoch   2:    0%|| 0/3889 [00:00<?, ?ba/s]         "
      ]
     },
     "metadata": {},
     "output_type": "display_data"
    },
    {
     "data": {
      "application/vnd.jupyter.widget-view+json": {
       "model_id": "80bc77fdd0ae457293c594adc7d0cabb",
       "version_major": 2,
       "version_minor": 0
      },
      "text/plain": [
       "eval           Epoch   2:    0%|| 0/111 [00:00<?, ?ba/s]         "
      ]
     },
     "metadata": {},
     "output_type": "display_data"
    },
    {
     "data": {
      "application/vnd.jupyter.widget-view+json": {
       "model_id": "88c9cc9ab9c1457eb14174b6a06c4f65",
       "version_major": 2,
       "version_minor": 0
      },
      "text/plain": [
       "train          Epoch   3:    0%|| 0/3889 [00:00<?, ?ba/s]         "
      ]
     },
     "metadata": {},
     "output_type": "display_data"
    },
    {
     "data": {
      "application/vnd.jupyter.widget-view+json": {
       "model_id": "387cb1b9fc67450f9cb63eaa985af2da",
       "version_major": 2,
       "version_minor": 0
      },
      "text/plain": [
       "eval           Epoch   3:    0%|| 0/111 [00:00<?, ?ba/s]         "
      ]
     },
     "metadata": {},
     "output_type": "display_data"
    },
    {
     "data": {
      "application/vnd.jupyter.widget-view+json": {
       "model_id": "4d40e4d18705470bba990844688e883c",
       "version_major": 2,
       "version_minor": 0
      },
      "text/plain": [
       "train          Epoch   4:    0%|| 0/3889 [00:00<?, ?ba/s]         "
      ]
     },
     "metadata": {},
     "output_type": "display_data"
    },
    {
     "data": {
      "application/vnd.jupyter.widget-view+json": {
       "model_id": "ec09561d2f974ce8b694de7636529495",
       "version_major": 2,
       "version_minor": 0
      },
      "text/plain": [
       "eval           Epoch   4:    0%|| 0/111 [00:00<?, ?ba/s]         "
      ]
     },
     "metadata": {},
     "output_type": "display_data"
    },
    {
     "data": {
      "application/vnd.jupyter.widget-view+json": {
       "model_id": "27a4947be43c44a5902681c814539d18",
       "version_major": 2,
       "version_minor": 0
      },
      "text/plain": [
       "train          Epoch   5:    0%|| 0/3889 [00:00<?, ?ba/s]         "
      ]
     },
     "metadata": {},
     "output_type": "display_data"
    },
    {
     "data": {
      "application/vnd.jupyter.widget-view+json": {
       "model_id": "d2469ca6590248708494e7ba1bb0de28",
       "version_major": 2,
       "version_minor": 0
      },
      "text/plain": [
       "eval           Epoch   5:    0%|| 0/111 [00:00<?, ?ba/s]         "
      ]
     },
     "metadata": {},
     "output_type": "display_data"
    },
    {
     "data": {
      "application/vnd.jupyter.widget-view+json": {
       "model_id": "3c4b664114f54e5db44af4d61403f94b",
       "version_major": 2,
       "version_minor": 0
      },
      "text/plain": [
       "train          Epoch   6:    0%|| 0/3889 [00:00<?, ?ba/s]         "
      ]
     },
     "metadata": {},
     "output_type": "display_data"
    },
    {
     "data": {
      "application/vnd.jupyter.widget-view+json": {
       "model_id": "792e6c2deec045029548e01fd5364baa",
       "version_major": 2,
       "version_minor": 0
      },
      "text/plain": [
       "eval           Epoch   6:    0%|| 0/111 [00:00<?, ?ba/s]         "
      ]
     },
     "metadata": {},
     "output_type": "display_data"
    },
    {
     "data": {
      "application/vnd.jupyter.widget-view+json": {
       "model_id": "16a6cd6c17fb4b7b833bdfe6fbe49d48",
       "version_major": 2,
       "version_minor": 0
      },
      "text/plain": [
       "train          Epoch   7:    0%|| 0/3889 [00:00<?, ?ba/s]         "
      ]
     },
     "metadata": {},
     "output_type": "display_data"
    },
    {
     "data": {
      "application/vnd.jupyter.widget-view+json": {
       "model_id": "51161d5fda85432f95b04fe7456f51a5",
       "version_major": 2,
       "version_minor": 0
      },
      "text/plain": [
       "eval           Epoch   7:    0%|| 0/111 [00:00<?, ?ba/s]         "
      ]
     },
     "metadata": {},
     "output_type": "display_data"
    },
    {
     "data": {
      "application/vnd.jupyter.widget-view+json": {
       "model_id": "28343a2c969a40b88ba53811618ea2cb",
       "version_major": 2,
       "version_minor": 0
      },
      "text/plain": [
       "train          Epoch   8:    0%|| 0/3889 [00:00<?, ?ba/s]         "
      ]
     },
     "metadata": {},
     "output_type": "display_data"
    },
    {
     "data": {
      "application/vnd.jupyter.widget-view+json": {
       "model_id": "bf136c92c9184f6d8722feaaea4084a3",
       "version_major": 2,
       "version_minor": 0
      },
      "text/plain": [
       "eval           Epoch   8:    0%|| 0/111 [00:00<?, ?ba/s]         "
      ]
     },
     "metadata": {},
     "output_type": "display_data"
    },
    {
     "data": {
      "application/vnd.jupyter.widget-view+json": {
       "model_id": "583bc5f8cf34451b8ea6bed17653ef6a",
       "version_major": 2,
       "version_minor": 0
      },
      "text/plain": [
       "train          Epoch   9:    0%|| 0/3889 [00:00<?, ?ba/s]         "
      ]
     },
     "metadata": {},
     "output_type": "display_data"
    },
    {
     "data": {
      "application/vnd.jupyter.widget-view+json": {
       "model_id": "7772a44dc4464fa5aa6c528f47d8996a",
       "version_major": 2,
       "version_minor": 0
      },
      "text/plain": [
       "eval           Epoch   9:    0%|| 0/111 [00:00<?, ?ba/s]         "
      ]
     },
     "metadata": {},
     "output_type": "display_data"
    },
    {
     "data": {
      "application/vnd.jupyter.widget-view+json": {
       "model_id": "9c767ee800f442d79ac983aea0b4b286",
       "version_major": 2,
       "version_minor": 0
      },
      "text/plain": [
       "train          Epoch  10:    0%|| 0/3889 [00:00<?, ?ba/s]         "
      ]
     },
     "metadata": {},
     "output_type": "display_data"
    },
    {
     "data": {
      "application/vnd.jupyter.widget-view+json": {
       "model_id": "a8b2c6bff70c47c4afbab725387a2517",
       "version_major": 2,
       "version_minor": 0
      },
      "text/plain": [
       "eval           Epoch  10:    0%|| 0/111 [00:00<?, ?ba/s]         "
      ]
     },
     "metadata": {},
     "output_type": "display_data"
    },
    {
     "data": {
      "application/vnd.jupyter.widget-view+json": {
       "model_id": "72eef35aa40f495ca5497f17d719c814",
       "version_major": 2,
       "version_minor": 0
      },
      "text/plain": [
       "train          Epoch  11:    0%|| 0/3889 [00:00<?, ?ba/s]         "
      ]
     },
     "metadata": {},
     "output_type": "display_data"
    },
    {
     "data": {
      "application/vnd.jupyter.widget-view+json": {
       "model_id": "0b6df4e53e114297914200eeea001f36",
       "version_major": 2,
       "version_minor": 0
      },
      "text/plain": [
       "eval           Epoch  11:    0%|| 0/111 [00:00<?, ?ba/s]         "
      ]
     },
     "metadata": {},
     "output_type": "display_data"
    },
    {
     "data": {
      "application/vnd.jupyter.widget-view+json": {
       "model_id": "b9bfa4f466434fa69091f306fd90b9d1",
       "version_major": 2,
       "version_minor": 0
      },
      "text/plain": [
       "train          Epoch  12:    0%|| 0/3889 [00:00<?, ?ba/s]         "
      ]
     },
     "metadata": {},
     "output_type": "display_data"
    },
    {
     "data": {
      "application/vnd.jupyter.widget-view+json": {
       "model_id": "3fbc450503424bd8b8718c8ed8f5ff47",
       "version_major": 2,
       "version_minor": 0
      },
      "text/plain": [
       "eval           Epoch  12:    0%|| 0/111 [00:00<?, ?ba/s]         "
      ]
     },
     "metadata": {},
     "output_type": "display_data"
    },
    {
     "data": {
      "application/vnd.jupyter.widget-view+json": {
       "model_id": "75d64e59dbd746439cdc81ece5df1b67",
       "version_major": 2,
       "version_minor": 0
      },
      "text/plain": [
       "train          Epoch  13:    0%|| 0/3889 [00:00<?, ?ba/s]         "
      ]
     },
     "metadata": {},
     "output_type": "display_data"
    },
    {
     "data": {
      "application/vnd.jupyter.widget-view+json": {
       "model_id": "42b8600fa61140dab4464f71c4fd6429",
       "version_major": 2,
       "version_minor": 0
      },
      "text/plain": [
       "eval           Epoch  13:    0%|| 0/111 [00:00<?, ?ba/s]         "
      ]
     },
     "metadata": {},
     "output_type": "display_data"
    },
    {
     "data": {
      "application/vnd.jupyter.widget-view+json": {
       "model_id": "baa1464458cf430aa81f0f59661327fa",
       "version_major": 2,
       "version_minor": 0
      },
      "text/plain": [
       "train          Epoch  14:    0%|| 0/3889 [00:00<?, ?ba/s]         "
      ]
     },
     "metadata": {},
     "output_type": "display_data"
    },
    {
     "data": {
      "application/vnd.jupyter.widget-view+json": {
       "model_id": "84d03773ae7144caaca52733d8861790",
       "version_major": 2,
       "version_minor": 0
      },
      "text/plain": [
       "eval           Epoch  14:    0%|| 0/111 [00:00<?, ?ba/s]         "
      ]
     },
     "metadata": {},
     "output_type": "display_data"
    },
    {
     "name": "stdout",
     "output_type": "stream",
     "text": [
      "It took 8441.1507 seconds to train\n"
     ]
    }
   ],
   "source": [
    "inceptionModelWOBP = InceptionNet(num_classes=7)\n",
    "_, optimizer = requirementsForModelTraining(inceptionModelWOBP)\n",
    "logger = InMemoryLogger()\n",
    "trainer = composer.Trainer(\n",
    "    model=inceptionModelWOBP,\n",
    "    optimizers=optimizer,\n",
    "    train_dataloader=train_dataloader, \n",
    "    eval_dataloader=valid_dataloader,\n",
    "    max_duration='15ep',\n",
    "    loggers=logger\n",
    ")\n",
    "\n",
    "\n",
    "start_time = time.perf_counter()\n",
    "trainer.fit()\n",
    "end_time = time.perf_counter()\n",
    "print(f\"It took {end_time - start_time:0.4f} seconds to train\")\n"
   ]
  },
  {
   "cell_type": "code",
   "execution_count": 49,
   "id": "a01d9d94-3ae5-4dfe-9dba-936b4f5e9c1c",
   "metadata": {
    "tags": []
   },
   "outputs": [
    {
     "data": {
      "image/png": "[encoded data removed]",
      "text/plain": [
       "<Figure size 800x600 with 2 Axes>"
      ]
     },
     "metadata": {},
     "output_type": "display_data"
    },
    {
     "name": "stdout",
     "output_type": "stream",
     "text": [
      "Accuracy on the evaluation dataset: 88.12%\n",
      "\n",
      "\n",
      "Precision: [0.76923077 0.66666667 0.66129032 1.         0.42857143 0.91932059\n",
      " 0.91666667]\n",
      "Recall: [0.33333333 0.8        0.46590909 0.5        0.26086957 0.98074745\n",
      " 0.84615385]\n",
      "F1 Score: [0.46511628 0.72727273 0.54666667 0.66666667 0.32432432 0.9490411\n",
      " 0.88      ]\n"
     ]
    }
   ],
   "source": [
    "evaluate_model(inceptionModelWOBP)"
   ]
  },
  {
   "cell_type": "markdown",
   "id": "0b459b80-791a-458f-bafa-30f34966faf9",
   "metadata": {},
   "source": [
    "# DenseNet\n"
   ]
  },
  {
   "cell_type": "code",
   "execution_count": 46,
   "id": "3b7fdcd1-280c-41a7-85d4-afe8f44883d8",
   "metadata": {
    "tags": []
   },
   "outputs": [],
   "source": [
    "\n",
    "\n",
    "class DenseNetModel(ComposerModel):\n",
    "    def __init__(self, num_classes):\n",
    "        super().__init__()\n",
    "        self.model = torchvision.models.densenet161()  # Use DenseNet-161\n",
    "        num_ftrs = self.model.classifier.in_features\n",
    "        self.model.classifier = nn.Linear(num_ftrs, num_classes)\n",
    "\n",
    "        self.num_classes = num_classes\n",
    "        self.num_classes = num_classes\n",
    "        self.train_accuracy = torchmetrics.classification.MulticlassAccuracy(num_classes=num_classes, average='micro')\n",
    "        self.val_accuracy = torchmetrics.classification.MulticlassAccuracy(num_classes=num_classes, average='micro')\n",
    "\n",
    "    def forward(self, batch):\n",
    "        if isinstance(batch, tuple):\n",
    "            inputs, targets = batch\n",
    "        else:\n",
    "            inputs = batch\n",
    "        return self.model(inputs)\n",
    "\n",
    "    def loss(self, outputs, batch):\n",
    "        _, targets = batch\n",
    "        return F.cross_entropy(outputs, targets)\n",
    "\n",
    "    def eval_forward(self, batch, outputs=None):\n",
    "        inputs, targets = batch\n",
    "        if outputs is None:\n",
    "            outputs = self.forward(inputs)\n",
    "        return outputs\n",
    "\n",
    "    def update_metric(self, batch, outputs, metric):\n",
    "        _, targets = batch\n",
    "        # Calculate class predictions from the model outputs\n",
    "        preds = torch.argmax(outputs, dim=1)\n",
    "        # Ensure predictions have shape (N, ...)\n",
    "        preds = preds.view(-1)\n",
    "        # Ensure targets have shape (N, ...)\n",
    "        targets = targets.view(-1)\n",
    "        metric.update(preds, targets)\n",
    "        \n",
    "    def get_metrics(self, is_train=False):\n",
    "        return {'MulticlassAccuracy': self.train_accuracy} if is_train else {'MulticlassAccuracy': self.val_accuracy}\n"
   ]
  },
  {
   "cell_type": "code",
   "execution_count": 44,
   "id": "d842c02b-b82e-48e5-993b-a9c2c87d9832",
   "metadata": {
    "tags": []
   },
   "outputs": [],
   "source": [
    "train_dataloader, valid_dataloader, test_dataloader=transform_images(256,224)\n"
   ]
  },
  {
   "cell_type": "code",
   "execution_count": 51,
   "id": "5f0f83ee-9c0c-4335-9ef4-5b24e5df54cd",
   "metadata": {
    "tags": []
   },
   "outputs": [
    {
     "name": "stderr",
     "output_type": "stream",
     "text": [
      "******************************\n",
      "Config:\n",
      "blurpool/num_blurconv_layers: 0\n",
      "blurpool/num_blurpool_layers: 1\n",
      "enabled_algorithms/BlurPool: true\n",
      "node_name: unknown because NODENAME environment variable not set\n",
      "num_gpus_per_node: 1\n",
      "num_nodes: 1\n",
      "rank_zero_seed: 1343909343\n",
      "\n",
      "******************************\n"
     ]
    },
    {
     "data": {
      "application/vnd.jupyter.widget-view+json": {
       "model_id": "645f2110c05d4cb3bc7f02f0fefc1194",
       "version_major": 2,
       "version_minor": 0
      },
      "text/plain": [
       "train          Epoch   0:    0%|| 0/3889 [00:00<?, ?ba/s]         "
      ]
     },
     "metadata": {},
     "output_type": "display_data"
    },
    {
     "data": {
      "application/vnd.jupyter.widget-view+json": {
       "model_id": "f0f26fe79d5f4bcc968dc4677fc8707f",
       "version_major": 2,
       "version_minor": 0
      },
      "text/plain": [
       "eval           Epoch   0:    0%|| 0/111 [00:00<?, ?ba/s]         "
      ]
     },
     "metadata": {},
     "output_type": "display_data"
    },
    {
     "name": "stderr",
     "output_type": "stream",
     "text": [
      "/home/ec2-user/anaconda3/envs/pytorch_p310/lib/python3.10/site-packages/composer/core/data_spec.py:35: UserWarning: Cannot split tensor of length 3 into batches of size 10. As it is smaller, no splitting will be done. This may happen on the last batch of a dataset if it is a smaller size than the microbatch size.\n",
      "  warnings.warn(f'Cannot split tensor of length {len(t)} into batches of size {microbatch_size}. '\n"
     ]
    },
    {
     "data": {
      "application/vnd.jupyter.widget-view+json": {
       "model_id": "8ddb8fe99648464d88650a874ea46e20",
       "version_major": 2,
       "version_minor": 0
      },
      "text/plain": [
       "train          Epoch   1:    0%|| 0/3889 [00:00<?, ?ba/s]         "
      ]
     },
     "metadata": {},
     "output_type": "display_data"
    },
    {
     "data": {
      "application/vnd.jupyter.widget-view+json": {
       "model_id": "325b8e7964004d02b40028277c3cf376",
       "version_major": 2,
       "version_minor": 0
      },
      "text/plain": [
       "eval           Epoch   1:    0%|| 0/111 [00:00<?, ?ba/s]         "
      ]
     },
     "metadata": {},
     "output_type": "display_data"
    },
    {
     "data": {
      "application/vnd.jupyter.widget-view+json": {
       "model_id": "c48ea0c3a4bf4ab4b1c3d52f8c077eae",
       "version_major": 2,
       "version_minor": 0
      },
      "text/plain": [
       "train          Epoch   2:    0%|| 0/3889 [00:00<?, ?ba/s]         "
      ]
     },
     "metadata": {},
     "output_type": "display_data"
    },
    {
     "data": {
      "application/vnd.jupyter.widget-view+json": {
       "model_id": "8441a394cf1d403d93f15b4e3a855075",
       "version_major": 2,
       "version_minor": 0
      },
      "text/plain": [
       "eval           Epoch   2:    0%|| 0/111 [00:00<?, ?ba/s]         "
      ]
     },
     "metadata": {},
     "output_type": "display_data"
    },
    {
     "data": {
      "application/vnd.jupyter.widget-view+json": {
       "model_id": "a1a833ead29f4016bbccd5d849b6bb25",
       "version_major": 2,
       "version_minor": 0
      },
      "text/plain": [
       "train          Epoch   3:    0%|| 0/3889 [00:00<?, ?ba/s]         "
      ]
     },
     "metadata": {},
     "output_type": "display_data"
    },
    {
     "data": {
      "application/vnd.jupyter.widget-view+json": {
       "model_id": "c8e8afcf36d24372b05d8d4199e796a3",
       "version_major": 2,
       "version_minor": 0
      },
      "text/plain": [
       "eval           Epoch   3:    0%|| 0/111 [00:00<?, ?ba/s]         "
      ]
     },
     "metadata": {},
     "output_type": "display_data"
    },
    {
     "data": {
      "application/vnd.jupyter.widget-view+json": {
       "model_id": "7574de9fce3f43fda1b99c69b624a777",
       "version_major": 2,
       "version_minor": 0
      },
      "text/plain": [
       "train          Epoch   4:    0%|| 0/3889 [00:00<?, ?ba/s]         "
      ]
     },
     "metadata": {},
     "output_type": "display_data"
    },
    {
     "data": {
      "application/vnd.jupyter.widget-view+json": {
       "model_id": "96ffec8ae97b4c879b9d146112840d47",
       "version_major": 2,
       "version_minor": 0
      },
      "text/plain": [
       "eval           Epoch   4:    0%|| 0/111 [00:00<?, ?ba/s]         "
      ]
     },
     "metadata": {},
     "output_type": "display_data"
    },
    {
     "data": {
      "application/vnd.jupyter.widget-view+json": {
       "model_id": "723c3ceff7db404a8cdb75bb7c1d7dfd",
       "version_major": 2,
       "version_minor": 0
      },
      "text/plain": [
       "train          Epoch   5:    0%|| 0/3889 [00:00<?, ?ba/s]         "
      ]
     },
     "metadata": {},
     "output_type": "display_data"
    },
    {
     "data": {
      "application/vnd.jupyter.widget-view+json": {
       "model_id": "1e04c8e36cf54b9ebdd4b078ffd7f4d7",
       "version_major": 2,
       "version_minor": 0
      },
      "text/plain": [
       "eval           Epoch   5:    0%|| 0/111 [00:00<?, ?ba/s]         "
      ]
     },
     "metadata": {},
     "output_type": "display_data"
    },
    {
     "data": {
      "application/vnd.jupyter.widget-view+json": {
       "model_id": "aa134af3d6d444b09fe7b13cba34c191",
       "version_major": 2,
       "version_minor": 0
      },
      "text/plain": [
       "train          Epoch   6:    0%|| 0/3889 [00:00<?, ?ba/s]         "
      ]
     },
     "metadata": {},
     "output_type": "display_data"
    },
    {
     "data": {
      "application/vnd.jupyter.widget-view+json": {
       "model_id": "547e28b427de48728eaeacf1a361b203",
       "version_major": 2,
       "version_minor": 0
      },
      "text/plain": [
       "eval           Epoch   6:    0%|| 0/111 [00:00<?, ?ba/s]         "
      ]
     },
     "metadata": {},
     "output_type": "display_data"
    },
    {
     "data": {
      "application/vnd.jupyter.widget-view+json": {
       "model_id": "d100a50cd8544419b55670526d4f91a9",
       "version_major": 2,
       "version_minor": 0
      },
      "text/plain": [
       "train          Epoch   7:    0%|| 0/3889 [00:00<?, ?ba/s]         "
      ]
     },
     "metadata": {},
     "output_type": "display_data"
    },
    {
     "data": {
      "application/vnd.jupyter.widget-view+json": {
       "model_id": "39e72396e2c84a73bfe094480fe42e49",
       "version_major": 2,
       "version_minor": 0
      },
      "text/plain": [
       "eval           Epoch   7:    0%|| 0/111 [00:00<?, ?ba/s]         "
      ]
     },
     "metadata": {},
     "output_type": "display_data"
    },
    {
     "data": {
      "application/vnd.jupyter.widget-view+json": {
       "model_id": "1927f588ad28442386beb9503cc40e1b",
       "version_major": 2,
       "version_minor": 0
      },
      "text/plain": [
       "train          Epoch   8:    0%|| 0/3889 [00:00<?, ?ba/s]         "
      ]
     },
     "metadata": {},
     "output_type": "display_data"
    },
    {
     "data": {
      "application/vnd.jupyter.widget-view+json": {
       "model_id": "887a0e8af3314b6f970f0bfa8937994e",
       "version_major": 2,
       "version_minor": 0
      },
      "text/plain": [
       "eval           Epoch   8:    0%|| 0/111 [00:00<?, ?ba/s]         "
      ]
     },
     "metadata": {},
     "output_type": "display_data"
    },
    {
     "data": {
      "application/vnd.jupyter.widget-view+json": {
       "model_id": "4a47d7b4aa444bd4a5313ed9547d050e",
       "version_major": 2,
       "version_minor": 0
      },
      "text/plain": [
       "train          Epoch   9:    0%|| 0/3889 [00:00<?, ?ba/s]         "
      ]
     },
     "metadata": {},
     "output_type": "display_data"
    },
    {
     "data": {
      "application/vnd.jupyter.widget-view+json": {
       "model_id": "0e0b0d375ee34481b4c8efda1e071f68",
       "version_major": 2,
       "version_minor": 0
      },
      "text/plain": [
       "eval           Epoch   9:    0%|| 0/111 [00:00<?, ?ba/s]         "
      ]
     },
     "metadata": {},
     "output_type": "display_data"
    },
    {
     "data": {
      "application/vnd.jupyter.widget-view+json": {
       "model_id": "7f4cbeca22344cbfb520c6cefe2321df",
       "version_major": 2,
       "version_minor": 0
      },
      "text/plain": [
       "train          Epoch  10:    0%|| 0/3889 [00:00<?, ?ba/s]         "
      ]
     },
     "metadata": {},
     "output_type": "display_data"
    },
    {
     "data": {
      "application/vnd.jupyter.widget-view+json": {
       "model_id": "3e5ba0b0b5a546a98523fc2d2f6635f5",
       "version_major": 2,
       "version_minor": 0
      },
      "text/plain": [
       "eval           Epoch  10:    0%|| 0/111 [00:00<?, ?ba/s]         "
      ]
     },
     "metadata": {},
     "output_type": "display_data"
    },
    {
     "data": {
      "application/vnd.jupyter.widget-view+json": {
       "model_id": "7b0bbb65bdd142c085c1958a68de6239",
       "version_major": 2,
       "version_minor": 0
      },
      "text/plain": [
       "train          Epoch  11:    0%|| 0/3889 [00:00<?, ?ba/s]         "
      ]
     },
     "metadata": {},
     "output_type": "display_data"
    },
    {
     "data": {
      "application/vnd.jupyter.widget-view+json": {
       "model_id": "6dc2bfbe243e45e3befd04d293efef64",
       "version_major": 2,
       "version_minor": 0
      },
      "text/plain": [
       "eval           Epoch  11:    0%|| 0/111 [00:00<?, ?ba/s]         "
      ]
     },
     "metadata": {},
     "output_type": "display_data"
    },
    {
     "data": {
      "application/vnd.jupyter.widget-view+json": {
       "model_id": "9f3491bea2c846baac34ff8773bfe50f",
       "version_major": 2,
       "version_minor": 0
      },
      "text/plain": [
       "train          Epoch  12:    0%|| 0/3889 [00:00<?, ?ba/s]         "
      ]
     },
     "metadata": {},
     "output_type": "display_data"
    },
    {
     "data": {
      "application/vnd.jupyter.widget-view+json": {
       "model_id": "6bb1553af3984084926f37673b35a8da",
       "version_major": 2,
       "version_minor": 0
      },
      "text/plain": [
       "eval           Epoch  12:    0%|| 0/111 [00:00<?, ?ba/s]         "
      ]
     },
     "metadata": {},
     "output_type": "display_data"
    },
    {
     "data": {
      "application/vnd.jupyter.widget-view+json": {
       "model_id": "e571e1685277451cbc87e0370442161e",
       "version_major": 2,
       "version_minor": 0
      },
      "text/plain": [
       "train          Epoch  13:    0%|| 0/3889 [00:00<?, ?ba/s]         "
      ]
     },
     "metadata": {},
     "output_type": "display_data"
    },
    {
     "data": {
      "application/vnd.jupyter.widget-view+json": {
       "model_id": "5dd1d52883474d68a6f3f360ac88c310",
       "version_major": 2,
       "version_minor": 0
      },
      "text/plain": [
       "eval           Epoch  13:    0%|| 0/111 [00:00<?, ?ba/s]         "
      ]
     },
     "metadata": {},
     "output_type": "display_data"
    },
    {
     "data": {
      "application/vnd.jupyter.widget-view+json": {
       "model_id": "e725f19b78b449298dfbbb2c6e0fdfc0",
       "version_major": 2,
       "version_minor": 0
      },
      "text/plain": [
       "train          Epoch  14:    0%|| 0/3889 [00:00<?, ?ba/s]         "
      ]
     },
     "metadata": {},
     "output_type": "display_data"
    },
    {
     "data": {
      "application/vnd.jupyter.widget-view+json": {
       "model_id": "a9a339c6a3844199bd3e112819e2ae64",
       "version_major": 2,
       "version_minor": 0
      },
      "text/plain": [
       "eval           Epoch  14:    0%|| 0/111 [00:00<?, ?ba/s]         "
      ]
     },
     "metadata": {},
     "output_type": "display_data"
    },
    {
     "name": "stdout",
     "output_type": "stream",
     "text": [
      "It took 10389.9995 seconds to train\n"
     ]
    }
   ],
   "source": [
    "denseNetModel = DenseNetModel(num_classes=7)\n",
    "algorithms, optimizer = requirementsForModelTraining(denseNetModel)\n",
    "logger = InMemoryLogger()\n",
    "trainer = Trainer(\n",
    "    model=denseNetModel,\n",
    "    optimizers=optimizer,\n",
    "    train_dataloader=train_dataloader, \n",
    "    eval_dataloader=valid_dataloader,\n",
    "    max_duration='15ep',\n",
    "    algorithms=algorithms,\n",
    "    loggers=logger\n",
    ")\n",
    "\n",
    "start_time = time.perf_counter()\n",
    "trainer.fit()  # <-- Your training loop in action!\n",
    "end_time = time.perf_counter()\n",
    "print(f\"It took {end_time - start_time:0.4f} seconds to train\")"
   ]
  },
  {
   "cell_type": "code",
   "execution_count": 52,
   "id": "48ee3e25-ef28-4282-9d2f-dddc7f45f964",
   "metadata": {
    "tags": []
   },
   "outputs": [
    {
     "data": {
      "image/png": "[encoded data removed]",
      "text/plain": [
       "<Figure size 800x600 with 2 Axes>"
      ]
     },
     "metadata": {},
     "output_type": "display_data"
    },
    {
     "name": "stdout",
     "output_type": "stream",
     "text": [
      "Accuracy on the evaluation dataset: 89.57%\n",
      "\n",
      "\n",
      "Precision: [0.81818182 0.69047619 0.6372549  0.46153846 0.49056604 0.96889401\n",
      " 0.85714286]\n",
      "Recall: [0.3        0.82857143 0.73863636 0.75       0.56521739 0.95243488\n",
      " 0.92307692]\n",
      "F1 Score: [0.43902439 0.75324675 0.68421053 0.57142857 0.52525253 0.96059395\n",
      " 0.88888889]\n"
     ]
    }
   ],
   "source": [
    "evaluate_model(denseNetModel)"
   ]
  },
  {
   "cell_type": "code",
   "execution_count": 47,
   "id": "53583c98-addc-404a-a696-b3222bbe504f",
   "metadata": {
    "tags": []
   },
   "outputs": [
    {
     "name": "stderr",
     "output_type": "stream",
     "text": [
      "******************************\n",
      "Config:\n",
      "node_name: unknown because NODENAME environment variable not set\n",
      "num_gpus_per_node: 1\n",
      "num_nodes: 1\n",
      "rank_zero_seed: 3026130946\n",
      "\n",
      "******************************\n"
     ]
    },
    {
     "data": {
      "application/vnd.jupyter.widget-view+json": {
       "model_id": "e6aa761bc70e489591154a3c2dbf7cd4",
       "version_major": 2,
       "version_minor": 0
      },
      "text/plain": [
       "train          Epoch   0:    0%|| 0/3889 [00:00<?, ?ba/s]         "
      ]
     },
     "metadata": {},
     "output_type": "display_data"
    },
    {
     "data": {
      "application/vnd.jupyter.widget-view+json": {
       "model_id": "e6f43d32c712407b899e08df3f31bd04",
       "version_major": 2,
       "version_minor": 0
      },
      "text/plain": [
       "eval           Epoch   0:    0%|| 0/111 [00:00<?, ?ba/s]         "
      ]
     },
     "metadata": {},
     "output_type": "display_data"
    },
    {
     "name": "stderr",
     "output_type": "stream",
     "text": [
      "/home/ec2-user/anaconda3/envs/pytorch_p310/lib/python3.10/site-packages/composer/core/data_spec.py:35: UserWarning: Cannot split tensor of length 3 into batches of size 10. As it is smaller, no splitting will be done. This may happen on the last batch of a dataset if it is a smaller size than the microbatch size.\n",
      "  warnings.warn(f'Cannot split tensor of length {len(t)} into batches of size {microbatch_size}. '\n"
     ]
    },
    {
     "data": {
      "application/vnd.jupyter.widget-view+json": {
       "model_id": "c14d52f167784fda816664c15100b143",
       "version_major": 2,
       "version_minor": 0
      },
      "text/plain": [
       "train          Epoch   1:    0%|| 0/3889 [00:00<?, ?ba/s]         "
      ]
     },
     "metadata": {},
     "output_type": "display_data"
    },
    {
     "data": {
      "application/vnd.jupyter.widget-view+json": {
       "model_id": "f2b912e8389e475d9da2afaf2d7eb462",
       "version_major": 2,
       "version_minor": 0
      },
      "text/plain": [
       "eval           Epoch   1:    0%|| 0/111 [00:00<?, ?ba/s]         "
      ]
     },
     "metadata": {},
     "output_type": "display_data"
    },
    {
     "data": {
      "application/vnd.jupyter.widget-view+json": {
       "model_id": "f1dd49e3c839411ea3b6f3ec57249228",
       "version_major": 2,
       "version_minor": 0
      },
      "text/plain": [
       "train          Epoch   2:    0%|| 0/3889 [00:00<?, ?ba/s]         "
      ]
     },
     "metadata": {},
     "output_type": "display_data"
    },
    {
     "data": {
      "application/vnd.jupyter.widget-view+json": {
       "model_id": "4a045c7dddac44a0a529df1c325c7f1a",
       "version_major": 2,
       "version_minor": 0
      },
      "text/plain": [
       "eval           Epoch   2:    0%|| 0/111 [00:00<?, ?ba/s]         "
      ]
     },
     "metadata": {},
     "output_type": "display_data"
    },
    {
     "data": {
      "application/vnd.jupyter.widget-view+json": {
       "model_id": "4ef68e01d3de4316a8f14e052a7805fb",
       "version_major": 2,
       "version_minor": 0
      },
      "text/plain": [
       "train          Epoch   3:    0%|| 0/3889 [00:00<?, ?ba/s]         "
      ]
     },
     "metadata": {},
     "output_type": "display_data"
    },
    {
     "data": {
      "application/vnd.jupyter.widget-view+json": {
       "model_id": "1376178664e14d22b5b14060e0472911",
       "version_major": 2,
       "version_minor": 0
      },
      "text/plain": [
       "eval           Epoch   3:    0%|| 0/111 [00:00<?, ?ba/s]         "
      ]
     },
     "metadata": {},
     "output_type": "display_data"
    },
    {
     "data": {
      "application/vnd.jupyter.widget-view+json": {
       "model_id": "a345c436c1b846d89739fe456d5835c9",
       "version_major": 2,
       "version_minor": 0
      },
      "text/plain": [
       "train          Epoch   4:    0%|| 0/3889 [00:00<?, ?ba/s]         "
      ]
     },
     "metadata": {},
     "output_type": "display_data"
    },
    {
     "data": {
      "application/vnd.jupyter.widget-view+json": {
       "model_id": "2fcf1af7df5e451a8da8b504e248a870",
       "version_major": 2,
       "version_minor": 0
      },
      "text/plain": [
       "eval           Epoch   4:    0%|| 0/111 [00:00<?, ?ba/s]         "
      ]
     },
     "metadata": {},
     "output_type": "display_data"
    },
    {
     "data": {
      "application/vnd.jupyter.widget-view+json": {
       "model_id": "fb35480041e645a3ae40639ba548fb3a",
       "version_major": 2,
       "version_minor": 0
      },
      "text/plain": [
       "train          Epoch   5:    0%|| 0/3889 [00:00<?, ?ba/s]         "
      ]
     },
     "metadata": {},
     "output_type": "display_data"
    },
    {
     "data": {
      "application/vnd.jupyter.widget-view+json": {
       "model_id": "e2a1a5b129a948bcb56bd4779e7637a1",
       "version_major": 2,
       "version_minor": 0
      },
      "text/plain": [
       "eval           Epoch   5:    0%|| 0/111 [00:00<?, ?ba/s]         "
      ]
     },
     "metadata": {},
     "output_type": "display_data"
    },
    {
     "data": {
      "application/vnd.jupyter.widget-view+json": {
       "model_id": "7f5f022b66dc466787a29060eccb91ed",
       "version_major": 2,
       "version_minor": 0
      },
      "text/plain": [
       "train          Epoch   6:    0%|| 0/3889 [00:00<?, ?ba/s]         "
      ]
     },
     "metadata": {},
     "output_type": "display_data"
    },
    {
     "data": {
      "application/vnd.jupyter.widget-view+json": {
       "model_id": "22ccf284f1ff4701a1c1e8a8c3d14914",
       "version_major": 2,
       "version_minor": 0
      },
      "text/plain": [
       "eval           Epoch   6:    0%|| 0/111 [00:00<?, ?ba/s]         "
      ]
     },
     "metadata": {},
     "output_type": "display_data"
    },
    {
     "data": {
      "application/vnd.jupyter.widget-view+json": {
       "model_id": "4217b193c35e41058267c4c14d39b3e0",
       "version_major": 2,
       "version_minor": 0
      },
      "text/plain": [
       "train          Epoch   7:    0%|| 0/3889 [00:00<?, ?ba/s]         "
      ]
     },
     "metadata": {},
     "output_type": "display_data"
    },
    {
     "data": {
      "application/vnd.jupyter.widget-view+json": {
       "model_id": "76c09ee813a545f1bd49f2c1cf88f369",
       "version_major": 2,
       "version_minor": 0
      },
      "text/plain": [
       "eval           Epoch   7:    0%|| 0/111 [00:00<?, ?ba/s]         "
      ]
     },
     "metadata": {},
     "output_type": "display_data"
    },
    {
     "data": {
      "application/vnd.jupyter.widget-view+json": {
       "model_id": "c93675ec1b204bcf8a213160f87e19e8",
       "version_major": 2,
       "version_minor": 0
      },
      "text/plain": [
       "train          Epoch   8:    0%|| 0/3889 [00:00<?, ?ba/s]         "
      ]
     },
     "metadata": {},
     "output_type": "display_data"
    },
    {
     "data": {
      "application/vnd.jupyter.widget-view+json": {
       "model_id": "3b21b7ca06654047af2d94106a138e99",
       "version_major": 2,
       "version_minor": 0
      },
      "text/plain": [
       "eval           Epoch   8:    0%|| 0/111 [00:00<?, ?ba/s]         "
      ]
     },
     "metadata": {},
     "output_type": "display_data"
    },
    {
     "data": {
      "application/vnd.jupyter.widget-view+json": {
       "model_id": "5cfd807b36f34318b5939357a1c56e3c",
       "version_major": 2,
       "version_minor": 0
      },
      "text/plain": [
       "train          Epoch   9:    0%|| 0/3889 [00:00<?, ?ba/s]         "
      ]
     },
     "metadata": {},
     "output_type": "display_data"
    },
    {
     "data": {
      "application/vnd.jupyter.widget-view+json": {
       "model_id": "2a0f0a5b62af43db928e8769172c2b59",
       "version_major": 2,
       "version_minor": 0
      },
      "text/plain": [
       "eval           Epoch   9:    0%|| 0/111 [00:00<?, ?ba/s]         "
      ]
     },
     "metadata": {},
     "output_type": "display_data"
    },
    {
     "data": {
      "application/vnd.jupyter.widget-view+json": {
       "model_id": "058244b36b8b40939ccc59d5fa9f64e1",
       "version_major": 2,
       "version_minor": 0
      },
      "text/plain": [
       "train          Epoch  10:    0%|| 0/3889 [00:00<?, ?ba/s]         "
      ]
     },
     "metadata": {},
     "output_type": "display_data"
    },
    {
     "data": {
      "application/vnd.jupyter.widget-view+json": {
       "model_id": "252e30d78ee143ac8373ab1ca109836b",
       "version_major": 2,
       "version_minor": 0
      },
      "text/plain": [
       "eval           Epoch  10:    0%|| 0/111 [00:00<?, ?ba/s]         "
      ]
     },
     "metadata": {},
     "output_type": "display_data"
    },
    {
     "data": {
      "application/vnd.jupyter.widget-view+json": {
       "model_id": "ee715b94f5ad40d8a74ec7b0afe971bc",
       "version_major": 2,
       "version_minor": 0
      },
      "text/plain": [
       "train          Epoch  11:    0%|| 0/3889 [00:00<?, ?ba/s]         "
      ]
     },
     "metadata": {},
     "output_type": "display_data"
    },
    {
     "data": {
      "application/vnd.jupyter.widget-view+json": {
       "model_id": "de46a254b79b48e1a108e28d964af251",
       "version_major": 2,
       "version_minor": 0
      },
      "text/plain": [
       "eval           Epoch  11:    0%|| 0/111 [00:00<?, ?ba/s]         "
      ]
     },
     "metadata": {},
     "output_type": "display_data"
    },
    {
     "data": {
      "application/vnd.jupyter.widget-view+json": {
       "model_id": "8a2052592e664deab4370e7537057f34",
       "version_major": 2,
       "version_minor": 0
      },
      "text/plain": [
       "train          Epoch  12:    0%|| 0/3889 [00:00<?, ?ba/s]         "
      ]
     },
     "metadata": {},
     "output_type": "display_data"
    },
    {
     "data": {
      "application/vnd.jupyter.widget-view+json": {
       "model_id": "db5b04739757414f9b48a56df620fa41",
       "version_major": 2,
       "version_minor": 0
      },
      "text/plain": [
       "eval           Epoch  12:    0%|| 0/111 [00:00<?, ?ba/s]         "
      ]
     },
     "metadata": {},
     "output_type": "display_data"
    },
    {
     "data": {
      "application/vnd.jupyter.widget-view+json": {
       "model_id": "e7053da3832b4806a98a62a6b63e683a",
       "version_major": 2,
       "version_minor": 0
      },
      "text/plain": [
       "train          Epoch  13:    0%|| 0/3889 [00:00<?, ?ba/s]         "
      ]
     },
     "metadata": {},
     "output_type": "display_data"
    },
    {
     "data": {
      "application/vnd.jupyter.widget-view+json": {
       "model_id": "75e722286ba842aaa0e14dd67c122140",
       "version_major": 2,
       "version_minor": 0
      },
      "text/plain": [
       "eval           Epoch  13:    0%|| 0/111 [00:00<?, ?ba/s]         "
      ]
     },
     "metadata": {},
     "output_type": "display_data"
    },
    {
     "data": {
      "application/vnd.jupyter.widget-view+json": {
       "model_id": "89a40692a3864b0aa8e8ba2c3c4ccded",
       "version_major": 2,
       "version_minor": 0
      },
      "text/plain": [
       "train          Epoch  14:    0%|| 0/3889 [00:00<?, ?ba/s]         "
      ]
     },
     "metadata": {},
     "output_type": "display_data"
    },
    {
     "data": {
      "application/vnd.jupyter.widget-view+json": {
       "model_id": "026828cfea304504be1e9f4e13eff908",
       "version_major": 2,
       "version_minor": 0
      },
      "text/plain": [
       "eval           Epoch  14:    0%|| 0/111 [00:00<?, ?ba/s]         "
      ]
     },
     "metadata": {},
     "output_type": "display_data"
    },
    {
     "name": "stdout",
     "output_type": "stream",
     "text": [
      "It took 10543.2514 seconds to train\n"
     ]
    }
   ],
   "source": [
    "denseNetModelWOBP = DenseNetModel(num_classes=7)\n",
    "_, optimizer = requirementsForModelTraining(denseNetModelWOBP)\n",
    "logger = InMemoryLogger()\n",
    "trainer = Trainer(\n",
    "    model=denseNetModelWOBP,\n",
    "    optimizers=optimizer,\n",
    "    train_dataloader=train_dataloader, \n",
    "    eval_dataloader=valid_dataloader,\n",
    "    max_duration='15ep',\n",
    "    loggers=logger\n",
    ")\n",
    "\n",
    "start_time = time.perf_counter()\n",
    "trainer.fit()  # <-- Your training loop in action!\n",
    "end_time = time.perf_counter()\n",
    "print(f\"It took {end_time - start_time:0.4f} seconds to train\")"
   ]
  },
  {
   "cell_type": "code",
   "execution_count": 49,
   "id": "77019a46-1358-4d5b-89df-815547073a1a",
   "metadata": {
    "tags": []
   },
   "outputs": [
    {
     "data": {
      "image/png": "[encoded data removed]",
      "text/plain": [
       "<Figure size 800x600 with 2 Axes>"
      ]
     },
     "metadata": {},
     "output_type": "display_data"
    },
    {
     "name": "stdout",
     "output_type": "stream",
     "text": [
      "Accuracy on the evaluation dataset: 89.76%\n",
      "\n",
      "\n",
      "Precision: [0.59259259 0.88       0.79032258 0.6        0.57777778 0.93096009\n",
      " 0.91666667]\n",
      "Recall: [0.53333333 0.62857143 0.55681818 0.375      0.56521739 0.97734994\n",
      " 0.84615385]\n",
      "F1 Score: [0.56140351 0.73333333 0.65333333 0.46153846 0.57142857 0.95359116\n",
      " 0.88      ]\n"
     ]
    }
   ],
   "source": [
    "evaluate_model(denseNetModelWOBP)"
   ]
  },
  {
   "cell_type": "code",
   "execution_count": 45,
   "id": "8ca8c070-9109-486b-96ba-ad374ac858af",
   "metadata": {
    "tags": []
   },
   "outputs": [],
   "source": [
    "class ResNetCustomModel(ComposerModel):\n",
    "\n",
    "    def __init__(self):\n",
    "        super().__init__()\n",
    "        self.model = torchvision.models.resnet18(weights=None)\n",
    "\n",
    "    def forward(self, batch):  # batch is the output of the dataloader\n",
    "        # Determine the format of the batch and handle it accordingly\n",
    "        if isinstance(batch, tuple):\n",
    "            # If the batch is in the format (inputs, targets)\n",
    "            inputs, targets = batch\n",
    "        else:\n",
    "            # If the batch is just the inputs\n",
    "            inputs = batch\n",
    "\n",
    "        return self.model(inputs)\n",
    "\n",
    "    def loss(self, outputs, batch):\n",
    "        # pass batches and `forward` outputs to the loss\n",
    "        _, targets = batch\n",
    "        return F.cross_entropy(outputs, targets)"
   ]
  },
  {
   "cell_type": "code",
   "execution_count": 46,
   "id": "6c0a801c-7429-4879-9b96-2851ef723cf0",
   "metadata": {
    "tags": []
   },
   "outputs": [],
   "source": [
    "train_dataloader, valid_dataloader, test_dataloader=transform_images(256,224)\n",
    "resnetModelWW = ResNetCustomModel()\n",
    "algorithms, optimizer=requirementsForModelTraining(resnetModelWW)\n",
    "logger = InMemoryLogger()\n",
    "trainer = Trainer(\n",
    "    model=resnetModelWW,\n",
    "    optimizers=optimizer,\n",
    "    train_dataloader=train_dataloader, \n",
    "    eval_dataloader=valid_dataloader,\n",
    "    max_duration='15ep',\n",
    "    algorithms=algorithms,\n",
    "    loggers=logger\n",
    ")"
   ]
  },
  {
   "cell_type": "code",
   "execution_count": null,
   "id": "cc37a4e9-78ea-44ef-9adb-d4ca923aa7d0",
   "metadata": {
    "tags": []
   },
   "outputs": [],
   "source": [
    "start_time = time.perf_counter()\n",
    "trainer.fit() # <-- Your training loop in action!\n",
    "end_time = time.perf_counter()\n",
    "print(f\"It took {end_time - start_time:0.4f} seconds to train\")"
   ]
  },
  {
   "cell_type": "markdown",
   "id": "6fc0527e-41fd-4a2d-8266-75bc37816ba8",
   "metadata": {},
   "source": [
    "# Custom Models\n"
   ]
  },
  {
   "cell_type": "code",
   "execution_count": 43,
   "id": "41436ecc-d5bd-4e05-be4a-6e8b4c14c564",
   "metadata": {
    "tags": []
   },
   "outputs": [
    {
     "data": {
      "text/plain": [
       "(<torch.utils.data.dataloader.DataLoader at 0x7f6304c85ab0>,\n",
       " <torch.utils.data.dataloader.DataLoader at 0x7f6304c85990>,\n",
       " <torch.utils.data.dataloader.DataLoader at 0x7f61fc4b9d50>)"
      ]
     },
     "execution_count": 43,
     "metadata": {},
     "output_type": "execute_result"
    }
   ],
   "source": [
    "transform_images((300,200),(300,200))"
   ]
  },
  {
   "cell_type": "code",
   "execution_count": 44,
   "id": "e625ac3e-c2ba-4c34-b1ec-a68d2d4ee8ad",
   "metadata": {
    "tags": []
   },
   "outputs": [
    {
     "name": "stdout",
     "output_type": "stream",
     "text": [
      "----------------------------------------------------------------\n",
      "        Layer (type)               Output Shape         Param #\n",
      "================================================================\n",
      "            Conv2d-1         [-1, 16, 256, 256]             448\n",
      "              ReLU-2         [-1, 16, 256, 256]               0\n",
      "       BatchNorm2d-3         [-1, 16, 256, 256]              32\n",
      "            Conv2d-4         [-1, 16, 256, 256]           2,320\n",
      "              ReLU-5         [-1, 16, 256, 256]               0\n",
      "       BatchNorm2d-6         [-1, 16, 256, 256]              32\n",
      "           Dropout-7         [-1, 16, 256, 256]               0\n",
      "         MaxPool2d-8         [-1, 16, 128, 128]               0\n",
      "            Conv2d-9         [-1, 32, 128, 128]           4,640\n",
      "             ReLU-10         [-1, 32, 128, 128]               0\n",
      "      BatchNorm2d-11         [-1, 32, 128, 128]              64\n",
      "           Conv2d-12         [-1, 32, 128, 128]           9,248\n",
      "             ReLU-13         [-1, 32, 128, 128]               0\n",
      "      BatchNorm2d-14         [-1, 32, 128, 128]              64\n",
      "          Dropout-15         [-1, 32, 128, 128]               0\n",
      "        MaxPool2d-16           [-1, 32, 64, 64]               0\n",
      "           Conv2d-17           [-1, 64, 64, 64]          18,496\n",
      "             ReLU-18           [-1, 64, 64, 64]               0\n",
      "      BatchNorm2d-19           [-1, 64, 64, 64]             128\n",
      "           Conv2d-20           [-1, 64, 64, 64]          36,928\n",
      "             ReLU-21           [-1, 64, 64, 64]               0\n",
      "      BatchNorm2d-22           [-1, 64, 64, 64]             128\n",
      "          Dropout-23           [-1, 64, 64, 64]               0\n",
      "        MaxPool2d-24           [-1, 64, 32, 32]               0\n",
      "           Conv2d-25          [-1, 120, 32, 32]          69,240\n",
      "             ReLU-26          [-1, 120, 32, 32]               0\n",
      "      BatchNorm2d-27          [-1, 120, 32, 32]             240\n",
      "        AvgPool2d-28            [-1, 120, 1, 1]               0\n",
      "          Flatten-29                  [-1, 120]               0\n",
      "           Linear-30                    [-1, 7]             847\n",
      "================================================================\n",
      "Total params: 142,855\n",
      "Trainable params: 142,855\n",
      "Non-trainable params: 0\n",
      "----------------------------------------------------------------\n",
      "Input size (MB): 0.75\n",
      "Forward/backward pass size (MB): 104.31\n",
      "Params size (MB): 0.54\n",
      "Estimated Total Size (MB): 105.61\n",
      "----------------------------------------------------------------\n"
     ]
    }
   ],
   "source": [
    "import torch\n",
    "import torch.nn as nn\n",
    "import torch.nn.functional as F\n",
    "from torchsummary import summary\n",
    "\n",
    "class SimpleModel(composer.models.ComposerClassifier):\n",
    "    def __init__(self, num_classes: int):\n",
    "        super(SimpleModel, self).__init__(\n",
    "            nn.Sequential(\n",
    "                ################################## 1 ST CONVOLUTIONAL BLOCK #####################################  \n",
    "                nn.Conv2d(in_channels=3, out_channels=16, kernel_size=3, padding=1),\n",
    "                nn.ReLU(),\n",
    "                nn.BatchNorm2d(16),\n",
    "                nn.Conv2d(in_channels=16, out_channels=16, kernel_size=3, padding=1),\n",
    "                nn.ReLU(),\n",
    "                nn.BatchNorm2d(16),\n",
    "                nn.Dropout(0.06),\n",
    "                nn.MaxPool2d(2, 2),  # in 128, out 128\n",
    "\n",
    "                nn.Conv2d(in_channels=16, out_channels=32, kernel_size=3, padding=1),\n",
    "                nn.ReLU(),\n",
    "                nn.BatchNorm2d(32),\n",
    "                nn.Conv2d(in_channels=32, out_channels=32, kernel_size=3, padding=1),\n",
    "                nn.ReLU(),\n",
    "                nn.BatchNorm2d(32),\n",
    "                nn.Dropout(0.07),\n",
    "                nn.MaxPool2d(2, 2),  # in 64, out 64\n",
    "\n",
    "                nn.Conv2d(in_channels=32, out_channels=64, kernel_size=3, padding=1),\n",
    "                nn.ReLU(),\n",
    "                nn.BatchNorm2d(64),\n",
    "                nn.Conv2d(in_channels=64, out_channels=64, kernel_size=3, padding=1),\n",
    "                nn.ReLU(),\n",
    "                nn.BatchNorm2d(64),\n",
    "                nn.Dropout(0.07),\n",
    "                nn.MaxPool2d(2, 2),  # in 32, out 32\n",
    "\n",
    "                nn.Conv2d(in_channels=64, out_channels=120, kernel_size=3, padding=1),\n",
    "                nn.ReLU(),\n",
    "                nn.BatchNorm2d(120),\n",
    "\n",
    "                nn.AvgPool2d(kernel_size=32),  # 1x1/128\n",
    "                nn.Flatten(),\n",
    "                nn.Linear(120, num_classes)  # Output layer with 7 classes\n",
    "            ),\n",
    "            num_classes=num_classes\n",
    "        )\n",
    "\n",
    "\n",
    "num_classes = 7  # Number of classes in your dataset\n",
    "my_model = SimpleModel(num_classes=num_classes).to('cuda')\n",
    "\n",
    "input_size = (1, 3, 256, 256)  # Batch size, channels, height, width\n",
    "summary(my_model, input_size=input_size)\n"
   ]
  },
  {
   "cell_type": "code",
   "execution_count": 46,
   "id": "ef57daa9-137f-47f8-bfca-45d2076d5a21",
   "metadata": {
    "tags": []
   },
   "outputs": [],
   "source": [
    "train_dataloader, valid_dataloader, test_dataloader=transform_images(256,256)\n",
    "simpleModel = SimpleModel(num_classes=7)\n",
    "algorithms, optimizer=requirementsForModelTraining(simpleModel)\n",
    "logger = InMemoryLogger()\n",
    "trainer = Trainer(\n",
    "    model=simpleModel,\n",
    "    optimizers=optimizer,\n",
    "    train_dataloader=train_dataloader, \n",
    "    eval_dataloader=valid_dataloader,\n",
    "    max_duration='20ep',\n",
    "    loggers=logger\n",
    ")"
   ]
  },
  {
   "cell_type": "code",
   "execution_count": 47,
   "id": "14b0e895-2203-4e19-819c-d90311a4acad",
   "metadata": {
    "tags": []
   },
   "outputs": [
    {
     "name": "stderr",
     "output_type": "stream",
     "text": [
      "******************************\n",
      "Config:\n",
      "node_name: unknown because NODENAME environment variable not set\n",
      "num_gpus_per_node: 1\n",
      "num_nodes: 1\n",
      "rank_zero_seed: 3249327425\n",
      "\n",
      "******************************\n"
     ]
    },
    {
     "data": {
      "application/vnd.jupyter.widget-view+json": {
       "model_id": "f152ad4f73774644b3d79beba68014b4",
       "version_major": 2,
       "version_minor": 0
      },
      "text/plain": [
       "train          Epoch   0:    0%|| 0/3889 [00:00<?, ?ba/s]         "
      ]
     },
     "metadata": {},
     "output_type": "display_data"
    },
    {
     "data": {
      "application/vnd.jupyter.widget-view+json": {
       "model_id": "b0c903e452234735878bb46bad190a16",
       "version_major": 2,
       "version_minor": 0
      },
      "text/plain": [
       "eval           Epoch   0:    0%|| 0/111 [00:00<?, ?ba/s]         "
      ]
     },
     "metadata": {},
     "output_type": "display_data"
    },
    {
     "name": "stderr",
     "output_type": "stream",
     "text": [
      "/home/ec2-user/anaconda3/envs/pytorch_p310/lib/python3.10/site-packages/composer/core/data_spec.py:35: UserWarning: Cannot split tensor of length 3 into batches of size 10. As it is smaller, no splitting will be done. This may happen on the last batch of a dataset if it is a smaller size than the microbatch size.\n",
      "  warnings.warn(f'Cannot split tensor of length {len(t)} into batches of size {microbatch_size}. '\n"
     ]
    },
    {
     "data": {
      "application/vnd.jupyter.widget-view+json": {
       "model_id": "6df88f8ee03b458586afc65316f8bb59",
       "version_major": 2,
       "version_minor": 0
      },
      "text/plain": [
       "train          Epoch   1:    0%|| 0/3889 [00:00<?, ?ba/s]         "
      ]
     },
     "metadata": {},
     "output_type": "display_data"
    },
    {
     "data": {
      "application/vnd.jupyter.widget-view+json": {
       "model_id": "599cf57f0e814361ba48debd32d7572a",
       "version_major": 2,
       "version_minor": 0
      },
      "text/plain": [
       "eval           Epoch   1:    0%|| 0/111 [00:00<?, ?ba/s]         "
      ]
     },
     "metadata": {},
     "output_type": "display_data"
    },
    {
     "data": {
      "application/vnd.jupyter.widget-view+json": {
       "model_id": "67a54cddd75c48a8ad03d845c3ed923d",
       "version_major": 2,
       "version_minor": 0
      },
      "text/plain": [
       "train          Epoch   2:    0%|| 0/3889 [00:00<?, ?ba/s]         "
      ]
     },
     "metadata": {},
     "output_type": "display_data"
    },
    {
     "data": {
      "application/vnd.jupyter.widget-view+json": {
       "model_id": "da223109987145b2a62a02040aa5255b",
       "version_major": 2,
       "version_minor": 0
      },
      "text/plain": [
       "eval           Epoch   2:    0%|| 0/111 [00:00<?, ?ba/s]         "
      ]
     },
     "metadata": {},
     "output_type": "display_data"
    },
    {
     "data": {
      "application/vnd.jupyter.widget-view+json": {
       "model_id": "fae7b7a3aeaa4c67998fee3b3cb710ff",
       "version_major": 2,
       "version_minor": 0
      },
      "text/plain": [
       "train          Epoch   3:    0%|| 0/3889 [00:00<?, ?ba/s]         "
      ]
     },
     "metadata": {},
     "output_type": "display_data"
    },
    {
     "data": {
      "application/vnd.jupyter.widget-view+json": {
       "model_id": "7a1ee37f50f34886b15ff6f885b0cf5b",
       "version_major": 2,
       "version_minor": 0
      },
      "text/plain": [
       "eval           Epoch   3:    0%|| 0/111 [00:00<?, ?ba/s]         "
      ]
     },
     "metadata": {},
     "output_type": "display_data"
    },
    {
     "data": {
      "application/vnd.jupyter.widget-view+json": {
       "model_id": "7e5b9f8b9e81404c81485975e0033d80",
       "version_major": 2,
       "version_minor": 0
      },
      "text/plain": [
       "train          Epoch   4:    0%|| 0/3889 [00:00<?, ?ba/s]         "
      ]
     },
     "metadata": {},
     "output_type": "display_data"
    },
    {
     "data": {
      "application/vnd.jupyter.widget-view+json": {
       "model_id": "cec128e18e2047ac9592fa96c7999a84",
       "version_major": 2,
       "version_minor": 0
      },
      "text/plain": [
       "eval           Epoch   4:    0%|| 0/111 [00:00<?, ?ba/s]         "
      ]
     },
     "metadata": {},
     "output_type": "display_data"
    },
    {
     "data": {
      "application/vnd.jupyter.widget-view+json": {
       "model_id": "347ee5f8688c4b388f929425d7d76b1c",
       "version_major": 2,
       "version_minor": 0
      },
      "text/plain": [
       "train          Epoch   5:    0%|| 0/3889 [00:00<?, ?ba/s]         "
      ]
     },
     "metadata": {},
     "output_type": "display_data"
    },
    {
     "data": {
      "application/vnd.jupyter.widget-view+json": {
       "model_id": "9b4c68e0465e4344956aff064d1342d3",
       "version_major": 2,
       "version_minor": 0
      },
      "text/plain": [
       "eval           Epoch   5:    0%|| 0/111 [00:00<?, ?ba/s]         "
      ]
     },
     "metadata": {},
     "output_type": "display_data"
    },
    {
     "data": {
      "application/vnd.jupyter.widget-view+json": {
       "model_id": "5806755ede694049a12acd6d92415d5d",
       "version_major": 2,
       "version_minor": 0
      },
      "text/plain": [
       "train          Epoch   6:    0%|| 0/3889 [00:00<?, ?ba/s]         "
      ]
     },
     "metadata": {},
     "output_type": "display_data"
    },
    {
     "data": {
      "application/vnd.jupyter.widget-view+json": {
       "model_id": "59a91e03658e4ae7b72c5ff6624e8e33",
       "version_major": 2,
       "version_minor": 0
      },
      "text/plain": [
       "eval           Epoch   6:    0%|| 0/111 [00:00<?, ?ba/s]         "
      ]
     },
     "metadata": {},
     "output_type": "display_data"
    },
    {
     "data": {
      "application/vnd.jupyter.widget-view+json": {
       "model_id": "7af646b4aa804f5b999c69ed37d3c6b4",
       "version_major": 2,
       "version_minor": 0
      },
      "text/plain": [
       "train          Epoch   7:    0%|| 0/3889 [00:00<?, ?ba/s]         "
      ]
     },
     "metadata": {},
     "output_type": "display_data"
    },
    {
     "data": {
      "application/vnd.jupyter.widget-view+json": {
       "model_id": "4e60f3230db648e48e2837231d235daa",
       "version_major": 2,
       "version_minor": 0
      },
      "text/plain": [
       "eval           Epoch   7:    0%|| 0/111 [00:00<?, ?ba/s]         "
      ]
     },
     "metadata": {},
     "output_type": "display_data"
    },
    {
     "data": {
      "application/vnd.jupyter.widget-view+json": {
       "model_id": "099b6771693e45ea9e4d099b48a203eb",
       "version_major": 2,
       "version_minor": 0
      },
      "text/plain": [
       "train          Epoch   8:    0%|| 0/3889 [00:00<?, ?ba/s]         "
      ]
     },
     "metadata": {},
     "output_type": "display_data"
    },
    {
     "data": {
      "application/vnd.jupyter.widget-view+json": {
       "model_id": "d086bdd27f81469cae9ae71f09d1240f",
       "version_major": 2,
       "version_minor": 0
      },
      "text/plain": [
       "eval           Epoch   8:    0%|| 0/111 [00:00<?, ?ba/s]         "
      ]
     },
     "metadata": {},
     "output_type": "display_data"
    },
    {
     "data": {
      "application/vnd.jupyter.widget-view+json": {
       "model_id": "ebd47a03bd404f8f8977d829d3114ba3",
       "version_major": 2,
       "version_minor": 0
      },
      "text/plain": [
       "train          Epoch   9:    0%|| 0/3889 [00:00<?, ?ba/s]         "
      ]
     },
     "metadata": {},
     "output_type": "display_data"
    },
    {
     "data": {
      "application/vnd.jupyter.widget-view+json": {
       "model_id": "322107a28eb34f73bd5c77dd9eaa8f47",
       "version_major": 2,
       "version_minor": 0
      },
      "text/plain": [
       "eval           Epoch   9:    0%|| 0/111 [00:00<?, ?ba/s]         "
      ]
     },
     "metadata": {},
     "output_type": "display_data"
    },
    {
     "data": {
      "application/vnd.jupyter.widget-view+json": {
       "model_id": "d2c79a18f8564a51b9afff688827b0a3",
       "version_major": 2,
       "version_minor": 0
      },
      "text/plain": [
       "train          Epoch  10:    0%|| 0/3889 [00:00<?, ?ba/s]         "
      ]
     },
     "metadata": {},
     "output_type": "display_data"
    },
    {
     "data": {
      "application/vnd.jupyter.widget-view+json": {
       "model_id": "1db72253f73845f5bc7a22559c52017b",
       "version_major": 2,
       "version_minor": 0
      },
      "text/plain": [
       "eval           Epoch  10:    0%|| 0/111 [00:00<?, ?ba/s]         "
      ]
     },
     "metadata": {},
     "output_type": "display_data"
    },
    {
     "data": {
      "application/vnd.jupyter.widget-view+json": {
       "model_id": "2d0b7cb3aa7a46efb503e2e297056a94",
       "version_major": 2,
       "version_minor": 0
      },
      "text/plain": [
       "train          Epoch  11:    0%|| 0/3889 [00:00<?, ?ba/s]         "
      ]
     },
     "metadata": {},
     "output_type": "display_data"
    },
    {
     "data": {
      "application/vnd.jupyter.widget-view+json": {
       "model_id": "4d6e7805b70b4faf9464cbac06aefb30",
       "version_major": 2,
       "version_minor": 0
      },
      "text/plain": [
       "eval           Epoch  11:    0%|| 0/111 [00:00<?, ?ba/s]         "
      ]
     },
     "metadata": {},
     "output_type": "display_data"
    },
    {
     "data": {
      "application/vnd.jupyter.widget-view+json": {
       "model_id": "0416c26358074b2f9c17dd72d119a177",
       "version_major": 2,
       "version_minor": 0
      },
      "text/plain": [
       "train          Epoch  12:    0%|| 0/3889 [00:00<?, ?ba/s]         "
      ]
     },
     "metadata": {},
     "output_type": "display_data"
    },
    {
     "data": {
      "application/vnd.jupyter.widget-view+json": {
       "model_id": "0eddb358ad164b4dbf04bf561c372b1f",
       "version_major": 2,
       "version_minor": 0
      },
      "text/plain": [
       "eval           Epoch  12:    0%|| 0/111 [00:00<?, ?ba/s]         "
      ]
     },
     "metadata": {},
     "output_type": "display_data"
    },
    {
     "data": {
      "application/vnd.jupyter.widget-view+json": {
       "model_id": "39434b5793794a3c9b00e4aed9a46cfa",
       "version_major": 2,
       "version_minor": 0
      },
      "text/plain": [
       "train          Epoch  13:    0%|| 0/3889 [00:00<?, ?ba/s]         "
      ]
     },
     "metadata": {},
     "output_type": "display_data"
    },
    {
     "data": {
      "application/vnd.jupyter.widget-view+json": {
       "model_id": "80cebe3a709d4d2b852de60d5913e5e3",
       "version_major": 2,
       "version_minor": 0
      },
      "text/plain": [
       "eval           Epoch  13:    0%|| 0/111 [00:00<?, ?ba/s]         "
      ]
     },
     "metadata": {},
     "output_type": "display_data"
    },
    {
     "data": {
      "application/vnd.jupyter.widget-view+json": {
       "model_id": "12fc4430e1544b83b1dec949689cab05",
       "version_major": 2,
       "version_minor": 0
      },
      "text/plain": [
       "train          Epoch  14:    0%|| 0/3889 [00:00<?, ?ba/s]         "
      ]
     },
     "metadata": {},
     "output_type": "display_data"
    },
    {
     "data": {
      "application/vnd.jupyter.widget-view+json": {
       "model_id": "e80939494d7042659f67a209a94e0c21",
       "version_major": 2,
       "version_minor": 0
      },
      "text/plain": [
       "eval           Epoch  14:    0%|| 0/111 [00:00<?, ?ba/s]         "
      ]
     },
     "metadata": {},
     "output_type": "display_data"
    },
    {
     "data": {
      "application/vnd.jupyter.widget-view+json": {
       "model_id": "f49b555e5ce84db98b6831407b3096bf",
       "version_major": 2,
       "version_minor": 0
      },
      "text/plain": [
       "train          Epoch  15:    0%|| 0/3889 [00:00<?, ?ba/s]         "
      ]
     },
     "metadata": {},
     "output_type": "display_data"
    },
    {
     "data": {
      "application/vnd.jupyter.widget-view+json": {
       "model_id": "b4cafcd6396a47c2b1a65bf2f40f0e39",
       "version_major": 2,
       "version_minor": 0
      },
      "text/plain": [
       "eval           Epoch  15:    0%|| 0/111 [00:00<?, ?ba/s]         "
      ]
     },
     "metadata": {},
     "output_type": "display_data"
    },
    {
     "data": {
      "application/vnd.jupyter.widget-view+json": {
       "model_id": "faedd1ffc51d4cfaaef253726f32de60",
       "version_major": 2,
       "version_minor": 0
      },
      "text/plain": [
       "train          Epoch  16:    0%|| 0/3889 [00:00<?, ?ba/s]         "
      ]
     },
     "metadata": {},
     "output_type": "display_data"
    },
    {
     "data": {
      "application/vnd.jupyter.widget-view+json": {
       "model_id": "9e90be50c6794ef0bf265d8fa6dfa957",
       "version_major": 2,
       "version_minor": 0
      },
      "text/plain": [
       "eval           Epoch  16:    0%|| 0/111 [00:00<?, ?ba/s]         "
      ]
     },
     "metadata": {},
     "output_type": "display_data"
    },
    {
     "data": {
      "application/vnd.jupyter.widget-view+json": {
       "model_id": "dfeb1ee60c964987b64a556b3a6cbb29",
       "version_major": 2,
       "version_minor": 0
      },
      "text/plain": [
       "train          Epoch  17:    0%|| 0/3889 [00:00<?, ?ba/s]         "
      ]
     },
     "metadata": {},
     "output_type": "display_data"
    },
    {
     "data": {
      "application/vnd.jupyter.widget-view+json": {
       "model_id": "2cb9ef8d652d4c718300d8c6b8df771f",
       "version_major": 2,
       "version_minor": 0
      },
      "text/plain": [
       "eval           Epoch  17:    0%|| 0/111 [00:00<?, ?ba/s]         "
      ]
     },
     "metadata": {},
     "output_type": "display_data"
    },
    {
     "data": {
      "application/vnd.jupyter.widget-view+json": {
       "model_id": "75f078111b9947f9b026715c0f250b2c",
       "version_major": 2,
       "version_minor": 0
      },
      "text/plain": [
       "train          Epoch  18:    0%|| 0/3889 [00:00<?, ?ba/s]         "
      ]
     },
     "metadata": {},
     "output_type": "display_data"
    },
    {
     "data": {
      "application/vnd.jupyter.widget-view+json": {
       "model_id": "ca0141d1c32049dbac2da2113b6aee0a",
       "version_major": 2,
       "version_minor": 0
      },
      "text/plain": [
       "eval           Epoch  18:    0%|| 0/111 [00:00<?, ?ba/s]         "
      ]
     },
     "metadata": {},
     "output_type": "display_data"
    },
    {
     "data": {
      "application/vnd.jupyter.widget-view+json": {
       "model_id": "0780b41d6ca54469aadcb5fb38b65057",
       "version_major": 2,
       "version_minor": 0
      },
      "text/plain": [
       "train          Epoch  19:    0%|| 0/3889 [00:00<?, ?ba/s]         "
      ]
     },
     "metadata": {},
     "output_type": "display_data"
    },
    {
     "data": {
      "application/vnd.jupyter.widget-view+json": {
       "model_id": "365a761e91ec4d089152f2a4ab755cd3",
       "version_major": 2,
       "version_minor": 0
      },
      "text/plain": [
       "eval           Epoch  19:    0%|| 0/111 [00:00<?, ?ba/s]         "
      ]
     },
     "metadata": {},
     "output_type": "display_data"
    },
    {
     "name": "stdout",
     "output_type": "stream",
     "text": [
      "It took 5801.4058 seconds to train\n"
     ]
    }
   ],
   "source": [
    "start_time = time.perf_counter()\n",
    "trainer.fit()  # <-- Your training loop in action!\n",
    "end_time = time.perf_counter()\n",
    "print(f\"It took {end_time - start_time:0.4f} seconds to train\")"
   ]
  },
  {
   "cell_type": "code",
   "execution_count": 52,
   "id": "2b36f668-dde2-4f86-8451-0c7e2586bae6",
   "metadata": {
    "tags": []
   },
   "outputs": [],
   "source": [
    "train_dataloader, valid_dataloader, test_dataloader=transform_images(256,256)\n",
    "simpleModelWithBP = SimpleModel(num_classes=7)\n",
    "algorithms, optimizer=requirementsForModelTraining(simpleModelWithBP)\n",
    "logger = InMemoryLogger()\n",
    "trainer = Trainer(\n",
    "    model=simpleModelWithBP,\n",
    "    optimizers=optimizer,\n",
    "    train_dataloader=train_dataloader, \n",
    "    eval_dataloader=valid_dataloader,\n",
    "    max_duration='20ep',\n",
    "    algorithms=algorithms,\n",
    "    loggers=logger\n",
    ")"
   ]
  },
  {
   "cell_type": "code",
   "execution_count": 53,
   "id": "645045f2-a984-40a8-9b4f-0fa516280f50",
   "metadata": {
    "tags": []
   },
   "outputs": [
    {
     "name": "stderr",
     "output_type": "stream",
     "text": [
      "******************************\n",
      "Config:\n",
      "blurpool/num_blurconv_layers: 0\n",
      "blurpool/num_blurpool_layers: 3\n",
      "enabled_algorithms/BlurPool: true\n",
      "node_name: unknown because NODENAME environment variable not set\n",
      "num_gpus_per_node: 1\n",
      "num_nodes: 1\n",
      "rank_zero_seed: 588916832\n",
      "\n",
      "******************************\n"
     ]
    },
    {
     "data": {
      "application/vnd.jupyter.widget-view+json": {
       "model_id": "31dcf5b6a32a46209d7a9f897ff63efc",
       "version_major": 2,
       "version_minor": 0
      },
      "text/plain": [
       "train          Epoch   0:    0%|| 0/3889 [00:00<?, ?ba/s]         "
      ]
     },
     "metadata": {},
     "output_type": "display_data"
    },
    {
     "data": {
      "application/vnd.jupyter.widget-view+json": {
       "model_id": "7c62600846a2493e9ea62550002478c5",
       "version_major": 2,
       "version_minor": 0
      },
      "text/plain": [
       "eval           Epoch   0:    0%|| 0/111 [00:00<?, ?ba/s]         "
      ]
     },
     "metadata": {},
     "output_type": "display_data"
    },
    {
     "name": "stderr",
     "output_type": "stream",
     "text": [
      "/home/ec2-user/anaconda3/envs/pytorch_p310/lib/python3.10/site-packages/composer/core/data_spec.py:35: UserWarning: Cannot split tensor of length 3 into batches of size 10. As it is smaller, no splitting will be done. This may happen on the last batch of a dataset if it is a smaller size than the microbatch size.\n",
      "  warnings.warn(f'Cannot split tensor of length {len(t)} into batches of size {microbatch_size}. '\n"
     ]
    },
    {
     "data": {
      "application/vnd.jupyter.widget-view+json": {
       "model_id": "5e6da8866e6b407e90bbaf74914bdc29",
       "version_major": 2,
       "version_minor": 0
      },
      "text/plain": [
       "train          Epoch   1:    0%|| 0/3889 [00:00<?, ?ba/s]         "
      ]
     },
     "metadata": {},
     "output_type": "display_data"
    },
    {
     "data": {
      "application/vnd.jupyter.widget-view+json": {
       "model_id": "8ed186c057d24126a1dd732f1437d390",
       "version_major": 2,
       "version_minor": 0
      },
      "text/plain": [
       "eval           Epoch   1:    0%|| 0/111 [00:00<?, ?ba/s]         "
      ]
     },
     "metadata": {},
     "output_type": "display_data"
    },
    {
     "data": {
      "application/vnd.jupyter.widget-view+json": {
       "model_id": "00a9ec3d34be4742b2fb841780523ca9",
       "version_major": 2,
       "version_minor": 0
      },
      "text/plain": [
       "train          Epoch   2:    0%|| 0/3889 [00:00<?, ?ba/s]         "
      ]
     },
     "metadata": {},
     "output_type": "display_data"
    },
    {
     "data": {
      "application/vnd.jupyter.widget-view+json": {
       "model_id": "808792415cd2479e9f05795ca0e4703b",
       "version_major": 2,
       "version_minor": 0
      },
      "text/plain": [
       "eval           Epoch   2:    0%|| 0/111 [00:00<?, ?ba/s]         "
      ]
     },
     "metadata": {},
     "output_type": "display_data"
    },
    {
     "data": {
      "application/vnd.jupyter.widget-view+json": {
       "model_id": "47670de31c7d4527b251d7951c63dc7c",
       "version_major": 2,
       "version_minor": 0
      },
      "text/plain": [
       "train          Epoch   3:    0%|| 0/3889 [00:00<?, ?ba/s]         "
      ]
     },
     "metadata": {},
     "output_type": "display_data"
    },
    {
     "data": {
      "application/vnd.jupyter.widget-view+json": {
       "model_id": "6a21af76f7344ac393b414870938a953",
       "version_major": 2,
       "version_minor": 0
      },
      "text/plain": [
       "eval           Epoch   3:    0%|| 0/111 [00:00<?, ?ba/s]         "
      ]
     },
     "metadata": {},
     "output_type": "display_data"
    },
    {
     "data": {
      "application/vnd.jupyter.widget-view+json": {
       "model_id": "2643592f5d9042b5935f88febd7e61b7",
       "version_major": 2,
       "version_minor": 0
      },
      "text/plain": [
       "train          Epoch   4:    0%|| 0/3889 [00:00<?, ?ba/s]         "
      ]
     },
     "metadata": {},
     "output_type": "display_data"
    },
    {
     "data": {
      "application/vnd.jupyter.widget-view+json": {
       "model_id": "d40a045188814ba6ba6dcecf67191f98",
       "version_major": 2,
       "version_minor": 0
      },
      "text/plain": [
       "eval           Epoch   4:    0%|| 0/111 [00:00<?, ?ba/s]         "
      ]
     },
     "metadata": {},
     "output_type": "display_data"
    },
    {
     "data": {
      "application/vnd.jupyter.widget-view+json": {
       "model_id": "4cc3bfd1a6e644c8bdc1c845d121b185",
       "version_major": 2,
       "version_minor": 0
      },
      "text/plain": [
       "train          Epoch   5:    0%|| 0/3889 [00:00<?, ?ba/s]         "
      ]
     },
     "metadata": {},
     "output_type": "display_data"
    },
    {
     "data": {
      "application/vnd.jupyter.widget-view+json": {
       "model_id": "52a7bc0dd53747b3aedd16e779d6df18",
       "version_major": 2,
       "version_minor": 0
      },
      "text/plain": [
       "eval           Epoch   5:    0%|| 0/111 [00:00<?, ?ba/s]         "
      ]
     },
     "metadata": {},
     "output_type": "display_data"
    },
    {
     "data": {
      "application/vnd.jupyter.widget-view+json": {
       "model_id": "01b34de626514334bcfdb5b5981b7f11",
       "version_major": 2,
       "version_minor": 0
      },
      "text/plain": [
       "train          Epoch   6:    0%|| 0/3889 [00:00<?, ?ba/s]         "
      ]
     },
     "metadata": {},
     "output_type": "display_data"
    },
    {
     "data": {
      "application/vnd.jupyter.widget-view+json": {
       "model_id": "7083299ab7fa4cb7b715ab6522425f16",
       "version_major": 2,
       "version_minor": 0
      },
      "text/plain": [
       "eval           Epoch   6:    0%|| 0/111 [00:00<?, ?ba/s]         "
      ]
     },
     "metadata": {},
     "output_type": "display_data"
    },
    {
     "data": {
      "application/vnd.jupyter.widget-view+json": {
       "model_id": "c53ea54d37614aed8fb3ad2841a30887",
       "version_major": 2,
       "version_minor": 0
      },
      "text/plain": [
       "train          Epoch   7:    0%|| 0/3889 [00:00<?, ?ba/s]         "
      ]
     },
     "metadata": {},
     "output_type": "display_data"
    },
    {
     "data": {
      "application/vnd.jupyter.widget-view+json": {
       "model_id": "c6c617dde2bb4408a18aa300650a1cfc",
       "version_major": 2,
       "version_minor": 0
      },
      "text/plain": [
       "eval           Epoch   7:    0%|| 0/111 [00:00<?, ?ba/s]         "
      ]
     },
     "metadata": {},
     "output_type": "display_data"
    },
    {
     "data": {
      "application/vnd.jupyter.widget-view+json": {
       "model_id": "7664e934101c43228e1dba3e9add25d2",
       "version_major": 2,
       "version_minor": 0
      },
      "text/plain": [
       "train          Epoch   8:    0%|| 0/3889 [00:00<?, ?ba/s]         "
      ]
     },
     "metadata": {},
     "output_type": "display_data"
    },
    {
     "data": {
      "application/vnd.jupyter.widget-view+json": {
       "model_id": "0aae05e2f7874793820654ecccc88d33",
       "version_major": 2,
       "version_minor": 0
      },
      "text/plain": [
       "eval           Epoch   8:    0%|| 0/111 [00:00<?, ?ba/s]         "
      ]
     },
     "metadata": {},
     "output_type": "display_data"
    },
    {
     "data": {
      "application/vnd.jupyter.widget-view+json": {
       "model_id": "ed9db286f0054f43bfbf03e9ce3fe584",
       "version_major": 2,
       "version_minor": 0
      },
      "text/plain": [
       "train          Epoch   9:    0%|| 0/3889 [00:00<?, ?ba/s]         "
      ]
     },
     "metadata": {},
     "output_type": "display_data"
    },
    {
     "data": {
      "application/vnd.jupyter.widget-view+json": {
       "model_id": "63493ec6cbec497090eaf50391af6107",
       "version_major": 2,
       "version_minor": 0
      },
      "text/plain": [
       "eval           Epoch   9:    0%|| 0/111 [00:00<?, ?ba/s]         "
      ]
     },
     "metadata": {},
     "output_type": "display_data"
    },
    {
     "data": {
      "application/vnd.jupyter.widget-view+json": {
       "model_id": "97f4a48684a04923ae7585843e34cad5",
       "version_major": 2,
       "version_minor": 0
      },
      "text/plain": [
       "train          Epoch  10:    0%|| 0/3889 [00:00<?, ?ba/s]         "
      ]
     },
     "metadata": {},
     "output_type": "display_data"
    },
    {
     "data": {
      "application/vnd.jupyter.widget-view+json": {
       "model_id": "00697657d6c44b7d9b5707d3df56c47e",
       "version_major": 2,
       "version_minor": 0
      },
      "text/plain": [
       "eval           Epoch  10:    0%|| 0/111 [00:00<?, ?ba/s]         "
      ]
     },
     "metadata": {},
     "output_type": "display_data"
    },
    {
     "data": {
      "application/vnd.jupyter.widget-view+json": {
       "model_id": "9fb11751b7314a6cb8582e5ff3716d3b",
       "version_major": 2,
       "version_minor": 0
      },
      "text/plain": [
       "train          Epoch  11:    0%|| 0/3889 [00:00<?, ?ba/s]         "
      ]
     },
     "metadata": {},
     "output_type": "display_data"
    },
    {
     "data": {
      "application/vnd.jupyter.widget-view+json": {
       "model_id": "e7ef19214ebc4798a428407344a54b7c",
       "version_major": 2,
       "version_minor": 0
      },
      "text/plain": [
       "eval           Epoch  11:    0%|| 0/111 [00:00<?, ?ba/s]         "
      ]
     },
     "metadata": {},
     "output_type": "display_data"
    },
    {
     "data": {
      "application/vnd.jupyter.widget-view+json": {
       "model_id": "cf5e256004d04769b9dd45475c12e8bd",
       "version_major": 2,
       "version_minor": 0
      },
      "text/plain": [
       "train          Epoch  12:    0%|| 0/3889 [00:00<?, ?ba/s]         "
      ]
     },
     "metadata": {},
     "output_type": "display_data"
    },
    {
     "data": {
      "application/vnd.jupyter.widget-view+json": {
       "model_id": "773e97f8bf9b4644ad32069512d84e03",
       "version_major": 2,
       "version_minor": 0
      },
      "text/plain": [
       "eval           Epoch  12:    0%|| 0/111 [00:00<?, ?ba/s]         "
      ]
     },
     "metadata": {},
     "output_type": "display_data"
    },
    {
     "data": {
      "application/vnd.jupyter.widget-view+json": {
       "model_id": "cbce2f7591d845748bdf1d544c1350da",
       "version_major": 2,
       "version_minor": 0
      },
      "text/plain": [
       "train          Epoch  13:    0%|| 0/3889 [00:00<?, ?ba/s]         "
      ]
     },
     "metadata": {},
     "output_type": "display_data"
    },
    {
     "data": {
      "application/vnd.jupyter.widget-view+json": {
       "model_id": "5c91b4613e114b64b0f27b0e1019ea60",
       "version_major": 2,
       "version_minor": 0
      },
      "text/plain": [
       "eval           Epoch  13:    0%|| 0/111 [00:00<?, ?ba/s]         "
      ]
     },
     "metadata": {},
     "output_type": "display_data"
    },
    {
     "data": {
      "application/vnd.jupyter.widget-view+json": {
       "model_id": "615d0c73b0b749cfbaede0316a7308bc",
       "version_major": 2,
       "version_minor": 0
      },
      "text/plain": [
       "train          Epoch  14:    0%|| 0/3889 [00:00<?, ?ba/s]         "
      ]
     },
     "metadata": {},
     "output_type": "display_data"
    },
    {
     "data": {
      "application/vnd.jupyter.widget-view+json": {
       "model_id": "0daec203c82d45fdb1e7dbd34d9279ca",
       "version_major": 2,
       "version_minor": 0
      },
      "text/plain": [
       "eval           Epoch  14:    0%|| 0/111 [00:00<?, ?ba/s]         "
      ]
     },
     "metadata": {},
     "output_type": "display_data"
    },
    {
     "data": {
      "application/vnd.jupyter.widget-view+json": {
       "model_id": "f9bf1f7f22bc4bd78a8dd79c33600550",
       "version_major": 2,
       "version_minor": 0
      },
      "text/plain": [
       "train          Epoch  15:    0%|| 0/3889 [00:00<?, ?ba/s]         "
      ]
     },
     "metadata": {},
     "output_type": "display_data"
    },
    {
     "data": {
      "application/vnd.jupyter.widget-view+json": {
       "model_id": "7c9a0aafbc7f44639baa4dda457019c5",
       "version_major": 2,
       "version_minor": 0
      },
      "text/plain": [
       "eval           Epoch  15:    0%|| 0/111 [00:00<?, ?ba/s]         "
      ]
     },
     "metadata": {},
     "output_type": "display_data"
    },
    {
     "data": {
      "application/vnd.jupyter.widget-view+json": {
       "model_id": "ab39e2f02e2d4bb380bff156c26421f2",
       "version_major": 2,
       "version_minor": 0
      },
      "text/plain": [
       "train          Epoch  16:    0%|| 0/3889 [00:00<?, ?ba/s]         "
      ]
     },
     "metadata": {},
     "output_type": "display_data"
    },
    {
     "data": {
      "application/vnd.jupyter.widget-view+json": {
       "model_id": "8727ae437da4400e85851a37128f67af",
       "version_major": 2,
       "version_minor": 0
      },
      "text/plain": [
       "eval           Epoch  16:    0%|| 0/111 [00:00<?, ?ba/s]         "
      ]
     },
     "metadata": {},
     "output_type": "display_data"
    },
    {
     "data": {
      "application/vnd.jupyter.widget-view+json": {
       "model_id": "f4712ca375284bd0a6bd557793ea11ab",
       "version_major": 2,
       "version_minor": 0
      },
      "text/plain": [
       "train          Epoch  17:    0%|| 0/3889 [00:00<?, ?ba/s]         "
      ]
     },
     "metadata": {},
     "output_type": "display_data"
    },
    {
     "data": {
      "application/vnd.jupyter.widget-view+json": {
       "model_id": "8fa9d61e0e894343b6b2ec0034b5a3ae",
       "version_major": 2,
       "version_minor": 0
      },
      "text/plain": [
       "eval           Epoch  17:    0%|| 0/111 [00:00<?, ?ba/s]         "
      ]
     },
     "metadata": {},
     "output_type": "display_data"
    },
    {
     "data": {
      "application/vnd.jupyter.widget-view+json": {
       "model_id": "e148afd3b7b34b0da5cff7cd380174ac",
       "version_major": 2,
       "version_minor": 0
      },
      "text/plain": [
       "train          Epoch  18:    0%|| 0/3889 [00:00<?, ?ba/s]         "
      ]
     },
     "metadata": {},
     "output_type": "display_data"
    },
    {
     "data": {
      "application/vnd.jupyter.widget-view+json": {
       "model_id": "956844ceefd3476796e7e5e37e284e61",
       "version_major": 2,
       "version_minor": 0
      },
      "text/plain": [
       "eval           Epoch  18:    0%|| 0/111 [00:00<?, ?ba/s]         "
      ]
     },
     "metadata": {},
     "output_type": "display_data"
    },
    {
     "data": {
      "application/vnd.jupyter.widget-view+json": {
       "model_id": "5a9dd8fddfe2457b98d5141b426d5cca",
       "version_major": 2,
       "version_minor": 0
      },
      "text/plain": [
       "train          Epoch  19:    0%|| 0/3889 [00:00<?, ?ba/s]         "
      ]
     },
     "metadata": {},
     "output_type": "display_data"
    },
    {
     "data": {
      "application/vnd.jupyter.widget-view+json": {
       "model_id": "7ac93d36cff24ee2bc2cb57573c36c3f",
       "version_major": 2,
       "version_minor": 0
      },
      "text/plain": [
       "eval           Epoch  19:    0%|| 0/111 [00:00<?, ?ba/s]         "
      ]
     },
     "metadata": {},
     "output_type": "display_data"
    },
    {
     "name": "stdout",
     "output_type": "stream",
     "text": [
      "It took 5435.4563 seconds to train\n"
     ]
    }
   ],
   "source": [
    "start_time = time.perf_counter()\n",
    "trainer.fit()  # <-- Your training loop in action!\n",
    "end_time = time.perf_counter()\n",
    "print(f\"It took {end_time - start_time:0.4f} seconds to train\")"
   ]
  },
  {
   "cell_type": "code",
   "execution_count": 42,
   "id": "09b7d623-11eb-4be6-8e86-5986bd84ec3b",
   "metadata": {
    "tags": []
   },
   "outputs": [],
   "source": [
    "train_dataloader, valid_dataloader, test_dataloader=transform_images(320,300)"
   ]
  },
  {
   "cell_type": "code",
   "execution_count": 43,
   "id": "809cae55-a1dd-4f2c-8e18-4929d61856a3",
   "metadata": {
    "tags": []
   },
   "outputs": [],
   "source": [
    "class EfficientNetB3Weights(ComposerModel):\n",
    "    def __init__(self, num_classes):\n",
    "        super().__init__()\n",
    "        self.model = torchvision.models.efficientnet_b3(weights=None)\n",
    "        \n",
    "        # Modify the final classification head\n",
    "        in_features = self.model.classifier[-1].in_features\n",
    "        self.model.classifier[-1] = torch.nn.Linear(in_features, num_classes)\n",
    "        \n",
    "        self.num_classes = num_classes\n",
    "        self.train_accuracy = torchmetrics.classification.MulticlassAccuracy(num_classes=num_classes, average='micro')\n",
    "        self.val_accuracy = torchmetrics.classification.MulticlassAccuracy(num_classes=num_classes, average='micro')\n",
    "\n",
    "    def forward(self, batch):\n",
    "        if isinstance(batch, tuple):\n",
    "            inputs, targets = batch\n",
    "        else:\n",
    "            inputs = batch\n",
    "        return self.model(inputs)\n",
    "\n",
    "    def loss(self, outputs, batch):\n",
    "        _, targets = batch\n",
    "        return F.cross_entropy(outputs, targets)\n",
    "\n",
    "    def eval_forward(self, batch, outputs=None):\n",
    "        inputs, targets = batch\n",
    "        if outputs is not None and outputs.numel() > 0:\n",
    "            if outputs.dim() > 1 and outputs.shape[1] != self.num_classes:\n",
    "                outputs = torch.softmax(outputs, dim=1)\n",
    "            return outputs\n",
    "        else:\n",
    "            return self.forward(inputs)\n",
    "\n",
    "    def update_metric(self, batch, outputs, metric):\n",
    "        _, targets = batch\n",
    "\n",
    "        # Ensure that the outputs tensor has the correct number of classes\n",
    "        if outputs.dim() > 1 and outputs.shape[1] != self.num_classes:\n",
    "            outputs = torch.softmax(outputs, dim=1)  # Apply softmax if necessary\n",
    "\n",
    "        # Print the number of classes attribute\n",
    "        metric.update(outputs, targets)\n",
    "        \n",
    "    def _eval_train_metrics(self, device_batch):\n",
    "            # Separate inputs and targets from the device_batch\n",
    "            inputs, targets = device_batch\n",
    "\n",
    "            # Set the model to evaluation mode\n",
    "            self.model.eval()\n",
    "\n",
    "            # Perform the forward pass and get the outputs\n",
    "            with torch.no_grad():\n",
    "                outputs = self.model(inputs)\n",
    "                eval_outputs = self.eval_forward(device_batch, outputs)\n",
    "\n",
    "            # Update the metrics with the computed outputs\n",
    "            for _, metric in self.state.train_metrics.items():\n",
    "                self.update_metric(device_batch, eval_outputs, metric)\n",
    "\n",
    "    def get_metrics(self, is_train=False):\n",
    "        return {'MulticlassAccuracy': self.train_accuracy} if is_train else {'MulticlassAccuracy': self.val_accuracy}\n"
   ]
  },
  {
   "cell_type": "code",
   "execution_count": 44,
   "id": "d3d4c536-a7b5-4ab0-87c5-b9fe4bb82ab6",
   "metadata": {
    "tags": []
   },
   "outputs": [],
   "source": [
    "efficientModelWeightsNone = EfficientNetB3Weights(num_classes=7)\n",
    "algorithms, optimizer,  = requirementsForModelTraining(efficientModelWeightsNone)\n",
    "logger = InMemoryLogger()\n",
    "trainer = Trainer(\n",
    "    model=efficientModelWeightsNone,\n",
    "    optimizers=optimizer,\n",
    "    train_dataloader=train_dataloader, \n",
    "    eval_dataloader=valid_dataloader,\n",
    "    max_duration='15ep',\n",
    "    algorithms=algorithms,\n",
    "    loggers=logger\n",
    ")"
   ]
  },
  {
   "cell_type": "code",
   "execution_count": 45,
   "id": "fa3ed999-c7ae-4d2b-be49-3a10e2df3e58",
   "metadata": {
    "tags": []
   },
   "outputs": [
    {
     "name": "stderr",
     "output_type": "stream",
     "text": [
      "******************************\n",
      "Config:\n",
      "blurpool/num_blurconv_layers: 4\n",
      "blurpool/num_blurpool_layers: 0\n",
      "enabled_algorithms/BlurPool: true\n",
      "node_name: unknown because NODENAME environment variable not set\n",
      "num_gpus_per_node: 1\n",
      "num_nodes: 1\n",
      "rank_zero_seed: 202643354\n",
      "\n",
      "******************************\n"
     ]
    },
    {
     "data": {
      "application/vnd.jupyter.widget-view+json": {
       "model_id": "2c80a9823f0142f4b75a1f10b63fa6c3",
       "version_major": 2,
       "version_minor": 0
      },
      "text/plain": [
       "train          Epoch   0:    0%|| 0/3889 [00:00<?, ?ba/s]         "
      ]
     },
     "metadata": {},
     "output_type": "display_data"
    },
    {
     "data": {
      "application/vnd.jupyter.widget-view+json": {
       "model_id": "41c2c1fc9d6d407bb360be37dd1f7d32",
       "version_major": 2,
       "version_minor": 0
      },
      "text/plain": [
       "eval           Epoch   0:    0%|| 0/111 [00:00<?, ?ba/s]         "
      ]
     },
     "metadata": {},
     "output_type": "display_data"
    },
    {
     "name": "stderr",
     "output_type": "stream",
     "text": [
      "/home/ec2-user/anaconda3/envs/pytorch_p310/lib/python3.10/site-packages/composer/core/data_spec.py:35: UserWarning: Cannot split tensor of length 3 into batches of size 10. As it is smaller, no splitting will be done. This may happen on the last batch of a dataset if it is a smaller size than the microbatch size.\n",
      "  warnings.warn(f'Cannot split tensor of length {len(t)} into batches of size {microbatch_size}. '\n"
     ]
    },
    {
     "data": {
      "application/vnd.jupyter.widget-view+json": {
       "model_id": "fde50f74ad514eba8c5930e774534f0e",
       "version_major": 2,
       "version_minor": 0
      },
      "text/plain": [
       "train          Epoch   1:    0%|| 0/3889 [00:00<?, ?ba/s]         "
      ]
     },
     "metadata": {},
     "output_type": "display_data"
    },
    {
     "data": {
      "application/vnd.jupyter.widget-view+json": {
       "model_id": "5e6b92636a354e9f94ceff53ea9b6b1c",
       "version_major": 2,
       "version_minor": 0
      },
      "text/plain": [
       "eval           Epoch   1:    0%|| 0/111 [00:00<?, ?ba/s]         "
      ]
     },
     "metadata": {},
     "output_type": "display_data"
    },
    {
     "data": {
      "application/vnd.jupyter.widget-view+json": {
       "model_id": "ada3e9bfc605492a93bc96967342709c",
       "version_major": 2,
       "version_minor": 0
      },
      "text/plain": [
       "train          Epoch   2:    0%|| 0/3889 [00:00<?, ?ba/s]         "
      ]
     },
     "metadata": {},
     "output_type": "display_data"
    },
    {
     "data": {
      "application/vnd.jupyter.widget-view+json": {
       "model_id": "ed73e0d80f974b429cc6895348278257",
       "version_major": 2,
       "version_minor": 0
      },
      "text/plain": [
       "eval           Epoch   2:    0%|| 0/111 [00:00<?, ?ba/s]         "
      ]
     },
     "metadata": {},
     "output_type": "display_data"
    },
    {
     "data": {
      "application/vnd.jupyter.widget-view+json": {
       "model_id": "5c453928829d4d94912a8d34d74a85b9",
       "version_major": 2,
       "version_minor": 0
      },
      "text/plain": [
       "train          Epoch   3:    0%|| 0/3889 [00:00<?, ?ba/s]         "
      ]
     },
     "metadata": {},
     "output_type": "display_data"
    },
    {
     "data": {
      "application/vnd.jupyter.widget-view+json": {
       "model_id": "f95f96c8f7b2402bb06bb4a3be86e88d",
       "version_major": 2,
       "version_minor": 0
      },
      "text/plain": [
       "eval           Epoch   3:    0%|| 0/111 [00:00<?, ?ba/s]         "
      ]
     },
     "metadata": {},
     "output_type": "display_data"
    },
    {
     "data": {
      "application/vnd.jupyter.widget-view+json": {
       "model_id": "59a9a7a7b2d04a6c9a55a7524b1e7907",
       "version_major": 2,
       "version_minor": 0
      },
      "text/plain": [
       "train          Epoch   4:    0%|| 0/3889 [00:00<?, ?ba/s]         "
      ]
     },
     "metadata": {},
     "output_type": "display_data"
    },
    {
     "data": {
      "application/vnd.jupyter.widget-view+json": {
       "model_id": "2661f6b545d64fe2b40d4fbb96ed2446",
       "version_major": 2,
       "version_minor": 0
      },
      "text/plain": [
       "eval           Epoch   4:    0%|| 0/111 [00:00<?, ?ba/s]         "
      ]
     },
     "metadata": {},
     "output_type": "display_data"
    },
    {
     "data": {
      "application/vnd.jupyter.widget-view+json": {
       "model_id": "ad5050fd6b5544f3b05cc1267932044e",
       "version_major": 2,
       "version_minor": 0
      },
      "text/plain": [
       "train          Epoch   5:    0%|| 0/3889 [00:00<?, ?ba/s]         "
      ]
     },
     "metadata": {},
     "output_type": "display_data"
    },
    {
     "data": {
      "application/vnd.jupyter.widget-view+json": {
       "model_id": "ead676651d8247eba63ef0949cddd088",
       "version_major": 2,
       "version_minor": 0
      },
      "text/plain": [
       "eval           Epoch   5:    0%|| 0/111 [00:00<?, ?ba/s]         "
      ]
     },
     "metadata": {},
     "output_type": "display_data"
    },
    {
     "data": {
      "application/vnd.jupyter.widget-view+json": {
       "model_id": "d717f0c4582845a78e61dee267978dcf",
       "version_major": 2,
       "version_minor": 0
      },
      "text/plain": [
       "train          Epoch   6:    0%|| 0/3889 [00:00<?, ?ba/s]         "
      ]
     },
     "metadata": {},
     "output_type": "display_data"
    },
    {
     "data": {
      "application/vnd.jupyter.widget-view+json": {
       "model_id": "471b8a1a09e142829177f4fa2e7a68a3",
       "version_major": 2,
       "version_minor": 0
      },
      "text/plain": [
       "eval           Epoch   6:    0%|| 0/111 [00:00<?, ?ba/s]         "
      ]
     },
     "metadata": {},
     "output_type": "display_data"
    },
    {
     "data": {
      "application/vnd.jupyter.widget-view+json": {
       "model_id": "0cc0410aec814d7c8ea36e1826c0c997",
       "version_major": 2,
       "version_minor": 0
      },
      "text/plain": [
       "train          Epoch   7:    0%|| 0/3889 [00:00<?, ?ba/s]         "
      ]
     },
     "metadata": {},
     "output_type": "display_data"
    },
    {
     "data": {
      "application/vnd.jupyter.widget-view+json": {
       "model_id": "70d778639f26432699dc6241d62ca66f",
       "version_major": 2,
       "version_minor": 0
      },
      "text/plain": [
       "eval           Epoch   7:    0%|| 0/111 [00:00<?, ?ba/s]         "
      ]
     },
     "metadata": {},
     "output_type": "display_data"
    },
    {
     "data": {
      "application/vnd.jupyter.widget-view+json": {
       "model_id": "b1116dc1df9d408991a587b0b4edd475",
       "version_major": 2,
       "version_minor": 0
      },
      "text/plain": [
       "train          Epoch   8:    0%|| 0/3889 [00:00<?, ?ba/s]         "
      ]
     },
     "metadata": {},
     "output_type": "display_data"
    },
    {
     "data": {
      "application/vnd.jupyter.widget-view+json": {
       "model_id": "49e34395afa0415d90f526cfcca49781",
       "version_major": 2,
       "version_minor": 0
      },
      "text/plain": [
       "eval           Epoch   8:    0%|| 0/111 [00:00<?, ?ba/s]         "
      ]
     },
     "metadata": {},
     "output_type": "display_data"
    },
    {
     "data": {
      "application/vnd.jupyter.widget-view+json": {
       "model_id": "722fb92308f04bbba1f5026c62de8281",
       "version_major": 2,
       "version_minor": 0
      },
      "text/plain": [
       "train          Epoch   9:    0%|| 0/3889 [00:00<?, ?ba/s]         "
      ]
     },
     "metadata": {},
     "output_type": "display_data"
    },
    {
     "data": {
      "application/vnd.jupyter.widget-view+json": {
       "model_id": "40293e0b92da476a8446049dbecfef69",
       "version_major": 2,
       "version_minor": 0
      },
      "text/plain": [
       "eval           Epoch   9:    0%|| 0/111 [00:00<?, ?ba/s]         "
      ]
     },
     "metadata": {},
     "output_type": "display_data"
    },
    {
     "data": {
      "application/vnd.jupyter.widget-view+json": {
       "model_id": "9b939d4213924025b62b59a5a4484d63",
       "version_major": 2,
       "version_minor": 0
      },
      "text/plain": [
       "train          Epoch  10:    0%|| 0/3889 [00:00<?, ?ba/s]         "
      ]
     },
     "metadata": {},
     "output_type": "display_data"
    },
    {
     "data": {
      "application/vnd.jupyter.widget-view+json": {
       "model_id": "6692e864bef84c9db1638a4b0e61a554",
       "version_major": 2,
       "version_minor": 0
      },
      "text/plain": [
       "eval           Epoch  10:    0%|| 0/111 [00:00<?, ?ba/s]         "
      ]
     },
     "metadata": {},
     "output_type": "display_data"
    },
    {
     "data": {
      "application/vnd.jupyter.widget-view+json": {
       "model_id": "ce13a5c4010b4e1ca0587848a1b36f03",
       "version_major": 2,
       "version_minor": 0
      },
      "text/plain": [
       "train          Epoch  11:    0%|| 0/3889 [00:00<?, ?ba/s]         "
      ]
     },
     "metadata": {},
     "output_type": "display_data"
    },
    {
     "data": {
      "application/vnd.jupyter.widget-view+json": {
       "model_id": "060756e4347a4dafb3a4dc94330d22b2",
       "version_major": 2,
       "version_minor": 0
      },
      "text/plain": [
       "eval           Epoch  11:    0%|| 0/111 [00:00<?, ?ba/s]         "
      ]
     },
     "metadata": {},
     "output_type": "display_data"
    },
    {
     "data": {
      "application/vnd.jupyter.widget-view+json": {
       "model_id": "38fb2c7a23d34d1590fb62ff88d89c90",
       "version_major": 2,
       "version_minor": 0
      },
      "text/plain": [
       "train          Epoch  12:    0%|| 0/3889 [00:00<?, ?ba/s]         "
      ]
     },
     "metadata": {},
     "output_type": "display_data"
    },
    {
     "data": {
      "application/vnd.jupyter.widget-view+json": {
       "model_id": "f49c1418d04e4afb8c2ca1b07b984d04",
       "version_major": 2,
       "version_minor": 0
      },
      "text/plain": [
       "eval           Epoch  12:    0%|| 0/111 [00:00<?, ?ba/s]         "
      ]
     },
     "metadata": {},
     "output_type": "display_data"
    },
    {
     "data": {
      "application/vnd.jupyter.widget-view+json": {
       "model_id": "27e77984f4dd4daa9fbf0719d93c9242",
       "version_major": 2,
       "version_minor": 0
      },
      "text/plain": [
       "train          Epoch  13:    0%|| 0/3889 [00:00<?, ?ba/s]         "
      ]
     },
     "metadata": {},
     "output_type": "display_data"
    },
    {
     "data": {
      "application/vnd.jupyter.widget-view+json": {
       "model_id": "93d2f6707f22409887cb81c242d45e96",
       "version_major": 2,
       "version_minor": 0
      },
      "text/plain": [
       "eval           Epoch  13:    0%|| 0/111 [00:00<?, ?ba/s]         "
      ]
     },
     "metadata": {},
     "output_type": "display_data"
    },
    {
     "data": {
      "application/vnd.jupyter.widget-view+json": {
       "model_id": "59c94cc40d5b4baaab69f13d3742ef5c",
       "version_major": 2,
       "version_minor": 0
      },
      "text/plain": [
       "train          Epoch  14:    0%|| 0/3889 [00:00<?, ?ba/s]         "
      ]
     },
     "metadata": {},
     "output_type": "display_data"
    },
    {
     "data": {
      "application/vnd.jupyter.widget-view+json": {
       "model_id": "a1ddb578ec3243f986cb0bf168f29d6a",
       "version_major": 2,
       "version_minor": 0
      },
      "text/plain": [
       "eval           Epoch  14:    0%|| 0/111 [00:00<?, ?ba/s]         "
      ]
     },
     "metadata": {},
     "output_type": "display_data"
    },
    {
     "name": "stdout",
     "output_type": "stream",
     "text": [
      "It took 10442.3572 seconds to train\n"
     ]
    }
   ],
   "source": [
    "start_time = time.perf_counter()\n",
    "trainer.fit()  # <-- Your training loop in action!\n",
    "end_time = time.perf_counter()\n",
    "print(f\"It took {end_time - start_time:0.4f} seconds to train\")"
   ]
  },
  {
   "cell_type": "code",
   "execution_count": 47,
   "id": "21a7bd4d-5838-4197-aadd-b786889ff652",
   "metadata": {
    "tags": []
   },
   "outputs": [
    {
     "data": {
      "image/png": "[encoded data removed]",
      "text/plain": [
       "<Figure size 800x600 with 2 Axes>"
      ]
     },
     "metadata": {},
     "output_type": "display_data"
    },
    {
     "name": "stdout",
     "output_type": "stream",
     "text": [
      "Accuracy on the evaluation dataset: 89.94%\n",
      "\n",
      "\n",
      "Precision: [0.48148148 0.92       0.68888889 1.         0.61904762 0.9402823\n",
      " 0.75      ]\n",
      "Recall: [0.43333333 0.65714286 0.70454545 0.375      0.2826087  0.98074745\n",
      " 0.92307692]\n",
      "F1 Score: [0.45614035 0.76666667 0.69662921 0.54545455 0.3880597  0.96008869\n",
      " 0.82758621]\n"
     ]
    }
   ],
   "source": [
    "evaluate_model(efficientModelWeightsNone)"
   ]
  },
  {
   "cell_type": "code",
   "execution_count": 42,
   "id": "e0e84c24-628f-4df0-838e-2f498182349c",
   "metadata": {
    "tags": []
   },
   "outputs": [],
   "source": [
    "class_weights={\n",
    "    0: 1.0, # akiec\n",
    "    1: 1.0, # bcc\n",
    "    2: 1.0, # bkl\n",
    "    3: 1.0, # df\n",
    "    4: 3.0, # mel # Try to make the model more sensitive to Melanoma.\n",
    "    5: 1.0, # nv\n",
    "    6: 1.0, # vasc\n",
    "}"
   ]
  },
  {
   "cell_type": "code",
   "execution_count": 44,
   "id": "04e33b73-2799-4692-9ca8-5173bd3777ef",
   "metadata": {
    "tags": []
   },
   "outputs": [],
   "source": [
    "import torch\n",
    "import torch.nn as nn\n",
    "import torch.nn.functional as F\n",
    "import torchmetrics\n",
    "import torchvision\n",
    "from composer.models import ComposerModel\n",
    "\n",
    "class MobileNet(ComposerModel):\n",
    "    def __init__(self, num_classes):\n",
    "        super().__init__()\n",
    "        self.model = torchvision.models.mobilenet_v2(weights=class_weights)  # You can use pretrained weights if needed\n",
    "        self.num_classes = num_classes\n",
    "\n",
    "        # Modify the final classification head\n",
    "        in_features = self.model.classifier[-1].in_features\n",
    "        self.model.classifier[-1] = nn.Linear(in_features, num_classes)\n",
    "\n",
    "        self.train_accuracy = torchmetrics.classification.MulticlassAccuracy(num_classes=num_classes, average='micro')\n",
    "        self.val_accuracy = torchmetrics.classification.MulticlassAccuracy(num_classes=num_classes, average='micro')\n",
    "\n",
    "    def forward(self, batch):\n",
    "        if isinstance(batch, tuple):\n",
    "            inputs, targets = batch\n",
    "        else:\n",
    "            inputs = batch\n",
    "        return self.model(inputs)\n",
    "\n",
    "    def loss(self, outputs, batch):\n",
    "        _, targets = batch\n",
    "        return F.cross_entropy(outputs, targets)\n",
    "\n",
    "    def eval_forward(self, batch, outputs=None):\n",
    "        inputs, targets = batch\n",
    "        if outputs is not None and outputs.numel() > 0:\n",
    "            if outputs.dim() > 1 and outputs.shape[1] != self.num_classes:\n",
    "                outputs = torch.softmax(outputs, dim=1)\n",
    "            return outputs\n",
    "        else:\n",
    "            return self.forward(inputs)\n",
    "\n",
    "    def update_metric(self, batch, outputs, metric):\n",
    "        _, targets = batch\n",
    "\n",
    "        # Ensure that the outputs tensor has the correct number of classes\n",
    "        if outputs.dim() > 1 and outputs.shape[1] != self.num_classes:\n",
    "            outputs = torch.softmax(outputs, dim=1)  # Apply softmax if necessary\n",
    "\n",
    "        metric.update(outputs, targets)\n",
    "\n",
    "    def get_metrics(self, is_train=False):\n",
    "        return {'MulticlassAccuracy': self.train_accuracy} if is_train else {'MulticlassAccuracy': self.val_accuracy}\n"
   ]
  },
  {
   "cell_type": "code",
   "execution_count": 45,
   "id": "91279c17-f96e-4253-9ac1-6e5ac13ed6dc",
   "metadata": {
    "tags": []
   },
   "outputs": [
    {
     "name": "stderr",
     "output_type": "stream",
     "text": [
      "/home/ec2-user/anaconda3/envs/pytorch_p310/lib/python3.10/site-packages/torchvision/models/_utils.py:223: UserWarning: Arguments other than a weight enum or `None` for 'weights' are deprecated since 0.13 and may be removed in the future. The current behavior is equivalent to passing `weights=MobileNet_V2_Weights.IMAGENET1K_V1`. You can also use `weights=MobileNet_V2_Weights.DEFAULT` to get the most up-to-date weights.\n",
      "  warnings.warn(msg)\n",
      "Downloading: \"https://download.pytorch.org/models/mobilenet_v2-b0353104.pth\" to /home/ec2-user/.cache/torch/hub/checkpoints/mobilenet_v2-b0353104.pth\n",
      "100%|██████████| 13.6M/13.6M [00:00<00:00, 348MB/s]\n"
     ]
    }
   ],
   "source": [
    "mobileNetWithClass = MobileNet(num_classes=7)\n",
    "algorithms, optimizer,  = requirementsForModelTraining(mobileNetWithClass)\n",
    "logger = InMemoryLogger()\n",
    "trainer = Trainer(\n",
    "    model=mobileNetWithClass,\n",
    "    optimizers=optimizer,\n",
    "    train_dataloader=train_dataloader, \n",
    "    eval_dataloader=valid_dataloader,\n",
    "    max_duration='15ep',\n",
    "    algorithms=algorithms,\n",
    "    loggers=logger\n",
    ")"
   ]
  },
  {
   "cell_type": "code",
   "execution_count": 48,
   "id": "df09d40e-d40d-4ba9-b53c-b1bc7c2caa98",
   "metadata": {
    "tags": []
   },
   "outputs": [
    {
     "ename": "AttributeError",
     "evalue": "'int' object has no attribute 'startswith'",
     "output_type": "error",
     "traceback": [
      "\u001b[0;31m---------------------------------------------------------------------------\u001b[0m",
      "\u001b[0;31mAttributeError\u001b[0m                            Traceback (most recent call last)",
      "Cell \u001b[0;32mIn[48], line 1\u001b[0m\n\u001b[0;32m----> 1\u001b[0m \u001b[43mmobileNetWithClass\u001b[49m\u001b[38;5;241;43m.\u001b[39;49m\u001b[43mload_state_dict\u001b[49m\u001b[43m(\u001b[49m\u001b[43mclass_weights\u001b[49m\u001b[43m)\u001b[49m\n",
      "File \u001b[0;32m~/anaconda3/envs/pytorch_p310/lib/python3.10/site-packages/torch/nn/modules/module.py:2027\u001b[0m, in \u001b[0;36mModule.load_state_dict\u001b[0;34m(self, state_dict, strict)\u001b[0m\n\u001b[1;32m   2020\u001b[0m         out \u001b[38;5;241m=\u001b[39m hook(module, incompatible_keys)\n\u001b[1;32m   2021\u001b[0m         \u001b[38;5;28;01massert\u001b[39;00m out \u001b[38;5;129;01mis\u001b[39;00m \u001b[38;5;28;01mNone\u001b[39;00m, (\n\u001b[1;32m   2022\u001b[0m             \u001b[38;5;124m\"\u001b[39m\u001b[38;5;124mHooks registered with ``register_load_state_dict_post_hook`` are not\u001b[39m\u001b[38;5;124m\"\u001b[39m\n\u001b[1;32m   2023\u001b[0m             \u001b[38;5;124m\"\u001b[39m\u001b[38;5;124mexpected to return new values, if incompatible_keys need to be modified,\u001b[39m\u001b[38;5;124m\"\u001b[39m\n\u001b[1;32m   2024\u001b[0m             \u001b[38;5;124m\"\u001b[39m\u001b[38;5;124mit should be done inplace.\u001b[39m\u001b[38;5;124m\"\u001b[39m\n\u001b[1;32m   2025\u001b[0m         )\n\u001b[0;32m-> 2027\u001b[0m \u001b[43mload\u001b[49m\u001b[43m(\u001b[49m\u001b[38;5;28;43mself\u001b[39;49m\u001b[43m,\u001b[49m\u001b[43m \u001b[49m\u001b[43mstate_dict\u001b[49m\u001b[43m)\u001b[49m\n\u001b[1;32m   2028\u001b[0m \u001b[38;5;28;01mdel\u001b[39;00m load\n\u001b[1;32m   2030\u001b[0m \u001b[38;5;28;01mif\u001b[39;00m strict:\n",
      "File \u001b[0;32m~/anaconda3/envs/pytorch_p310/lib/python3.10/site-packages/torch/nn/modules/module.py:2009\u001b[0m, in \u001b[0;36mModule.load_state_dict.<locals>.load\u001b[0;34m(module, local_state_dict, prefix)\u001b[0m\n\u001b[1;32m   2007\u001b[0m \u001b[38;5;28;01mdef\u001b[39;00m \u001b[38;5;21mload\u001b[39m(module, local_state_dict, prefix\u001b[38;5;241m=\u001b[39m\u001b[38;5;124m'\u001b[39m\u001b[38;5;124m'\u001b[39m):\n\u001b[1;32m   2008\u001b[0m     local_metadata \u001b[38;5;241m=\u001b[39m {} \u001b[38;5;28;01mif\u001b[39;00m metadata \u001b[38;5;129;01mis\u001b[39;00m \u001b[38;5;28;01mNone\u001b[39;00m \u001b[38;5;28;01melse\u001b[39;00m metadata\u001b[38;5;241m.\u001b[39mget(prefix[:\u001b[38;5;241m-\u001b[39m\u001b[38;5;241m1\u001b[39m], {})\n\u001b[0;32m-> 2009\u001b[0m     \u001b[43mmodule\u001b[49m\u001b[38;5;241;43m.\u001b[39;49m\u001b[43m_load_from_state_dict\u001b[49m\u001b[43m(\u001b[49m\n\u001b[1;32m   2010\u001b[0m \u001b[43m        \u001b[49m\u001b[43mlocal_state_dict\u001b[49m\u001b[43m,\u001b[49m\u001b[43m \u001b[49m\u001b[43mprefix\u001b[49m\u001b[43m,\u001b[49m\u001b[43m \u001b[49m\u001b[43mlocal_metadata\u001b[49m\u001b[43m,\u001b[49m\u001b[43m \u001b[49m\u001b[38;5;28;43;01mTrue\u001b[39;49;00m\u001b[43m,\u001b[49m\u001b[43m \u001b[49m\u001b[43mmissing_keys\u001b[49m\u001b[43m,\u001b[49m\u001b[43m \u001b[49m\u001b[43munexpected_keys\u001b[49m\u001b[43m,\u001b[49m\u001b[43m \u001b[49m\u001b[43merror_msgs\u001b[49m\u001b[43m)\u001b[49m\n\u001b[1;32m   2011\u001b[0m     \u001b[38;5;28;01mfor\u001b[39;00m name, child \u001b[38;5;129;01min\u001b[39;00m module\u001b[38;5;241m.\u001b[39m_modules\u001b[38;5;241m.\u001b[39mitems():\n\u001b[1;32m   2012\u001b[0m         \u001b[38;5;28;01mif\u001b[39;00m child \u001b[38;5;129;01mis\u001b[39;00m \u001b[38;5;129;01mnot\u001b[39;00m \u001b[38;5;28;01mNone\u001b[39;00m:\n",
      "File \u001b[0;32m~/anaconda3/envs/pytorch_p310/lib/python3.10/site-packages/torch/nn/modules/module.py:1963\u001b[0m, in \u001b[0;36mModule._load_from_state_dict\u001b[0;34m(self, state_dict, prefix, local_metadata, strict, missing_keys, unexpected_keys, error_msgs)\u001b[0m\n\u001b[1;32m   1961\u001b[0m \u001b[38;5;28;01mif\u001b[39;00m strict:\n\u001b[1;32m   1962\u001b[0m     \u001b[38;5;28;01mfor\u001b[39;00m key \u001b[38;5;129;01min\u001b[39;00m state_dict\u001b[38;5;241m.\u001b[39mkeys():\n\u001b[0;32m-> 1963\u001b[0m         \u001b[38;5;28;01mif\u001b[39;00m \u001b[43mkey\u001b[49m\u001b[38;5;241;43m.\u001b[39;49m\u001b[43mstartswith\u001b[49m(prefix) \u001b[38;5;129;01mand\u001b[39;00m key \u001b[38;5;241m!=\u001b[39m extra_state_key:\n\u001b[1;32m   1964\u001b[0m             input_name \u001b[38;5;241m=\u001b[39m key[\u001b[38;5;28mlen\u001b[39m(prefix):]\n\u001b[1;32m   1965\u001b[0m             input_name \u001b[38;5;241m=\u001b[39m input_name\u001b[38;5;241m.\u001b[39msplit(\u001b[38;5;124m'\u001b[39m\u001b[38;5;124m.\u001b[39m\u001b[38;5;124m'\u001b[39m, \u001b[38;5;241m1\u001b[39m)[\u001b[38;5;241m0\u001b[39m]  \u001b[38;5;66;03m# get the name of param/buffer/child\u001b[39;00m\n",
      "\u001b[0;31mAttributeError\u001b[0m: 'int' object has no attribute 'startswith'"
     ]
    }
   ],
   "source": [
    "mobileNetWithClass.load_state_dict(class_weights)"
   ]
  },
  {
   "cell_type": "code",
   "execution_count": null,
   "id": "1eea2ebd-b259-4e8a-8ef3-fba4345117fa",
   "metadata": {},
   "outputs": [],
   "source": []
  }
 ],
 "metadata": {
  "kernelspec": {
   "display_name": "conda_pytorch_p310",
   "language": "python",
   "name": "conda_pytorch_p310"
  },
  "language_info": {
   "codemirror_mode": {
    "name": "ipython",
    "version": 3
   },
   "file_extension": ".py",
   "mimetype": "text/x-python",
   "name": "python",
   "nbconvert_exporter": "python",
   "pygments_lexer": "ipython3",
   "version": "3.10.12"
  },
  "toc-showcode": false
 },
 "nbformat": 4,
 "nbformat_minor": 5
}
